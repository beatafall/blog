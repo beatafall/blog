{
 "cells": [
  {
   "cell_type": "code",
   "execution_count": 1,
   "metadata": {
    "ExecuteTime": {
     "end_time": "2018-11-03T00:45:32.846090Z",
     "start_time": "2018-11-03T00:45:31.824095Z"
    }
   },
   "outputs": [
    {
     "name": "stderr",
     "output_type": "stream",
     "text": [
      "C:\\ProgramData\\Anaconda3\\lib\\site-packages\\ipykernel\\parentpoller.py:116: UserWarning: Parent poll failed.  If the frontend dies,\n",
      "                the kernel may be left running.  Please let us know\n",
      "                about your system (bitness, Python, etc.) at\n",
      "                ipython-dev@scipy.org\n",
      "  ipython-dev@scipy.org\"\"\")\n"
     ]
    }
   ],
   "source": [
    "import pandas as pd, numpy as np"
   ]
  },
  {
   "cell_type": "code",
   "execution_count": 2,
   "metadata": {
    "ExecuteTime": {
     "end_time": "2018-11-03T01:08:03.497009Z",
     "start_time": "2018-11-03T01:08:03.329475Z"
    }
   },
   "outputs": [],
   "source": [
    "dm=pd.read_excel('data/szekelyhon_medve.xlsx')\n",
    "dc=pd.read_excel('data/szekelyhon_medve_curated.xlsx')"
   ]
  },
  {
   "cell_type": "code",
   "execution_count": 3,
   "metadata": {
    "ExecuteTime": {
     "end_time": "2018-11-03T01:08:03.592003Z",
     "start_time": "2018-11-03T01:08:03.586003Z"
    }
   },
   "outputs": [],
   "source": [
    "dc=dc[(dc['duplicate']!=1)&(dc['relevant']==1)]"
   ]
  },
  {
   "cell_type": "code",
   "execution_count": 4,
   "metadata": {
    "ExecuteTime": {
     "end_time": "2018-11-03T01:08:04.068438Z",
     "start_time": "2018-11-03T01:08:04.017436Z"
    }
   },
   "outputs": [],
   "source": [
    "dc[\"uid\"] = dc[\"title\"].map(str) + dc[\"content\"]\n",
    "dm[\"uid\"] = dm[\"title\"].map(str) + dm[\"content\"]"
   ]
  },
  {
   "cell_type": "code",
   "execution_count": 5,
   "metadata": {
    "ExecuteTime": {
     "end_time": "2018-11-03T01:08:04.373851Z",
     "start_time": "2018-11-03T01:08:04.362851Z"
    }
   },
   "outputs": [],
   "source": [
    "dc=dc.set_index('uid')\n",
    "dm=dm.set_index('uid')"
   ]
  },
  {
   "cell_type": "code",
   "execution_count": 6,
   "metadata": {
    "ExecuteTime": {
     "end_time": "2018-11-03T01:08:07.909603Z",
     "start_time": "2018-11-03T01:08:07.902608Z"
    }
   },
   "outputs": [],
   "source": [
    "dmi=dm.loc[dc.index.dropna()]"
   ]
  },
  {
   "cell_type": "code",
   "execution_count": 7,
   "metadata": {
    "ExecuteTime": {
     "end_time": "2018-11-03T01:08:11.448779Z",
     "start_time": "2018-11-03T01:08:11.423780Z"
    }
   },
   "outputs": [],
   "source": [
    "df=dmi.merge(dc).drop_duplicates()"
   ]
  },
  {
   "cell_type": "markdown",
   "metadata": {
    "ExecuteTime": {
     "end_time": "2018-11-03T01:06:46.878487Z",
     "start_time": "2018-11-03T01:06:46.784487Z"
    }
   },
   "source": [
    "Working df ready. Now infer location."
   ]
  },
  {
   "cell_type": "code",
   "execution_count": 8,
   "metadata": {
    "ExecuteTime": {
     "end_time": "2018-11-03T01:09:38.943761Z",
     "start_time": "2018-11-03T01:09:38.937754Z"
    }
   },
   "outputs": [],
   "source": [
    "locs=df[['category','icategory','tags','title','content']]"
   ]
  },
  {
   "cell_type": "code",
   "execution_count": 9,
   "metadata": {
    "ExecuteTime": {
     "end_time": "2018-11-03T01:09:42.582525Z",
     "start_time": "2018-11-03T01:09:42.521525Z"
    }
   },
   "outputs": [
    {
     "data": {
      "text/html": [
       "<div>\n",
       "<style scoped>\n",
       "    .dataframe tbody tr th:only-of-type {\n",
       "        vertical-align: middle;\n",
       "    }\n",
       "\n",
       "    .dataframe tbody tr th {\n",
       "        vertical-align: top;\n",
       "    }\n",
       "\n",
       "    .dataframe thead th {\n",
       "        text-align: right;\n",
       "    }\n",
       "</style>\n",
       "<table border=\"1\" class=\"dataframe\">\n",
       "  <thead>\n",
       "    <tr style=\"text-align: right;\">\n",
       "      <th></th>\n",
       "      <th>category</th>\n",
       "      <th>icategory</th>\n",
       "      <th>tags</th>\n",
       "      <th>title</th>\n",
       "      <th>content</th>\n",
       "    </tr>\n",
       "  </thead>\n",
       "  <tbody>\n",
       "    <tr>\n",
       "      <th>0</th>\n",
       "      <td>aktualis</td>\n",
       "      <td>udvarhely</td>\n",
       "      <td>['Maros megye', 'medve']</td>\n",
       "      <td>Saját portájukon támadt rájuk a medve</td>\n",
       "      <td>Súlyos sérülésekkel került kórházba egy házasp...</td>\n",
       "    </tr>\n",
       "    <tr>\n",
       "      <th>1</th>\n",
       "      <td>aktualis</td>\n",
       "      <td>csik</td>\n",
       "      <td>['Csíkszereda', 'medve']</td>\n",
       "      <td>Kétszer kellett közbelépniük a kórház mellett ...</td>\n",
       "      <td>A Csíkszeredai Megyei Sürgősségi Kórház külső ...</td>\n",
       "    </tr>\n",
       "    <tr>\n",
       "      <th>2</th>\n",
       "      <td>aktualis</td>\n",
       "      <td>udvarhely</td>\n",
       "      <td>['Maros megye', 'medve']</td>\n",
       "      <td>Rátámadt a medve, amputálni kellett a lábát</td>\n",
       "      <td>Amputálni kellett a bal lábát annak a 28 éves ...</td>\n",
       "    </tr>\n",
       "    <tr>\n",
       "      <th>3</th>\n",
       "      <td>aktualis</td>\n",
       "      <td>udvarhely</td>\n",
       "      <td>['Maros megye', 'medve']</td>\n",
       "      <td>Nem sietik el a kilövéseket</td>\n",
       "      <td>Tizenöt medve kiemelését hagyták jóvá idén Mar...</td>\n",
       "    </tr>\n",
       "    <tr>\n",
       "      <th>4</th>\n",
       "      <td>aktualis</td>\n",
       "      <td>csik</td>\n",
       "      <td>['Csíkszentgyörgy', 'medve']</td>\n",
       "      <td>Éjszakai harc a medvével Csíkszentgyörgyön</td>\n",
       "      <td>Hiába próbálta elkergetni a medvét vasvillával...</td>\n",
       "    </tr>\n",
       "    <tr>\n",
       "      <th>5</th>\n",
       "      <td>vilag</td>\n",
       "      <td>udvarhely</td>\n",
       "      <td>['Belföld', 'medve']</td>\n",
       "      <td>Újabb medvét gázoltak el az autópályán</td>\n",
       "      <td>Újabb medvét gázoltak el szerdán az A1-es autó...</td>\n",
       "    </tr>\n",
       "    <tr>\n",
       "      <th>6</th>\n",
       "      <td>aktualis</td>\n",
       "      <td>csik</td>\n",
       "      <td>['Csíkdánfalva', 'medve']</td>\n",
       "      <td>Hatástalannak bizonyult a villanypásztor, több...</td>\n",
       "      <td>Három borjút és több juhot pusztított el egy m...</td>\n",
       "    </tr>\n",
       "    <tr>\n",
       "      <th>7</th>\n",
       "      <td>aktualis</td>\n",
       "      <td>udvarhely</td>\n",
       "      <td>['medve', 'Udvarhelyszék']</td>\n",
       "      <td>A székelyderzsi erődtemplomban kérték számon R...</td>\n",
       "      <td>A elszaporodott medvepopuláció miatti károk és...</td>\n",
       "    </tr>\n",
       "    <tr>\n",
       "      <th>8</th>\n",
       "      <td>vilag</td>\n",
       "      <td>csik</td>\n",
       "      <td>['Belföld', 'medve']</td>\n",
       "      <td>Fejszével vágta fejbe a medvét, hogy feleségét...</td>\n",
       "      <td>Állataikat akarta védeni a medvétől az az assz...</td>\n",
       "    </tr>\n",
       "    <tr>\n",
       "      <th>9</th>\n",
       "      <td>aktualis</td>\n",
       "      <td>csik</td>\n",
       "      <td>['Csíkszentmihály']</td>\n",
       "      <td>Három medvét gázolt el a vonat Lóvészen</td>\n",
       "      <td>Három medvét gázolt el szombat reggel a vonat ...</td>\n",
       "    </tr>\n",
       "    <tr>\n",
       "      <th>10</th>\n",
       "      <td>aktualis</td>\n",
       "      <td>udvarhely</td>\n",
       "      <td>['Kovászna megye', 'medve']</td>\n",
       "      <td>Naponta jár be a medve az oltszemi kisegítő is...</td>\n",
       "      <td>Az oltszemi kisegítő iskola udvarára minden es...</td>\n",
       "    </tr>\n",
       "    <tr>\n",
       "      <th>11</th>\n",
       "      <td>aktualis</td>\n",
       "      <td>csik</td>\n",
       "      <td>['Hargita megye', 'Marosszék', 'medve']</td>\n",
       "      <td>Városba tévedt vadállatok – szakemberekre bízz...</td>\n",
       "      <td>Míg Csíkszeredában és Székelyudvarhelyen is el...</td>\n",
       "    </tr>\n",
       "    <tr>\n",
       "      <th>12</th>\n",
       "      <td>vilag</td>\n",
       "      <td>agerpres</td>\n",
       "      <td>['Belföld', 'medve']</td>\n",
       "      <td>Medve sétált egy medgyesi utcán</td>\n",
       "      <td>Egy medvével ment szembe szombat reggel egy re...</td>\n",
       "    </tr>\n",
       "    <tr>\n",
       "      <th>13</th>\n",
       "      <td>aktualis</td>\n",
       "      <td>udvarhely</td>\n",
       "      <td>['Hargita megye', 'medve']</td>\n",
       "      <td>Prefektusi felhívás: kérvényezzék a vadásztárs...</td>\n",
       "      <td>Felhívást intézett Jean-Adrian Andrei Hargita ...</td>\n",
       "    </tr>\n",
       "    <tr>\n",
       "      <th>14</th>\n",
       "      <td>aktualis</td>\n",
       "      <td>udvarhely</td>\n",
       "      <td>['Csíkszereda', 'medve']</td>\n",
       "      <td>Saját udvarán nézett szembe a medvével, majd h...</td>\n",
       "      <td>Medve tört be az udvarára, emiatt kénytelen vo...</td>\n",
       "    </tr>\n",
       "    <tr>\n",
       "      <th>15</th>\n",
       "      <td>aktualis</td>\n",
       "      <td>csik</td>\n",
       "      <td>['Hargita megye', 'medve', 'Vadkár']</td>\n",
       "      <td>A természet megoldotta a medvekárokat – egyelőre</td>\n",
       "      <td>Drasztikusan megfogyatkoztak a medvék által ok...</td>\n",
       "    </tr>\n",
       "    <tr>\n",
       "      <th>16</th>\n",
       "      <td>aktualis</td>\n",
       "      <td>agerpres</td>\n",
       "      <td>['medve', 'Segesvár']</td>\n",
       "      <td>Medve szaladt egy segesvári utcán</td>\n",
       "      <td>Sűrűn lakott területen örökített meg egy medvé...</td>\n",
       "    </tr>\n",
       "    <tr>\n",
       "      <th>17</th>\n",
       "      <td>aktualis</td>\n",
       "      <td>agerpres</td>\n",
       "      <td>['Brassó', 'medve']</td>\n",
       "      <td>Medvét láttak a bevásárlóközpont közelében</td>\n",
       "      <td>Nagytestű medve okozott riadalmat kedden délut...</td>\n",
       "    </tr>\n",
       "    <tr>\n",
       "      <th>18</th>\n",
       "      <td>aktualis</td>\n",
       "      <td>agerpres</td>\n",
       "      <td>['Brassó megye', 'medve']</td>\n",
       "      <td>Újabb medvét gázoltak el – feltehetően azt, am...</td>\n",
       "      <td>Hárommázsás medvét gázoltak el vasárnap éjfél ...</td>\n",
       "    </tr>\n",
       "    <tr>\n",
       "      <th>19</th>\n",
       "      <td>aktualis</td>\n",
       "      <td>udvarhely</td>\n",
       "      <td>['Kovászna megye', 'medve']</td>\n",
       "      <td>Kilőtték az oltszemi iskolába bejáró medvét</td>\n",
       "      <td>Megkapták az engedélyt, és hétfőn délután kilő...</td>\n",
       "    </tr>\n",
       "    <tr>\n",
       "      <th>20</th>\n",
       "      <td>aktualis</td>\n",
       "      <td>udvarhely</td>\n",
       "      <td>['medve', 'Udvarhelyszék']</td>\n",
       "      <td>Emberre támadt a medve Székelykeresztúr közelében</td>\n",
       "      <td>50 éves férfira támadt a medve, vasárnap délut...</td>\n",
       "    </tr>\n",
       "    <tr>\n",
       "      <th>21</th>\n",
       "      <td>aktualis</td>\n",
       "      <td>udvarhely</td>\n",
       "      <td>['medve', 'Székelyudvarhely']</td>\n",
       "      <td>Bocsokat hozott világra egy anyamedve Székelyu...</td>\n",
       "      <td>Óva intenek a vadászok a Székelyudvarhely hatá...</td>\n",
       "    </tr>\n",
       "    <tr>\n",
       "      <th>22</th>\n",
       "      <td>aktualis</td>\n",
       "      <td>udvarhely</td>\n",
       "      <td>['Hargita megye', 'Maros megye', 'medve']</td>\n",
       "      <td>Bár nem mindenik vonul el, most épp nem kell a...</td>\n",
       "      <td>A tavalyi bőséges makk- és vadgyümölcstermésne...</td>\n",
       "    </tr>\n",
       "    <tr>\n",
       "      <th>23</th>\n",
       "      <td>aktualis</td>\n",
       "      <td>udvarhely</td>\n",
       "      <td>['medve', 'Székelyudvarhely']</td>\n",
       "      <td>„Elköltöztetnék” tavasszal az agyagdombi medve...</td>\n",
       "      <td>Túl közel vannak a lakott területhez, így tava...</td>\n",
       "    </tr>\n",
       "    <tr>\n",
       "      <th>24</th>\n",
       "      <td>aktualis</td>\n",
       "      <td>udvarhely</td>\n",
       "      <td>['Marosvásárhely', 'medve']</td>\n",
       "      <td>Videón, ahogy medvék kószálnak a város közelében</td>\n",
       "      <td>Két medvét láttak és filmeztek le kutyasétálta...</td>\n",
       "    </tr>\n",
       "    <tr>\n",
       "      <th>25</th>\n",
       "      <td>aktualis</td>\n",
       "      <td>udvarhely</td>\n",
       "      <td>['Csíkszereda', 'medve']</td>\n",
       "      <td>Medve kószált Csíkszeredában – videó</td>\n",
       "      <td>Érdemes óvatosnak lenni Csíkszereda városszéli...</td>\n",
       "    </tr>\n",
       "    <tr>\n",
       "      <th>26</th>\n",
       "      <td>aktualis</td>\n",
       "      <td>agerpres</td>\n",
       "      <td>['Csíkszereda', 'medve']</td>\n",
       "      <td>Medve okozott riadalmat a csíkszeredai kórház ...</td>\n",
       "      <td>A Csíkszeredai Megyei Sürgősségi Kórház környé...</td>\n",
       "    </tr>\n",
       "    <tr>\n",
       "      <th>27</th>\n",
       "      <td>aktualis</td>\n",
       "      <td>udvarhely</td>\n",
       "      <td>['Csíkszereda', 'medve']</td>\n",
       "      <td>Újból csendőrök közbelépésére volt szükség a C...</td>\n",
       "      <td>Ismét megkörnyékezte egy medve bocsaival a csí...</td>\n",
       "    </tr>\n",
       "    <tr>\n",
       "      <th>28</th>\n",
       "      <td>aktualis</td>\n",
       "      <td>agerpres</td>\n",
       "      <td>['Csíkszereda', 'medve']</td>\n",
       "      <td>Egy nap alatt megadták a kilövési engedélyt a ...</td>\n",
       "      <td>Jóváhagyta a környezetvédelmi minisztérium a s...</td>\n",
       "    </tr>\n",
       "    <tr>\n",
       "      <th>29</th>\n",
       "      <td>aktualis</td>\n",
       "      <td>udvarhely</td>\n",
       "      <td>['Csíkszereda', 'medve']</td>\n",
       "      <td>A Suta közelében lőtték ki a Csíkszeredába ren...</td>\n",
       "      <td>Kilőtték csütörtök délután azt a medvét, amely...</td>\n",
       "    </tr>\n",
       "    <tr>\n",
       "      <th>30</th>\n",
       "      <td>aktualis</td>\n",
       "      <td>123rf</td>\n",
       "      <td>['Marosvásárhely', 'medve']</td>\n",
       "      <td>Az életébe kerülhet ennek a medvének, hogy jól...</td>\n",
       "      <td>Marosvásárhelyi méhészetnél garázdálkodott egy...</td>\n",
       "    </tr>\n",
       "    <tr>\n",
       "      <th>31</th>\n",
       "      <td>aktualis</td>\n",
       "      <td>udvarhely</td>\n",
       "      <td>['medve', 'Udvarhelyszék']</td>\n",
       "      <td>Elpusztult az Újszékely határában elgázolt med...</td>\n",
       "      <td>Egyedül bóklászó egyéves medvebocsot gázolt el...</td>\n",
       "    </tr>\n",
       "    <tr>\n",
       "      <th>32</th>\n",
       "      <td>aktualis</td>\n",
       "      <td>agerpres</td>\n",
       "      <td>['medve', 'Tusnádfürdő']</td>\n",
       "      <td>Újabb bocsot szabadítottak ki az egyik tusnádf...</td>\n",
       "      <td>Ismét medvebiztos szeméttárolóba rekedt egy bo...</td>\n",
       "    </tr>\n",
       "    <tr>\n",
       "      <th>33</th>\n",
       "      <td>aktualis</td>\n",
       "      <td>csik</td>\n",
       "      <td>['medve', 'Sepsiszentgyörgy']</td>\n",
       "      <td>Élesben a Ro-Alert: medve miatt riasztották a ...</td>\n",
       "      <td>A Ro-Alert riasztórendszeren keresztül figyelm...</td>\n",
       "    </tr>\n",
       "    <tr>\n",
       "      <th>34</th>\n",
       "      <td>aktualis</td>\n",
       "      <td>udvarhely</td>\n",
       "      <td>['medve', 'Udvarhelyszék']</td>\n",
       "      <td>Nem élte túl a kőrispataki medvetámadást az ál...</td>\n",
       "      <td>Rárontott és súlyosan megsebesített egy medve ...</td>\n",
       "    </tr>\n",
       "    <tr>\n",
       "      <th>35</th>\n",
       "      <td>aktualis</td>\n",
       "      <td>udvarhely</td>\n",
       "      <td>['medve', 'Udvarhelyszék']</td>\n",
       "      <td>Engedélyezik a kőrispataki férfit halálosan me...</td>\n",
       "      <td>Ha a környzetvédelmi minisztérium megkapja a H...</td>\n",
       "    </tr>\n",
       "    <tr>\n",
       "      <th>36</th>\n",
       "      <td>aktualis</td>\n",
       "      <td>udvarhely</td>\n",
       "      <td>['medve', 'Rendőrség', 'Udvarhelyszék']</td>\n",
       "      <td>Nyomozás indult a halálos medvetámadás miatt</td>\n",
       "      <td>A rendőrségi vizsgálatok szerint a Kőrispatako...</td>\n",
       "    </tr>\n",
       "  </tbody>\n",
       "</table>\n",
       "</div>"
      ],
      "text/plain": [
       "    category  icategory                                       tags  \\\n",
       "0   aktualis  udvarhely                   ['Maros megye', 'medve']   \n",
       "1   aktualis       csik                   ['Csíkszereda', 'medve']   \n",
       "2   aktualis  udvarhely                   ['Maros megye', 'medve']   \n",
       "3   aktualis  udvarhely                   ['Maros megye', 'medve']   \n",
       "4   aktualis       csik               ['Csíkszentgyörgy', 'medve']   \n",
       "5      vilag  udvarhely                       ['Belföld', 'medve']   \n",
       "6   aktualis       csik                  ['Csíkdánfalva', 'medve']   \n",
       "7   aktualis  udvarhely                 ['medve', 'Udvarhelyszék']   \n",
       "8      vilag       csik                       ['Belföld', 'medve']   \n",
       "9   aktualis       csik                        ['Csíkszentmihály']   \n",
       "10  aktualis  udvarhely                ['Kovászna megye', 'medve']   \n",
       "11  aktualis       csik    ['Hargita megye', 'Marosszék', 'medve']   \n",
       "12     vilag   agerpres                       ['Belföld', 'medve']   \n",
       "13  aktualis  udvarhely                 ['Hargita megye', 'medve']   \n",
       "14  aktualis  udvarhely                   ['Csíkszereda', 'medve']   \n",
       "15  aktualis       csik       ['Hargita megye', 'medve', 'Vadkár']   \n",
       "16  aktualis   agerpres                      ['medve', 'Segesvár']   \n",
       "17  aktualis   agerpres                        ['Brassó', 'medve']   \n",
       "18  aktualis   agerpres                  ['Brassó megye', 'medve']   \n",
       "19  aktualis  udvarhely                ['Kovászna megye', 'medve']   \n",
       "20  aktualis  udvarhely                 ['medve', 'Udvarhelyszék']   \n",
       "21  aktualis  udvarhely              ['medve', 'Székelyudvarhely']   \n",
       "22  aktualis  udvarhely  ['Hargita megye', 'Maros megye', 'medve']   \n",
       "23  aktualis  udvarhely              ['medve', 'Székelyudvarhely']   \n",
       "24  aktualis  udvarhely                ['Marosvásárhely', 'medve']   \n",
       "25  aktualis  udvarhely                   ['Csíkszereda', 'medve']   \n",
       "26  aktualis   agerpres                   ['Csíkszereda', 'medve']   \n",
       "27  aktualis  udvarhely                   ['Csíkszereda', 'medve']   \n",
       "28  aktualis   agerpres                   ['Csíkszereda', 'medve']   \n",
       "29  aktualis  udvarhely                   ['Csíkszereda', 'medve']   \n",
       "30  aktualis      123rf                ['Marosvásárhely', 'medve']   \n",
       "31  aktualis  udvarhely                 ['medve', 'Udvarhelyszék']   \n",
       "32  aktualis   agerpres                   ['medve', 'Tusnádfürdő']   \n",
       "33  aktualis       csik              ['medve', 'Sepsiszentgyörgy']   \n",
       "34  aktualis  udvarhely                 ['medve', 'Udvarhelyszék']   \n",
       "35  aktualis  udvarhely                 ['medve', 'Udvarhelyszék']   \n",
       "36  aktualis  udvarhely    ['medve', 'Rendőrség', 'Udvarhelyszék']   \n",
       "\n",
       "                                                title  \\\n",
       "0               Saját portájukon támadt rájuk a medve   \n",
       "1   Kétszer kellett közbelépniük a kórház mellett ...   \n",
       "2         Rátámadt a medve, amputálni kellett a lábát   \n",
       "3                         Nem sietik el a kilövéseket   \n",
       "4          Éjszakai harc a medvével Csíkszentgyörgyön   \n",
       "5              Újabb medvét gázoltak el az autópályán   \n",
       "6   Hatástalannak bizonyult a villanypásztor, több...   \n",
       "7   A székelyderzsi erődtemplomban kérték számon R...   \n",
       "8   Fejszével vágta fejbe a medvét, hogy feleségét...   \n",
       "9             Három medvét gázolt el a vonat Lóvészen   \n",
       "10  Naponta jár be a medve az oltszemi kisegítő is...   \n",
       "11  Városba tévedt vadállatok – szakemberekre bízz...   \n",
       "12                    Medve sétált egy medgyesi utcán   \n",
       "13  Prefektusi felhívás: kérvényezzék a vadásztárs...   \n",
       "14  Saját udvarán nézett szembe a medvével, majd h...   \n",
       "15   A természet megoldotta a medvekárokat – egyelőre   \n",
       "16                  Medve szaladt egy segesvári utcán   \n",
       "17         Medvét láttak a bevásárlóközpont közelében   \n",
       "18  Újabb medvét gázoltak el – feltehetően azt, am...   \n",
       "19        Kilőtték az oltszemi iskolába bejáró medvét   \n",
       "20  Emberre támadt a medve Székelykeresztúr közelében   \n",
       "21  Bocsokat hozott világra egy anyamedve Székelyu...   \n",
       "22  Bár nem mindenik vonul el, most épp nem kell a...   \n",
       "23  „Elköltöztetnék” tavasszal az agyagdombi medve...   \n",
       "24   Videón, ahogy medvék kószálnak a város közelében   \n",
       "25               Medve kószált Csíkszeredában – videó   \n",
       "26  Medve okozott riadalmat a csíkszeredai kórház ...   \n",
       "27  Újból csendőrök közbelépésére volt szükség a C...   \n",
       "28  Egy nap alatt megadták a kilövési engedélyt a ...   \n",
       "29  A Suta közelében lőtték ki a Csíkszeredába ren...   \n",
       "30  Az életébe kerülhet ennek a medvének, hogy jól...   \n",
       "31  Elpusztult az Újszékely határában elgázolt med...   \n",
       "32  Újabb bocsot szabadítottak ki az egyik tusnádf...   \n",
       "33  Élesben a Ro-Alert: medve miatt riasztották a ...   \n",
       "34  Nem élte túl a kőrispataki medvetámadást az ál...   \n",
       "35  Engedélyezik a kőrispataki férfit halálosan me...   \n",
       "36       Nyomozás indult a halálos medvetámadás miatt   \n",
       "\n",
       "                                              content  \n",
       "0   Súlyos sérülésekkel került kórházba egy házasp...  \n",
       "1   A Csíkszeredai Megyei Sürgősségi Kórház külső ...  \n",
       "2   Amputálni kellett a bal lábát annak a 28 éves ...  \n",
       "3   Tizenöt medve kiemelését hagyták jóvá idén Mar...  \n",
       "4   Hiába próbálta elkergetni a medvét vasvillával...  \n",
       "5   Újabb medvét gázoltak el szerdán az A1-es autó...  \n",
       "6   Három borjút és több juhot pusztított el egy m...  \n",
       "7   A elszaporodott medvepopuláció miatti károk és...  \n",
       "8   Állataikat akarta védeni a medvétől az az assz...  \n",
       "9   Három medvét gázolt el szombat reggel a vonat ...  \n",
       "10  Az oltszemi kisegítő iskola udvarára minden es...  \n",
       "11  Míg Csíkszeredában és Székelyudvarhelyen is el...  \n",
       "12  Egy medvével ment szembe szombat reggel egy re...  \n",
       "13  Felhívást intézett Jean-Adrian Andrei Hargita ...  \n",
       "14  Medve tört be az udvarára, emiatt kénytelen vo...  \n",
       "15  Drasztikusan megfogyatkoztak a medvék által ok...  \n",
       "16  Sűrűn lakott területen örökített meg egy medvé...  \n",
       "17  Nagytestű medve okozott riadalmat kedden délut...  \n",
       "18  Hárommázsás medvét gázoltak el vasárnap éjfél ...  \n",
       "19  Megkapták az engedélyt, és hétfőn délután kilő...  \n",
       "20  50 éves férfira támadt a medve, vasárnap délut...  \n",
       "21  Óva intenek a vadászok a Székelyudvarhely hatá...  \n",
       "22  A tavalyi bőséges makk- és vadgyümölcstermésne...  \n",
       "23  Túl közel vannak a lakott területhez, így tava...  \n",
       "24  Két medvét láttak és filmeztek le kutyasétálta...  \n",
       "25  Érdemes óvatosnak lenni Csíkszereda városszéli...  \n",
       "26  A Csíkszeredai Megyei Sürgősségi Kórház környé...  \n",
       "27  Ismét megkörnyékezte egy medve bocsaival a csí...  \n",
       "28  Jóváhagyta a környezetvédelmi minisztérium a s...  \n",
       "29  Kilőtték csütörtök délután azt a medvét, amely...  \n",
       "30  Marosvásárhelyi méhészetnél garázdálkodott egy...  \n",
       "31  Egyedül bóklászó egyéves medvebocsot gázolt el...  \n",
       "32  Ismét medvebiztos szeméttárolóba rekedt egy bo...  \n",
       "33  A Ro-Alert riasztórendszeren keresztül figyelm...  \n",
       "34  Rárontott és súlyosan megsebesített egy medve ...  \n",
       "35  Ha a környzetvédelmi minisztérium megkapja a H...  \n",
       "36  A rendőrségi vizsgálatok szerint a Kőrispatako...  "
      ]
     },
     "execution_count": 9,
     "metadata": {},
     "output_type": "execute_result"
    }
   ],
   "source": [
    "locs"
   ]
  },
  {
   "cell_type": "code",
   "execution_count": 10,
   "metadata": {
    "ExecuteTime": {
     "end_time": "2018-11-03T01:12:48.966897Z",
     "start_time": "2018-11-03T01:12:48.725889Z"
    }
   },
   "outputs": [],
   "source": [
    "import json, requests"
   ]
  },
  {
   "cell_type": "code",
   "execution_count": 11,
   "metadata": {
    "ExecuteTime": {
     "end_time": "2018-11-03T01:13:00.911690Z",
     "start_time": "2018-11-03T01:13:00.648359Z"
    }
   },
   "outputs": [],
   "source": [
    "r=requests.get('http://szekelydata.csaladen.es/lakossag/dict.json')"
   ]
  },
  {
   "cell_type": "code",
   "execution_count": 12,
   "metadata": {
    "ExecuteTime": {
     "end_time": "2018-11-03T01:14:03.781696Z",
     "start_time": "2018-11-03T01:14:03.777697Z"
    }
   },
   "outputs": [],
   "source": [
    "lak=json.loads(r.content)"
   ]
  },
  {
   "cell_type": "code",
   "execution_count": 13,
   "metadata": {
    "ExecuteTime": {
     "end_time": "2018-11-03T01:14:17.934701Z",
     "start_time": "2018-11-03T01:14:17.930697Z"
    }
   },
   "outputs": [],
   "source": [
    "lak={lak[i][3]:lak[i][2] for i in lak}"
   ]
  },
  {
   "cell_type": "code",
   "execution_count": 14,
   "metadata": {
    "ExecuteTime": {
     "end_time": "2018-11-03T01:14:51.717563Z",
     "start_time": "2018-11-03T01:14:51.713564Z"
    }
   },
   "outputs": [],
   "source": [
    "#osszes erdelyi magyar telepulesnev\n",
    "laks=lak.keys()"
   ]
  },
  {
   "cell_type": "code",
   "execution_count": 16,
   "metadata": {
    "ExecuteTime": {
     "end_time": "2018-11-03T01:28:44.759320Z",
     "start_time": "2018-11-03T01:28:44.751321Z"
    }
   },
   "outputs": [],
   "source": [
    "def levenshteinDistance(s1, s2):\n",
    "    if len(s1) > len(s2):\n",
    "        s1, s2 = s2, s1\n",
    "\n",
    "    distances = range(len(s1) + 1)\n",
    "    for i2, c2 in enumerate(s2):\n",
    "        distances_ = [i2+1]\n",
    "        for i1, c1 in enumerate(s1):\n",
    "            if c1 == c2:\n",
    "                distances_.append(distances[i1])\n",
    "            else:\n",
    "                distances_.append(1 + min((distances[i1], distances[i1 + 1], distances_[-1])))\n",
    "        distances = distances_\n",
    "    return distances[-1]"
   ]
  },
  {
   "cell_type": "code",
   "execution_count": 17,
   "metadata": {
    "ExecuteTime": {
     "end_time": "2018-11-03T01:43:50.563664Z",
     "start_time": "2018-11-03T01:41:07.458594Z"
    }
   },
   "outputs": [
    {
     "name": "stdout",
     "output_type": "stream",
     "text": [
      "3 Görgényhodák\n",
      "5 Görgényhodák Görgényhodák\n",
      "1 [\"Csíkszereda\", \"medve\"] Csíkszereda\n",
      "4 csíkszeredai Csíkszereda\n",
      "5 Csíkszeredai Csíkszereda\n",
      "5 két Réty\n",
      "3 Bala\n",
      "5 bal Bala\n",
      "5 Bala Bala\n",
      "5 hét Réty\n",
      "5 négy Réty\n",
      "1 [\"Csíkszentgyörgy\", \"medve\"] Csíkszentgyörgy\n",
      "4 Csíkszentgyörgyön Csíkszentgyörgy\n",
      "5 csíkszentgyörgyi Csíkszentgyörgy\n",
      "5 sávon Zágon\n",
      "1 [\"Csíkdánfalva\", \"medve\"] Csíkdánfalva\n",
      "5 csíkdánfalvi Csíkdánfalva\n",
      "4 székelyderzsi Székelyderzs\n",
      "5 Székelyderzsbe Székelyderzs\n",
      "1 [\"Csíkszentmihály\"] Csíkszentmihály\n",
      "3 Csíkszentmihály\n",
      "3 Csíkszentmihály\n",
      "5 Csíkszentmihály Csíkszentmihály\n",
      "5 Csíkszentmihály Csíkszentkirály\n",
      "5 Csíkszentmihály Csíkszentmihály\n",
      "5 Csíkszentmihály Csíkszentkirály\n",
      "3 Marosvásárhely\n",
      "3 Gyergyószentmiklós\n",
      "5 Székelyudvarhelyen Székelyudvarhely\n",
      "5 Marosvásárhely Marosvásárhely\n",
      "5 Gyergyószentmiklós Gyergyószentmiklós\n",
      "1 [\"Csíkszereda\", \"medve\"] Csíkszereda\n",
      "1 [\"medve\", \"Segesvár\"] Segesvár\n",
      "4 segesvári Segesvár\n",
      "5 két Réty\n",
      "5 Maria Maksa\n",
      "2 Székelykeresztúr\n",
      "4 Székelykeresztúr Székelykeresztúr\n",
      "1 [\"medve\", \"Székelyudvarhely\"] Székelyudvarhely\n",
      "2 Székelyudvarhely\n",
      "3 Székelyudvarhely\n",
      "4 Székelyudvarhely Székelyudvarhely\n",
      "5 Székelyudvarhely Székelyudvarhely\n",
      "5 védi Déda\n",
      "1 [\"medve\", \"Székelyudvarhely\"] Székelyudvarhely\n",
      "3 Székelyudvarhely\n",
      "5 Székelyudvarhely Székelyudvarhely\n",
      "1 [\"Marosvásárhely\", \"medve\"] Marosvásárhely\n",
      "3 Jedd\n",
      "3 Marosvásárhely\n",
      "4 város Bátos\n",
      "4 város Dános\n",
      "5 Két Réty\n",
      "5 Jedd Jedd\n",
      "5 Marosvásárhely Marosvásárhely\n",
      "1 [\"Csíkszereda\", \"medve\"] Csíkszereda\n",
      "3 Csíkszereda\n",
      "5 Csíkszereda Csíkszereda\n",
      "5 Csíkszeredai Csíkszereda\n",
      "1 [\"Csíkszereda\", \"medve\"] Csíkszereda\n",
      "4 csíkszeredai Csíkszereda\n",
      "5 Csíkszeredai Csíkszereda\n",
      "1 [\"Csíkszereda\", \"medve\"] Csíkszereda\n",
      "5 csíkszeredai Csíkszereda\n",
      "1 [\"Csíkszereda\", \"medve\"] Csíkszereda\n",
      "4 csíkszeredai Csíkszereda\n",
      "1 [\"Csíkszereda\", \"medve\"] Csíkszereda\n",
      "4 Csíkszeredába Csíkszereda\n",
      "5 Csíkszeredai Csíkszereda\n",
      "1 [\"Marosvásárhely\", \"medve\"] Marosvásárhely\n",
      "5 Marosvásárhelyi Marosvásárhely\n",
      "2 Újszékely\n",
      "3 Újszékely\n",
      "4 Újszékely Újszékely\n",
      "5 Újszékely Újszékely\n",
      "1 [\"medve\", \"Sepsiszentgyörgy\"] Sepsiszentgyörgy\n",
      "5 maga Bala\n"
     ]
    }
   ],
   "source": [
    "#look for perfect matches\n",
    "decoded_locs={}\n",
    "for i in locs.index:\n",
    "    if '[' in locs.loc[i]['tags']:\n",
    "        k=locs.loc[i]['tags'].replace(\"'\",'\"')\n",
    "        for j in json.loads(k):\n",
    "            if j in laks:\n",
    "                if i not in decoded_locs:decoded_locs[i]=[]\n",
    "                decoded_locs[i].append(j)\n",
    "                print('1',k,j)\n",
    "    for j in locs.loc[i]['title'].split():\n",
    "        if j in laks:\n",
    "            if i not in decoded_locs:decoded_locs[i]=[]\n",
    "            decoded_locs[i].append(j)\n",
    "            print('2',j)\n",
    "    for j in locs.loc[i]['content'].split():\n",
    "        if j in laks:\n",
    "            if i not in decoded_locs:decoded_locs[i]=[]\n",
    "            decoded_locs[i].append(j)\n",
    "            print('3',j)\n",
    "    for j in locs.loc[i]['title'].split():\n",
    "        for k in laks:\n",
    "            if levenshteinDistance(j,k)<3:\n",
    "                if i not in decoded_locs:decoded_locs[i]=[]\n",
    "                decoded_locs[i].append(k)\n",
    "                print('4',j,k)\n",
    "    for j in locs.loc[i]['content'].split():\n",
    "        for k in laks:\n",
    "            if levenshteinDistance(j,k)<3:\n",
    "                if i not in decoded_locs:decoded_locs[i]=[]\n",
    "                decoded_locs[i].append(k)\n",
    "                print('5',j,k)"
   ]
  },
  {
   "cell_type": "code",
   "execution_count": 18,
   "metadata": {
    "ExecuteTime": {
     "end_time": "2018-11-03T01:47:19.873639Z",
     "start_time": "2018-11-03T01:47:19.860633Z"
    }
   },
   "outputs": [],
   "source": [
    "predicted_locs=[]\n",
    "for i in range(len(locs.index)):\n",
    "    if locs.index[i] in decoded_locs: \n",
    "        dummy=list(set(decoded_locs[locs.index[i]]))\n",
    "        if len(dummy)==1:\n",
    "            dummy=dummy[0]\n",
    "        else:\n",
    "            dummy=repr(decoded_locs[locs.index[i]])\n",
    "        predicted_locs.append(dummy)\n",
    "    else: predicted_locs.append('')"
   ]
  },
  {
   "cell_type": "code",
   "execution_count": 19,
   "metadata": {
    "ExecuteTime": {
     "end_time": "2018-11-03T01:47:21.049637Z",
     "start_time": "2018-11-03T01:47:20.951633Z"
    }
   },
   "outputs": [
    {
     "name": "stderr",
     "output_type": "stream",
     "text": [
      "C:\\ProgramData\\Anaconda3\\lib\\site-packages\\ipykernel_launcher.py:1: SettingWithCopyWarning: \n",
      "A value is trying to be set on a copy of a slice from a DataFrame.\n",
      "Try using .loc[row_indexer,col_indexer] = value instead\n",
      "\n",
      "See the caveats in the documentation: http://pandas.pydata.org/pandas-docs/stable/indexing.html#indexing-view-versus-copy\n",
      "  \"\"\"Entry point for launching an IPython kernel.\n",
      "C:\\ProgramData\\Anaconda3\\lib\\site-packages\\ipykernel_launcher.py:2: SettingWithCopyWarning: \n",
      "A value is trying to be set on a copy of a slice from a DataFrame.\n",
      "Try using .loc[row_indexer,col_indexer] = value instead\n",
      "\n",
      "See the caveats in the documentation: http://pandas.pydata.org/pandas-docs/stable/indexing.html#indexing-view-versus-copy\n",
      "  \n"
     ]
    }
   ],
   "source": [
    "locs['predicted_locs']=predicted_locs\n",
    "locs['actual_locs']=predicted_locs"
   ]
  },
  {
   "cell_type": "code",
   "execution_count": 20,
   "metadata": {
    "ExecuteTime": {
     "end_time": "2018-11-03T01:47:21.503637Z",
     "start_time": "2018-11-03T01:47:21.495634Z"
    }
   },
   "outputs": [],
   "source": [
    "lm=locs[['title','content','predicted_locs','actual_locs']]"
   ]
  },
  {
   "cell_type": "code",
   "execution_count": 21,
   "metadata": {
    "ExecuteTime": {
     "end_time": "2018-11-03T01:47:22.721717Z",
     "start_time": "2018-11-03T01:47:22.292716Z"
    }
   },
   "outputs": [],
   "source": [
    "lm.to_excel('data/szekelyhon_locs.xlsx')\n",
    "lm.to_excel('data/szekelyhon_locs_curated.xlsx')"
   ]
  },
  {
   "cell_type": "markdown",
   "metadata": {},
   "source": [
    "Open `szekelyhon_locs_curated` and manually verify predicted locations. Fill where necessary."
   ]
  }
 ],
 "metadata": {
  "kernelspec": {
   "display_name": "Python 3",
   "language": "python",
   "name": "python3"
  },
  "language_info": {
   "codemirror_mode": {
    "name": "ipython",
    "version": 3
   },
   "file_extension": ".py",
   "mimetype": "text/x-python",
   "name": "python",
   "nbconvert_exporter": "python",
   "pygments_lexer": "ipython3",
   "version": "3.7.0"
  },
  "toc": {
   "base_numbering": 1,
   "nav_menu": {},
   "number_sections": true,
   "sideBar": true,
   "skip_h1_title": false,
   "title_cell": "Table of Contents",
   "title_sidebar": "Contents",
   "toc_cell": false,
   "toc_position": {},
   "toc_section_display": true,
   "toc_window_display": false
  }
 },
 "nbformat": 4,
 "nbformat_minor": 2
}
