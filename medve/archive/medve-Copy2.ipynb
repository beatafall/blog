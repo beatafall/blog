{
 "cells": [
  {
   "cell_type": "code",
   "execution_count": 27,
   "metadata": {
    "ExecuteTime": {
     "end_time": "2018-11-02T21:29:49.840309Z",
     "start_time": "2018-11-02T21:29:49.835307Z"
    }
   },
   "outputs": [],
   "source": [
    "import bs4 as bs, urllib, pandas as pd, numpy as np"
   ]
  },
  {
   "cell_type": "markdown",
   "metadata": {},
   "source": [
    "Parse past X years"
   ]
  },
  {
   "cell_type": "code",
   "execution_count": 28,
   "metadata": {
    "ExecuteTime": {
     "end_time": "2018-11-02T21:29:52.964758Z",
     "start_time": "2018-11-02T21:29:52.960219Z"
    }
   },
   "outputs": [],
   "source": [
    "keyword='medve'\n",
    "baseurl=u'https://szekelyhon.ro/kereses?op=search&src_words='"
   ]
  },
  {
   "cell_type": "code",
   "execution_count": 29,
   "metadata": {
    "ExecuteTime": {
     "end_time": "2018-11-02T21:30:03.654752Z",
     "start_time": "2018-11-02T21:30:03.635756Z"
    }
   },
   "outputs": [],
   "source": [
    "start='2002-12'\n",
    "#end='2018-11-01'\n",
    "#start='2018-10'\n",
    "end='2018-12'\n",
    "dates=[]\n",
    "datelist = pd.date_range(start=pd.to_datetime(start), end=pd.to_datetime(end), freq='M').tolist()\n",
    "for date in datelist:\n",
    "    dates.append(str(date)[:10])"
   ]
  },
  {
   "cell_type": "code",
   "execution_count": 30,
   "metadata": {
    "ExecuteTime": {
     "end_time": "2018-11-02T21:30:04.371597Z",
     "start_time": "2018-11-02T21:30:04.364599Z"
    }
   },
   "outputs": [
    {
     "data": {
      "text/plain": [
       "['2002-12-31', '2003-01-31', '2003-02-28', '2003-03-31', '2003-04-30']"
      ]
     },
     "execution_count": 30,
     "metadata": {},
     "output_type": "execute_result"
    }
   ],
   "source": [
    "dates[:5]"
   ]
  },
  {
   "cell_type": "code",
   "execution_count": 31,
   "metadata": {
    "ExecuteTime": {
     "end_time": "2018-11-02T21:30:13.860613Z",
     "start_time": "2018-11-02T21:30:13.853615Z"
    }
   },
   "outputs": [],
   "source": [
    "def extractor(time1,time2):\n",
    "    time1=dates[i]\n",
    "    time2=dates[i+1]\n",
    "    print('Parsing...',time1,'-',time2)\n",
    "    url=baseurl+keyword+'&src_time1='+time1+'&src_time2='+time2\n",
    "    html = urllib.request.urlopen(url).read()\n",
    "    soup = bs.BeautifulSoup(html,'lxml')\n",
    "    return soup.findAll(\"div\", {\"class\": \"catinner\"})"
   ]
  },
  {
   "cell_type": "code",
   "execution_count": null,
   "metadata": {
    "ExecuteTime": {
     "start_time": "2018-11-02T21:30:15.546Z"
    }
   },
   "outputs": [
    {
     "name": "stdout",
     "output_type": "stream",
     "text": [
      "Parsing... 2002-12-31 - 2003-01-31\n",
      "Parsing... 2003-01-31 - 2003-02-28\n",
      "Parsing... 2003-02-28 - 2003-03-31\n",
      "Parsing... 2003-03-31 - 2003-04-30\n",
      "Parsing... 2003-04-30 - 2003-05-31\n",
      "Parsing... 2003-05-31 - 2003-06-30\n",
      "Parsing... 2003-06-30 - 2003-07-31\n",
      "Parsing... 2003-07-31 - 2003-08-31\n",
      "Parsing... 2003-08-31 - 2003-09-30\n",
      "Parsing... 2003-09-30 - 2003-10-31\n",
      "Parsing... 2003-10-31 - 2003-11-30\n",
      "Parsing... 2003-11-30 - 2003-12-31\n",
      "Parsing... 2003-12-31 - 2004-01-31\n",
      "Parsing... 2004-01-31 - 2004-02-29\n",
      "Parsing... 2004-02-29 - 2004-03-31\n",
      "Parsing... 2004-03-31 - 2004-04-30\n",
      "Parsing... 2004-04-30 - 2004-05-31\n",
      "Parsing... 2004-05-31 - 2004-06-30\n",
      "Parsing... 2004-06-30 - 2004-07-31\n",
      "Parsing... 2004-07-31 - 2004-08-31\n",
      "Parsing... 2004-08-31 - 2004-09-30\n",
      "Parsing... 2004-09-30 - 2004-10-31\n",
      "Parsing... 2004-10-31 - 2004-11-30\n",
      "Parsing... 2004-11-30 - 2004-12-31\n",
      "Parsing... 2004-12-31 - 2005-01-31\n",
      "Parsing... 2005-01-31 - 2005-02-28\n",
      "Parsing... 2005-02-28 - 2005-03-31\n",
      "Parsing... 2005-03-31 - 2005-04-30\n",
      "Parsing... 2005-04-30 - 2005-05-31\n",
      "Parsing... 2005-05-31 - 2005-06-30\n",
      "Parsing... 2005-06-30 - 2005-07-31\n",
      "Parsing... 2005-07-31 - 2005-08-31\n",
      "Parsing... 2005-08-31 - 2005-09-30\n",
      "Parsing... 2005-09-30 - 2005-10-31\n",
      "Parsing... 2005-10-31 - 2005-11-30\n",
      "Parsing... 2005-11-30 - 2005-12-31\n",
      "Parsing... 2005-12-31 - 2006-01-31\n",
      "Parsing... 2006-01-31 - 2006-02-28\n",
      "Parsing... 2006-02-28 - 2006-03-31\n",
      "Parsing... 2006-03-31 - 2006-04-30\n",
      "Parsing... 2006-04-30 - 2006-05-31\n",
      "Parsing... 2006-05-31 - 2006-06-30\n",
      "Parsing... 2006-06-30 - 2006-07-31\n",
      "Parsing... 2006-07-31 - 2006-08-31\n",
      "Parsing... 2006-08-31 - 2006-09-30\n",
      "Parsing... 2006-09-30 - 2006-10-31\n",
      "Parsing... 2006-10-31 - 2006-11-30\n",
      "Parsing... 2006-11-30 - 2006-12-31\n",
      "Parsing... 2006-12-31 - 2007-01-31\n",
      "Parsing... 2007-01-31 - 2007-02-28\n",
      "Parsing... 2007-02-28 - 2007-03-31\n",
      "Parsing... 2007-03-31 - 2007-04-30\n",
      "Parsing... 2007-04-30 - 2007-05-31\n",
      "Parsing... 2007-05-31 - 2007-06-30\n",
      "Parsing... 2007-06-30 - 2007-07-31\n",
      "Parsing... 2007-07-31 - 2007-08-31\n",
      "Parsing... 2007-08-31 - 2007-09-30\n",
      "Parsing... 2007-09-30 - 2007-10-31\n",
      "Parsing... 2007-10-31 - 2007-11-30\n",
      "Parsing... 2007-11-30 - 2007-12-31\n",
      "Parsing... 2007-12-31 - 2008-01-31\n",
      "Parsing... 2008-01-31 - 2008-02-29\n",
      "Parsing... 2008-02-29 - 2008-03-31\n",
      "Parsing... 2008-03-31 - 2008-04-30\n"
     ]
    }
   ],
   "source": [
    "divs=[]\n",
    "for i in range(len(dates)-1):\n",
    "    time1=dates[i]\n",
    "    time2=dates[i+1]\n",
    "    divs.append(extractor(time1,time2))"
   ]
  },
  {
   "cell_type": "code",
   "execution_count": null,
   "metadata": {
    "ExecuteTime": {
     "start_time": "2018-11-02T21:30:20.417Z"
    }
   },
   "outputs": [],
   "source": [
    "def date_hu_en(i):\n",
    "    date=i[6:-4]\n",
    "    if date=='augusztus': m='08'\n",
    "    elif date=='december': m='12'\n",
    "    elif date=='február': m='02'\n",
    "    elif date=='január': m='01'\n",
    "    elif date=='július': m='07'\n",
    "    elif date=='június': m='06'\n",
    "    elif date=='május': m='05'\n",
    "    elif date=='március': m='03'\n",
    "    elif date=='november': m='11'\n",
    "    elif date==u'október': m='10'\n",
    "    elif date==u'szeptember': m='09'\n",
    "    elif date==u'április': m='04'\n",
    "    else: return date\n",
    "    return i[:4]+'-'+m+'-'+i[-3:-1]"
   ]
  },
  {
   "cell_type": "markdown",
   "metadata": {},
   "source": [
    "Relevant = Medves cikk-e vagy sem  \n",
    "Deaths = Halalok szama  \n",
    "Severity = Sulyossag: 0-mas jellegu hir, 1-latas, 2-allat-tamadas, 3-ember-tamadas"
   ]
  },
  {
   "cell_type": "code",
   "execution_count": null,
   "metadata": {
    "ExecuteTime": {
     "start_time": "2018-11-02T21:30:35.296Z"
    }
   },
   "outputs": [],
   "source": [
    "def text_processor(title,content):\n",
    "    relevant=0\n",
    "    severity=0\n",
    "    deaths=0\n",
    "    tamadas=[u'támad',u'sebes']\n",
    "    for i in tamadas:\n",
    "        if i in title+content:\n",
    "            relevant=1\n",
    "            severity=2\n",
    "    tamadas=[u'halál',u'áldozat',u'ölt ']\n",
    "    for i in tamadas:\n",
    "        if i in title+content:\n",
    "            relevant=1\n",
    "            severity=3\n",
    "    tamadas=[u'medve',u'medvék']\n",
    "    for i in tamadas:\n",
    "        if i in title.replace(',',' ').replace('.',' ').lower():\n",
    "            relevant=1\n",
    "    return relevant,severity,deaths"
   ]
  },
  {
   "cell_type": "code",
   "execution_count": null,
   "metadata": {
    "ExecuteTime": {
     "start_time": "2018-11-02T21:30:52.796Z"
    }
   },
   "outputs": [],
   "source": [
    "hirek=[]\n",
    "for divgroup in divs:\n",
    "    for div in divgroup:\n",
    "        idiv=div.find('div')\n",
    "        content=div.find('p')\n",
    "        date=idiv.text[idiv.text.find('201'):idiv.text.find(',')]\n",
    "        title=div.find('h2').text\n",
    "        if content==None:\n",
    "            sdiv=str(div)[::-1]\n",
    "            content=sdiv[:sdiv.find('>a/<')].replace('\\r','').replace('\\t','').replace('\\n','')[::-1][:-6]\n",
    "        else: content=content.text\n",
    "        relevant,severity,deaths=text_processor(title,content)\n",
    "        hirek.append({'date':date_hu_en(date),\n",
    "                      'hudate':date,\n",
    "                      'title':title,\n",
    "                      'content':content,\n",
    "                      'link':div.findAll('a')[-1]['href'],\n",
    "                      'relevant':relevant,\n",
    "                      'severity':severity,\n",
    "                      'deaths':deaths,\n",
    "                      'duplicate':0\n",
    "                       })"
   ]
  },
  {
   "cell_type": "code",
   "execution_count": null,
   "metadata": {
    "ExecuteTime": {
     "start_time": "2018-11-02T21:31:03.836Z"
    }
   },
   "outputs": [],
   "source": [
    "div"
   ]
  },
  {
   "cell_type": "markdown",
   "metadata": {},
   "source": [
    "Összes medvés hír"
   ]
  },
  {
   "cell_type": "code",
   "execution_count": 23,
   "metadata": {
    "ExecuteTime": {
     "end_time": "2018-11-02T21:26:55.537153Z",
     "start_time": "2018-11-02T21:26:55.532155Z"
    }
   },
   "outputs": [
    {
     "data": {
      "text/plain": [
       "1"
      ]
     },
     "execution_count": 23,
     "metadata": {},
     "output_type": "execute_result"
    }
   ],
   "source": [
    "len(hirek)"
   ]
  },
  {
   "cell_type": "code",
   "execution_count": 24,
   "metadata": {
    "ExecuteTime": {
     "end_time": "2018-11-02T21:26:56.226318Z",
     "start_time": "2018-11-02T21:26:56.214318Z"
    }
   },
   "outputs": [],
   "source": [
    "df=pd.DataFrame().from_dict(hirek)\n",
    "df['date']=pd.to_datetime(df['date'])\n",
    "df=df.sort_values('date').reset_index(drop=True)"
   ]
  },
  {
   "cell_type": "markdown",
   "metadata": {},
   "source": [
    "Save to medve Excel. Manual curation"
   ]
  },
  {
   "cell_type": "code",
   "execution_count": 25,
   "metadata": {
    "ExecuteTime": {
     "end_time": "2018-11-02T21:26:57.126033Z",
     "start_time": "2018-11-02T21:26:57.121030Z"
    }
   },
   "outputs": [],
   "source": [
    "df=df[[ 'date', 'hudate', 'link', 'title','content','relevant', 'severity','deaths']]"
   ]
  },
  {
   "cell_type": "code",
   "execution_count": 26,
   "metadata": {
    "ExecuteTime": {
     "end_time": "2018-11-02T21:26:57.610867Z",
     "start_time": "2018-11-02T21:26:57.470870Z"
    }
   },
   "outputs": [],
   "source": [
    "df.to_excel('szekelyhon_medve_'+end+'.xlsx')\n",
    "df.to_excel('szekelyhon_medve_curated_'+end+'.xlsx')"
   ]
  }
 ],
 "metadata": {
  "kernelspec": {
   "display_name": "Python 3",
   "language": "python",
   "name": "python3"
  },
  "language_info": {
   "codemirror_mode": {
    "name": "ipython",
    "version": 3
   },
   "file_extension": ".py",
   "mimetype": "text/x-python",
   "name": "python",
   "nbconvert_exporter": "python",
   "pygments_lexer": "ipython3",
   "version": "3.7.0"
  },
  "toc": {
   "base_numbering": 1,
   "nav_menu": {},
   "number_sections": true,
   "sideBar": true,
   "skip_h1_title": false,
   "title_cell": "Table of Contents",
   "title_sidebar": "Contents",
   "toc_cell": false,
   "toc_position": {},
   "toc_section_display": true,
   "toc_window_display": false
  }
 },
 "nbformat": 4,
 "nbformat_minor": 2
}
