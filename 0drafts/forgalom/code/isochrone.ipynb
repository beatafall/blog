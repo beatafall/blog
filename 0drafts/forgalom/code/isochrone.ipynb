{
 "cells": [
  {
   "cell_type": "code",
   "execution_count": 1,
   "metadata": {
    "collapsed": true
   },
   "outputs": [],
   "source": [
    "from PyQt4.QtCore import *\n",
    "import urllib2, json"
   ]
  },
  {
   "cell_type": "code",
   "execution_count": 59,
   "metadata": {
    "collapsed": true
   },
   "outputs": [],
   "source": [
    "import zipfile\n",
    "try:\n",
    "    import zlib\n",
    "    compression = zipfile.ZIP_DEFLATED\n",
    "except:\n",
    "    compression = zipfile.ZIP_STORED"
   ]
  },
  {
   "cell_type": "code",
   "execution_count": 2,
   "metadata": {
    "collapsed": true
   },
   "outputs": [],
   "source": [
    "#here maps api\n",
    "appcode =\"5socj0x3K2SWWpkQUBLaYA\"\n",
    "appID = \"gnLbXQVI5RzAIoGTzF9G\""
   ]
  },
  {
   "cell_type": "code",
   "execution_count": 27,
   "metadata": {
    "collapsed": true
   },
   "outputs": [],
   "source": [
    "import pandas as pd\n",
    "import datetime"
   ]
  },
  {
   "cell_type": "code",
   "execution_count": null,
   "metadata": {
    "collapsed": false
   },
   "outputs": [],
   "source": [
    "yeardata={}\n",
    "town='csikszereda'\n",
    "t='2017-12-31'\n",
    "k=0\n",
    "while k<28:\n",
    "    t=str(pd.to_datetime(t)+datetime.timedelta(days=1))[:10]\n",
    "    print t\n",
    "    k+=1\n",
    "    timedata={}\n",
    "    if t not in yeardata:\n",
    "        for i in range(33):\n",
    "            if i/2+6<10:h='0'\n",
    "            else: h=''\n",
    "            if i%2==0:g='00'\n",
    "            else: g='30'\n",
    "            hour=h+str(i/2+6)+':'+g\n",
    "            timestamp = t+\"T\"+hour+\":00Z02\"\n",
    "            coordinates='46.362097,25.802032'\n",
    "            url = \"https://isoline.route.cit.api.here.com/routing/7.2/calculateisoline.json?app_id=\" + appID +\\\n",
    "                    \"&app_code=\" + appcode + \"&mode=shortest;car;traffic:enabled&start=geo!\" + coordinates +\\\n",
    "                    \"&maxpoints=500&departure=\" + timestamp + \"&range=600,1200,1800,3600&rangetype=time&jsonAttributes=41\"\n",
    "            response = urllib2.urlopen(url)\n",
    "            data = json.load(response)\n",
    "            #print hour,\n",
    "            timedata[hour]=data\n",
    "        yeardata[t]=timedata\n",
    "file('data.json','w').write(json.dumps(yeardata))\n",
    "zf = zipfile.ZipFile('../'+town+'/isochrone/data.zip', mode='w')\n",
    "zf.write('data.json','data.json',compress_type=compression)\n",
    "zf.close()\n",
    "for i in yeardata:\n",
    "    file('../'+town+'/isochrone/data'+i+'.json','w').write(json.dumps(yeardata[i]))"
   ]
  },
  {
   "cell_type": "code",
   "execution_count": null,
   "metadata": {
    "collapsed": false
   },
   "outputs": [],
   "source": [
    "yeardata={}\n",
    "town='kolozsvar'\n",
    "t='2017-12-31'\n",
    "k=0\n",
    "while k<28:\n",
    "    t=str(pd.to_datetime(t)+datetime.timedelta(days=1))[:10]\n",
    "    print t\n",
    "    k+=1\n",
    "    timedata={}\n",
    "    if t not in yeardata:\n",
    "        for i in range(33):\n",
    "            if i/2+6<10:h='0'\n",
    "            else: h=''\n",
    "            if i%2==0:g='00'\n",
    "            else: g='30'\n",
    "            hour=h+str(i/2+6)+':'+g\n",
    "            timestamp = t+\"T\"+hour+\":00Z02\"\n",
    "            coordinates='46.768723,23.589792'\n",
    "            url = \"https://isoline.route.cit.api.here.com/routing/7.2/calculateisoline.json?app_id=\" + appID +\\\n",
    "                    \"&app_code=\" + appcode + \"&mode=shortest;car;traffic:enabled&start=geo!\" + coordinates +\\\n",
    "                    \"&maxpoints=500&departure=\" + timestamp + \"&range=600,1200,1800,3600&rangetype=time&jsonAttributes=41\"\n",
    "            response = urllib2.urlopen(url)\n",
    "            data = json.load(response)\n",
    "            #print hour,\n",
    "            timedata[hour]=data\n",
    "        yeardata[t]=timedata\n",
    "file('data.json','w').write(json.dumps(yeardata))\n",
    "zf = zipfile.ZipFile('../'+town+'/isochrone/data.zip', mode='w')\n",
    "zf.write('data.json','data.json',compress_type=compression)\n",
    "zf.close()\n",
    "for i in yeardata:\n",
    "    file('../'+town+'/isochrone/data'+i+'.json','w').write(json.dumps(yeardata[i]))"
   ]
  },
  {
   "cell_type": "code",
   "execution_count": 65,
   "metadata": {
    "collapsed": false
   },
   "outputs": [
    {
     "name": "stdout",
     "output_type": "stream",
     "text": [
      "2018-01-01\n",
      "2018-01-02\n",
      "2018-01-03\n",
      "2018-01-04\n",
      "2018-01-05\n",
      "2018-01-06\n",
      "2018-01-07\n",
      "2018-01-08\n",
      "2018-01-09\n",
      "2018-01-10\n",
      "2018-01-11\n",
      "2018-01-12\n",
      "2018-01-13\n",
      "2018-01-14\n",
      "2018-01-15\n",
      "2018-01-16\n",
      "2018-01-17\n",
      "2018-01-18\n",
      "2018-01-19\n",
      "2018-01-20\n",
      "2018-01-21\n",
      "2018-01-22\n",
      "2018-01-23\n",
      "2018-01-24\n",
      "2018-01-25\n",
      "2018-01-26\n",
      "2018-01-27\n",
      "2018-01-28\n"
     ]
    }
   ],
   "source": [
    "yeardata={}\n",
    "town='brasso'\n",
    "t='2017-12-31'\n",
    "k=0\n",
    "while k<28:\n",
    "    t=str(pd.to_datetime(t)+datetime.timedelta(days=1))[:10]\n",
    "    print t\n",
    "    k+=1\n",
    "    timedata={}\n",
    "    if t not in yeardata:\n",
    "        for i in range(33):\n",
    "            if i/2+6<10:h='0'\n",
    "            else: h=''\n",
    "            if i%2==0:g='00'\n",
    "            else: g='30'\n",
    "            hour=h+str(i/2+6)+':'+g\n",
    "            timestamp = t+\"T\"+hour+\":00Z02\"\n",
    "            coordinates='45.652488,25.608454'\n",
    "            url = \"https://isoline.route.cit.api.here.com/routing/7.2/calculateisoline.json?app_id=\" + appID +\\\n",
    "                    \"&app_code=\" + appcode + \"&mode=shortest;car;traffic:enabled&start=geo!\" + coordinates +\\\n",
    "                    \"&maxpoints=500&departure=\" + timestamp + \"&range=600,1200,1800,3600&rangetype=time&jsonAttributes=41\"\n",
    "            response = urllib2.urlopen(url)\n",
    "            data = json.load(response)\n",
    "            #print hour,\n",
    "            timedata[hour]=data\n",
    "        yeardata[t]=timedata\n",
    "file('data.json','w').write(json.dumps(yeardata))\n",
    "zf = zipfile.ZipFile('../'+town+'/isochrone/data.zip', mode='w')\n",
    "zf.write('data.json','data.json',compress_type=compression)\n",
    "zf.close()\n",
    "for i in yeardata:\n",
    "    file('../'+town+'/isochrone/data'+i+'.json','w').write(json.dumps(yeardata[i]))"
   ]
  },
  {
   "cell_type": "code",
   "execution_count": 66,
   "metadata": {
    "collapsed": false
   },
   "outputs": [
    {
     "name": "stdout",
     "output_type": "stream",
     "text": [
      "2018-01-01\n",
      "2018-01-02\n",
      "2018-01-03\n",
      "2018-01-04\n",
      "2018-01-05\n",
      "2018-01-06\n",
      "2018-01-07\n",
      "2018-01-08\n",
      "2018-01-09\n",
      "2018-01-10\n",
      "2018-01-11\n",
      "2018-01-12\n",
      "2018-01-13\n",
      "2018-01-14\n",
      "2018-01-15\n",
      "2018-01-16\n",
      "2018-01-17\n",
      "2018-01-18\n",
      "2018-01-19\n",
      "2018-01-20\n",
      "2018-01-21\n",
      "2018-01-22\n",
      "2018-01-23\n",
      "2018-01-24\n",
      "2018-01-25\n",
      "2018-01-26\n",
      "2018-01-27\n",
      "2018-01-28\n"
     ]
    }
   ],
   "source": [
    "yeardata={}\n",
    "town='udvarhely'\n",
    "t='2017-12-31'\n",
    "k=0\n",
    "while k<28:\n",
    "    t=str(pd.to_datetime(t)+datetime.timedelta(days=1))[:10]\n",
    "    print t\n",
    "    k+=1\n",
    "    timedata={}\n",
    "    if t not in yeardata:\n",
    "        for i in range(33):\n",
    "            if i/2+6<10:h='0'\n",
    "            else: h=''\n",
    "            if i%2==0:g='00'\n",
    "            else: g='30'\n",
    "            hour=h+str(i/2+6)+':'+g\n",
    "            timestamp = t+\"T\"+hour+\":00Z02\"\n",
    "            coordinates='46.304976,25.292829'\n",
    "            url = \"https://isoline.route.cit.api.here.com/routing/7.2/calculateisoline.json?app_id=\" + appID +\\\n",
    "                    \"&app_code=\" + appcode + \"&mode=shortest;car;traffic:enabled&start=geo!\" + coordinates +\\\n",
    "                    \"&maxpoints=500&departure=\" + timestamp + \"&range=60,180,300,600&rangetype=time&jsonAttributes=41\"\n",
    "            response = urllib2.urlopen(url)\n",
    "            data = json.load(response)\n",
    "            #print hour,\n",
    "            timedata[hour]=data\n",
    "        yeardata[t]=timedata\n",
    "file('data.json','w').write(json.dumps(yeardata))\n",
    "zf = zipfile.ZipFile('../'+town+'/isochrone/data.zip', mode='w')\n",
    "zf.write('data.json','data.json',compress_type=compression)\n",
    "zf.close()\n",
    "for i in yeardata:\n",
    "    file('../'+town+'/isochrone/data'+i+'.json','w').write(json.dumps(yeardata[i]))"
   ]
  },
  {
   "cell_type": "code",
   "execution_count": null,
   "metadata": {
    "collapsed": true
   },
   "outputs": [],
   "source": []
  }
 ],
 "metadata": {
  "anaconda-cloud": {},
  "kernelspec": {
   "display_name": "Python [default]",
   "language": "python",
   "name": "python2"
  },
  "language_info": {
   "codemirror_mode": {
    "name": "ipython",
    "version": 2
   },
   "file_extension": ".py",
   "mimetype": "text/x-python",
   "name": "python",
   "nbconvert_exporter": "python",
   "pygments_lexer": "ipython2",
   "version": "2.7.12"
  }
 },
 "nbformat": 4,
 "nbformat_minor": 1
}
