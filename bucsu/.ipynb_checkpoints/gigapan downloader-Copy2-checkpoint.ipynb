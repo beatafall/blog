{
 "cells": [
  {
   "cell_type": "code",
   "execution_count": 9,
   "metadata": {},
   "outputs": [],
   "source": [
    "from os import listdir\n",
    "from os.path import isfile, join\n",
    "mypath=\"c:/gp/\"\n",
    "onlyfiles = [f for f in listdir(mypath) if isfile(join(mypath, f))]"
   ]
  },
  {
   "cell_type": "code",
   "execution_count": 14,
   "metadata": {},
   "outputs": [],
   "source": [
    "import urllib\n",
    "for i1 in range(2):#\n",
    "    for j1 in range(4):\n",
    "        for i2 in range(4):\n",
    "            for j2 in range(4):\n",
    "                for k2 in range(4):\n",
    "                    for i3 in range(4):\n",
    "                        for j3 in range(4):\n",
    "                            for k3 in range(4):\n",
    "                                for i4 in range(4):\n",
    "                                    filename=repr(i1)+repr(j1)+repr(i2)+repr(j2)+repr(k2)+repr(i3)+repr(j3)+repr(k3)+repr(i4)+\".jpg\"\n",
    "                                    if filename not in onlyfiles:\n",
    "                                        URL = \"http://tile156.gigapan.org/gigapans0/156863/tiles.95657712256da7a69eb74b3984afb165/r\"+\\\n",
    "                                            repr(i1)+repr(j1)+\"/\"+repr(i2)+repr(j2)+repr(k2)+\"/\"+repr(i3)+repr(j3)+repr(k3)+\"/r\"+\\\n",
    "                                            repr(i1)+repr(j1)+repr(i2)+repr(j2)+repr(k2)+repr(i3)+repr(j3)+repr(k3)+repr(i4)+\".jpg\"\n",
    "                                        try: file(mypath+filename,'r').read()\n",
    "                                        except: urllib.urlretrieve(URL, \"c:/gp/\"+filename)"
   ]
  },
  {
   "cell_type": "code",
   "execution_count": 15,
   "metadata": {},
   "outputs": [
    {
     "data": {
      "text/plain": [
       "'http://tile156.gigapan.org/gigapans0/156863/tiles.95657712256da7a69eb74b3984afb165/r10/201/r102013.jpg'"
      ]
     },
     "execution_count": 15,
     "metadata": {},
     "output_type": "execute_result"
    }
   ],
   "source": [
    "URL"
   ]
  }
 ],
 "metadata": {
  "kernelspec": {
   "display_name": "Python 2",
   "language": "python",
   "name": "python2"
  },
  "language_info": {
   "codemirror_mode": {
    "name": "ipython",
    "version": 2
   },
   "file_extension": ".py",
   "mimetype": "text/x-python",
   "name": "python",
   "nbconvert_exporter": "python",
   "pygments_lexer": "ipython2",
   "version": "2.7.14"
  }
 },
 "nbformat": 4,
 "nbformat_minor": 1
}
