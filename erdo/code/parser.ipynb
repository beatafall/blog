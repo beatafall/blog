{
 "cells": [
  {
   "cell_type": "code",
   "execution_count": 1,
   "metadata": {
    "collapsed": false
   },
   "outputs": [],
   "source": [
    "import numpy as np, requests, zipfile, StringIO, pandas as pd, json, copy\n",
    "\n",
    "#suppres warnings\n",
    "import warnings\n",
    "warnings.simplefilter(action = \"ignore\")"
   ]
  },
  {
   "cell_type": "code",
   "execution_count": 2,
   "metadata": {
    "collapsed": true
   },
   "outputs": [],
   "source": [
    "import matplotlib.pyplot as plt"
   ]
  },
  {
   "cell_type": "code",
   "execution_count": 6,
   "metadata": {
    "collapsed": false
   },
   "outputs": [],
   "source": [
    "#z = zipfile.ZipFile('Forestry_Trade_Flows_E_All_Data.zip')   #stream web content of zip file to read\n",
    "z = zipfile.ZipFile('../db/Forestry_Trade_Flows_E_All_Data2.zip')   #stream web content of zip file to read\n",
    "df=pd.read_csv(z.open('Forestry_Trade_Flows_E_All_Data.csv'))"
   ]
  },
  {
   "cell_type": "code",
   "execution_count": 6,
   "metadata": {
    "collapsed": false
   },
   "outputs": [
    {
     "data": {
      "text/plain": [
       "{'Export Quantity', 'Export Value', 'Import Quantity', 'Import Value'}"
      ]
     },
     "execution_count": 6,
     "metadata": {},
     "output_type": "execute_result"
    }
   ],
   "source": [
    "set(df[df['Reporter Countries']=='Romania']['Element'])"
   ]
  },
  {
   "cell_type": "code",
   "execution_count": 7,
   "metadata": {
    "collapsed": false
   },
   "outputs": [],
   "source": [
    "data={}\n",
    "cs=set()\n",
    "for i in df.T.iteritems():\n",
    "    country=i[1][0]\n",
    "    partner=i[1][2]\n",
    "    cs.add(country)\n",
    "    cs.add(partner)\n",
    "    item=i[1][5]\n",
    "    element=i[1][7]\n",
    "    for k in range(9,44,2):\n",
    "        if country not in data: data[country]=[]\n",
    "        if not np.isnan(i[1][k]):\n",
    "            if 'Value' in element: \n",
    "                year=int(df.columns[k][1:])\n",
    "                if 'Import' in element: g=\"f\"\n",
    "                else: g=\"m\"\n",
    "                data[country].append({\"partner\":partner,\n",
    "                                  \"item\":item,\n",
    "                                  \"g\":g,\n",
    "                                  \"year\":year,\n",
    "                                  \"s\":i[1][k]})     "
   ]
  },
  {
   "cell_type": "code",
   "execution_count": 8,
   "metadata": {
    "collapsed": false
   },
   "outputs": [],
   "source": [
    "data={}\n",
    "cs=set()\n",
    "for i in df.T.iteritems():\n",
    "    country=i[1][0]\n",
    "    partner=i[1][2]\n",
    "    cs.add(country)\n",
    "    cs.add(partner)\n",
    "    item=i[1][5]\n",
    "    element=i[1][7]\n",
    "    for k in range(9,44,2):\n",
    "        if country not in data: data[country]={}\n",
    "        if not np.isnan(i[1][k]):\n",
    "            year=int(df.columns[k][1:])\n",
    "            if 'Import' in element: g=\"f\"\n",
    "            else: g=\"m\"\n",
    "            if g not in data[country]:data[country][g]={}\n",
    "            if partner not in data[country][g]:data[country][g][partner]={}\n",
    "            if year not in data[country][g][partner]:data[country][g][partner][year]={}\n",
    "            if item not in data[country][g][partner][year]:data[country][g][partner][year][item]={}\n",
    "            if 'Value' in element: \n",
    "                data[country][g][partner][year][item][\"s\"]=i[1][k]\n",
    "            else: \n",
    "                data[country][g][partner][year][item][\"p\"]=i[1][k]"
   ]
  },
  {
   "cell_type": "code",
   "execution_count": 9,
   "metadata": {
    "collapsed": false
   },
   "outputs": [],
   "source": [
    "data2={}\n",
    "for country in data:\n",
    "    if country not in data2:data2[country]=[]\n",
    "    for g in data[country]:\n",
    "        for partner in data[country][g]:\n",
    "            for year in data[country][g][partner]:\n",
    "                for item in data[country][g][partner][year]:\n",
    "                    if ((\"s\" in data[country][g][partner][year][item]) and (\"p\" in data[country][g][partner][year][item])):\n",
    "                        data2[country].append({\"partner\":partner,\n",
    "                                  \"item\":item,\n",
    "                                  \"g\":g,\n",
    "                                  \"year\":year,\n",
    "                                  \"s\":data[country][g][partner][year][item][\"s\"],\n",
    "                                  \"p\":data[country][g][partner][year][item][\"p\"]\n",
    "                             })    "
   ]
  },
  {
   "cell_type": "code",
   "execution_count": 11,
   "metadata": {
    "collapsed": true
   },
   "outputs": [],
   "source": [
    "try:\n",
    "    import zlib\n",
    "    compression = zipfile.ZIP_DEFLATED\n",
    "except:\n",
    "    compression = zipfile.ZIP_STORED"
   ]
  },
  {
   "cell_type": "code",
   "execution_count": 12,
   "metadata": {
    "collapsed": false
   },
   "outputs": [],
   "source": [
    "for c in data2:\n",
    "    file('dummy.json','w').write(json.dumps(data2[c])) \n",
    "    zf = zipfile.ZipFile('zips2/'+str(c)+'.zip', mode='w')\n",
    "    zf.write('dummy.json','data.json',compress_type=compression)\n",
    "    zf.close()"
   ]
  },
  {
   "cell_type": "code",
   "execution_count": 13,
   "metadata": {
    "collapsed": false
   },
   "outputs": [],
   "source": [
    "file('json/countries2.json','w').write(json.dumps(data.keys())) "
   ]
  },
  {
   "cell_type": "code",
   "execution_count": 14,
   "metadata": {
    "collapsed": false,
    "scrolled": true
   },
   "outputs": [],
   "source": [
    "file('json/data2.json','w').write(json.dumps(data)) "
   ]
  },
  {
   "cell_type": "code",
   "execution_count": 15,
   "metadata": {
    "collapsed": false
   },
   "outputs": [],
   "source": [
    "cdict={}\n",
    "for i in df.T.iteritems():\n",
    "    if i[1][0] not in cdict:cdict[i[1][0]]=i[1][1]\n",
    "    if i[1][2] not in cdict:cdict[i[1][2]]=i[1][3]\n",
    "    if i[1][1] not in cdict:cdict[i[1][1]]=i[1][0]\n",
    "    if i[1][3] not in cdict:cdict[i[1][3]]=i[1][2]"
   ]
  },
  {
   "cell_type": "code",
   "execution_count": 16,
   "metadata": {
    "collapsed": false
   },
   "outputs": [
    {
     "data": {
      "text/plain": [
       "107L"
      ]
     },
     "execution_count": 16,
     "metadata": {},
     "output_type": "execute_result"
    }
   ],
   "source": [
    "cdict[107]=u\"C\\xf4te d'Ivoire\"\n",
    "cdict[u\"C\\xf4te d'Ivoire\"]=cdict[\"C\\xf4te d'Ivoire\"]\n",
    "cdict.pop(\"C\\xf4te d'Ivoire\")"
   ]
  },
  {
   "cell_type": "code",
   "execution_count": 17,
   "metadata": {
    "collapsed": false
   },
   "outputs": [
    {
     "data": {
      "text/plain": [
       "182L"
      ]
     },
     "execution_count": 17,
     "metadata": {},
     "output_type": "execute_result"
    }
   ],
   "source": [
    "cdict[182]=u'R\\xe9union'\n",
    "cdict[u'R\\xe9union']=cdict['R\\xe9union']\n",
    "cdict.pop('R\\xe9union')"
   ]
  },
  {
   "cell_type": "code",
   "execution_count": 18,
   "metadata": {
    "collapsed": false
   },
   "outputs": [],
   "source": [
    "file('json/cdict2.json','w').write(json.dumps(cdict)) "
   ]
  },
  {
   "cell_type": "code",
   "execution_count": 19,
   "metadata": {
    "collapsed": false
   },
   "outputs": [],
   "source": [
    "countries=[]\n",
    "for k in cdict:\n",
    "    try: int(k)\n",
    "    except: countries.append(k)\n",
    "file('json/countries2.json','w').write(json.dumps(countries)) "
   ]
  },
  {
   "cell_type": "code",
   "execution_count": 20,
   "metadata": {
    "collapsed": false
   },
   "outputs": [
    {
     "data": {
      "text/plain": [
       "'Unspecified Area'"
      ]
     },
     "execution_count": 20,
     "metadata": {},
     "output_type": "execute_result"
    }
   ],
   "source": [
    "cdict[252]"
   ]
  }
 ],
 "metadata": {
  "kernelspec": {
   "display_name": "Python [default]",
   "language": "python",
   "name": "python2"
  },
  "language_info": {
   "codemirror_mode": {
    "name": "ipython",
    "version": 2
   },
   "file_extension": ".py",
   "mimetype": "text/x-python",
   "name": "python",
   "nbconvert_exporter": "python",
   "pygments_lexer": "ipython2",
   "version": "2.7.13"
  }
 },
 "nbformat": 4,
 "nbformat_minor": 0
}
