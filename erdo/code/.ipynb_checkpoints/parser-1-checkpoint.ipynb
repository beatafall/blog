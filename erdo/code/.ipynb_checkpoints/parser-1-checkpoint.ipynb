{
 "cells": [
  {
   "cell_type": "markdown",
   "metadata": {},
   "source": [
    "## SZÉKELYDATA Erdők \n",
    "### Globális adat-betöltő és formázó munkafüzet"
   ]
  },
  {
   "cell_type": "code",
   "execution_count": 50,
   "metadata": {
    "collapsed": false
   },
   "outputs": [],
   "source": [
    "import numpy as np, requests, zipfile, StringIO, pandas as pd, json, copy\n",
    "\n",
    "#suppres warnings\n",
    "import warnings\n",
    "warnings.simplefilter(action = \"ignore\")"
   ]
  },
  {
   "cell_type": "code",
   "execution_count": 101,
   "metadata": {
    "collapsed": true
   },
   "outputs": [],
   "source": [
    "import matplotlib.pyplot as plt\n",
    "%matplotlib inline"
   ]
  },
  {
   "cell_type": "markdown",
   "metadata": {},
   "source": [
    "FAO adatok betöltése - impex dollár-értékek és volumenek"
   ]
  },
  {
   "cell_type": "code",
   "execution_count": 8,
   "metadata": {
    "collapsed": false
   },
   "outputs": [],
   "source": [
    "#z = zipfile.ZipFile('Forestry_Trade_Flows_E_All_Data.zip')   #stream web content of zip file to read\n",
    "z = zipfile.ZipFile('../db/Forestry_Trade_Flows_E_All_Data2.zip')   #stream web content of zip file to read\n",
    "df=pd.read_csv(z.open('Forestry_Trade_Flows_E_All_Data.csv'))"
   ]
  },
  {
   "cell_type": "code",
   "execution_count": 9,
   "metadata": {
    "collapsed": false
   },
   "outputs": [
    {
     "data": {
      "text/plain": [
       "{'Export Quantity', 'Export Value', 'Import Quantity', 'Import Value'}"
      ]
     },
     "execution_count": 9,
     "metadata": {},
     "output_type": "execute_result"
    }
   ],
   "source": [
    "set(df[df['Reporter Countries']=='Romania']['Element'])"
   ]
  },
  {
   "cell_type": "markdown",
   "metadata": {},
   "source": [
    "Formázás D3plus formátumba"
   ]
  },
  {
   "cell_type": "code",
   "execution_count": 10,
   "metadata": {
    "collapsed": false
   },
   "outputs": [],
   "source": [
    "data={}\n",
    "cs=set()\n",
    "for i in df.T.iteritems():\n",
    "    country=i[1][0]\n",
    "    partner=i[1][2]\n",
    "    cs.add(country)\n",
    "    cs.add(partner)\n",
    "    item=i[1][5]\n",
    "    element=i[1][7]\n",
    "    for k in range(9,44,2):\n",
    "        if country not in data: data[country]=[]\n",
    "        if not np.isnan(i[1][k]):\n",
    "            if 'Value' in element: \n",
    "                year=int(df.columns[k][1:])\n",
    "                if 'Import' in element: g=\"f\"\n",
    "                else: g=\"m\"\n",
    "                data[country].append({\"partner\":partner,\n",
    "                                  \"item\":item,\n",
    "                                  \"g\":g,\n",
    "                                  \"year\":year,\n",
    "                                  \"s\":i[1][k]})     "
   ]
  },
  {
   "cell_type": "code",
   "execution_count": 11,
   "metadata": {
    "collapsed": false
   },
   "outputs": [],
   "source": [
    "data={}\n",
    "cs=set()\n",
    "for i in df.T.iteritems():\n",
    "    country=i[1][0]\n",
    "    partner=i[1][2]\n",
    "    cs.add(country)\n",
    "    cs.add(partner)\n",
    "    item=i[1][5]\n",
    "    element=i[1][7]\n",
    "    for k in range(9,44,2):\n",
    "        if country not in data: data[country]={}\n",
    "        if not np.isnan(i[1][k]):\n",
    "            year=int(df.columns[k][1:])\n",
    "            if 'Import' in element: g=\"f\"\n",
    "            else: g=\"m\"\n",
    "            if g not in data[country]:data[country][g]={}\n",
    "            if partner not in data[country][g]:data[country][g][partner]={}\n",
    "            if year not in data[country][g][partner]:data[country][g][partner][year]={}\n",
    "            if item not in data[country][g][partner][year]:data[country][g][partner][year][item]={}\n",
    "            if 'Value' in element: \n",
    "                data[country][g][partner][year][item][\"s\"]=i[1][k]\n",
    "            else: \n",
    "                data[country][g][partner][year][item][\"p\"]=i[1][k]"
   ]
  },
  {
   "cell_type": "code",
   "execution_count": 12,
   "metadata": {
    "collapsed": false
   },
   "outputs": [],
   "source": [
    "data2={}\n",
    "for country in data:\n",
    "    if country not in data2:data2[country]=[]\n",
    "    for g in data[country]:\n",
    "        for partner in data[country][g]:\n",
    "            for year in data[country][g][partner]:\n",
    "                for item in data[country][g][partner][year]:\n",
    "                    if ((\"s\" in data[country][g][partner][year][item]) and (\"p\" in data[country][g][partner][year][item])):\n",
    "                        data2[country].append({\"partner\":partner,\n",
    "                                  \"item\":item,\n",
    "                                  \"g\":g,\n",
    "                                  \"year\":year,\n",
    "                                  \"s\":data[country][g][partner][year][item][\"s\"],\n",
    "                                  \"p\":data[country][g][partner][year][item][\"p\"]\n",
    "                             })    "
   ]
  },
  {
   "cell_type": "markdown",
   "metadata": {},
   "source": [
    "Árgrafikon"
   ]
  },
  {
   "cell_type": "code",
   "execution_count": 234,
   "metadata": {
    "collapsed": true
   },
   "outputs": [],
   "source": [
    "from jupyterthemes import jtplot\n",
    "\n",
    "# you can select an alternative theme's plot style by name\n",
    "# oceans16 | grade3 | chesterish | onedork | monokai | solarizedl\n",
    "jtplot.style('solarized-light')"
   ]
  },
  {
   "cell_type": "code",
   "execution_count": 235,
   "metadata": {
    "collapsed": true
   },
   "outputs": [],
   "source": [
    "def reject_outliers(data, m = 2.):\n",
    "    d = np.abs(data - np.nanmedian(data))\n",
    "    mdev = np.nanmedian(d)\n",
    "    s = d/mdev if mdev else 0.\n",
    "    return data[s<m][data[s<m]>0]"
   ]
  },
  {
   "cell_type": "code",
   "execution_count": null,
   "metadata": {
    "collapsed": false
   },
   "outputs": [],
   "source": [
    "fig,ax=plt.subplots(2,5,figsize=(15,6))\n",
    "eip=['ip','ep']\n",
    "alph=[1,0.7]\n",
    "yrs=['Y1997','Y2014']\n",
    "colors=['royalBlue','seaGreen']\n",
    "woods=[[u'Newsprint',u'Paper+-Board Ex Newsprnt'],\n",
    "       [u'Sawnwood (NC)'],[u'Sawnwood (C)'],\n",
    "       [u'Ind Rwd Wir (NC) Other',u'Ind Rwd Wir (NC) Tropica'],[u'Ind Rwd Wir (C)']]\n",
    "ti=[u'Papír',u'Lombhullató\\nFûrészáru',u'Fenyô\\nFûrészáru',u'Lombhullató\\nRönkfa',u'Fenyô\\nRönkfa']\n",
    "uni=['$\\$/tonna$','$\\$/m^3$','$\\$/m^3$','$\\$/m^3$','$\\$/m^3$']\n",
    "impex=['Import','Export']\n",
    "for wod in range(len(woods)):\n",
    "    wood=woods[wod]\n",
    "    for yr in range(len(yrs)):\n",
    "        year=yrs[yr]\n",
    "        dx=df.set_index(['Element','Item','Reporter Countries','Partner Countries'])\\\n",
    "        .drop(['Reporter Country Code','Partner Country Code','Item Code',\n",
    "               'Element Code','Unit'],axis=1)[year].unstack(0)\n",
    "        dx['ep']=dx['Export Value']/dx['Export Quantity']\n",
    "        dx['ip']=dx['Import Value']/dx['Import Quantity']\n",
    "        dw=dx.loc[wood]\n",
    "        for ii in range(2):\n",
    "            dw=dx.loc[wood]\n",
    "            dw=dw.set_index(dw.index.swaplevel(0,1))[eip[ii]]\n",
    "            y=[]\n",
    "            for i in dw.index.levels[0]:\n",
    "                y.append(np.nanmedian(reject_outliers(np.array(dw.loc[i].values))))\n",
    "            z=np.array(y)[~pd.isnull(y)]\n",
    "            ax[ii][wod].hist(z,np.arange(0,1.4,0.05),alpha=alph[yr],label=year[1:])\n",
    "            ax[ii][wod].set_xlim(0,1.4)\n",
    "            ax[ii][wod].set_ylim(0,50)\n",
    "            w=np.nanmedian(reject_outliers(np.array(dw.loc['Romania'].values)))\n",
    "            ax[ii][wod].axvline(w,c=colors[yr],ls='--')\n",
    "            w=np.nanmedian(y)\n",
    "            ax[ii][wod].axvline(w,c=colors[yr],ls='-')\n",
    "            if ii!=1:\n",
    "                ax[ii][wod].set_xticklabels([])\n",
    "                ax[ii][wod].set_title(ti[wod],y=1.06)\n",
    "            else:\n",
    "                ax[ii][wod].set_xlabel(u'Ár ('+'$1000$ '+uni[wod]+')')\n",
    "            if wod!=0:\n",
    "                ax[ii][wod].set_yticklabels([])\n",
    "            else:\n",
    "                ax[ii][wod].set_ylabel(u'Országok száma\\n'+impex[ii]+u'-árak')\n",
    "            if wod==2 and ii==1:\n",
    "                if yr==1:\n",
    "                    ax[0][3].text(0.65,42,u'$←$'+u' Románia',color=colors[yr])\n",
    "                    ax[0][3].text(0.44,32,u'$←$'+u' Medián',color=colors[yr])\n",
    "                ax[0][0].legend(loc=0,framealpha=0,fontsize=10)\n",
    "plt.suptitle(u'A nemzetközi fakereskedelem árainak eloszlása országok szerint',y=1.06,fontsize=14)\n",
    "plt.show()"
   ]
  },
  {
   "cell_type": "markdown",
   "metadata": {},
   "source": [
    "Országonkénti mentés zip file-okba, amelyekbe json-okat csomagolunk"
   ]
  },
  {
   "cell_type": "code",
   "execution_count": 237,
   "metadata": {
    "collapsed": true
   },
   "outputs": [],
   "source": [
    "try:\n",
    "    import zlib\n",
    "    compression = zipfile.ZIP_DEFLATED\n",
    "except:\n",
    "    compression = zipfile.ZIP_STORED"
   ]
  },
  {
   "cell_type": "code",
   "execution_count": null,
   "metadata": {
    "collapsed": false
   },
   "outputs": [],
   "source": [
    "for c in data2:\n",
    "    file('dummy.json','w').write(json.dumps(data2[c])) \n",
    "    zf = zipfile.ZipFile('zips2/'+str(c)+'.zip', mode='w')\n",
    "    zf.write('dummy.json','data.json',compress_type=compression)\n",
    "    zf.close()"
   ]
  },
  {
   "cell_type": "markdown",
   "metadata": {},
   "source": [
    "Globális névjegyzékek és könyvtárak elkészítése"
   ]
  },
  {
   "cell_type": "code",
   "execution_count": null,
   "metadata": {
    "collapsed": false
   },
   "outputs": [],
   "source": [
    "file('json/countries2.json','w').write(json.dumps(data.keys())) "
   ]
  },
  {
   "cell_type": "code",
   "execution_count": null,
   "metadata": {
    "collapsed": false,
    "scrolled": true
   },
   "outputs": [],
   "source": [
    "file('json/data2.json','w').write(json.dumps(data)) "
   ]
  },
  {
   "cell_type": "code",
   "execution_count": null,
   "metadata": {
    "collapsed": false
   },
   "outputs": [],
   "source": [
    "cdict={}\n",
    "for i in df.T.iteritems():\n",
    "    if i[1][0] not in cdict:cdict[i[1][0]]=i[1][1]\n",
    "    if i[1][2] not in cdict:cdict[i[1][2]]=i[1][3]\n",
    "    if i[1][1] not in cdict:cdict[i[1][1]]=i[1][0]\n",
    "    if i[1][3] not in cdict:cdict[i[1][3]]=i[1][2]"
   ]
  },
  {
   "cell_type": "code",
   "execution_count": null,
   "metadata": {
    "collapsed": false
   },
   "outputs": [],
   "source": [
    "cdict[107]=u\"C\\xf4te d'Ivoire\"\n",
    "cdict[u\"C\\xf4te d'Ivoire\"]=cdict[\"C\\xf4te d'Ivoire\"]\n",
    "cdict.pop(\"C\\xf4te d'Ivoire\")"
   ]
  },
  {
   "cell_type": "code",
   "execution_count": null,
   "metadata": {
    "collapsed": false
   },
   "outputs": [],
   "source": [
    "cdict[182]=u'R\\xe9union'\n",
    "cdict[u'R\\xe9union']=cdict['R\\xe9union']\n",
    "cdict.pop('R\\xe9union')"
   ]
  },
  {
   "cell_type": "code",
   "execution_count": null,
   "metadata": {
    "collapsed": false
   },
   "outputs": [],
   "source": [
    "file('json/cdict2.json','w').write(json.dumps(cdict)) "
   ]
  },
  {
   "cell_type": "code",
   "execution_count": null,
   "metadata": {
    "collapsed": false
   },
   "outputs": [],
   "source": [
    "countries=[]\n",
    "for k in cdict:\n",
    "    try: int(k)\n",
    "    except: countries.append(k)\n",
    "file('json/countries2.json','w').write(json.dumps(countries)) "
   ]
  }
 ],
 "metadata": {
  "kernelspec": {
   "display_name": "Python [default]",
   "language": "python",
   "name": "python2"
  },
  "language_info": {
   "codemirror_mode": {
    "name": "ipython",
    "version": 2
   },
   "file_extension": ".py",
   "mimetype": "text/x-python",
   "name": "python",
   "nbconvert_exporter": "python",
   "pygments_lexer": "ipython2",
   "version": "2.7.13"
  }
 },
 "nbformat": 4,
 "nbformat_minor": 0
}
