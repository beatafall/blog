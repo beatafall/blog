{
 "cells": [
  {
   "cell_type": "markdown",
   "metadata": {},
   "source": [
    "## SZÉKELYDATA Erdők \n",
    "### Romániai megyék adat-betöltő és formázó munkafüzet"
   ]
  },
  {
   "cell_type": "code",
   "execution_count": 131,
   "metadata": {
    "collapsed": false
   },
   "outputs": [],
   "source": [
    "import numpy as np, requests, zipfile, StringIO, pandas as pd, json, copy\n",
    "\n",
    "#suppres warnings\n",
    "import warnings\n",
    "warnings.simplefilter(action = \"ignore\")"
   ]
  },
  {
   "cell_type": "code",
   "execution_count": 132,
   "metadata": {
    "collapsed": true
   },
   "outputs": [],
   "source": [
    "import matplotlib.pyplot as plt\n",
    "%matplotlib inline"
   ]
  },
  {
   "cell_type": "markdown",
   "metadata": {},
   "source": [
    "Model zip betöltése D3plus formátumra"
   ]
  },
  {
   "cell_type": "code",
   "execution_count": 133,
   "metadata": {
    "collapsed": false
   },
   "outputs": [],
   "source": [
    "z = zipfile.ZipFile('../zips2/183.zip')   #romania\n",
    "ro=json.loads(z.open('data.json').read())\n",
    "items=json.loads(file('../json/items.json').read())\n",
    "items2=json.loads(file('../json/items2.json').read())"
   ]
  },
  {
   "cell_type": "markdown",
   "metadata": {},
   "source": [
    "INSSE adatok betöltése - a kódok alapján megkereshetjük a fileokat az insse.ro adatbázisban"
   ]
  },
  {
   "cell_type": "code",
   "execution_count": 134,
   "metadata": {
    "collapsed": true
   },
   "outputs": [],
   "source": [
    "df=pd.read_csv('../db/exportPivot_AGR306ARO.csv') #production\n",
    "dfe=pd.read_csv('../db/exportPivot_EXP101JRO.csv') #exports\n",
    "dfi=pd.read_csv('../db/exportPivot_EXP102JRO.csv') #imports"
   ]
  },
  {
   "cell_type": "markdown",
   "metadata": {},
   "source": [
    "Formázás"
   ]
  },
  {
   "cell_type": "code",
   "execution_count": 135,
   "metadata": {
    "collapsed": false
   },
   "outputs": [],
   "source": [
    "dfe=dfe.set_index(['Judete',' Sectiuni si capitole conform Nomenclatorului Combinat (NC)',' Luni'])\n",
    "dfi=dfi.set_index(['Judete',' Sectiuni si capitole conform Nomenclatorului Combinat (NC)',' Luni'])"
   ]
  },
  {
   "cell_type": "code",
   "execution_count": 136,
   "metadata": {
    "collapsed": false
   },
   "outputs": [],
   "source": [
    "df=df.set_index(['Categorii de paduri',u' Macroregiuni  regiuni de dezvoltare si judete',u' Ani'])"
   ]
  },
  {
   "cell_type": "markdown",
   "metadata": {},
   "source": [
    "Romániai megyék részesedése a romániai fa-importban"
   ]
  },
  {
   "cell_type": "code",
   "execution_count": 137,
   "metadata": {
    "collapsed": false
   },
   "outputs": [],
   "source": [
    "dk=dfi.drop(dfi.columns[0],axis=1)\n",
    "de=dk.unstack(level=0)[u' Valoare']\n",
    "dz=de.T\n",
    "F=(dz[u' IX. Produse din lemn  exclusiv mobilier'])\n",
    "#F/=F.loc['T']\n",
    "L=(dz[u' X. Hirtie si articole din acestea'])\n",
    "#L/=L.loc['T']"
   ]
  },
  {
   "cell_type": "markdown",
   "metadata": {},
   "source": [
    "D3plus dátumformázó - havi frekvenciájú adatok"
   ]
  },
  {
   "cell_type": "code",
   "execution_count": 138,
   "metadata": {
    "collapsed": false
   },
   "outputs": [],
   "source": [
    "g=[]\n",
    "mc={'ian':'Jan',\n",
    "   'feb':'Feb',\n",
    "   'mar':'Mar',\n",
    "   'apr':'Apr',\n",
    "   'mai':'May',\n",
    "   'iun':'Jun',\n",
    "   'iul':'Jul',\n",
    "   'aug':'Aug',\n",
    "   'sep':'Sep',\n",
    "   'oct':'Oct',\n",
    "   'noi':'Nov',\n",
    "   'dec':'Dec'}\n",
    "for i in F:\n",
    "    for j in F[i].index:\n",
    "        v=F[i][j]*1.1#EUR/USD\n",
    "        if str(v)!='nan':\n",
    "            if j!='T':\n",
    "                #print i[6:9],i[-4:],j,v\n",
    "                g.append({\"flow\":u\"imp\",\"type\":u\"Fa\",\"year\":i[-4:]+'-'+mc[i[6:9]]+'-01',\"county\":j,\"v\":v})"
   ]
  },
  {
   "cell_type": "code",
   "execution_count": 139,
   "metadata": {
    "collapsed": false
   },
   "outputs": [],
   "source": [
    "for i in L:\n",
    "    for j in L[i].index:\n",
    "        v=L[i][j]*1.1#EUR/USD\n",
    "        if str(v)!='nan':\n",
    "            if j!='T':\n",
    "                #print i[6:9],i[-4:],j,v\n",
    "                g.append({\"flow\":u\"imp\",\"type\":u\"Papír\",\"year\":i[-4:]+'-'+mc[i[6:9]]+'-01',\"county\":j,\"v\":v})"
   ]
  },
  {
   "cell_type": "markdown",
   "metadata": {},
   "source": [
    "Romániai megyék részesedése a romániai fa-exportban"
   ]
  },
  {
   "cell_type": "code",
   "execution_count": 140,
   "metadata": {
    "collapsed": false
   },
   "outputs": [],
   "source": [
    "dk=dfe.drop(dfe.columns[0],axis=1)\n",
    "de=dk.unstack(level=0)[u' Valoare']\n",
    "dz=de.drop(' Total').T\n",
    "F=(dz[u' IX. Produse din lemn  exclusiv mobilier'])\n",
    "#F/=F.loc['T']\n",
    "L=(dz[u' X. Hirtie si articole din acestea'])\n",
    "#L/=L.loc['T']"
   ]
  },
  {
   "cell_type": "code",
   "execution_count": 141,
   "metadata": {
    "collapsed": false
   },
   "outputs": [],
   "source": [
    "for i in F:\n",
    "    for j in F[i].index:\n",
    "        v=F[i][j]*1.1#EUR/USD\n",
    "        if str(v)!='nan':\n",
    "            if j!='T':\n",
    "                #print i[6:9],i[-4:],j,v\n",
    "                g.append({\"flow\":u\"exp\",\"type\":u\"Fa\",\"year\":i[-4:]+'-'+mc[i[6:9]]+'-01',\"county\":j,\"v\":v})"
   ]
  },
  {
   "cell_type": "code",
   "execution_count": 142,
   "metadata": {
    "collapsed": false
   },
   "outputs": [],
   "source": [
    "for i in L:\n",
    "    for j in L[i].index:\n",
    "        v=L[i][j]*1.1#EUR/USD\n",
    "        if str(v)!='nan':\n",
    "            if j!='T':\n",
    "                #print i[6:9],i[-4:],j,v\n",
    "                g.append({\"flow\":u\"exp\",\"type\":u\"Papír\",\"year\":i[-4:]+'-'+mc[i[6:9]]+'-01',\"county\":j,\"v\":v})"
   ]
  },
  {
   "cell_type": "code",
   "execution_count": 143,
   "metadata": {
    "collapsed": true
   },
   "outputs": [],
   "source": [
    "file('../json/ro_impex.json','w').write(json.dumps(g))"
   ]
  },
  {
   "cell_type": "markdown",
   "metadata": {},
   "source": [
    "Romániai megyék részesedése a romániai fa-kitermelésben"
   ]
  },
  {
   "cell_type": "code",
   "execution_count": 144,
   "metadata": {
    "collapsed": false
   },
   "outputs": [],
   "source": [
    "dk=df.drop(df.columns[0],axis=1)\n",
    "de=dk.unstack(level=1)[' Valoare']\n",
    "de['T']=de.T.sum()\n",
    "dz=de.T\n",
    "F=(dz['Diverse specii moi']+dz['Rasinoase'])\n",
    "#F/=F.loc['T']\n",
    "L=(dz['Diverse specii tari']+dz['Fag']+dz['Stejar'])\n",
    "#L/=L.loc['T']"
   ]
  },
  {
   "cell_type": "code",
   "execution_count": 145,
   "metadata": {
    "collapsed": false
   },
   "outputs": [],
   "source": [
    "h=[]\n",
    "for i in F:\n",
    "    for j in F[i].index:\n",
    "        v=F[i][j]#*1000.0\n",
    "        if str(v)!='nan':\n",
    "            if j!='T':\n",
    "                #print int(i[6:]),j,v\n",
    "                h.append({\"flow\":u\"prod\",\"type\":u\"Fenyő\",\"year\":int(i[6:]),\"county\":j,\"v\":v})"
   ]
  },
  {
   "cell_type": "code",
   "execution_count": 146,
   "metadata": {
    "collapsed": false
   },
   "outputs": [],
   "source": [
    "for i in L:\n",
    "    for j in L[i].index:\n",
    "        v=L[i][j]#*1000.0\n",
    "        if str(v)!='nan':\n",
    "            if j!='T':\n",
    "                #print int(i[6:]),j,v\n",
    "                h.append({\"flow\":u\"prod\",\"type\":u\"Lombhullató\",\"year\":int(i[6:]),\"county\":j,\"v\":v})"
   ]
  },
  {
   "cell_type": "code",
   "execution_count": 147,
   "metadata": {
    "collapsed": false
   },
   "outputs": [],
   "source": [
    "file('../json/ro_prod.json','w').write(json.dumps(h))"
   ]
  },
  {
   "cell_type": "markdown",
   "metadata": {},
   "source": [
    "Adatok D3plus formátumban való elmentése"
   ]
  },
  {
   "cell_type": "code",
   "execution_count": 148,
   "metadata": {
    "collapsed": true
   },
   "outputs": [],
   "source": [
    "def reject_outliers(data, m = 2.):\n",
    "    d = np.abs(data - np.median(data))\n",
    "    mdev = np.median(d)\n",
    "    s = d/mdev if mdev else 0.\n",
    "    return data[s<m][data[s<m]>0]"
   ]
  },
  {
   "cell_type": "code",
   "execution_count": 149,
   "metadata": {
    "collapsed": false
   },
   "outputs": [],
   "source": [
    "s=[]\n",
    "for i in g:\n",
    "    k={}\n",
    "    k['item']=i['type']\n",
    "    k['partner']=i['county']\n",
    "    k['year']=i['year']\n",
    "    k['p']=i['v']\n",
    "    if i['flow']=='imp': #import\n",
    "        k['g']='f'\n",
    "        if k['item']=='Fa':\n",
    "            k['s']=i['v']*np.median(reject_outliers(np.array(items2['c'][str(min(2014,int(i['year'][:4])))]+\\\n",
    "                                     items2['nc'][str(min(2014,int(i['year'][:4])))])))\n",
    "        else:\n",
    "            k['s']=i['v']*np.median(reject_outliers(np.array(items2['pp'][str(min(2014,int(i['year'][:4])))])))\n",
    "    else: #export\n",
    "        k['g']='m'\n",
    "        if k['item']=='Fa':\n",
    "            k['s']=i['v']*np.median(reject_outliers(np.array(items['c'][str(min(2014,int(i['year'][:4])))]+\\\n",
    "                                     items['nc'][str(min(2014,int(i['year'][:4])))])))\n",
    "        else:\n",
    "            k['s']=i['v']*np.median(reject_outliers(np.array(items['pp'][str(min(2014,int(i['year'][:4])))])))\n",
    "    s.append(k)"
   ]
  },
  {
   "cell_type": "code",
   "execution_count": 150,
   "metadata": {
    "collapsed": false
   },
   "outputs": [],
   "source": [
    "w=[]\n",
    "for i in h:\n",
    "    k={}\n",
    "    k['item']=i['type']\n",
    "    k['partner']=i['county']\n",
    "    k['year']=i['year']\n",
    "    k['p']=i['v']*1000\n",
    "    if i['flow']=='imp': #import\n",
    "        k['g']='f'\n",
    "        if k['item']==u'Lombhullató':\n",
    "            k['s']=i['v']*1000*np.median(reject_outliers(np.array(items2['nc'][str(min(2014,max(1997,int(i['year']))))])))\n",
    "        else:\n",
    "            k['s']=i['v']*1000*np.median(reject_outliers(np.array(items2['c'][str(min(2014,max(1997,int(i['year']))))])))\n",
    "    else: #export\n",
    "        k['g']='m'\n",
    "        if k['item']==u'Lombhullató':\n",
    "            k['s']=i['v']*1000*np.median(reject_outliers(np.array(items['nc'][str(min(2014,max(1997,int(i['year']))))])))\n",
    "        else:\n",
    "            k['s']=i['v']*1000*np.median(reject_outliers(np.array(items['c'][str(min(2014,max(1997,int(i['year']))))])))\n",
    "    w.append(k)"
   ]
  },
  {
   "cell_type": "markdown",
   "metadata": {},
   "source": [
    "Globális JSON könyvtárak frissítése"
   ]
  },
  {
   "cell_type": "code",
   "execution_count": 151,
   "metadata": {
    "collapsed": true
   },
   "outputs": [],
   "source": [
    "try:\n",
    "    import zlib\n",
    "    compression = zipfile.ZIP_DEFLATED\n",
    "except:\n",
    "    compression = zipfile.ZIP_STORED"
   ]
  },
  {
   "cell_type": "code",
   "execution_count": 152,
   "metadata": {
    "collapsed": true
   },
   "outputs": [],
   "source": [
    "file('dummy.json','w').write(json.dumps(s)) \n",
    "zf = zipfile.ZipFile('../zips2/998.zip', mode='w')\n",
    "zf.write('dummy.json','data.json',compress_type=compression)\n",
    "zf.close()"
   ]
  },
  {
   "cell_type": "code",
   "execution_count": 153,
   "metadata": {
    "collapsed": true
   },
   "outputs": [],
   "source": [
    "file('dummy.json','w').write(json.dumps(w)) \n",
    "zf = zipfile.ZipFile('../zips2/997.zip', mode='w')\n",
    "zf.write('dummy.json','data.json',compress_type=compression)\n",
    "zf.close()"
   ]
  },
  {
   "cell_type": "code",
   "execution_count": 154,
   "metadata": {
    "collapsed": true
   },
   "outputs": [],
   "source": [
    "c=json.loads(file('../json/countries3.json').read())\n",
    "if u'Románia (megyék)' not in c:\n",
    "    c.append(u'Románia (megyék)')\n",
    "if u'Románia (kitermelés)' not in c:\n",
    "    c.append(u'Románia (kitermelés)')\n",
    "file('../json/countries4.json','w').write(json.dumps(c)) "
   ]
  },
  {
   "cell_type": "code",
   "execution_count": 155,
   "metadata": {
    "collapsed": false
   },
   "outputs": [],
   "source": [
    "d=json.loads(file('../json/cdict3.json').read())\n",
    "d[u'Románia (megyék)']=998\n",
    "d[u'998']=u'Románia (megyék)'\n",
    "d[u'Románia (kitermelés)']=997\n",
    "d[u'997']=u'Románia (kitermelés)'\n",
    "#for i in df.index.levels[1]:\n",
    "#    d[i.strip()]=i.strip()\n",
    "file('../json/cdict4.json','w').write(json.dumps(d)) "
   ]
  },
  {
   "cell_type": "markdown",
   "metadata": {},
   "source": [
    "Megye-címkék magyarítása"
   ]
  },
  {
   "cell_type": "code",
   "execution_count": 156,
   "metadata": {
    "collapsed": true
   },
   "outputs": [],
   "source": [
    "r={\" Alba\":u\"Fehér\",\n",
    "\" Arad\":\"Arad\",\n",
    "\" Arges\":u\"Argeș\",\n",
    "\" Bacau\":u\"Bákó\",\n",
    "\" Bihor\":u\"Bihar\",\n",
    "\" Bistrita-Nasaud\":\"Beszterce\",\n",
    "\" Botosani\":u\"Botoșani\",\n",
    "\" Braila\":u\"Brăila\",\n",
    "\" Brasov\":u\"Brassó\",\n",
    "\" Buzau\":u\"Buzău\",\n",
    "\" Calarasi\":u\"Călărași\",\n",
    "\" Caras-Severin\":u\"Krassó-Szörény\",\n",
    "\" Cluj\":u\"Kolozs\",\n",
    "\" Constanta\":\"Konstanca\",\n",
    "\" Covasna\":u\"Kovászna\",\n",
    "\" Dambovita\":u\"Dâmbovița\",\n",
    "\" Dolj\":\"Dolj\",\n",
    "\" Galati\":\"Galac\",\n",
    "\" Giurgiu\":\"Giurgiu\",\n",
    "\" Gorj\":\"Gorj\",\n",
    "\" Harghita\":\"Hargita\",\n",
    "\" Hunedoara\":\"Hunyad\",\n",
    "\" Ialomita\":u\"Ialomița\",\n",
    "\" Iasi\":u\"Iași\",\n",
    "\" Ilfov\":\"Ilfov\",\n",
    "\" Maramures\":u\"Máramaros\",\n",
    "\" Mehedinti\":u\"Mehedinți\",\n",
    "\" Municipiul Bucuresti\":\"Bukarest\",\n",
    "\" Mures\":\"Maros\",\n",
    "\" Neamt\":u\"Neamț\",\n",
    "\" Olt\":\"Olt\",\n",
    "\" Prahova\":\"Prahova\",\n",
    "\" Salaj\":u\"Szilágy\",\n",
    "\" Satu Mare\":u\"Szatmár\",\n",
    "\" Sibiu\":\"Szeben\",\n",
    "\" Suceava\":\"Suceava\",\n",
    "\" Teleorman\":\"Teleorman\",\n",
    "\" Timis\":\"Temes\",\n",
    "\" Tulcea\":\"Tulcea\",\n",
    "\" Valcea\":u\"Vâlcea\",\n",
    "\" Vaslui\":\"Vaslui\",\n",
    "\" Vrancea\":\"Vrancea\"}"
   ]
  },
  {
   "cell_type": "code",
   "execution_count": 157,
   "metadata": {
    "collapsed": false
   },
   "outputs": [],
   "source": [
    "e=json.loads(file('../json/hnames3.json').read())\n",
    "e[u'Románia (megyék)']=u'Románia (megyék)'\n",
    "e[u'Románia (kitermelés)']=u'Románia (kitermelés)'\n",
    "for i in df.index.levels[1]:\n",
    "    e[i.strip()]=r[i]\n",
    "    e[i]=r[i]\n",
    "file('../json/hnames4.json','w').write(json.dumps(e)) "
   ]
  }
 ],
 "metadata": {
  "kernelspec": {
   "display_name": "Python [default]",
   "language": "python",
   "name": "python2"
  },
  "language_info": {
   "codemirror_mode": {
    "name": "ipython",
    "version": 2
   },
   "file_extension": ".py",
   "mimetype": "text/x-python",
   "name": "python",
   "nbconvert_exporter": "python",
   "pygments_lexer": "ipython2",
   "version": "2.7.13"
  }
 },
 "nbformat": 4,
 "nbformat_minor": 0
}
