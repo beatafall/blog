{
 "cells": [
  {
   "cell_type": "code",
   "execution_count": 23,
   "metadata": {
    "collapsed": false
   },
   "outputs": [],
   "source": [
    "import numpy as np, requests, zipfile, StringIO, pandas as pd, json, copy\n",
    "\n",
    "#suppres warnings\n",
    "import warnings\n",
    "warnings.simplefilter(action = \"ignore\")"
   ]
  },
  {
   "cell_type": "code",
   "execution_count": 24,
   "metadata": {
    "collapsed": true
   },
   "outputs": [],
   "source": [
    "import matplotlib.pyplot as plt\n",
    "%matplotlib inline"
   ]
  },
  {
   "cell_type": "code",
   "execution_count": 81,
   "metadata": {
    "collapsed": false
   },
   "outputs": [],
   "source": [
    "z = zipfile.ZipFile('../zips2/183.zip')   #romania\n",
    "ro=json.loads(z.open('data.json').read())"
   ]
  },
  {
   "cell_type": "code",
   "execution_count": 82,
   "metadata": {
    "collapsed": true
   },
   "outputs": [],
   "source": [
    "df=pd.read_csv('../db/exportPivot_AGR306A.csv')\n",
    "dfe=pd.read_csv('../db/exportPivot_EXP101J.csv') #exports\n",
    "dfi=pd.read_csv('../db/exportPivot_EXP102J.csv') #imports"
   ]
  },
  {
   "cell_type": "code",
   "execution_count": 83,
   "metadata": {
    "collapsed": false
   },
   "outputs": [],
   "source": [
    "dfe=dfe.set_index(['Judete',' Sectiuni si capitole conform Nomenclatorului Combinat (NC)',' Luni'])"
   ]
  },
  {
   "cell_type": "code",
   "execution_count": 84,
   "metadata": {
    "collapsed": false
   },
   "outputs": [
    {
     "name": "stdout",
     "output_type": "stream",
     "text": [
      " Luna ianuarie 2011 HR 0.0224271935574 CV 0.00655492087274 MS 0.0333270905515\n",
      " Luna februarie 2011 HR 0.0254174397032 CV 0.00856215213358 MS 0.0292764378479\n",
      " Luna martie 2011 HR 0.0226030626995 CV 0.00759877244653 MS 0.0313381724295\n",
      " Luna aprilie 2011 HR 0.0267161963831 CV 0.00700657540153 MS 0.0240876941319\n",
      " Luna mai 2011 HR 0.0307033677439 CV 0.00655078225889 MS 0.0421691933224\n",
      " Luna iunie 2011 HR 0.0268270261989 CV 0.00803585108013 MS 0.0258771257852\n",
      " Luna iulie 2011 HR 0.0291695937005 CV 0.00733528287399 MS 0.0374524186829\n",
      " Luna august 2011 HR 0.0215815556992 CV 0.00483516483516 MS 0.0414565826331\n",
      " Luna septembrie 2011 HR 0.0255098426591 CV 0.00680839676031 MS 0.0250297129454\n",
      " Luna octombrie 2011 HR 0.0269194810814 CV 0.00546270755584 MS 0.0394906624016\n",
      " Luna noiembrie 2011 HR 0.0247022907879 CV 0.0057949399144 MS 0.0322994104076\n",
      " Luna decembrie 2011 HR 0.0202294174154 CV 0.00762841159519 MS 0.029317586785\n",
      " Luna ianuarie 2012 HR 0.0173826479822 CV 0.00602394261939 MS 0.0247679335665\n",
      " Luna februarie 2012 HR 0.0213020052214 CV 0.00610083504601 MS 0.0254679775593\n",
      " Luna martie 2012 HR 0.015716680637 CV 0.00572560365573 MS 0.0324067814942\n",
      " Luna aprilie 2012 HR 0.0230295995357 CV 0.00573418456181 MS 0.0260166376475\n",
      " Luna mai 2012 HR 0.0194496393267 CV 0.00585092172055 MS 0.0257280256479\n",
      " Luna iunie 2012 HR 0.0225765632455 CV 0.00602272177238 MS 0.0318146301662\n",
      " Luna iulie 2012 HR 0.0248406787334 CV 0.00524115687398 MS 0.0435419186454\n",
      " Luna august 2012 HR 0.02309631325 CV 0.0044769887418 MS 0.0443059507609\n",
      " Luna septembrie 2012 HR 0.0276807868891 CV 0.00395970461941 MS 0.0442105106756\n",
      " Luna octombrie 2012 HR 0.029395750332 CV 0.00440239043825 MS 0.0365338645418\n",
      " Luna noiembrie 2012 HR 0.0206289223294 CV 0.00539847493083 MS 0.0467440448073\n",
      " Luna decembrie 2012 HR 0.0190066136979 CV 0.00569044342847 MS 0.0595144036575\n",
      " Luna ianuarie 2013 HR 0.0242325602423 CV 0.00612595506126 MS 0.0370269903703\n",
      " Luna februarie 2013 HR 0.0216503889964 CV 0.00691710351728 MS 0.0337951986311\n",
      " Luna martie 2013 HR 0.0211270157637 CV 0.00671015280546 MS 0.0475448450806\n",
      " Luna aprilie 2013 HR 0.021780825985 CV 0.00619340280871 MS 0.041441762418\n",
      " Luna mai 2013 HR 0.0242958761896 CV 0.00674685186965 MS 0.048958233202\n",
      " Luna iunie 2013 HR 0.0233000917864 CV 0.00669792364367 MS 0.0444977797623\n",
      " Luna iulie 2013 HR 0.0231212221626 CV 0.00553606727836 MS 0.0551207194031\n",
      " Luna august 2013 HR 0.0227467924578 CV 0.00537122923851 MS 0.0546041939192\n",
      " Luna septembrie 2013 HR 0.0261420797726 CV 0.00497410101539 MS 0.0558744880977\n",
      " Luna octombrie 2013 HR 0.0251061207329 CV 0.00628948929577 MS 0.0456218358167\n",
      " Luna noiembrie 2013 HR 0.025725442156 CV 0.00655258658092 MS 0.0590562233622\n",
      " Luna decembrie 2013 HR 0.0198799556524 CV 0.00530641893183 MS 0.0508926864702\n",
      " Luna ianuarie 2014 HR 0.0248313874405 CV 0.00817558376785 MS 0.0625070845613\n",
      " Luna februarie 2014 HR 0.020187160577 CV 0.00732311122056 MS 0.0531606029578\n",
      " Luna martie 2014 HR 0.0200751726348 CV 0.00712683196877 MS 0.0502899099677\n",
      " Luna aprilie 2014 HR 0.0204521054515 CV 0.0066086126685 MS 0.0492604079685\n",
      " Luna mai 2014 HR 0.0232729128815 CV 0.00777789255571 MS 0.048696899173\n",
      " Luna iunie 2014 HR 0.0213977203817 CV 0.00730170909496 MS 0.044422855587\n",
      " Luna iulie 2014 HR 0.0220302587225 CV 0.0067846589623 MS 0.0511388316193\n",
      " Luna august 2014 HR 0.0239906020916 CV 0.00726202009261 MS 0.0572646899529\n",
      " Luna septembrie 2014 HR 0.0284905625012 CV 0.00792862364342 MS 0.0551254896815\n",
      " Luna octombrie 2014 HR 0.0236894207851 CV 0.00693594965762 MS 0.048848001816\n",
      " Luna noiembrie 2014 HR 0.0247485396288 CV 0.00721717189174 MS 0.0525664512115\n",
      " Luna decembrie 2014 HR 0.0221377066479 CV 0.00880818384336 MS 0.0522921796225\n",
      " Luna ianuarie 2015 HR 0.0239824743457 CV 0.00950507321573 MS 0.0358007609824\n",
      " Luna februarie 2015 HR 0.0261952331941 CV 0.0115907516162 MS 0.0569110613308\n",
      " Luna martie 2015 HR 0.0277933548297 CV 0.0105378756017 MS 0.0440908453666\n",
      " Luna aprilie 2015 HR 0.024024385836 CV 0.00897601175918 MS 0.0435065482717\n",
      " Luna mai 2015 HR 0.0281244256843 CV 0.00834128729717 MS 0.0475815009574\n",
      " Luna iunie 2015 HR 0.0282860521598 CV 0.00799816894066 MS 0.04902534237\n",
      " Luna iulie 2015 HR 0.0265389308944 CV 0.00739743605873 MS 0.0547951237309\n",
      " Luna august 2015 HR 0.028574188132 CV 0.00547560495405 MS 0.0558481986969\n",
      " Luna septembrie 2015 HR 0.0337950641603 CV 0.0070761471671 MS 0.0693434481024\n",
      " Luna octombrie 2015 HR 0.0301896785726 CV 0.00742162931577 MS 0.0561422092754\n",
      " Luna noiembrie 2015 HR 0.0293392487513 CV 0.00768627561798 MS 0.0679401770387\n",
      " Luna decembrie 2015 HR 0.0259722125253 CV 0.00882031231818 MS 0.0717804308533\n",
      " Luna ianuarie 2016 HR 0.030836160447 CV 0.00831770105767 MS 0.0461624426262\n",
      " Luna februarie 2016 HR 0.0303034698851 CV 0.00797841476152 MS 0.06973859812\n",
      " Luna martie 2016 HR 0.0281013760439 CV 0.00991464042112 MS 0.0522118289642\n",
      " Luna aprilie 2016 HR 0.0316446538931 CV 0.00968010858257 MS 0.0584182495883\n",
      " Luna mai 2016 HR 0.0348571310851 CV 0.00923617835095 MS 0.0520247488378\n",
      " Luna iunie 2016 HR 0.032906018948 CV 0.00800511652751 MS 0.0588611509376\n",
      " Luna iulie 2016 HR 0.0298795033335 CV 0.00815034558689 MS 0.058841519359\n",
      " Luna august 2016 HR 0.0321754442132 CV 0.00708149435539 MS 0.056621464017\n",
      " Luna septembrie 2016 HR 0.0318455330088 CV 0.00813551046199 MS 0.0520012063246\n",
      " Luna octombrie 2016 HR 0.0343886502821 CV 0.00824595933359 MS 0.0524170831108\n",
      " Luna noiembrie 2016 HR 0.0301718410138 CV 0.00830180233737 MS 0.0562242535722\n",
      " Luna decembrie 2016 HR 0.0243680812211 CV 0.00874594811844 MS 0.0691899731768\n"
     ]
    }
   ],
   "source": [
    "#u' IX. Produse din lemn  exclusiv mobilier', u' X. Hirtie si articole din acestea'\n",
    "for i in dfe.loc['TOTAL'].loc[' IX. Produse din lemn  exclusiv mobilier'].T:\n",
    "    print i,'HR',1.0*dfe.loc['Harghita'].loc[' IX. Produse din lemn  exclusiv mobilier'].loc[i][' Valoare']/\\\n",
    "    dfe.loc['TOTAL'].loc[' IX. Produse din lemn  exclusiv mobilier'].loc[i][' Valoare'],\n",
    "    print 'CV',1.0*dfe.loc['Covasna'].loc[' IX. Produse din lemn  exclusiv mobilier'].loc[i][' Valoare']/\\\n",
    "    dfe.loc['TOTAL'].loc[' IX. Produse din lemn  exclusiv mobilier'].loc[i][' Valoare'],\n",
    "    print 'MS',1.0*dfe.loc['Mures'].loc[' IX. Produse din lemn  exclusiv mobilier'].loc[i][' Valoare']/\\\n",
    "    dfe.loc['TOTAL'].loc[' IX. Produse din lemn  exclusiv mobilier'].loc[i][' Valoare']"
   ]
  },
  {
   "cell_type": "code",
   "execution_count": 85,
   "metadata": {
    "collapsed": true
   },
   "outputs": [],
   "source": [
    "dfi=dfi.set_index(['Judete',' Sectiuni si capitole conform Nomenclatorului Combinat (NC)',' Luni'])"
   ]
  },
  {
   "cell_type": "code",
   "execution_count": 86,
   "metadata": {
    "collapsed": false
   },
   "outputs": [
    {
     "name": "stdout",
     "output_type": "stream",
     "text": [
      " Luna ianuarie 2011 HR 0.0150882392564 CV 0.00462526381966 MS 0.0258655530109\n",
      " Luna februarie 2011 HR 0.00908192734458 CV 0.00581395348837 MS 0.0185058519532\n",
      " Luna martie 2011 HR 0.0118738404453 CV 0.00485748018216 MS 0.0129532804857\n",
      " Luna aprilie 2011 HR 0.0143393192174 CV 0.00412087912088 MS 0.0169525596355\n",
      " Luna mai 2011 HR 0.0183294525046 CV 0.0061794734014 MS 0.0148068541405\n",
      " Luna iunie 2011 HR 0.0146931202681 CV 0.00389023550887 MS 0.0188826046623\n",
      " Luna iulie 2011 HR 0.0158473383062 CV 0.00281597315838 MS 0.0128815793415\n",
      " Luna august 2011 HR 0.0103055555556 CV 0.0035 MS 0.0214444444444\n",
      " Luna septembrie 2011 HR 0.0122058196947 CV 0.00446126469335 MS 0.0166169578185\n",
      " Luna octombrie 2011 HR 0.0146171758831 CV 0.00325449597396 MS 0.0188255758494\n",
      " Luna noiembrie 2011 HR 0.0131207633899 CV 0.00648765019056 MS 0.0224885811538\n",
      " Luna decembrie 2011 HR 0.0112385321101 CV 0.00416666666667 MS 0.015252293578\n",
      " Luna ianuarie 2012 HR 0.0148837627591 CV 0.00490129951886 MS 0.0161428121768\n",
      " Luna februarie 2012 HR 0.0168757298376 CV 0.00241081854824 MS 0.0150299468867\n",
      " Luna martie 2012 HR 0.0103677687346 CV 0.00466043024552 MS 0.0140488332039\n",
      " Luna aprilie 2012 HR 0.0111161731207 CV 0.00361427486712 MS 0.00920273348519\n",
      " Luna mai 2012 HR 0.00918192525966 CV 0.00364064675019 MS 0.0127958025485\n",
      " Luna iunie 2012 HR 0.0127011511348 CV 0.00464023320146 MS 0.0322734168179\n",
      " Luna iulie 2012 HR 0.0107425399028 CV 0.00607911172797 MS 0.0215405968078\n",
      " Luna august 2012 HR 0.0106688154714 CV 0.00467365028203 MS 0.0234004834811\n",
      " Luna septembrie 2012 HR 0.0145927463671 CV 0.00644156795702 MS 0.0149590914642\n",
      " Luna octombrie 2012 HR 0.0156167702518 CV 0.00821658063837 MS 0.0116664910987\n",
      " Luna noiembrie 2012 HR 0.0124338375771 CV 0.00873813774312 MS 0.00914529111466\n",
      " Luna decembrie 2012 HR 0.0154541026436 CV 0.00633219678519 MS 0.010184652172\n",
      " Luna ianuarie 2013 HR 0.0117589416952 CV 0.00649191572758 MS 0.00922750285808\n",
      " Luna februarie 2013 HR 0.0123246629443 CV 0.00606019338145 MS 0.0120522947024\n",
      " Luna martie 2013 HR 0.0179039602594 CV 0.00827928798123 MS 0.00883124051332\n",
      " Luna aprilie 2013 HR 0.0117710648009 CV 0.00507477028407 MS 0.00960903249054\n",
      " Luna mai 2013 HR 0.0129832844201 CV 0.00446599464081 MS 0.0106545872145\n",
      " Luna iunie 2013 HR 0.0121665465032 CV 0.00561763999039 MS 0.0105443403028\n",
      " Luna iulie 2013 HR 0.00989881817434 CV 0.00479859606789 MS 0.0110779017796\n",
      " Luna august 2013 HR 0.00581333333333 CV 0.00312 MS 0.00762666666667\n",
      " Luna septembrie 2013 HR 0.011824685031 CV 0.00557868887465 MS 0.0107836856716\n",
      " Luna octombrie 2013 HR 0.0134219373818 CV 0.00480668207607 MS 0.0217220004203\n",
      " Luna noiembrie 2013 HR 0.0117330725984 CV 0.00672207284283 MS 0.0118247372281\n",
      " Luna decembrie 2013 HR 0.0131701715352 CV 0.00383980478002 MS 0.0120577047298\n",
      " Luna ianuarie 2014 HR 0.0126795963537 CV 0.00956596766328 MS 0.0100161308474\n",
      " Luna februarie 2014 HR 0.0141433719979 CV 0.0054514067658 MS 0.0135376601351\n",
      " Luna martie 2014 HR 0.0110951536144 CV 0.00566021796063 MS 0.0114049167863\n",
      " Luna aprilie 2014 HR 0.0127064135885 CV 0.00367540888924 MS 0.00963482187393\n",
      " Luna mai 2014 HR 0.0142202312741 CV 0.00369830190645 MS 0.00984477549745\n",
      " Luna iunie 2014 HR 0.010272619518 CV 0.00434610825761 MS 0.0101935993678\n",
      " Luna iulie 2014 HR 0.01146007423 CV 0.00475332624314 MS 0.00996245089315\n",
      " Luna august 2014 HR 0.0103006213962 CV 0.00380675138555 MS 0.00962884173991\n",
      " Luna septembrie 2014 HR 0.00837772510736 CV 0.00603102339662 MS 0.0108886959379\n",
      " Luna octombrie 2014 HR 0.0147822023268 CV 0.00669011486337 MS 0.0223823695797\n",
      " Luna noiembrie 2014 HR 0.00898351648352 CV 0.00714285714286 MS 0.0165659340659\n",
      " Luna decembrie 2014 HR 0.0106129221834 CV 0.00649911847063 MS 0.0079510491928\n",
      " Luna ianuarie 2015 HR 0.0227017841971 CV 0.00645709430756 MS 0.0125743415463\n",
      " Luna februarie 2015 HR 0.012751201398 CV 0.00494211446046 MS 0.00813674093491\n",
      " Luna martie 2015 HR 0.0125846442338 CV 0.00433378476925 MS 0.00960516720492\n",
      " Luna aprilie 2015 HR 0.0127716499659 CV 0.00615866124839 MS 0.01060097428\n",
      " Luna mai 2015 HR 0.0133584239383 CV 0.00413530341046 MS 0.0101988662764\n",
      " Luna iunie 2015 HR 0.0101696328096 CV 0.00277164172884 MS 0.0101487933981\n",
      " Luna iulie 2015 HR 0.00961747338902 CV 0.00349546774098 MS 0.00957797657839\n",
      " Luna august 2015 HR 0.00920786815524 CV 0.00318979266348 MS 0.010653907496\n",
      " Luna septembrie 2015 HR 0.0100184601185 CV 0.00467271748327 MS 0.0167871702177\n",
      " Luna octombrie 2015 HR 0.0164782758691 CV 0.00551981654727 MS 0.0148953873004\n",
      " Luna noiembrie 2015 HR 0.015597772961 CV 0.00663011602703 MS 0.0140252454418\n",
      " Luna decembrie 2015 HR 0.0132198392696 CV 0.00437491083741 MS 0.0144086737363\n",
      " Luna ianuarie 2016 HR 0.0183323163452 CV 0.00711007348845 MS 0.0137691348526\n",
      " Luna februarie 2016 HR 0.0184867045115 CV 0.00655437705408 MS 0.0363011652226\n",
      " Luna martie 2016 HR 0.0199618607743 CV 0.00778530065257 MS 0.0250529225494\n",
      " Luna aprilie 2016 HR 0.016562014957 CV 0.00672005079723 MS 0.020900945393\n",
      " Luna mai 2016 HR 0.0202792011443 CV 0.00622861178004 MS 0.0319940610911\n",
      " Luna iunie 2016 HR 0.0183997476606 CV 0.0060631549434 MS 0.0162093015105\n",
      " Luna iulie 2016 HR 0.0175940926045 CV 0.00608446671439 MS 0.0151263986738\n",
      " Luna august 2016 HR 0.0142949513308 CV 0.00517274522482 MS 0.0219841672055\n",
      " Luna septembrie 2016 HR 0.022097631037 CV 0.00546816868262 MS 0.0176158092371\n",
      " Luna octombrie 2016 HR 0.0247827785737 CV 0.00638175153962 MS 0.0201871732376\n",
      " Luna noiembrie 2016 HR 0.0229986152176 CV 0.00782214903252 MS 0.0272091021371\n",
      " Luna decembrie 2016 HR 0.0147495755518 CV 0.00560271646859 MS 0.017253820034\n"
     ]
    }
   ],
   "source": [
    "#u' IX. Produse din lemn  exclusiv mobilier', u' X. Hirtie si articole din acestea'\n",
    "for i in dfi.loc['TOTAL'].loc[' IX. Produse din lemn  exclusiv mobilier'].T:\n",
    "    print i,'HR',1.0*dfi.loc['Harghita'].loc[' IX. Produse din lemn  exclusiv mobilier'].loc[i][' Valoare']/\\\n",
    "    dfi.loc['TOTAL'].loc[' IX. Produse din lemn  exclusiv mobilier'].loc[i][' Valoare'],\n",
    "    print 'CV',1.0*dfi.loc['Covasna'].loc[' IX. Produse din lemn  exclusiv mobilier'].loc[i][' Valoare']/\\\n",
    "    dfi.loc['TOTAL'].loc[' IX. Produse din lemn  exclusiv mobilier'].loc[i][' Valoare'],\n",
    "    print 'MS',1.0*dfi.loc['Mures'].loc[' IX. Produse din lemn  exclusiv mobilier'].loc[i][' Valoare']/\\\n",
    "    dfi.loc['TOTAL'].loc[' IX. Produse din lemn  exclusiv mobilier'].loc[i][' Valoare']"
   ]
  },
  {
   "cell_type": "code",
   "execution_count": 87,
   "metadata": {
    "collapsed": false
   },
   "outputs": [],
   "source": [
    "df=df.set_index(['Categorii de paduri',u' Macroregiuni  regiuni de dezvoltare si judete',u' Ani'])"
   ]
  },
  {
   "cell_type": "code",
   "execution_count": 88,
   "metadata": {
    "collapsed": false
   },
   "outputs": [
    {
     "name": "stdout",
     "output_type": "stream",
     "text": [
      " Anul 1990 HR 0.0630788635954 CV 0.0285302420566 MS 0.0431377259895\n",
      " Anul 1991 HR 0.0564670841706 CV 0.0266955407717 MS 0.0441240546007\n",
      " Anul 1992 HR 0.0503491847732 CV 0.0319432982184 MS 0.0414791286678\n",
      " Anul 1993 HR 0.0466348311713 CV 0.0302191940077 MS 0.0376948943027\n",
      " Anul 1994 HR 0.045201319724 CV 0.0345616244659 MS 0.0339821203669\n",
      " Anul 1995 HR 0.0938049765795 CV 0.040578597957 MS 0.0396446748282\n",
      " Anul 1996 HR 0.0582978119744 CV 0.0995859031432 MS 0.0384711517027\n",
      " Anul 1997 HR 0.0885136299411 CV 0.0796085053589 MS 0.0427266774649\n",
      " Anul 1998 HR 0.094249327638 CV 0.0518747033697 MS 0.0415045087803\n",
      " Anul 1999 HR 0.0897864864668 CV 0.0362440862802 MS 0.0414197301376\n",
      " Anul 2000 HR 0.0792106239543 CV 0.0326713196637 MS 0.0399518365804\n",
      " Anul 2001 HR 0.0543462860637 CV 0.0265169310157 MS 0.0464120862322\n",
      " Anul 2002 HR 0.0605868242274 CV 0.0216381515098 MS 0.0300797773315\n",
      " Anul 2003 HR 0.0602162777462 CV 0.0253602132822 MS 0.0385046281041\n",
      " Anul 2004 HR 0.0565562782094 CV 0.0325311290766 MS 0.0447368883217\n",
      " Anul 2005 HR 0.0678884329953 CV 0.0348088544026 MS 0.0493130754947\n",
      " Anul 2006 HR 0.0609028309105 CV 0.0295077786279 MS 0.0484315225708\n",
      " Anul 2007 HR 0.0679967048777 CV 0.0281593725345 MS 0.0534877245092\n",
      " Anul 2008 HR 0.076565736384 CV 0.0265555595465 MS 0.0403661266956\n",
      " Anul 2009 HR 0.0588865550034 CV 0.0300062349046 MS 0.0428997754224\n",
      " Anul 2010 HR 0.0588408390028 CV 0.0301089950328 MS 0.0326337719814\n",
      " Anul 2011 HR 0.0551296444801 CV 0.0291526329858 MS 0.0468965517241\n",
      " Anul 2012 HR 0.0515638429449 CV 0.0302077437478 MS 0.0424134750435\n",
      " Anul 2013 HR 0.056814351134 CV 0.0324757158193 MS 0.0412818105912\n",
      " Anul 2014 HR 0.058291828076 CV 0.0353786900549 MS 0.0472181695203\n",
      " Anul 2015 HR 0.057083455118 CV 0.0298845757206 MS 0.030970986759\n"
     ]
    }
   ],
   "source": [
    "for i in df.loc['Total'].loc[' TOTAL'].T:\n",
    "    print i,'HR',1.0*df.loc['Total'].loc[' Harghita'].loc[i][' Valoare']/\\\n",
    "    df.loc['Total'].loc[' TOTAL'].loc[i][' Valoare'],\n",
    "    print 'CV',1.0*df.loc['Total'].loc[' Covasna'].loc[i][' Valoare']/\\\n",
    "    df.loc['Total'].loc[' TOTAL'].loc[i][' Valoare'],\n",
    "    print 'MS',1.0*df.loc['Total'].loc[' Mures'].loc[i][' Valoare']/\\\n",
    "    df.loc['Total'].loc[' TOTAL'].loc[i][' Valoare']"
   ]
  },
  {
   "cell_type": "markdown",
   "metadata": {},
   "source": [
    "SZF Multiplier"
   ]
  },
  {
   "cell_type": "code",
   "execution_count": 89,
   "metadata": {
    "collapsed": false
   },
   "outputs": [
    {
     "name": "stdout",
     "output_type": "stream",
     "text": [
      "0.344787012213\n"
     ]
    }
   ],
   "source": [
    "#szekelyland territory ratios (km2)\n",
    "#harghita county\n",
    "hr=6639\n",
    "#covasna county\n",
    "cv=3710\n",
    "#mures county\n",
    "ms=6714\n",
    "#szekelyland\n",
    "szf=12000\n",
    "hr_mul=0.9\n",
    "mr_mul=(szf-hr_mul*hr-cv)*1.0/ms\n",
    "print mr_mul"
   ]
  },
  {
   "cell_type": "markdown",
   "metadata": {},
   "source": [
    "Production"
   ]
  },
  {
   "cell_type": "code",
   "execution_count": 90,
   "metadata": {
    "collapsed": false
   },
   "outputs": [],
   "source": [
    "df=df.drop(df.columns[0],axis=1)"
   ]
  },
  {
   "cell_type": "code",
   "execution_count": 91,
   "metadata": {
    "collapsed": false
   },
   "outputs": [],
   "source": [
    "de=df.unstack(level=1)[' Valoare']"
   ]
  },
  {
   "cell_type": "code",
   "execution_count": 92,
   "metadata": {
    "collapsed": false
   },
   "outputs": [],
   "source": [
    "de['szf']=de[' Covasna']+hr_mul*de[' Harghita']+mr_mul*de[' Mures']"
   ]
  },
  {
   "cell_type": "code",
   "execution_count": 93,
   "metadata": {
    "collapsed": false
   },
   "outputs": [
    {
     "data": {
      "text/plain": [
       "Index([u'Diverse specii moi', u'Diverse specii tari', u'Fag', u'Rasinoase',\n",
       "       u'Stejar', u'Total'],\n",
       "      dtype='object', name=u'Categorii de paduri')"
      ]
     },
     "execution_count": 93,
     "metadata": {},
     "output_type": "execute_result"
    }
   ],
   "source": [
    "de.index.levels[0]"
   ]
  },
  {
   "cell_type": "code",
   "execution_count": 94,
   "metadata": {
    "collapsed": false
   },
   "outputs": [],
   "source": [
    "exp_c={}\n",
    "for i in de.loc['Total'].T:\n",
    "    y=int(i[5:])\n",
    "    exp_c[y]=(1.0*de.loc['Rasinoase'].loc[i]['szf']+\\\n",
    "             1.0*de.loc[u'Diverse specii moi'].loc[i]['szf'])/\\\n",
    "            (de.loc['Rasinoase'].loc[i][' TOTAL']+\\\n",
    "             de.loc[u'Diverse specii moi'].loc[i][' TOTAL'])"
   ]
  },
  {
   "cell_type": "code",
   "execution_count": 95,
   "metadata": {
    "collapsed": false
   },
   "outputs": [],
   "source": [
    "exp_nc={}\n",
    "for i in de.loc['Total'].T:\n",
    "    y=int(i[5:])\n",
    "    exp_nc[y]=(1.0*de.loc['Stejar'].loc[i]['szf']+\\\n",
    "             1.0*de.loc[u'Fag'].loc[i]['szf']+\\\n",
    "             1.0*de.loc[u'Diverse specii tari'].loc[i]['szf'])/\\\n",
    "            (de.loc['Stejar'].loc[i][' TOTAL']+\\\n",
    "             de.loc['Fag'].loc[i][' TOTAL']+\\\n",
    "             de.loc[u'Diverse specii tari'].loc[i][' TOTAL'])"
   ]
  },
  {
   "cell_type": "markdown",
   "metadata": {},
   "source": [
    "Exports"
   ]
  },
  {
   "cell_type": "code",
   "execution_count": 96,
   "metadata": {
    "collapsed": false
   },
   "outputs": [],
   "source": [
    "dfe=dfe.drop(dfe.columns[0],axis=1)"
   ]
  },
  {
   "cell_type": "code",
   "execution_count": 97,
   "metadata": {
    "collapsed": false
   },
   "outputs": [],
   "source": [
    "dee=dfe.unstack(level=0)[' Valoare']"
   ]
  },
  {
   "cell_type": "code",
   "execution_count": 98,
   "metadata": {
    "collapsed": true
   },
   "outputs": [],
   "source": [
    "dee['szf']=dee['Covasna']+hr_mul*dee['Harghita']+mr_mul*dee['Mures']"
   ]
  },
  {
   "cell_type": "code",
   "execution_count": 99,
   "metadata": {
    "collapsed": true
   },
   "outputs": [],
   "source": [
    "#u' IX. Produse din lemn  exclusiv mobilier', u' X. Hirtie si articole din acestea'\n",
    "exp_nonp={}\n",
    "for i in dee.loc[u' IX. Produse din lemn  exclusiv mobilier'].T:\n",
    "    y=int(i[-4:])\n",
    "    if y not in exp_nonp:exp_nonp[y]=0\n",
    "    exp_nonp[y]+=1.0/12*dee.loc[u' IX. Produse din lemn  exclusiv mobilier'].loc[i]['szf']/\\\n",
    "                    dee.loc[u' IX. Produse din lemn  exclusiv mobilier'].loc[i]['TOTAL']"
   ]
  },
  {
   "cell_type": "code",
   "execution_count": 100,
   "metadata": {
    "collapsed": true
   },
   "outputs": [],
   "source": [
    "#u' IX. Produse din lemn  exclusiv mobilier', u' X. Hirtie si articole din acestea'\n",
    "exp_pap={}\n",
    "for i in dee.loc[u' X. Hirtie si articole din acestea'].T:\n",
    "    y=int(i[-4:])\n",
    "    if y not in exp_pap:exp_pap[y]=0\n",
    "    exp_pap[y]+=1.0/12*dee.loc[u' X. Hirtie si articole din acestea'].loc[i]['szf']/\\\n",
    "                    dee.loc[u' X. Hirtie si articole din acestea'].loc[i]['TOTAL']"
   ]
  },
  {
   "cell_type": "code",
   "execution_count": 101,
   "metadata": {
    "collapsed": true
   },
   "outputs": [],
   "source": [
    "miny2=min(exp_pap)"
   ]
  },
  {
   "cell_type": "markdown",
   "metadata": {},
   "source": [
    "Imports"
   ]
  },
  {
   "cell_type": "code",
   "execution_count": 102,
   "metadata": {
    "collapsed": false
   },
   "outputs": [],
   "source": [
    "dfi=dfi.drop(dfi.columns[0],axis=1)"
   ]
  },
  {
   "cell_type": "code",
   "execution_count": 103,
   "metadata": {
    "collapsed": false
   },
   "outputs": [],
   "source": [
    "dei=dfi.unstack(level=0)[' Valoare']"
   ]
  },
  {
   "cell_type": "code",
   "execution_count": 104,
   "metadata": {
    "collapsed": false
   },
   "outputs": [],
   "source": [
    "dei['szf']=dei['Covasna']+hr_mul*dei['Harghita']+mr_mul*dei['Mures']"
   ]
  },
  {
   "cell_type": "code",
   "execution_count": 105,
   "metadata": {
    "collapsed": false
   },
   "outputs": [],
   "source": [
    "#u' IX. Produse din lemn  exclusiv mobilier', u' X. Hirtie si articole din acestea'\n",
    "imp_nonp={}\n",
    "for i in dei.loc[u' IX. Produse din lemn  exclusiv mobilier'].T:\n",
    "    y=int(i[-4:])\n",
    "    if y not in imp_nonp:imp_nonp[y]=0\n",
    "    imp_nonp[y]+=1.0/12*dei.loc[u' IX. Produse din lemn  exclusiv mobilier'].loc[i]['szf']/\\\n",
    "                    dei.loc[u' IX. Produse din lemn  exclusiv mobilier'].loc[i]['TOTAL']"
   ]
  },
  {
   "cell_type": "code",
   "execution_count": 106,
   "metadata": {
    "collapsed": false
   },
   "outputs": [],
   "source": [
    "#u' IX. Produse din lemn  exclusiv mobilier', u' X. Hirtie si articole din acestea'\n",
    "imp_pap={}\n",
    "for i in dei.loc[u' X. Hirtie si articole din acestea'].T:\n",
    "    y=int(i[-4:])\n",
    "    if y not in imp_pap:imp_pap[y]=0\n",
    "    imp_pap[y]+=1.0/12*dei.loc[u' X. Hirtie si articole din acestea'].loc[i]['szf']/\\\n",
    "                    dei.loc[u' X. Hirtie si articole din acestea'].loc[i]['TOTAL']"
   ]
  },
  {
   "cell_type": "code",
   "execution_count": 107,
   "metadata": {
    "collapsed": true
   },
   "outputs": [],
   "source": [
    "miny=min(imp_pap)"
   ]
  },
  {
   "cell_type": "markdown",
   "metadata": {},
   "source": [
    "Data scaling"
   ]
  },
  {
   "cell_type": "code",
   "execution_count": 108,
   "metadata": {
    "collapsed": false
   },
   "outputs": [],
   "source": [
    "s=[]\n",
    "for i in ro:\n",
    "    k={}\n",
    "    k['g']=i['g']\n",
    "    k['item']=i['item']\n",
    "    k['year']=i['year']\n",
    "    k['partner']=i['partner']\n",
    "    if i['g']=='m':\n",
    "        if ' (C)' in i['item']:\n",
    "            k['p']=i['p']*exp_c[i['year']]\n",
    "            k['s']=i['s']*exp_c[i['year']]\n",
    "        else:\n",
    "            k['p']=i['p']*exp_c[i['year']]\n",
    "            k['s']=i['s']*exp_c[i['year']]\n",
    "    else:\n",
    "        if 'News' in i['item']:\n",
    "            k['p']=i['p']*imp_pap[max(miny,i['year'])]\n",
    "            k['s']=i['s']*imp_pap[max(miny,i['year'])]\n",
    "        else:\n",
    "            k['p']=i['p']*imp_nonp[max(miny,i['year'])]\n",
    "            k['s']=i['s']*imp_nonp[max(miny,i['year'])]\n",
    "    s.append(k)"
   ]
  },
  {
   "cell_type": "markdown",
   "metadata": {},
   "source": [
    "Save"
   ]
  },
  {
   "cell_type": "code",
   "execution_count": 109,
   "metadata": {
    "collapsed": true
   },
   "outputs": [],
   "source": [
    "try:\n",
    "    import zlib\n",
    "    compression = zipfile.ZIP_DEFLATED\n",
    "except:\n",
    "    compression = zipfile.ZIP_STORED"
   ]
  },
  {
   "cell_type": "code",
   "execution_count": 110,
   "metadata": {
    "collapsed": false
   },
   "outputs": [],
   "source": [
    "file('dummy.json','w').write(json.dumps(s)) \n",
    "zf = zipfile.ZipFile('../zips2/999.zip', mode='w')\n",
    "zf.write('dummy.json','data.json',compress_type=compression)\n",
    "zf.close()"
   ]
  },
  {
   "cell_type": "code",
   "execution_count": 111,
   "metadata": {
    "collapsed": false
   },
   "outputs": [],
   "source": [
    "c=json.loads(file('../json/countries2.json').read())\n",
    "if u'Székelyföld' not in c:\n",
    "    c.append(u'Székelyföld')\n",
    "file('../json/countries3.json','w').write(json.dumps(c)) "
   ]
  },
  {
   "cell_type": "code",
   "execution_count": 112,
   "metadata": {
    "collapsed": false
   },
   "outputs": [],
   "source": [
    "d=json.loads(file('../json/cdict2.json').read())\n",
    "d[u'Székelyföld']=999\n",
    "d[u'999']=u'Székelyföld'\n",
    "file('../json/cdict3.json','w').write(json.dumps(d)) "
   ]
  },
  {
   "cell_type": "code",
   "execution_count": 113,
   "metadata": {
    "collapsed": true
   },
   "outputs": [],
   "source": [
    "e=json.loads(file('../json/hnames.json').read())\n",
    "e[u'Székelyföld']=u'Székelyföld'\n",
    "file('../json/hnames3.json','w').write(json.dumps(e)) "
   ]
  },
  {
   "cell_type": "code",
   "execution_count": 114,
   "metadata": {
    "collapsed": false,
    "scrolled": true
   },
   "outputs": [],
   "source": [
    "file('../json/szf.json','w').write(json.dumps(s)) "
   ]
  },
  {
   "cell_type": "code",
   "execution_count": 115,
   "metadata": {
    "collapsed": false
   },
   "outputs": [],
   "source": [
    "from jupyterthemes import jtplot\n",
    "\n",
    "# you can select an alternative theme's plot style by name\n",
    "# oceans16 | grade3 | chesterish | onedork | monokai | solarizedl\n",
    "jtplot.style('solarized-light')"
   ]
  },
  {
   "cell_type": "code",
   "execution_count": 125,
   "metadata": {
    "collapsed": false
   },
   "outputs": [
    {
     "data": {
      "text/plain": [
       "<matplotlib.text.Text at 0xd4ebd68>"
      ]
     },
     "execution_count": 125,
     "metadata": {},
     "output_type": "execute_result"
    },
    {
     "data": {
      "image/png": "[encoded data removed]",
      "text/plain": [
       "<matplotlib.figure.Figure at 0xcc0c5f8>"
      ]
     },
     "metadata": {},
     "output_type": "display_data"
    }
   ],
   "source": [
    "x=[]\n",
    "y=[]\n",
    "for i in np.sort(exp_c.keys()):\n",
    "    x.append(i)\n",
    "    y.append(exp_c[i]*100)\n",
    "plt.plot(x,y,label=u'Fenyõ-kitermelés')\n",
    "x=[]\n",
    "y=[]\n",
    "for i in np.sort(exp_nc.keys()):\n",
    "    x.append(i)\n",
    "    y.append(exp_nc[i]*100)\n",
    "plt.plot(x,y,label=u'Lomhullató-kitermelés')\n",
    "x=[]\n",
    "y=[]\n",
    "for i in np.sort(imp_pap.keys()):\n",
    "    x.append(i)\n",
    "    y.append(imp_pap[i]*100)\n",
    "plt.plot(x,y,label=u'Papír-import')\n",
    "x=[]\n",
    "y=[]\n",
    "for i in np.sort(imp_nonp.keys()):\n",
    "    x.append(i)\n",
    "    y.append(imp_nonp[i]*100)\n",
    "plt.plot(x,y,label=u'Fa-import')\n",
    "x=[]\n",
    "y=[]\n",
    "for i in np.sort(exp_pap.keys()):\n",
    "    x.append(i)\n",
    "    y.append(exp_pap[i]*100)\n",
    "plt.plot(x,y,label=u'Papír-export')\n",
    "x=[]\n",
    "y=[]\n",
    "for i in np.sort(exp_nonp.keys()):\n",
    "    x.append(i)\n",
    "    y.append(exp_nonp[i]*100)\n",
    "plt.plot(x,y,label=u'Fa-export')\n",
    "plt.xlim(1990,2015)\n",
    "plt.ylabel(u'Országos kereskdelem %-a')\n",
    "plt.legend(framealpha=0,fontsize=10.4)\n",
    "plt.title(u'Székelyföld részesedése\\nRománia fa-kereskedelmében')"
   ]
  },
  {
   "cell_type": "code",
   "execution_count": null,
   "metadata": {
    "collapsed": true
   },
   "outputs": [],
   "source": []
  }
 ],
 "metadata": {
  "kernelspec": {
   "display_name": "Python [default]",
   "language": "python",
   "name": "python2"
  },
  "language_info": {
   "codemirror_mode": {
    "name": "ipython",
    "version": 2
   },
   "file_extension": ".py",
   "mimetype": "text/x-python",
   "name": "python",
   "nbconvert_exporter": "python",
   "pygments_lexer": "ipython2",
   "version": "2.7.13"
  }
 },
 "nbformat": 4,
 "nbformat_minor": 0
}
