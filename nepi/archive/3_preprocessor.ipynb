{
 "cells": [
  {
   "cell_type": "code",
   "execution_count": 1,
   "metadata": {},
   "outputs": [],
   "source": [
    "import pandas as pd, numpy as np"
   ]
  },
  {
   "cell_type": "code",
   "execution_count": 2,
   "metadata": {},
   "outputs": [],
   "source": [
    "dfs=pd.read_csv('C:/Users/csala/Onedrive - Lancaster University/Datarepo/szekelydata/klima/data/all.csv')\n",
    "# dfs=pd.read_csv('E:/Onedrive - Lancaster University/Datarepo/szekelydata/klima/data/all.csv')"
   ]
  },
  {
   "cell_type": "code",
   "execution_count": 37,
   "metadata": {},
   "outputs": [],
   "source": [
    "weather={\n",
    "2:1,\n",
    "3:7,\n",
    "5:6,\n",
    "8:6,\n",
    "9:6,\n",
    "100:0,\n",
    "101:0,\n",
    "102:0,\n",
    "103:0,\n",
    "104:0,\n",
    "105:0,\n",
    "106:0,\n",
    "107:0,\n",
    "108:0,\n",
    "109:0,\n",
    "110:4,\n",
    "111:4,\n",
    "112:4,\n",
    "113:1,\n",
    "114:6,\n",
    "115:6,\n",
    "116:6,\n",
    "117:6,\n",
    "118:6,\n",
    "119:1,\n",
    "120:7,\n",
    "121:6,\n",
    "122:7,\n",
    "123:23,\n",
    "124:11,\n",
    "125:6,\n",
    "126:7,\n",
    "127:11,\n",
    "128:4,\n",
    "129:6,\n",
    "130:1,\n",
    "131:1,\n",
    "132:1,\n",
    "133:1,\n",
    "134:1,\n",
    "135:1,\n",
    "136:7,\n",
    "137:7,\n",
    "138:7,\n",
    "139:7,\n",
    "140:4,\n",
    "141:4,\n",
    "142:4,\n",
    "143:4,\n",
    "144:4,\n",
    "145:4,\n",
    "146:4,\n",
    "147:4,\n",
    "148:4,\n",
    "149:4,\n",
    "150:6,\n",
    "151:6,\n",
    "152:6,\n",
    "153:6,\n",
    "154:6,\n",
    "155:6,\n",
    "156:6,\n",
    "157:6,\n",
    "158:6,\n",
    "159:6,\n",
    "160:6,\n",
    "161:6,\n",
    "162:6,\n",
    "163:6,\n",
    "164:6,\n",
    "165:6,\n",
    "166:11,\n",
    "167:11,\n",
    "168:6,\n",
    "169:6,\n",
    "170:7,\n",
    "171:7,\n",
    "172:7,\n",
    "173:7,\n",
    "174:7,\n",
    "175:7,\n",
    "176:7,\n",
    "177:7,\n",
    "178:7,\n",
    "179:7,\n",
    "180:6,\n",
    "181:6,\n",
    "182:6,\n",
    "183:7,\n",
    "184:7,\n",
    "185:7,\n",
    "186:7,\n",
    "187:7,\n",
    "188:7,\n",
    "189:11,\n",
    "190:11,\n",
    "191:6,\n",
    "192:6,\n",
    "193:7,\n",
    "194:7,\n",
    "195:6,\n",
    "196:11,\n",
    "197:6,\n",
    "198:1,\n",
    "199:11}"
   ]
  },
  {
   "cell_type": "markdown",
   "metadata": {},
   "source": [
    "0: NoCloud\n",
    "1: Cloud\n",
    "4: Fog\n",
    "6: Rain\n",
    "7: Snow\n",
    "11: Hail"
   ]
  },
  {
   "cell_type": "code",
   "execution_count": 38,
   "metadata": {},
   "outputs": [],
   "source": [
    "dfs['time']=pd.to_datetime(dfs['time'])\n",
    "dfs['year']=dfs['time'].dt.year\n",
    "dfs['month']=dfs['time'].dt.month\n",
    "dfs['day']=dfs['time'].dt.day\n",
    "dfs['hour']=dfs['time'].dt.hour"
   ]
  },
  {
   "cell_type": "code",
   "execution_count": null,
   "metadata": {},
   "outputs": [],
   "source": [
    "dfs=dfs.set_index('USAF')"
   ]
  },
  {
   "cell_type": "markdown",
   "metadata": {},
   "source": [
    "HU"
   ]
  },
  {
   "cell_type": "code",
   "execution_count": 41,
   "metadata": {},
   "outputs": [],
   "source": [
    "df=dfs.loc[[129250,128120,128050,127720,128220,128250,129350,129420,129600,129700,129820,129920,128600,\n",
    "           128820,128920,128390,128430]]\n",
    "df=df.set_index('time')\n",
    "df=df.sort_index()"
   ]
  },
  {
   "cell_type": "code",
   "execution_count": 42,
   "metadata": {},
   "outputs": [
    {
     "name": "stderr",
     "output_type": "stream",
     "text": [
      "C:\\ProgramData\\Anaconda3\\lib\\site-packages\\ipykernel_launcher.py:3: SettingWithCopyWarning: \n",
      "A value is trying to be set on a copy of a slice from a DataFrame.\n",
      "Try using .loc[row_indexer,col_indexer] = value instead\n",
      "\n",
      "See the caveats in the documentation: http://pandas.pydata.org/pandas-docs/stable/user_guide/indexing.html#returning-a-view-versus-a-copy\n",
      "  This is separate from the ipykernel package so we can avoid doing imports until\n",
      "C:\\ProgramData\\Anaconda3\\lib\\site-packages\\ipykernel_launcher.py:4: SettingWithCopyWarning: \n",
      "A value is trying to be set on a copy of a slice from a DataFrame.\n",
      "Try using .loc[row_indexer,col_indexer] = value instead\n",
      "\n",
      "See the caveats in the documentation: http://pandas.pydata.org/pandas-docs/stable/user_guide/indexing.html#returning-a-view-versus-a-copy\n",
      "  after removing the cwd from sys.path.\n"
     ]
    }
   ],
   "source": [
    "df['PCP06'].loc[~df['PCP06'].isnull()] = 6\n",
    "dz=df[['PCP06','AW','MW','W']]\n",
    "dz['AW']+=100\n",
    "dz['MW']+=100\n",
    "df['W']=dz.T.ffill().T['W'].replace(weather).replace(0,10)"
   ]
  },
  {
   "cell_type": "code",
   "execution_count": 43,
   "metadata": {},
   "outputs": [],
   "source": [
    "df[['SPD','TEMP','SD','W','year','month','day','hour']].fillna(0).to_csv('data/hu.csv')"
   ]
  },
  {
   "cell_type": "markdown",
   "metadata": {},
   "source": [
    "RO"
   ]
  },
  {
   "cell_type": "code",
   "execution_count": 60,
   "metadata": {},
   "outputs": [],
   "source": [
    "df=dfs.loc[[152470,150800,152300,151200,150100,151700,152600,151450]]\n",
    "df=df.reset_index().set_index('time')\n",
    "df=df.sort_index()"
   ]
  },
  {
   "cell_type": "code",
   "execution_count": 45,
   "metadata": {},
   "outputs": [
    {
     "name": "stderr",
     "output_type": "stream",
     "text": [
      "C:\\ProgramData\\Anaconda3\\lib\\site-packages\\ipykernel_launcher.py:3: SettingWithCopyWarning: \n",
      "A value is trying to be set on a copy of a slice from a DataFrame.\n",
      "Try using .loc[row_indexer,col_indexer] = value instead\n",
      "\n",
      "See the caveats in the documentation: http://pandas.pydata.org/pandas-docs/stable/user_guide/indexing.html#returning-a-view-versus-a-copy\n",
      "  This is separate from the ipykernel package so we can avoid doing imports until\n",
      "C:\\ProgramData\\Anaconda3\\lib\\site-packages\\ipykernel_launcher.py:4: SettingWithCopyWarning: \n",
      "A value is trying to be set on a copy of a slice from a DataFrame.\n",
      "Try using .loc[row_indexer,col_indexer] = value instead\n",
      "\n",
      "See the caveats in the documentation: http://pandas.pydata.org/pandas-docs/stable/user_guide/indexing.html#returning-a-view-versus-a-copy\n",
      "  after removing the cwd from sys.path.\n"
     ]
    }
   ],
   "source": [
    "df['PCP06'].loc[~df['PCP06'].isnull()] = 6\n",
    "dz=df[['PCP06','AW','MW','W']]\n",
    "dz['AW']+=100\n",
    "dz['MW']+=100\n",
    "df['W']=dz.T.ffill().T['W'].replace(weather).replace(0,10)"
   ]
  },
  {
   "cell_type": "code",
   "execution_count": 46,
   "metadata": {},
   "outputs": [],
   "source": [
    "df[['SPD','TEMP','SD','W','year','month','day','hour']].fillna(0).to_csv('data/ro.csv')"
   ]
  },
  {
   "cell_type": "markdown",
   "metadata": {},
   "source": [
    "BP"
   ]
  },
  {
   "cell_type": "code",
   "execution_count": 54,
   "metadata": {},
   "outputs": [],
   "source": [
    "df=dfs.loc[[128390,128430]]\n",
    "df=df.set_index('time')\n",
    "df=df.sort_index()"
   ]
  },
  {
   "cell_type": "code",
   "execution_count": 48,
   "metadata": {},
   "outputs": [
    {
     "name": "stderr",
     "output_type": "stream",
     "text": [
      "C:\\ProgramData\\Anaconda3\\lib\\site-packages\\ipykernel_launcher.py:3: SettingWithCopyWarning: \n",
      "A value is trying to be set on a copy of a slice from a DataFrame.\n",
      "Try using .loc[row_indexer,col_indexer] = value instead\n",
      "\n",
      "See the caveats in the documentation: http://pandas.pydata.org/pandas-docs/stable/user_guide/indexing.html#returning-a-view-versus-a-copy\n",
      "  This is separate from the ipykernel package so we can avoid doing imports until\n",
      "C:\\ProgramData\\Anaconda3\\lib\\site-packages\\ipykernel_launcher.py:4: SettingWithCopyWarning: \n",
      "A value is trying to be set on a copy of a slice from a DataFrame.\n",
      "Try using .loc[row_indexer,col_indexer] = value instead\n",
      "\n",
      "See the caveats in the documentation: http://pandas.pydata.org/pandas-docs/stable/user_guide/indexing.html#returning-a-view-versus-a-copy\n",
      "  after removing the cwd from sys.path.\n"
     ]
    }
   ],
   "source": [
    "df['PCP06'].loc[~df['PCP06'].isnull()] = 6\n",
    "dz=df[['PCP06','AW','MW','W']]\n",
    "dz['AW']+=100\n",
    "dz['MW']+=100\n",
    "df['W']=dz.T.ffill().T['W'].replace(weather).replace(0,10)"
   ]
  },
  {
   "cell_type": "code",
   "execution_count": 49,
   "metadata": {},
   "outputs": [],
   "source": [
    "df[['SPD','TEMP','SD','W','year','month','day','hour']].fillna(0).to_csv('data/bp.csv')"
   ]
  },
  {
   "cell_type": "markdown",
   "metadata": {},
   "source": [
    "Exploration"
   ]
  },
  {
   "cell_type": "code",
   "execution_count": 52,
   "metadata": {},
   "outputs": [],
   "source": [
    "import matplotlib.pyplot as plt\n",
    "%matplotlib inline"
   ]
  },
  {
   "cell_type": "code",
   "execution_count": 71,
   "metadata": {},
   "outputs": [
    {
     "data": {
      "text/html": [
       "<div>\n",
       "<style scoped>\n",
       "    .dataframe tbody tr th:only-of-type {\n",
       "        vertical-align: middle;\n",
       "    }\n",
       "\n",
       "    .dataframe tbody tr th {\n",
       "        vertical-align: top;\n",
       "    }\n",
       "\n",
       "    .dataframe thead th {\n",
       "        text-align: right;\n",
       "    }\n",
       "</style>\n",
       "<table border=\"1\" class=\"dataframe\">\n",
       "  <thead>\n",
       "    <tr style=\"text-align: right;\">\n",
       "      <th></th>\n",
       "      <th>Unnamed: 0</th>\n",
       "      <th>SPD</th>\n",
       "      <th>TEMP</th>\n",
       "      <th>PCP06</th>\n",
       "      <th>SD</th>\n",
       "      <th>MW</th>\n",
       "      <th>AW</th>\n",
       "      <th>month</th>\n",
       "      <th>day</th>\n",
       "      <th>hour</th>\n",
       "    </tr>\n",
       "    <tr>\n",
       "      <th>USAF</th>\n",
       "      <th></th>\n",
       "      <th></th>\n",
       "      <th></th>\n",
       "      <th></th>\n",
       "      <th></th>\n",
       "      <th></th>\n",
       "      <th></th>\n",
       "      <th></th>\n",
       "      <th></th>\n",
       "      <th></th>\n",
       "    </tr>\n",
       "  </thead>\n",
       "  <tbody>\n",
       "    <tr>\n",
       "      <td>151200</td>\n",
       "      <td>256</td>\n",
       "      <td>256</td>\n",
       "      <td>256</td>\n",
       "      <td>15</td>\n",
       "      <td>2</td>\n",
       "      <td>256</td>\n",
       "      <td>0</td>\n",
       "      <td>256</td>\n",
       "      <td>256</td>\n",
       "      <td>256</td>\n",
       "    </tr>\n",
       "    <tr>\n",
       "      <td>151700</td>\n",
       "      <td>63</td>\n",
       "      <td>63</td>\n",
       "      <td>63</td>\n",
       "      <td>5</td>\n",
       "      <td>1</td>\n",
       "      <td>63</td>\n",
       "      <td>0</td>\n",
       "      <td>63</td>\n",
       "      <td>63</td>\n",
       "      <td>63</td>\n",
       "    </tr>\n",
       "    <tr>\n",
       "      <td>152300</td>\n",
       "      <td>175</td>\n",
       "      <td>175</td>\n",
       "      <td>175</td>\n",
       "      <td>19</td>\n",
       "      <td>0</td>\n",
       "      <td>175</td>\n",
       "      <td>0</td>\n",
       "      <td>175</td>\n",
       "      <td>175</td>\n",
       "      <td>175</td>\n",
       "    </tr>\n",
       "    <tr>\n",
       "      <td>152600</td>\n",
       "      <td>201</td>\n",
       "      <td>201</td>\n",
       "      <td>201</td>\n",
       "      <td>20</td>\n",
       "      <td>0</td>\n",
       "      <td>201</td>\n",
       "      <td>0</td>\n",
       "      <td>201</td>\n",
       "      <td>201</td>\n",
       "      <td>201</td>\n",
       "    </tr>\n",
       "  </tbody>\n",
       "</table>\n",
       "</div>"
      ],
      "text/plain": [
       "        Unnamed: 0  SPD  TEMP  PCP06  SD   MW  AW  month  day  hour\n",
       "USAF                                                               \n",
       "151200         256  256   256     15   2  256   0    256  256   256\n",
       "151700          63   63    63      5   1   63   0     63   63    63\n",
       "152300         175  175   175     19   0  175   0    175  175   175\n",
       "152600         201  201   201     20   0  201   0    201  201   201"
      ]
     },
     "execution_count": 71,
     "metadata": {},
     "output_type": "execute_result"
    }
   ],
   "source": [
    "df.groupby(['W','year','USAF']).count().loc[6].loc[2011]"
   ]
  },
  {
   "cell_type": "markdown",
   "metadata": {},
   "source": [
    "New parser"
   ]
  },
  {
   "cell_type": "code",
   "execution_count": 77,
   "metadata": {},
   "outputs": [],
   "source": [
    "r=df.reset_index().set_index('USAF').loc[151200]"
   ]
  },
  {
   "cell_type": "code",
   "execution_count": 87,
   "metadata": {},
   "outputs": [],
   "source": [
    "r=r.groupby(['year','month','day','time']).mean().reset_index().set_index('time')"
   ]
  },
  {
   "cell_type": "code",
   "execution_count": 89,
   "metadata": {},
   "outputs": [
    {
     "data": {
      "text/plain": [
       "<matplotlib.axes._subplots.AxesSubplot at 0x208d8214648>"
      ]
     },
     "execution_count": 89,
     "metadata": {},
     "output_type": "execute_result"
    },
    {
     "data": {
      "image/png": "[encoded data removed]",
      "text/plain": [
       "<Figure size 432x288 with 1 Axes>"
      ]
     },
     "metadata": {
      "needs_background": "light"
     },
     "output_type": "display_data"
    }
   ],
   "source": [
    "r['TEMP'].plot()"
   ]
  }
 ],
 "metadata": {
  "kernelspec": {
   "display_name": "Python 3",
   "language": "python",
   "name": "python3"
  },
  "language_info": {
   "codemirror_mode": {
    "name": "ipython",
    "version": 3
   },
   "file_extension": ".py",
   "mimetype": "text/x-python",
   "name": "python",
   "nbconvert_exporter": "python",
   "pygments_lexer": "ipython3",
   "version": "3.7.4"
  }
 },
 "nbformat": 4,
 "nbformat_minor": 4
}
