{
 "cells": [
  {
   "cell_type": "code",
   "execution_count": null,
   "metadata": {},
   "outputs": [],
   "source": [
    "import pandas as pd, numpy as np\n",
    "from scipy import stats"
   ]
  },
  {
   "cell_type": "code",
   "execution_count": null,
   "metadata": {},
   "outputs": [],
   "source": [
    "stations=pd.read_csv('data/stations.csv').set_index('ID')"
   ]
  },
  {
   "cell_type": "code",
   "execution_count": null,
   "metadata": {},
   "outputs": [],
   "source": [
    "c='ro'\n",
    "df=pd.read_csv('data/'+c+'_ds.csv') #daily data\n",
    "# df=pd.read_csv('data/'+c+'_hs.csv') #high_res data\n",
    "df['time']=pd.to_datetime(df['time'])\n",
    "df['year']=df['time'].dt.year\n",
    "df['month']=df['time'].dt.month\n",
    "df['day']=df['time'].dt.day\n",
    "df['hour']=df['time'].dt.hour\n",
    "df=df.set_index('time')\n",
    "df=df.sort_index()"
   ]
  },
  {
   "cell_type": "code",
   "execution_count": null,
   "metadata": {},
   "outputs": [],
   "source": [
    "df.groupby('year').nunique()['ID'].plot()"
   ]
  },
  {
   "cell_type": "code",
   "execution_count": null,
   "metadata": {},
   "outputs": [],
   "source": [
    "history=df.groupby('ID').nunique()['year'].sort_values(ascending=False)\n",
    "history=pd.DataFrame(history).join(stations)\n",
    "history.head()"
   ]
  },
  {
   "cell_type": "code",
   "execution_count": 1831,
   "metadata": {},
   "outputs": [],
   "source": [
    "nepi=pd.read_excel('idojaras3.xlsx')"
   ]
  },
  {
   "cell_type": "code",
   "execution_count": null,
   "metadata": {},
   "outputs": [],
   "source": [
    "Setup plot params"
   ]
  },
  {
   "cell_type": "code",
   "execution_count": null,
   "metadata": {},
   "outputs": [],
   "source": [
    "import matplotlib.pyplot as plt\n",
    "import seaborn as sns\n",
    "from matplotlib.collections import PolyCollection\n",
    "%matplotlib inline"
   ]
  },
  {
   "cell_type": "code",
   "execution_count": null,
   "metadata": {},
   "outputs": [],
   "source": [
    "import matplotlib as mpl\n",
    "import matplotlib.font_manager as font_manager\n",
    "path = 'KulimPark-Regular.ttf'\n",
    "path2 = 'Symbola.ttf'\n",
    "prop = font_manager.FontProperties(fname=path)\n",
    "prop2 = font_manager.FontProperties(fname=path2)"
   ]
  },
  {
   "cell_type": "code",
   "execution_count": 1978,
   "metadata": {},
   "outputs": [],
   "source": [
    "color_ax='#E7CFBC'\n",
    "color_bg='#FFF4EC'\n",
    "color_obs_right0='#F2B880'\n",
    "color_obs_left0=color_ax\n",
    "color_pred_right0='#C98686'\n",
    "color_pred_left0='#966B9D'\n",
    "color_pred_talalt0='#59c687'\n",
    "color_pred_nem_talalt0='#c95498'\n",
    "font_size=12\n",
    "s=40\n",
    "obs_talalt_glyph0='★'\n",
    "obs_nem_talalt_glyph0='☆'\n",
    "pred_talalt_glyph0='✔️'\n",
    "pred_nem_talalt_glyph0='✖️'\n",
    "title_icon_right={'Temp':'☼','Wind':'►','Hail':'▲','Snow':'▲','Snow Depth':'▲','Rain':'☔️'}\n",
    "title_icon_left={'Temp':'❄️','Wind':'◄','Hail':'▼','Snow':'▼','Snow Depth':'▼','Rain':'☂️'}\n",
    "title_icon={'Temp':'♨️','Rain':'☂️','Hail':'❄️','Snow':'⛷️','Snow Depth':'⛄️','Wind':'☘','Cloud':'☁️','Visib':'☀️'}"
   ]
  },
  {
   "cell_type": "code",
   "execution_count": 1979,
   "metadata": {},
   "outputs": [],
   "source": [
    "def get_data(data,th):\n",
    "    a1=pd.DataFrame(data[data<=th])\n",
    "    a1['g']='left'\n",
    "    a2=pd.DataFrame(data[data>th])\n",
    "    a2['g']='right'\n",
    "    a3=pd.concat([a1,a2])\n",
    "    a3['x']='x'\n",
    "    return a1,a2,a3"
   ]
  },
  {
   "cell_type": "code",
   "execution_count": 1980,
   "metadata": {},
   "outputs": [],
   "source": [
    "def violin_plot(data,th,ax,color_left,color_right):\n",
    "    a=0.3\n",
    "    a1,a2,a3=get_data(data,th)\n",
    "    ax.axvline(0,color=color_ax)\n",
    "    sns.violinplot(y=a1.columns[0], x='x',hue='g', data=a3, split=True, ax=ax,\n",
    "                   palette={\"left\": color_left, \"right\": color_right},\n",
    "                  inner=None,linewidth=1, scale=\"count\", saturation=1)\n",
    "    ax.get_children()[0].set_color(matplotlib.colors.colorConverter.to_rgba(color_left, alpha=a))\n",
    "    ax.get_children()[0].set_edgecolor(color_left)\n",
    "    ax.get_children()[1].set_color(matplotlib.colors.colorConverter.to_rgba(color_right, alpha=a))\n",
    "    ax.get_children()[1].set_edgecolor(color_right)\n",
    "    ax.legend().remove()"
   ]
  },
  {
   "cell_type": "code",
   "execution_count": 1981,
   "metadata": {},
   "outputs": [],
   "source": [
    "def setup_axes():\n",
    "    fig,axes=plt.subplots(1,3,figsize=(8,5),gridspec_kw={'width_ratios': [1, 3, 1]})\n",
    "    axi_top= axes[2].inset_axes([0.1, 0.65, 1, 0.3])\n",
    "    axi_top.axis('off')\n",
    "    axi_bottom= axes[2].inset_axes([0.1, 0, 1, 0.5])\n",
    "    axi_bottom.axis('off')\n",
    "    axes[0].axis('off')\n",
    "    axes[1].axis('off')\n",
    "    axes[2].axis('off')\n",
    "    axes[0]=axes[0].inset_axes([0, 0.15, 1, 0.85])\n",
    "    axes[1]=axes[1].inset_axes([0, 0.15, 1, 0.85])\n",
    "    axes[0].axis('off')\n",
    "    axes[1].axis('off')\n",
    "    return fig, axes, axi_top, axi_bottom"
   ]
  },
  {
   "cell_type": "code",
   "execution_count": 1982,
   "metadata": {},
   "outputs": [],
   "source": [
    "def stem_plot(data,ax,color,s=s):\n",
    "    data=pd.DataFrame(data)\n",
    "    x=data.index\n",
    "    y=data[data.columns[0]].values\n",
    "    for i,e in enumerate(y):\n",
    "        ax.plot([0,e],[x[i],x[i]],color=color)\n",
    "    ax.scatter(y,x,s,color=color,zorder=10)"
   ]
  },
  {
   "cell_type": "code",
   "execution_count": 1983,
   "metadata": {},
   "outputs": [],
   "source": [
    "def stem2_plot(data,th,ax,color_left,color_right,s=s,axv_color=None):\n",
    "    if axv_color==None:axv_color=color_right\n",
    "    a1,a2,a3=get_data(data,th)\n",
    "    stem_plot(a1,ax,color_left,s)\n",
    "    stem_plot(a2,ax,color_right,s)\n",
    "    ax.axvline(0,color=color_ax)\n",
    "    #if th!=0:\n",
    "    if True:\n",
    "        ax.axvline(th,color=axv_color,ls='--',zorder=5)"
   ]
  },
  {
   "cell_type": "code",
   "execution_count": 1984,
   "metadata": {},
   "outputs": [],
   "source": [
    "def icons_plot(axes,kondicio,mennyiseg,observation_th,prediction_th):\n",
    "    ylim=axes[0].get_ylim()\n",
    "    xlim=axes[1].get_xlim()\n",
    "    y_max_coord=ylim[0]+(ylim[1]-ylim[0])*1.05\n",
    "    y_max_coord2=ylim[0]+(ylim[1]-ylim[0])*1.04\n",
    "    x_icon_coord_shift=(xlim[1]-xlim[0])*0.1\n",
    "    axes[0].text(observation_th, y_max_coord, title_icon[kondicio], \n",
    "            horizontalalignment='center', color=color_obs_right, fontproperties=prop2, fontsize=font_size*1.5)\n",
    "    axes[1].text(prediction_th, y_max_coord, title_icon[mennyiseg], \n",
    "            horizontalalignment='center', color=color_ax, fontproperties=prop2, fontsize=font_size*1.5)\n",
    "    axes[1].text(prediction_th+x_icon_coord_shift, y_max_coord2, title_icon_right[mennyiseg], \n",
    "            horizontalalignment='center', color=color_pred_right, fontproperties=prop2, fontsize=font_size*1.5)\n",
    "    axes[1].text(prediction_th-x_icon_coord_shift, y_max_coord2, title_icon_left[mennyiseg], \n",
    "            horizontalalignment='center', color=color_pred_left, fontproperties=prop2, fontsize=font_size*1.5)"
   ]
  },
  {
   "cell_type": "code",
   "execution_count": 1985,
   "metadata": {},
   "outputs": [],
   "source": [
    "def talalat_plot_line(axes,n_prediction_ts_good,n_prediction_ts_bad,\n",
    "                        n_prediction_ts_good_talalt,n_prediction_ts_good_nem_talalt,\n",
    "                      observation_th,prediction_th):\n",
    "    ylim=axes[0].get_ylim()\n",
    "    xlim=axes[0].get_xlim()\n",
    "    y_max_coord=ylim[0]+(ylim[1]-ylim[0])*(-0.07)\n",
    "    x_icon_coord_shift=(xlim[1]-xlim[0])*0.1\n",
    "    x_icon_coord_shift2=(xlim[1]-xlim[0])*0.27\n",
    "    axes[0].text(observation_th+x_icon_coord_shift, y_max_coord, obs_talalt_glyph, \n",
    "            horizontalalignment='center', color=color_obs_right, fontproperties=prop2)\n",
    "    axes[0].text(observation_th-x_icon_coord_shift, y_max_coord, obs_nem_talalt_glyph, \n",
    "            horizontalalignment='center', color=color_obs_left, fontproperties=prop2)\n",
    "    axes[0].text(observation_th+x_icon_coord_shift2, y_max_coord, n_prediction_ts_good, \n",
    "            horizontalalignment='center', color=color_obs_right, fontproperties=prop)\n",
    "    axes[0].text(observation_th-x_icon_coord_shift2, y_max_coord, n_prediction_ts_bad, \n",
    "            horizontalalignment='center', color=color_obs_left, fontproperties=prop)\n",
    "    axes[0].text(observation_th, y_max_coord, '|', \n",
    "            horizontalalignment='center', color=color_obs_right0, fontproperties=prop,fontsize=19)\n",
    "\n",
    "    xlim=axes[1].get_xlim()\n",
    "    x_icon_coord_shift=(xlim[1]-xlim[0])*0.04\n",
    "    x_icon_coord_shift2=(xlim[1]-xlim[0])*0.1\n",
    "    axes[1].text(prediction_th+x_icon_coord_shift, y_max_coord, pred_talalt_glyph, \n",
    "            horizontalalignment='center', color=color_pred_talalt, fontproperties=prop2)\n",
    "    axes[1].text(prediction_th-x_icon_coord_shift, y_max_coord, pred_nem_talalt_glyph, \n",
    "            horizontalalignment='center', color=color_pred_nem_talalt, fontproperties=prop2)\n",
    "    axes[1].text(prediction_th+x_icon_coord_shift2, y_max_coord, n_prediction_ts_good_talalt, \n",
    "            horizontalalignment='center', color=color_pred_talalt, fontproperties=prop)\n",
    "    axes[1].text(prediction_th-x_icon_coord_shift2, y_max_coord, n_prediction_ts_good_nem_talalt, \n",
    "            horizontalalignment='center', color=color_pred_nem_talalt, fontproperties=prop)\n",
    "    axes[1].text(prediction_th, y_max_coord, '|', \n",
    "            horizontalalignment='center', color=color_pred_right, fontproperties=prop,fontsize=19)\n",
    "    \n",
    "    y_max_coord=ylim[0]+(ylim[1]-ylim[0])*(-0.14)\n",
    "    x_coord_shift=prediction_th+(prediction_th-xlim[0])*(-0.3)\n",
    "    axes[0].text(observation_th, y_max_coord, 'feltétel', \n",
    "            horizontalalignment='center', color=color_obs_right0, fontproperties=prop)\n",
    "    axes[1].text(prediction_th, y_max_coord, 'jóslat', \n",
    "            horizontalalignment='center', color=color_pred_right, fontproperties=prop)\n",
    "    y_max_coord=ylim[0]+(ylim[1]-ylim[0])*(-0.13)\n",
    "    axes[1].annotate('', xy=(x_coord_shift, y_max_coord),xycoords='data',annotation_clip=False,\n",
    "             xytext=(xlim[0], y_max_coord),arrowprops=dict(arrowstyle= '->',color=color_obs_right0))"
   ]
  },
  {
   "cell_type": "code",
   "execution_count": 1986,
   "metadata": {},
   "outputs": [],
   "source": [
    "def talalat_plot_violin(axes,n_prediction_ts_good,n_prediction_ts_bad,n_prediction_ts_good_talalt,n_prediction_ts_good_nem_talalt):\n",
    "    y_icon_obs=0.65\n",
    "    y_icon_pred=0.5\n",
    "    if color_obs_right==color_obs_right0: x=0.72\n",
    "    else: x=0.47\n",
    "    axes[2].text(0.72, y_icon_obs, obs_talalt_glyph, \n",
    "            horizontalalignment='center', color=color_obs_right, fontproperties=prop2)\n",
    "    axes[2].text(0.9, y_icon_obs,n_prediction_ts_good, \n",
    "            horizontalalignment='center', color=color_obs_right, fontproperties=prop)\n",
    "    axes[2].text(0.47, y_icon_obs, obs_nem_talalt_glyph, \n",
    "            horizontalalignment='center', color=color_obs_left, fontproperties=prop2)\n",
    "    axes[2].text(0.29, y_icon_obs, n_prediction_ts_bad, \n",
    "            horizontalalignment='center', color=color_obs_left, fontproperties=prop)\n",
    "    \n",
    "    axes[2].text(0.72, y_icon_pred, pred_talalt_glyph,\n",
    "            horizontalalignment='center', color=color_pred_talalt, fontproperties=prop2)\n",
    "    axes[2].text(0.9, y_icon_pred, n_prediction_ts_good_talalt, \n",
    "            horizontalalignment='center', color=color_pred_talalt, fontproperties=prop)\n",
    "    axes[2].text(0.47, y_icon_pred, pred_nem_talalt_glyph, \n",
    "            horizontalalignment='center', color=color_pred_nem_talalt, fontproperties=prop2)\n",
    "    axes[2].text(0.29, y_icon_pred, n_prediction_ts_good_nem_talalt,\n",
    "            horizontalalignment='center', color=color_pred_nem_talalt, fontproperties=prop)\n",
    "    \n",
    "    axes[2].annotate('', xy=(0.59, y_icon_pred*1.04),xycoords='data',\n",
    "             xytext=(x, y_icon_obs*0.98),arrowprops=dict(arrowstyle= '->',color=color_obs_right0))"
   ]
  },
  {
   "cell_type": "code",
   "execution_count": 1987,
   "metadata": {},
   "outputs": [],
   "source": [
    "def talalat_plot(axes,ns,observation_th,prediction_th):\n",
    "    n_prediction_ts_good,n_prediction_ts_bad,n_prediction_ts_good_talalt,n_prediction_ts_good_nem_talalt=ns\n",
    "    talalat_plot_line(axes,n_prediction_ts_good,n_prediction_ts_bad,\n",
    "                        n_prediction_ts_good_talalt,n_prediction_ts_good_nem_talalt,\n",
    "                      observation_th,prediction_th)\n",
    "    talalat_plot_violin(axes,n_prediction_ts_good,n_prediction_ts_bad,\n",
    "                        n_prediction_ts_good_talalt,n_prediction_ts_good_nem_talalt)"
   ]
  },
  {
   "cell_type": "code",
   "execution_count": 1988,
   "metadata": {},
   "outputs": [],
   "source": [
    "def year_plot(data,ax,k):\n",
    "    y=data.values\n",
    "    x=data.index\n",
    "    ex=max(y)-min(y)\n",
    "    text_off=abs(ex*k)\n",
    "    text_align='left'\n",
    "    if y[0]<0:\n",
    "        text_off=-text_off\n",
    "        text_align='right'\n",
    "    ax.text(y[0]+text_off, x[0], str(x[0]), \n",
    "            horizontalalignment=text_align, verticalalignment='center', \n",
    "            color=color_ax, fontproperties=prop)\n",
    "    text_off=abs(text_off)\n",
    "    text_align='left'\n",
    "    if y[-1]<0:\n",
    "        text_off=-text_off\n",
    "        text_align='right'\n",
    "    ax.text(y[-1]+text_off, x[-1], str(x[-1]), \n",
    "            horizontalalignment=text_align, verticalalignment='center', \n",
    "            color=color_ax, fontproperties=prop)"
   ]
  },
  {
   "cell_type": "code",
   "execution_count": 1989,
   "metadata": {},
   "outputs": [],
   "source": [
    "def spine_plot(datum,title,mondas,jelentes,kondicio,mennyiseg,\n",
    "               observation_ts,observation_th,prediction_ts,prediction_th):\n",
    "    \n",
    "    #data\n",
    "    prediction_ts_good=prediction_ts.loc[observation_ts[observation_ts>observation_th].index]\n",
    "    prediction_ts_bad=prediction_ts.loc[observation_ts[observation_ts<=observation_th].index]\n",
    "    n_prediction_ts_good=len(prediction_ts_good)\n",
    "    n_prediction_ts_bad=len(prediction_ts_bad)\n",
    "    \n",
    "    if color_obs_right0!=color_obs_right:\n",
    "        prediction_ts_good,prediction_ts_bad=prediction_ts_bad,prediction_ts_good\n",
    "    prediction_ts_good_nem_talalt,prediction_ts_good_talalt,\\\n",
    "        prediction_ts_good_joined=get_data(prediction_ts_good,prediction_th)\n",
    "    n_prediction_ts_good_talalt=len(prediction_ts_good_talalt)\n",
    "    n_prediction_ts_good_nem_talalt=len(prediction_ts_good_nem_talalt)\n",
    "    ns=[n_prediction_ts_good,n_prediction_ts_bad,n_prediction_ts_good_talalt,n_prediction_ts_good_nem_talalt]\n",
    "    \n",
    "    #plots\n",
    "    fig, axes, axi_top, axi_bottom=setup_axes()\n",
    "    \n",
    "    stem2_plot(observation_ts,observation_th,axes[0],color_obs_left,color_obs_right,s/2,color_obs_right0)\n",
    "    stem2_plot(prediction_ts_good,prediction_th,axes[1],color_pred_left,color_pred_right)\n",
    "    stem_plot(prediction_ts_bad,axes[1],color_ax)\n",
    "    \n",
    "    violin_plot(observation_ts,observation_th,axi_top,color_obs_left,color_obs_right)\n",
    "    violin_plot(prediction_ts_good,prediction_th,axi_bottom,color_pred_left,color_pred_right)\n",
    "    \n",
    "    #icons\n",
    "    icons_plot(axes,kondicio,mennyiseg,observation_th,prediction_th)\n",
    "    \n",
    "    #talalat\n",
    "    talalat_plot(axes,ns,observation_th,prediction_th)\n",
    "    \n",
    "    #years\n",
    "    year_plot(observation_ts,axes[0],0.09)\n",
    "    year_plot(prediction_ts,axes[1],0.03)\n",
    "    \n",
    "    #titles\n",
    "    fig.text(0.5,0.04,datum[:-1].capitalize()+' - '+jelentes,color=color_ax,\n",
    "             fontproperties=prop,fontsize=font_size*0.7,horizontalalignment='center')\n",
    "    if n_prediction_ts_good_nem_talalt>=n_prediction_ts_good_talalt:\n",
    "        color_title=color_pred_nem_talalt\n",
    "        verdict=pred_nem_talalt_glyph\n",
    "    else: \n",
    "        color_title=color_pred_talalt\n",
    "        verdict=pred_talalt_glyph\n",
    "    plt.suptitle(title,y=0.1,color=color_title,fontproperties=prop,fontsize=font_size)\n",
    "    fig.text(0.96,0.04,verdict, fontproperties=prop2,\n",
    "            horizontalalignment='right', color=color_title, fontsize=font_size*2, )\n",
    "    \n",
    "    plt.savefig(c+'/'+str(mondas)+'.png',dpi=300, facecolor=color_bg)\n",
    "    plt.show()"
   ]
  },
  {
   "cell_type": "code",
   "execution_count": 1990,
   "metadata": {},
   "outputs": [],
   "source": [
    "def filter_data(dz,observation_range,prediction_range):\n",
    "    dgs=[]\n",
    "    dhs=[]\n",
    "    for year in range(int(dz.min()['year']),int(dz.max()['year'])):\n",
    "        k=0\n",
    "        from_date=pd.to_datetime(str(year)+'-'+str(observation_range[k].month)+'-'+str(observation_range[k].day))\n",
    "        from_pred=pd.to_datetime(str(year)+'-'+str(prediction_range[k].month)+'-'+str(prediction_range[k].day))\n",
    "        k=1\n",
    "        to_date=pd.to_datetime(str(year)+'-'+str(observation_range[k].month)+'-'+str(observation_range[k].day))\n",
    "        to_pred=pd.to_datetime(str(year)+'-'+str(prediction_range[k].month)+'-'+str(prediction_range[k].day))\n",
    "        if to_pred<to_date:\n",
    "            to_pred+=pd.to_timedelta('1Y')\n",
    "        dg=dz.loc[from_date:]\n",
    "        dg=dg[:to_date]\n",
    "        dg['pyear']=year\n",
    "        dgs.append(dg)\n",
    "        dh=dz.loc[from_pred:]\n",
    "        dh=dh[:to_pred]\n",
    "        dh['pyear']=year\n",
    "        dhs.append(dh)\n",
    "    return pd.concat(dgs),pd.concat(dhs)"
   ]
  },
  {
   "cell_type": "code",
   "execution_count": 1991,
   "metadata": {},
   "outputs": [
    {
     "data": {
      "text/html": [
       "<div>\n",
       "<style scoped>\n",
       "    .dataframe tbody tr th:only-of-type {\n",
       "        vertical-align: middle;\n",
       "    }\n",
       "\n",
       "    .dataframe tbody tr th {\n",
       "        vertical-align: top;\n",
       "    }\n",
       "\n",
       "    .dataframe thead th {\n",
       "        text-align: right;\n",
       "    }\n",
       "</style>\n",
       "<table border=\"1\" class=\"dataframe\">\n",
       "  <thead>\n",
       "    <tr style=\"text-align: right;\">\n",
       "      <th></th>\n",
       "      <th>XTEMP</th>\n",
       "      <th>XSPD</th>\n",
       "      <th>XPCP</th>\n",
       "      <th>XSD</th>\n",
       "      <th>XVSB</th>\n",
       "      <th>YFOG</th>\n",
       "      <th>YPCP</th>\n",
       "      <th>YSNW</th>\n",
       "      <th>YHAL</th>\n",
       "      <th>ID</th>\n",
       "      <th>year</th>\n",
       "      <th>month</th>\n",
       "      <th>day</th>\n",
       "      <th>hour</th>\n",
       "    </tr>\n",
       "    <tr>\n",
       "      <th>time</th>\n",
       "      <th></th>\n",
       "      <th></th>\n",
       "      <th></th>\n",
       "      <th></th>\n",
       "      <th></th>\n",
       "      <th></th>\n",
       "      <th></th>\n",
       "      <th></th>\n",
       "      <th></th>\n",
       "      <th></th>\n",
       "      <th></th>\n",
       "      <th></th>\n",
       "      <th></th>\n",
       "      <th></th>\n",
       "    </tr>\n",
       "  </thead>\n",
       "  <tbody>\n",
       "    <tr>\n",
       "      <td>1952-01-01</td>\n",
       "      <td>2.583333</td>\n",
       "      <td>2.890625</td>\n",
       "      <td>0.000000</td>\n",
       "      <td>NaN</td>\n",
       "      <td>5.601500</td>\n",
       "      <td>NaN</td>\n",
       "      <td>0.625000</td>\n",
       "      <td>0.000000</td>\n",
       "      <td>0.0</td>\n",
       "      <td>152287.500000</td>\n",
       "      <td>1952</td>\n",
       "      <td>1.0</td>\n",
       "      <td>1.0</td>\n",
       "      <td>0.0</td>\n",
       "    </tr>\n",
       "    <tr>\n",
       "      <td>1952-01-02</td>\n",
       "      <td>2.590278</td>\n",
       "      <td>7.469375</td>\n",
       "      <td>0.762000</td>\n",
       "      <td>NaN</td>\n",
       "      <td>7.191375</td>\n",
       "      <td>NaN</td>\n",
       "      <td>0.375000</td>\n",
       "      <td>0.375000</td>\n",
       "      <td>0.0</td>\n",
       "      <td>152562.500000</td>\n",
       "      <td>1952</td>\n",
       "      <td>1.0</td>\n",
       "      <td>2.0</td>\n",
       "      <td>0.0</td>\n",
       "    </tr>\n",
       "    <tr>\n",
       "      <td>1952-01-03</td>\n",
       "      <td>1.925926</td>\n",
       "      <td>3.854167</td>\n",
       "      <td>0.000000</td>\n",
       "      <td>NaN</td>\n",
       "      <td>6.479400</td>\n",
       "      <td>NaN</td>\n",
       "      <td>0.333333</td>\n",
       "      <td>0.000000</td>\n",
       "      <td>0.0</td>\n",
       "      <td>153150.000000</td>\n",
       "      <td>1952</td>\n",
       "      <td>1.0</td>\n",
       "      <td>3.0</td>\n",
       "      <td>0.0</td>\n",
       "    </tr>\n",
       "    <tr>\n",
       "      <td>1952-01-04</td>\n",
       "      <td>2.370370</td>\n",
       "      <td>4.933333</td>\n",
       "      <td>1.828800</td>\n",
       "      <td>NaN</td>\n",
       "      <td>9.190500</td>\n",
       "      <td>NaN</td>\n",
       "      <td>0.333333</td>\n",
       "      <td>0.333333</td>\n",
       "      <td>0.0</td>\n",
       "      <td>152995.000000</td>\n",
       "      <td>1952</td>\n",
       "      <td>1.0</td>\n",
       "      <td>4.0</td>\n",
       "      <td>0.0</td>\n",
       "    </tr>\n",
       "    <tr>\n",
       "      <td>1952-01-05</td>\n",
       "      <td>1.046296</td>\n",
       "      <td>12.919167</td>\n",
       "      <td>0.719667</td>\n",
       "      <td>NaN</td>\n",
       "      <td>8.947500</td>\n",
       "      <td>NaN</td>\n",
       "      <td>0.166667</td>\n",
       "      <td>0.166667</td>\n",
       "      <td>0.5</td>\n",
       "      <td>152311.666667</td>\n",
       "      <td>1952</td>\n",
       "      <td>1.0</td>\n",
       "      <td>5.0</td>\n",
       "      <td>0.0</td>\n",
       "    </tr>\n",
       "  </tbody>\n",
       "</table>\n",
       "</div>"
      ],
      "text/plain": [
       "               XTEMP       XSPD      XPCP  XSD      XVSB  YFOG      YPCP  \\\n",
       "time                                                                       \n",
       "1952-01-01  2.583333   2.890625  0.000000  NaN  5.601500   NaN  0.625000   \n",
       "1952-01-02  2.590278   7.469375  0.762000  NaN  7.191375   NaN  0.375000   \n",
       "1952-01-03  1.925926   3.854167  0.000000  NaN  6.479400   NaN  0.333333   \n",
       "1952-01-04  2.370370   4.933333  1.828800  NaN  9.190500   NaN  0.333333   \n",
       "1952-01-05  1.046296  12.919167  0.719667  NaN  8.947500   NaN  0.166667   \n",
       "\n",
       "                YSNW  YHAL             ID  year  month  day  hour  \n",
       "time                                                               \n",
       "1952-01-01  0.000000   0.0  152287.500000  1952    1.0  1.0   0.0  \n",
       "1952-01-02  0.375000   0.0  152562.500000  1952    1.0  2.0   0.0  \n",
       "1952-01-03  0.000000   0.0  153150.000000  1952    1.0  3.0   0.0  \n",
       "1952-01-04  0.333333   0.0  152995.000000  1952    1.0  4.0   0.0  \n",
       "1952-01-05  0.166667   0.5  152311.666667  1952    1.0  5.0   0.0  "
      ]
     },
     "execution_count": 1991,
     "metadata": {},
     "output_type": "execute_result"
    }
   ],
   "source": [
    "dz=df.groupby(['time']).mean()\n",
    "dz['year']=dz['year'].astype(int)\n",
    "dz.head()"
   ]
  },
  {
   "cell_type": "code",
   "execution_count": 1992,
   "metadata": {},
   "outputs": [],
   "source": [
    "def set_direction(kondicio, mennyiseg):\n",
    "    if kondicio:\n",
    "        color_obs_right=color_obs_right0\n",
    "        color_obs_left=color_obs_left0\n",
    "        obs_talalt_glyph='★'\n",
    "        obs_nem_talalt_glyph='☆'\n",
    "    else:\n",
    "        color_obs_right=color_obs_left0\n",
    "        color_obs_left=color_obs_right0\n",
    "        obs_talalt_glyph='☆'\n",
    "        obs_nem_talalt_glyph='★'\n",
    "    if mennyiseg:\n",
    "        color_pred_talalt=color_pred_talalt0\n",
    "        color_pred_nem_talalt=color_pred_nem_talalt0\n",
    "        pred_talalt_glyph='✔️'\n",
    "        pred_nem_talalt_glyph='✖️'\n",
    "    else:\n",
    "        color_pred_talalt=color_pred_nem_talalt0\n",
    "        color_pred_nem_talalt=color_pred_talalt0\n",
    "        pred_talalt_glyph='✖️'\n",
    "        pred_nem_talalt_glyph='✔️'\n",
    "    return color_obs_right,color_obs_left,obs_talalt_glyph,obs_nem_talalt_glyph,\\\n",
    "        color_pred_talalt,color_pred_nem_talalt,pred_talalt_glyph,pred_nem_talalt_glyph"
   ]
  },
  {
   "cell_type": "code",
   "execution_count": 2106,
   "metadata": {},
   "outputs": [],
   "source": [
    "def get_sign(sign,key):\n",
    "    positive=True\n",
    "    th=0\n",
    "    normalize=True\n",
    "    \n",
    "    if (('-' in sign) or ('+' in sign)):\n",
    "        th=0\n",
    "        normalize=True\n",
    "        if sign=='-':\n",
    "            positive=False\n",
    "        elif sign=='+':\n",
    "            positive=True\n",
    "    elif (('<' in sign) or ('>' in sign)):\n",
    "        normalize=False\n",
    "        if 'Y' in key:\n",
    "            th=th_key[key]\n",
    "        else:\n",
    "            th=int(sign[1:])\n",
    "        if '<' in sign:\n",
    "            positive=False\n",
    "        elif '>' in sign:\n",
    "            positive=True\n",
    "    return positive,th,normalize"
   ]
  },
  {
   "cell_type": "code",
   "execution_count": 2110,
   "metadata": {},
   "outputs": [],
   "source": [
    "def get_ts_data(prediction_data,pred_key,prediction_th,prediction_norm):\n",
    "    prediction_ts=prediction_data.groupby('year').mean()[pred_key]\n",
    "    if 'Y' not in pred_key:\n",
    "        if not prediction_norm:\n",
    "            prediction_th-=prediction_ts.mean()\n",
    "        else:\n",
    "            prediction_ts=prediction_ts-prediction_ts.mean()\n",
    "    return prediction_ts,prediction_th"
   ]
  },
  {
   "cell_type": "code",
   "execution_count": 2111,
   "metadata": {},
   "outputs": [],
   "source": [
    "nepi=pd.read_excel('idojaras3.xlsx')"
   ]
  },
  {
   "cell_type": "code",
   "execution_count": 2112,
   "metadata": {},
   "outputs": [
    {
     "ename": "ValueError",
     "evalue": "There must be exactly two hue levels to use `split`.'",
     "output_type": "error",
     "traceback": [
      "\u001b[1;31m---------------------------------------------------------------------------\u001b[0m",
      "\u001b[1;31mValueError\u001b[0m                                Traceback (most recent call last)",
      "\u001b[1;32m<ipython-input-2112-e605a4efef34>\u001b[0m in \u001b[0;36m<module>\u001b[1;34m\u001b[0m\n\u001b[0;32m     23\u001b[0m \u001b[1;33m\u001b[0m\u001b[0m\n\u001b[0;32m     24\u001b[0m         spine_plot(nep['Dátums'],nep['Mondás'].strip(),mondas,nep['Jelentés'].strip(),nep['Kondíció'],nep['Mennyiség'],\n\u001b[1;32m---> 25\u001b[1;33m                observation_ts,observation_th,prediction_ts,prediction_th)\n\u001b[0m",
      "\u001b[1;32m<ipython-input-1989-26b9f0ec69b5>\u001b[0m in \u001b[0;36mspine_plot\u001b[1;34m(datum, title, mondas, jelentes, kondicio, mennyiseg, observation_ts, observation_th, prediction_ts, prediction_th)\u001b[0m\n\u001b[0;32m     23\u001b[0m     \u001b[0mstem_plot\u001b[0m\u001b[1;33m(\u001b[0m\u001b[0mprediction_ts_bad\u001b[0m\u001b[1;33m,\u001b[0m\u001b[0maxes\u001b[0m\u001b[1;33m[\u001b[0m\u001b[1;36m1\u001b[0m\u001b[1;33m]\u001b[0m\u001b[1;33m,\u001b[0m\u001b[0mcolor_ax\u001b[0m\u001b[1;33m)\u001b[0m\u001b[1;33m\u001b[0m\u001b[1;33m\u001b[0m\u001b[0m\n\u001b[0;32m     24\u001b[0m \u001b[1;33m\u001b[0m\u001b[0m\n\u001b[1;32m---> 25\u001b[1;33m     \u001b[0mviolin_plot\u001b[0m\u001b[1;33m(\u001b[0m\u001b[0mobservation_ts\u001b[0m\u001b[1;33m,\u001b[0m\u001b[0mobservation_th\u001b[0m\u001b[1;33m,\u001b[0m\u001b[0maxi_top\u001b[0m\u001b[1;33m,\u001b[0m\u001b[0mcolor_obs_left\u001b[0m\u001b[1;33m,\u001b[0m\u001b[0mcolor_obs_right\u001b[0m\u001b[1;33m)\u001b[0m\u001b[1;33m\u001b[0m\u001b[1;33m\u001b[0m\u001b[0m\n\u001b[0m\u001b[0;32m     26\u001b[0m     \u001b[0mviolin_plot\u001b[0m\u001b[1;33m(\u001b[0m\u001b[0mprediction_ts_good\u001b[0m\u001b[1;33m,\u001b[0m\u001b[0mprediction_th\u001b[0m\u001b[1;33m,\u001b[0m\u001b[0maxi_bottom\u001b[0m\u001b[1;33m,\u001b[0m\u001b[0mcolor_pred_left\u001b[0m\u001b[1;33m,\u001b[0m\u001b[0mcolor_pred_right\u001b[0m\u001b[1;33m)\u001b[0m\u001b[1;33m\u001b[0m\u001b[1;33m\u001b[0m\u001b[0m\n\u001b[0;32m     27\u001b[0m \u001b[1;33m\u001b[0m\u001b[0m\n",
      "\u001b[1;32m<ipython-input-1980-a5268a859f2a>\u001b[0m in \u001b[0;36mviolin_plot\u001b[1;34m(data, th, ax, color_left, color_right)\u001b[0m\n\u001b[0;32m      5\u001b[0m     sns.violinplot(y=a1.columns[0], x='x',hue='g', data=a3, split=True, ax=ax,\n\u001b[0;32m      6\u001b[0m                    \u001b[0mpalette\u001b[0m\u001b[1;33m=\u001b[0m\u001b[1;33m{\u001b[0m\u001b[1;34m\"left\"\u001b[0m\u001b[1;33m:\u001b[0m \u001b[0mcolor_left\u001b[0m\u001b[1;33m,\u001b[0m \u001b[1;34m\"right\"\u001b[0m\u001b[1;33m:\u001b[0m \u001b[0mcolor_right\u001b[0m\u001b[1;33m}\u001b[0m\u001b[1;33m,\u001b[0m\u001b[1;33m\u001b[0m\u001b[1;33m\u001b[0m\u001b[0m\n\u001b[1;32m----> 7\u001b[1;33m                   inner=None,linewidth=1, scale=\"count\", saturation=1)\n\u001b[0m\u001b[0;32m      8\u001b[0m     \u001b[0max\u001b[0m\u001b[1;33m.\u001b[0m\u001b[0mget_children\u001b[0m\u001b[1;33m(\u001b[0m\u001b[1;33m)\u001b[0m\u001b[1;33m[\u001b[0m\u001b[1;36m0\u001b[0m\u001b[1;33m]\u001b[0m\u001b[1;33m.\u001b[0m\u001b[0mset_color\u001b[0m\u001b[1;33m(\u001b[0m\u001b[0mmatplotlib\u001b[0m\u001b[1;33m.\u001b[0m\u001b[0mcolors\u001b[0m\u001b[1;33m.\u001b[0m\u001b[0mcolorConverter\u001b[0m\u001b[1;33m.\u001b[0m\u001b[0mto_rgba\u001b[0m\u001b[1;33m(\u001b[0m\u001b[0mcolor_left\u001b[0m\u001b[1;33m,\u001b[0m \u001b[0malpha\u001b[0m\u001b[1;33m=\u001b[0m\u001b[0ma\u001b[0m\u001b[1;33m)\u001b[0m\u001b[1;33m)\u001b[0m\u001b[1;33m\u001b[0m\u001b[1;33m\u001b[0m\u001b[0m\n\u001b[0;32m      9\u001b[0m     \u001b[0max\u001b[0m\u001b[1;33m.\u001b[0m\u001b[0mget_children\u001b[0m\u001b[1;33m(\u001b[0m\u001b[1;33m)\u001b[0m\u001b[1;33m[\u001b[0m\u001b[1;36m0\u001b[0m\u001b[1;33m]\u001b[0m\u001b[1;33m.\u001b[0m\u001b[0mset_edgecolor\u001b[0m\u001b[1;33m(\u001b[0m\u001b[0mcolor_left\u001b[0m\u001b[1;33m)\u001b[0m\u001b[1;33m\u001b[0m\u001b[1;33m\u001b[0m\u001b[0m\n",
      "\u001b[1;32mC:\\ProgramData\\Anaconda3\\lib\\site-packages\\seaborn\\categorical.py\u001b[0m in \u001b[0;36mviolinplot\u001b[1;34m(x, y, hue, data, order, hue_order, bw, cut, scale, scale_hue, gridsize, width, inner, split, dodge, orient, linewidth, color, palette, saturation, ax, **kwargs)\u001b[0m\n\u001b[0;32m   2385\u001b[0m                              \u001b[0mbw\u001b[0m\u001b[1;33m,\u001b[0m \u001b[0mcut\u001b[0m\u001b[1;33m,\u001b[0m \u001b[0mscale\u001b[0m\u001b[1;33m,\u001b[0m \u001b[0mscale_hue\u001b[0m\u001b[1;33m,\u001b[0m \u001b[0mgridsize\u001b[0m\u001b[1;33m,\u001b[0m\u001b[1;33m\u001b[0m\u001b[1;33m\u001b[0m\u001b[0m\n\u001b[0;32m   2386\u001b[0m                              \u001b[0mwidth\u001b[0m\u001b[1;33m,\u001b[0m \u001b[0minner\u001b[0m\u001b[1;33m,\u001b[0m \u001b[0msplit\u001b[0m\u001b[1;33m,\u001b[0m \u001b[0mdodge\u001b[0m\u001b[1;33m,\u001b[0m \u001b[0morient\u001b[0m\u001b[1;33m,\u001b[0m \u001b[0mlinewidth\u001b[0m\u001b[1;33m,\u001b[0m\u001b[1;33m\u001b[0m\u001b[1;33m\u001b[0m\u001b[0m\n\u001b[1;32m-> 2387\u001b[1;33m                              color, palette, saturation)\n\u001b[0m\u001b[0;32m   2388\u001b[0m \u001b[1;33m\u001b[0m\u001b[0m\n\u001b[0;32m   2389\u001b[0m     \u001b[1;32mif\u001b[0m \u001b[0max\u001b[0m \u001b[1;32mis\u001b[0m \u001b[1;32mNone\u001b[0m\u001b[1;33m:\u001b[0m\u001b[1;33m\u001b[0m\u001b[1;33m\u001b[0m\u001b[0m\n",
      "\u001b[1;32mC:\\ProgramData\\Anaconda3\\lib\\site-packages\\seaborn\\categorical.py\u001b[0m in \u001b[0;36m__init__\u001b[1;34m(self, x, y, hue, data, order, hue_order, bw, cut, scale, scale_hue, gridsize, width, inner, split, dodge, orient, linewidth, color, palette, saturation)\u001b[0m\n\u001b[0;32m    579\u001b[0m         \u001b[1;32mif\u001b[0m \u001b[0msplit\u001b[0m \u001b[1;32mand\u001b[0m \u001b[0mself\u001b[0m\u001b[1;33m.\u001b[0m\u001b[0mhue_names\u001b[0m \u001b[1;32mis\u001b[0m \u001b[1;32mnot\u001b[0m \u001b[1;32mNone\u001b[0m \u001b[1;32mand\u001b[0m \u001b[0mlen\u001b[0m\u001b[1;33m(\u001b[0m\u001b[0mself\u001b[0m\u001b[1;33m.\u001b[0m\u001b[0mhue_names\u001b[0m\u001b[1;33m)\u001b[0m \u001b[1;33m!=\u001b[0m \u001b[1;36m2\u001b[0m\u001b[1;33m:\u001b[0m\u001b[1;33m\u001b[0m\u001b[1;33m\u001b[0m\u001b[0m\n\u001b[0;32m    580\u001b[0m             \u001b[0mmsg\u001b[0m \u001b[1;33m=\u001b[0m \u001b[1;34m\"There must be exactly two hue levels to use `split`.'\"\u001b[0m\u001b[1;33m\u001b[0m\u001b[1;33m\u001b[0m\u001b[0m\n\u001b[1;32m--> 581\u001b[1;33m             \u001b[1;32mraise\u001b[0m \u001b[0mValueError\u001b[0m\u001b[1;33m(\u001b[0m\u001b[0mmsg\u001b[0m\u001b[1;33m)\u001b[0m\u001b[1;33m\u001b[0m\u001b[1;33m\u001b[0m\u001b[0m\n\u001b[0m\u001b[0;32m    582\u001b[0m         \u001b[0mself\u001b[0m\u001b[1;33m.\u001b[0m\u001b[0msplit\u001b[0m \u001b[1;33m=\u001b[0m \u001b[0msplit\u001b[0m\u001b[1;33m\u001b[0m\u001b[1;33m\u001b[0m\u001b[0m\n\u001b[0;32m    583\u001b[0m \u001b[1;33m\u001b[0m\u001b[0m\n",
      "\u001b[1;31mValueError\u001b[0m: There must be exactly two hue levels to use `split`.'"
     ]
    },
    {
     "data": {
      "image/png": "[encoded data removed]",
      "text/plain": [
       "<Figure size 576x360 with 3 Axes>"
      ]
     },
     "metadata": {
      "needs_background": "light"
     },
     "output_type": "display_data"
    }
   ],
   "source": [
    "mennyiseg_key={'Temp':'XTEMP','Snow Depth':'XSD','Wind':'XSPD','Rain':'YPCP','Visib':'XVSB',\n",
    "              'Snow':'YSNW','Hail':'YHAL'}\n",
    "th_key={'YSNW':0.2,'YPCP':0.2,'YHAL':0}\n",
    "mondasok=[4]\n",
    "for mondas in mondasok:\n",
    "    nep=nepi.loc[mondas]\n",
    "    if str(nep['Mennyiség'])!='nan':\n",
    "        obs_key=mennyiseg_key[nep['Kondíció']]\n",
    "        pred_key=mennyiseg_key[nep['Mennyiség']]\n",
    "        kondicio,observation_th,observation_norm=get_sign(nep['Érték'],obs_key)\n",
    "        mennyiseg,prediction_th,prediction_norm=get_sign(nep['Irány'],pred_key)\n",
    "        observation_range=[nep['Dátum:mettől']+pd.to_timedelta('-1D'),nep['Dátum:meddig']+pd.to_timedelta('+2D')]\n",
    "        prediction_range=[nep['Periódus:mettől'],nep['Periódus:meddig']+pd.to_timedelta('+1D')]\n",
    "\n",
    "        observation_data,prediction_data=filter_data(dz,observation_range,prediction_range)\n",
    "        \n",
    "        observation_ts,observation_th=get_ts_data(observation_data,obs_key,observation_th,observation_norm)\n",
    "        prediction_ts,prediction_th=get_ts_data(prediction_data,pred_key,prediction_th,prediction_norm)\n",
    "\n",
    "        color_obs_right,color_obs_left,obs_talalt_glyph,obs_nem_talalt_glyph,\\\n",
    "            color_pred_talalt,color_pred_nem_talalt,pred_talalt_glyph,pred_nem_talalt_glyph=\\\n",
    "            set_direction(kondicio, mennyiseg)\n",
    "\n",
    "        spine_plot(nep['Dátums'],nep['Mondás'].strip(),mondas,nep['Jelentés'].strip(),nep['Kondíció'],nep['Mennyiség'],\n",
    "               observation_ts,observation_th,prediction_ts,prediction_th)"
   ]
  },
  {
   "cell_type": "code",
   "execution_count": 2113,
   "metadata": {},
   "outputs": [
    {
     "data": {
      "text/plain": [
       "0.16513671998060797"
      ]
     },
     "execution_count": 2113,
     "metadata": {},
     "output_type": "execute_result"
    }
   ],
   "source": [
    "observation_th"
   ]
  },
  {
   "cell_type": "code",
   "execution_count": 2115,
   "metadata": {},
   "outputs": [
    {
     "data": {
      "text/plain": [
       "year\n",
       "1952    6.406406\n",
       "1953    8.156361\n",
       "1954    5.156642\n",
       "1955    4.606129\n",
       "1956    6.489053\n",
       "          ...   \n",
       "2014    7.624494\n",
       "2015    8.100333\n",
       "2016    7.726531\n",
       "2017    6.960005\n",
       "2018    8.292452\n",
       "Name: XVSB, Length: 62, dtype: float64"
      ]
     },
     "execution_count": 2115,
     "metadata": {},
     "output_type": "execute_result"
    }
   ],
   "source": [
    "observation_ts"
   ]
  }
 ],
 "metadata": {
  "kernelspec": {
   "display_name": "Python 3",
   "language": "python",
   "name": "python3"
  },
  "language_info": {
   "codemirror_mode": {
    "name": "ipython",
    "version": 3
   },
   "file_extension": ".py",
   "mimetype": "text/x-python",
   "name": "python",
   "nbconvert_exporter": "python",
   "pygments_lexer": "ipython3",
   "version": "3.7.4"
  }
 },
 "nbformat": 4,
 "nbformat_minor": 4
}
