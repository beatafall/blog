{
 "cells": [
  {
   "cell_type": "code",
   "execution_count": 1,
   "metadata": {},
   "outputs": [],
   "source": [
    "import pandas as pd, numpy as np\n",
    "import matplotlib.pyplot as plt\n",
    "%matplotlib inline"
   ]
  },
  {
   "cell_type": "code",
   "execution_count": 2,
   "metadata": {},
   "outputs": [],
   "source": [
    "p='E:/Onedrive - Lancaster University/Datarepo/szekelydata/klima/'"
   ]
  },
  {
   "cell_type": "code",
   "execution_count": 3,
   "metadata": {},
   "outputs": [],
   "source": [
    "stations=pd.read_csv(p+'stations.csv')\n",
    "stations=stations.set_index('ID')\n",
    "stations.to_csv('data/stations.csv')"
   ]
  },
  {
   "cell_type": "markdown",
   "metadata": {},
   "source": [
    "0: NoCloud\n",
    "1: Cloud\n",
    "4: Fog\n",
    "6: Rain\n",
    "7: Snow\n",
    "11: Hail"
   ]
  },
  {
   "cell_type": "code",
   "execution_count": 4,
   "metadata": {},
   "outputs": [],
   "source": [
    "weather={\n",
    "2:1,\n",
    "3:7,\n",
    "5:6,\n",
    "8:6,\n",
    "9:6,\n",
    "100:0,\n",
    "101:0,\n",
    "102:0,\n",
    "103:0,\n",
    "104:0,\n",
    "105:0,\n",
    "106:0,\n",
    "107:0,\n",
    "108:0,\n",
    "109:0,\n",
    "110:4,\n",
    "111:4,\n",
    "112:4,\n",
    "113:1,\n",
    "114:6,\n",
    "115:6,\n",
    "116:6,\n",
    "117:6,\n",
    "118:6,\n",
    "119:1,\n",
    "120:7,\n",
    "121:6,\n",
    "122:7,\n",
    "123:6,\n",
    "124:11,\n",
    "125:6,\n",
    "126:7,\n",
    "127:11,\n",
    "128:4,\n",
    "129:6,\n",
    "130:1,\n",
    "131:1,\n",
    "132:1,\n",
    "133:1,\n",
    "134:1,\n",
    "135:1,\n",
    "136:7,\n",
    "137:7,\n",
    "138:7,\n",
    "139:7,\n",
    "140:4,\n",
    "141:4,\n",
    "142:4,\n",
    "143:4,\n",
    "144:4,\n",
    "145:4,\n",
    "146:4,\n",
    "147:4,\n",
    "148:4,\n",
    "149:4,\n",
    "150:6,\n",
    "151:6,\n",
    "152:6,\n",
    "153:6,\n",
    "154:6,\n",
    "155:6,\n",
    "156:6,\n",
    "157:6,\n",
    "158:6,\n",
    "159:6,\n",
    "160:6,\n",
    "161:6,\n",
    "162:6,\n",
    "163:6,\n",
    "164:6,\n",
    "165:6,\n",
    "166:11,\n",
    "167:11,\n",
    "168:6,\n",
    "169:6,\n",
    "170:7,\n",
    "171:7,\n",
    "172:7,\n",
    "173:7,\n",
    "174:7,\n",
    "175:7,\n",
    "176:7,\n",
    "177:7,\n",
    "178:7,\n",
    "179:7,\n",
    "180:6,\n",
    "181:6,\n",
    "182:6,\n",
    "183:7,\n",
    "184:7,\n",
    "185:7,\n",
    "186:7,\n",
    "187:7,\n",
    "188:7,\n",
    "189:11,\n",
    "190:11,\n",
    "191:6,\n",
    "192:6,\n",
    "193:7,\n",
    "194:7,\n",
    "195:6,\n",
    "196:11,\n",
    "197:6,\n",
    "198:1,\n",
    "199:11}"
   ]
  },
  {
   "cell_type": "code",
   "execution_count": 5,
   "metadata": {},
   "outputs": [],
   "source": [
    "measures=['XTEMP','XSPD','XPCP','XSD','XVSB','YFOG','YPCP','YSNW','YHAL']\n",
    "ycolumns={1:'YCLD',4:'YFOG',6:'YPCP',7:'YSNW',10:'YCLR',11:'YHAL'}"
   ]
  },
  {
   "cell_type": "code",
   "execution_count": 6,
   "metadata": {},
   "outputs": [],
   "source": [
    "def load_data(stn,d='high_res',p=p,stations=stations,verbose=True):\n",
    "    if verbose:\n",
    "        print('loading...',stn,stations.loc[int(stn)]['LOC'],d)\n",
    "    df=pd.read_csv(p+'/'+d+'/export/'+stn+'.csv',dtype={' FRSHTT':str})\n",
    "    df.columns=[i.strip() for i in df.columns]\n",
    "    df['time']=pd.to_datetime(df['time'])\n",
    "    df['XTEMP']=(pd.to_numeric(df['TEMP'], errors='coerce').replace(9999.9,np.nan)-32)*5/9 #Fahrenheit to Celsiu\n",
    "    if d=='high_res':\n",
    "        df['XSPD']=pd.to_numeric(df['SPD'], errors='coerce')*1.61 #MPH to Km/h\n",
    "        df['XVSB']=(pd.to_numeric(df['VSB'], errors='coerce')*1.61).apply(lambda x: min(x,10)) #miles to Km, max VSB=20Km\n",
    "        df['XPCP']=pd.to_numeric(df['PCP06'], errors='coerce')*25.4 #inch to mm\n",
    "        df['XSD']=pd.to_numeric(df['SD'], errors='coerce')*25.4 #inch to mm\n",
    "        \n",
    "        df['PCP01']=pd.to_numeric(df['PCP01'], errors='coerce')\n",
    "        df['PCP06']=pd.to_numeric(df['PCP06'], errors='coerce')\n",
    "        df['PCP24']=pd.to_numeric(df['PCP24'], errors='coerce')\n",
    "        df['PCPXX']=pd.to_numeric(df['PCPXX'], errors='coerce')\n",
    "        df['PCP06'].loc[~df['PCP06'].isnull()] = 6\n",
    "        df['PCPXX'].loc[~df['PCPXX'].isnull()] = 6\n",
    "        df['PCP01'].loc[~df['PCP01'].isnull()] = 6\n",
    "        df['PCP24'].loc[~df['PCP24'].isnull()] = 6\n",
    "        df['AW']=pd.to_numeric(df['AW'], errors='coerce')+100\n",
    "        df['MW']=pd.to_numeric(df['MW'], errors='coerce')+100\n",
    "        df['W']=pd.to_numeric(df['W'], errors='coerce')\n",
    "        dz=df[['PCP01','PCP06','PCP24','PCPXX','AW','MW','W']]\n",
    "        df['W']=dz.ffill(axis=1)['W'].replace(weather).replace(0,10)\n",
    "        dz=df.groupby(['time','W']).count()['TEMP'].unstack().fillna(0)\n",
    "        dz.columns=[ycolumns[i] for i in dz.columns]\n",
    "        df=df.set_index('time').join(dz).reset_index()\n",
    "    else:\n",
    "        df['year']=df['time'].dt.year\n",
    "        df['month']=df['time'].dt.month\n",
    "        df['day']=df['time'].dt.day\n",
    "        df['hour']=df['time'].dt.hour\n",
    "        df['XSPD']=pd.to_numeric(df['WDSP'], errors='coerce').replace(999.9,np.nan)*1.85 #knots to Km/h\n",
    "        df['XVSB']=(pd.to_numeric(df['VISIB'], errors='coerce').replace(999.9,np.nan)*1.61).apply(lambda x: min(x,10)) #miles to Km, max VSB=20Km\n",
    "        df['XPCP']=pd.to_numeric(df['PRCP'].str[:-1], errors='coerce').replace(99.99,np.nan)*25.4 #inch to mm\n",
    "        df['XSD']=pd.to_numeric(df['SNDP'], errors='coerce').replace(999.9,np.nan)*25.4 #inch to mm\n",
    "        \n",
    "        df['YFOG']=pd.to_numeric(df['FRSHTT'].str[0], errors='coerce')\n",
    "        df['YPCP']=pd.to_numeric(df['FRSHTT'].str[1], errors='coerce')\n",
    "        df['YSNW']=pd.to_numeric(df['FRSHTT'].str[2], errors='coerce')\n",
    "        df['YHAL']=pd.to_numeric(df['FRSHTT'].str[3], errors='coerce')\n",
    "    for m in measures:\n",
    "        if m not in df.columns:\n",
    "            df[m]=np.nan\n",
    "    return df[['time','year','month','day','hour']+measures].set_index('time')"
   ]
  },
  {
   "cell_type": "code",
   "execution_count": 331,
   "metadata": {},
   "outputs": [
    {
     "name": "stdout",
     "output_type": "stream",
     "text": [
      "loading... 151200 CLUJ NAPOCA daily\n",
      "loading... 151200 CLUJ NAPOCA high_res\n"
     ]
    }
   ],
   "source": [
    "# stn='154200' #aurel vlaicu\n",
    "# stn='151700' #mciuc\n",
    "# stn='128390' #bp\n",
    "# stn='128510' #kekes\n",
    "stn='151200' #kv\n",
    "# stn='152800' #omu\n",
    "daily=load_data(stn,'daily')\n",
    "hires=load_data(stn,'high_res')"
   ]
  },
  {
   "cell_type": "code",
   "execution_count": 332,
   "metadata": {},
   "outputs": [],
   "source": [
    "df=hires[hires['month']>8]\n",
    "dz=df[df['XSD']>20].reset_index().groupby('year').min()[['time']]\n",
    "dz=dz.T\n",
    "dz[2019]=pd.to_datetime('2019-12-02')\n",
    "dz=dz.T\n",
    "dz['month']=dz['time'].dt.month\n",
    "dz['day']=dz['time'].dt.day\n",
    "dz['d']=pd.to_datetime(dict(year='2019', month=dz['month'], day=dz['day'])).values\n",
    "dk2=dz['d']"
   ]
  },
  {
   "cell_type": "code",
   "execution_count": 348,
   "metadata": {},
   "outputs": [],
   "source": [
    "df=daily[daily['month']>8]\n",
    "dz=df[df['XSD']>20].reset_index().groupby('year').min()[['time']]\n",
    "dz=dz.T\n",
    "dz[2019]=pd.to_datetime('2019-12-02')\n",
    "dz=dz.T\n",
    "dz['month']=dz['time'].dt.month\n",
    "dz['day']=dz['time'].dt.day\n",
    "dz['d']=pd.to_datetime(dict(year='2019', month=dz['month'], day=dz['day'])).values\n",
    "dk1=dz['d']"
   ]
  },
  {
   "cell_type": "code",
   "execution_count": 352,
   "metadata": {},
   "outputs": [
    {
     "data": {
      "image/png": "[encoded data removed]",
      "text/plain": [
       "<Figure size 432x288 with 1 Axes>"
      ]
     },
     "metadata": {
      "needs_background": "light"
     },
     "output_type": "display_data"
    }
   ],
   "source": [
    "fig,ax=plt.subplots(1,1)\n",
    "colors=['#cccccc','#8E94F2','#4BC0D9','#6457A6','#8E94F2','#4BC0D9','#6457A6','#8E94F2','#4BC0D9','#6457A6']\n",
    "dates=['2019-10','2019-11','2019-12','2020-01']\n",
    "months=['október','november','december']\n",
    "for i in range(1,len(dates)):\n",
    "    a1=dk1[dk1<dates[i]]\n",
    "    a1=dk1[dk1>dates[i-1]]\n",
    "    ax.scatter(a1.values,a1.index,s=0,color=colors[i],alpha=0.3)\n",
    "#     a1=dk2[dk2<dates[i]]\n",
    "#     a1=dk2[dk2>dates[i-1]]\n",
    "#     ax.scatter(a1.values,a1.index,s=50,marker='x',color=colors[i],alpha=0.3)\n",
    "    x=a1.values\n",
    "    y=a1.index\n",
    "    for j in range(len(x)):\n",
    "        ax.text(x[j],y[j],'❄️',fontsize=20,color=colors[i],verticalalignment='center',horizontalalignment='center')\n",
    "        if y[j] in [2000,2019,1980,1999,2007,2016]:\n",
    "            ax.text(x[j],y[j],str(y[j])+'   ',fontsize=10,color=colors[i],verticalalignment='center',horizontalalignment='right')\n",
    "        if y[j] in [1986,1993,1978]:\n",
    "#         if True:\n",
    "            ax.text(x[j],y[j],'   '+str(y[j]),fontsize=10,color=colors[i],verticalalignment='center',horizontalalignment='left')\n",
    "for a in dates:\n",
    "    ax.axvline(a,ls='--',c=colors[0])\n",
    "ax.axis('off')\n",
    "plt.savefig(stn+'elsoho.png',dpi=300,transparent=True)\n",
    "plt.show()"
   ]
  },
  {
   "cell_type": "code",
   "execution_count": null,
   "metadata": {},
   "outputs": [],
   "source": []
  }
 ],
 "metadata": {
  "kernelspec": {
   "display_name": "Python 3",
   "language": "python",
   "name": "python3"
  },
  "language_info": {
   "codemirror_mode": {
    "name": "ipython",
    "version": 3
   },
   "file_extension": ".py",
   "mimetype": "text/x-python",
   "name": "python",
   "nbconvert_exporter": "python",
   "pygments_lexer": "ipython3",
   "version": "3.7.4"
  }
 },
 "nbformat": 4,
 "nbformat_minor": 4
}
