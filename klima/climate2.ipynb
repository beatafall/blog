{
 "cells": [
  {
   "cell_type": "code",
   "execution_count": 2,
   "metadata": {},
   "outputs": [],
   "source": [
    "import pandas as pd, numpy as np"
   ]
  },
  {
   "cell_type": "code",
   "execution_count": 3,
   "metadata": {},
   "outputs": [],
   "source": [
    "ro=['5765358043206','9812808043220','9576658043223','1699958043227','7225068043228','265208043229']\n",
    "hu=['8073718043234','2087988043232','6247548043235']"
   ]
  },
  {
   "cell_type": "code",
   "execution_count": 4,
   "metadata": {},
   "outputs": [
    {
     "name": "stdout",
     "output_type": "stream",
     "text": [
      "5765358043206\n",
      "9812808043220\n",
      "9576658043223\n",
      "1699958043227\n",
      "7225068043228\n",
      "265208043229\n",
      "8073718043234\n",
      "2087988043232\n",
      "6247548043235\n"
     ]
    }
   ],
   "source": [
    "stations=[]\n",
    "for i in ro+hu:\n",
    "    stations.append(pd.read_csv(i+'stn+.txt',delimiter= '+',skiprows=2,header=None))\n",
    "    print(i)"
   ]
  },
  {
   "cell_type": "code",
   "execution_count": 5,
   "metadata": {},
   "outputs": [],
   "source": [
    "station=pd.concat(stations)"
   ]
  },
  {
   "cell_type": "code",
   "execution_count": 6,
   "metadata": {},
   "outputs": [],
   "source": [
    "station=station.drop_duplicates()"
   ]
  },
  {
   "cell_type": "code",
   "execution_count": 7,
   "metadata": {},
   "outputs": [],
   "source": [
    "station[2]=station[2].str.strip()"
   ]
  },
  {
   "cell_type": "code",
   "execution_count": 195,
   "metadata": {},
   "outputs": [
    {
     "name": "stdout",
     "output_type": "stream",
     "text": [
      "5765358043206\n",
      "9812808043220\n",
      "9576658043223\n",
      "1699958043227\n",
      "7225068043228\n",
      "265208043229\n"
     ]
    },
    {
     "name": "stderr",
     "output_type": "stream",
     "text": [
      "C:\\ProgramData\\Anaconda3\\envs\\plotly\\lib\\site-packages\\IPython\\core\\interactiveshell.py:3058: DtypeWarning:\n",
      "\n",
      "Columns (4,11,12,21,22,23,25) have mixed types. Specify dtype option on import or set low_memory=False.\n",
      "\n"
     ]
    },
    {
     "name": "stdout",
     "output_type": "stream",
     "text": [
      "8073718043234\n",
      "2087988043232\n"
     ]
    },
    {
     "name": "stderr",
     "output_type": "stream",
     "text": [
      "C:\\ProgramData\\Anaconda3\\envs\\plotly\\lib\\site-packages\\IPython\\core\\interactiveshell.py:3058: DtypeWarning:\n",
      "\n",
      "Columns (4,11,12,20,21,22,23,24,25) have mixed types. Specify dtype option on import or set low_memory=False.\n",
      "\n"
     ]
    },
    {
     "name": "stdout",
     "output_type": "stream",
     "text": [
      "6247548043235\n"
     ]
    }
   ],
   "source": [
    "dfs=[]\n",
    "for i in ro+hu:\n",
    "    df=pd.read_csv(i+'dat.txt',delimiter= '\\s+')\n",
    "    df=df.replace({'******':np.nan,'*****':np.nan,'****':np.nan,'***':np.nan,'**':np.nan,'*':np.nan})\n",
    "    df['time']=pd.to_datetime(df['YR--MODAHRMN'],format='%Y%m%d%H%M')\n",
    "    df=df[['time','USAF','SPD','TEMP','PCP06','SD','MW','AW','W']]\n",
    "    df['TEMP']=(pd.to_numeric(df['TEMP'], errors='coerce')-32)*5/9\n",
    "    df['SPD']=pd.to_numeric(df['SPD'], errors='coerce')*1.61\n",
    "    df['PCP06']=pd.to_numeric(df['PCP06'], errors='coerce')*25.4\n",
    "    df['SD']=pd.to_numeric(df['SD'], errors='coerce')*25.4\n",
    "    dfs.append(df)\n",
    "    print(i)"
   ]
  },
  {
   "cell_type": "code",
   "execution_count": 200,
   "metadata": {},
   "outputs": [],
   "source": [
    "dfs=pd.concat(dfs)"
   ]
  },
  {
   "cell_type": "code",
   "execution_count": 201,
   "metadata": {},
   "outputs": [],
   "source": [
    "dfs=dfs.drop_duplicates()"
   ]
  },
  {
   "cell_type": "code",
   "execution_count": 202,
   "metadata": {},
   "outputs": [],
   "source": [
    "dfs.to_csv('data/all.csv')"
   ]
  },
  {
   "cell_type": "code",
   "execution_count": 8,
   "metadata": {},
   "outputs": [],
   "source": [
    "# dfs=pd.read_csv('data/all.csv')"
   ]
  },
  {
   "cell_type": "code",
   "execution_count": 9,
   "metadata": {},
   "outputs": [],
   "source": [
    "dfs['time']=pd.to_datetime(dfs['time'])\n",
    "dfs['year']=dfs['time'].dt.year\n",
    "dfs['month']=dfs['time'].dt.month\n",
    "dfs['day']=dfs['time'].dt.day\n",
    "dfs['hour']=dfs['time'].dt.hour"
   ]
  },
  {
   "cell_type": "code",
   "execution_count": 10,
   "metadata": {},
   "outputs": [],
   "source": [
    "df=dfs.groupby(['USAF','year','month','day','hour'])[['TEMP','SPD','SD','PCP06']]"
   ]
  },
  {
   "cell_type": "code",
   "execution_count": 11,
   "metadata": {},
   "outputs": [],
   "source": [
    "df_avg=df.mean()"
   ]
  },
  {
   "cell_type": "code",
   "execution_count": 12,
   "metadata": {},
   "outputs": [],
   "source": [
    "df_avg.columns=['temp_avg','spd_avg','snow_avg','rain_avg']"
   ]
  },
  {
   "cell_type": "code",
   "execution_count": 13,
   "metadata": {},
   "outputs": [],
   "source": [
    "df_avg=np.round(df_avg,1)"
   ]
  },
  {
   "cell_type": "code",
   "execution_count": 14,
   "metadata": {},
   "outputs": [],
   "source": [
    "#keep only months with at least 6 days to avoid anomalies (20%)\n",
    "filt=df_avg.reset_index().groupby(['USAF','year','month'])[['day']].nunique()\n",
    "filt2=filt[filt>5].dropna()"
   ]
  },
  {
   "cell_type": "code",
   "execution_count": 22,
   "metadata": {},
   "outputs": [],
   "source": [
    "#keep only years with at least 3 months to avoid anomalies (20%)\n",
    "filt3=filt2.reset_index().groupby(['USAF','year'])[['month']].nunique()\n",
    "filt4=filt3[filt3>3].dropna()"
   ]
  },
  {
   "cell_type": "code",
   "execution_count": 16,
   "metadata": {},
   "outputs": [],
   "source": [
    "df_avg2=df_avg.reset_index().set_index(['USAF','year'])"
   ]
  },
  {
   "cell_type": "code",
   "execution_count": 23,
   "metadata": {},
   "outputs": [],
   "source": [
    "dfz={}"
   ]
  },
  {
   "cell_type": "code",
   "execution_count": 24,
   "metadata": {},
   "outputs": [
    {
     "name": "stdout",
     "output_type": "stream",
     "text": [
      "119000\n",
      "127560\n",
      "127660\n",
      "127720\n",
      "127860\n",
      "128050\n",
      "128120\n",
      "128150\n",
      "128220\n",
      "128250\n",
      "128300\n",
      "128305\n",
      "128310\n",
      "128360\n",
      "128380\n",
      "128390\n",
      "128400\n",
      "128430\n",
      "128460\n",
      "128470\n",
      "128510\n",
      "128550\n",
      "128600\n",
      "128603\n",
      "128605\n",
      "128660\n",
      "128700\n",
      "128820\n",
      "128920\n",
      "129100\n",
      "129150\n",
      "129200\n",
      "129220\n",
      "129250\n",
      "129255\n",
      "129300\n",
      "129320\n",
      "129350\n",
      "129400\n",
      "129410\n",
      "129420\n",
      "129500\n",
      "129600\n",
      "129700\n",
      "129820\n",
      "129920\n",
      "150000\n",
      "150001\n",
      "150002\n",
      "150010\n",
      "150040\n",
      "150070\n",
      "150090\n",
      "150100\n",
      "150105\n",
      "150140\n",
      "150150\n",
      "150200\n",
      "150230\n",
      "150235\n",
      "150250\n",
      "150320\n",
      "150330\n",
      "150400\n",
      "150410\n",
      "150420\n",
      "150440\n",
      "150470\n",
      "150520\n",
      "150550\n",
      "150560\n",
      "150630\n",
      "150690\n",
      "150730\n",
      "150750\n",
      "150800\n",
      "150830\n",
      "150850\n",
      "150880\n",
      "150890\n",
      "150900\n",
      "150940\n",
      "150950\n",
      "150990\n",
      "151070\n",
      "151080\n",
      "151090\n",
      "151110\n",
      "151130\n",
      "151170\n",
      "151180\n",
      "151190\n",
      "151200\n",
      "151205\n",
      "151230\n",
      "151240\n",
      "151270\n",
      "151320\n",
      "151340\n",
      "151360\n",
      "151380\n",
      "151400\n",
      "151430\n",
      "151450\n",
      "151455\n",
      "151480\n",
      "151500\n",
      "151540\n",
      "151580\n",
      "151590\n",
      "151600\n",
      "151620\n",
      "151630\n",
      "151650\n",
      "151680\n",
      "151700\n",
      "151740\n",
      "151790\n",
      "151820\n",
      "151840\n",
      "151890\n",
      "151940\n",
      "151970\n",
      "151990\n",
      "152000\n",
      "152005\n",
      "152040\n",
      "152060\n",
      "152080\n",
      "152090\n",
      "152120\n",
      "152150\n",
      "152170\n",
      "152190\n",
      "152210\n",
      "152300\n",
      "152310\n",
      "152350\n",
      "152380\n",
      "152410\n",
      "152450\n",
      "152470\n",
      "152540\n",
      "152590\n",
      "152600\n",
      "152610\n",
      "152620\n",
      "152640\n",
      "152650\n",
      "152670\n",
      "152700\n",
      "152730\n",
      "152770\n",
      "152790\n",
      "152800\n",
      "152820\n",
      "152840\n",
      "152850\n",
      "152870\n",
      "152890\n",
      "152920\n",
      "152960\n",
      "152970\n",
      "152980\n",
      "152990\n",
      "153000\n",
      "153010\n",
      "153020\n",
      "153070\n",
      "153100\n",
      "153140\n",
      "153150\n",
      "153160\n",
      "153170\n",
      "153190\n",
      "153200\n",
      "153210\n",
      "153240\n",
      "153250\n",
      "153280\n",
      "153330\n",
      "153350\n",
      "153355\n",
      "153360\n",
      "153370\n",
      "153380\n",
      "153400\n",
      "153410\n",
      "153440\n",
      "153450\n",
      "153460\n",
      "153470\n",
      "153490\n",
      "153500\n",
      "153550\n",
      "153560\n",
      "153600\n",
      "153630\n",
      "153640\n",
      "153660\n",
      "153690\n",
      "153730\n",
      "153750\n",
      "153770\n",
      "153870\n",
      "153880\n",
      "153890\n",
      "153950\n",
      "154020\n",
      "154050\n",
      "154060\n",
      "154080\n",
      "154090\n",
      "154100\n",
      "154120\n",
      "154160\n",
      "154190\n",
      "154200\n",
      "154210\n",
      "154215\n",
      "154220\n",
      "154230\n",
      "154240\n",
      "154250\n",
      "154280\n",
      "154290\n",
      "154340\n",
      "154430\n",
      "154440\n",
      "154450\n",
      "154470\n",
      "154500\n",
      "154510\n",
      "154550\n",
      "154600\n",
      "154620\n",
      "154650\n",
      "154690\n",
      "154700\n",
      "154750\n",
      "154760\n",
      "154770\n",
      "154790\n",
      "154800\n",
      "154810\n",
      "154820\n",
      "154890\n",
      "154900\n",
      "154910\n",
      "154930\n",
      "154931\n",
      "154940\n",
      "154980\n",
      "154990\n"
     ]
    }
   ],
   "source": [
    "for i in filt4.index.unique(0):\n",
    "    d=df_avg2.loc[i].loc[filt4.loc[i].index.unique()]\n",
    "    dfz[i]=d\n",
    "    d.to_csv('data/'+str(i)+'.csv')\n",
    "    print(i)"
   ]
  },
  {
   "cell_type": "code",
   "execution_count": 60,
   "metadata": {},
   "outputs": [],
   "source": [
    "stationc=station.set_index(0)[2]"
   ]
  },
  {
   "cell_type": "code",
   "execution_count": 64,
   "metadata": {},
   "outputs": [],
   "source": [
    "stationx={}\n",
    "for z in dfz:\n",
    "    stationx[stationc.loc[z]]={'id':z,'yrs':len(dfz[z].index.unique())}"
   ]
  },
  {
   "cell_type": "code",
   "execution_count": 72,
   "metadata": {},
   "outputs": [
    {
     "data": {
      "text/html": [
       "<div>\n",
       "<style scoped>\n",
       "    .dataframe tbody tr th:only-of-type {\n",
       "        vertical-align: middle;\n",
       "    }\n",
       "\n",
       "    .dataframe tbody tr th {\n",
       "        vertical-align: top;\n",
       "    }\n",
       "\n",
       "    .dataframe thead th {\n",
       "        text-align: right;\n",
       "    }\n",
       "</style>\n",
       "<table border=\"1\" class=\"dataframe\">\n",
       "  <thead>\n",
       "    <tr style=\"text-align: right;\">\n",
       "      <th></th>\n",
       "      <th>index</th>\n",
       "      <th>id</th>\n",
       "    </tr>\n",
       "    <tr>\n",
       "      <th>yrs</th>\n",
       "      <th></th>\n",
       "      <th></th>\n",
       "    </tr>\n",
       "  </thead>\n",
       "  <tbody>\n",
       "    <tr>\n",
       "      <th>72</th>\n",
       "      <td>AUREL VLAICU</td>\n",
       "      <td>154200</td>\n",
       "    </tr>\n",
       "    <tr>\n",
       "      <th>68</th>\n",
       "      <td>GALATI</td>\n",
       "      <td>153100</td>\n",
       "    </tr>\n",
       "    <tr>\n",
       "      <th>67</th>\n",
       "      <td>CLUJ NAPOCA</td>\n",
       "      <td>151200</td>\n",
       "    </tr>\n",
       "    <tr>\n",
       "      <th>67</th>\n",
       "      <td>DROBETA TURNU SEVERIN</td>\n",
       "      <td>154100</td>\n",
       "    </tr>\n",
       "    <tr>\n",
       "      <th>66</th>\n",
       "      <td>CONSTANTA</td>\n",
       "      <td>154800</td>\n",
       "    </tr>\n",
       "    <tr>\n",
       "      <th>65</th>\n",
       "      <td>SULINA</td>\n",
       "      <td>153600</td>\n",
       "    </tr>\n",
       "    <tr>\n",
       "      <th>63</th>\n",
       "      <td>SATU MARE</td>\n",
       "      <td>150100</td>\n",
       "    </tr>\n",
       "    <tr>\n",
       "      <th>63</th>\n",
       "      <td>VARFU OMU</td>\n",
       "      <td>152800</td>\n",
       "    </tr>\n",
       "    <tr>\n",
       "      <th>63</th>\n",
       "      <td>DEBRECEN</td>\n",
       "      <td>128820</td>\n",
       "    </tr>\n",
       "    <tr>\n",
       "      <th>63</th>\n",
       "      <td>BACAU</td>\n",
       "      <td>151500</td>\n",
       "    </tr>\n",
       "    <tr>\n",
       "      <th>62</th>\n",
       "      <td>IASI</td>\n",
       "      <td>150900</td>\n",
       "    </tr>\n",
       "    <tr>\n",
       "      <th>62</th>\n",
       "      <td>DEVA</td>\n",
       "      <td>152300</td>\n",
       "    </tr>\n",
       "    <tr>\n",
       "      <th>61</th>\n",
       "      <td>SIBIU</td>\n",
       "      <td>152600</td>\n",
       "    </tr>\n",
       "    <tr>\n",
       "      <th>60</th>\n",
       "      <td>RAMNICU VALCEA</td>\n",
       "      <td>153460</td>\n",
       "    </tr>\n",
       "    <tr>\n",
       "      <th>58</th>\n",
       "      <td>BOTOSANI</td>\n",
       "      <td>150200</td>\n",
       "    </tr>\n",
       "    <tr>\n",
       "      <th>58</th>\n",
       "      <td>SZOMBATHELY ARPT / VAS</td>\n",
       "      <td>128120</td>\n",
       "    </tr>\n",
       "    <tr>\n",
       "      <th>58</th>\n",
       "      <td>ORADEA</td>\n",
       "      <td>150800</td>\n",
       "    </tr>\n",
       "    <tr>\n",
       "      <th>58</th>\n",
       "      <td>TRAIAN VUIA</td>\n",
       "      <td>152470</td>\n",
       "    </tr>\n",
       "    <tr>\n",
       "      <th>58</th>\n",
       "      <td>SZEGED (AUT)</td>\n",
       "      <td>129820</td>\n",
       "    </tr>\n",
       "    <tr>\n",
       "      <th>57</th>\n",
       "      <td>VIDRASAU</td>\n",
       "      <td>151450</td>\n",
       "    </tr>\n",
       "    <tr>\n",
       "      <th>54</th>\n",
       "      <td>MISKOLC</td>\n",
       "      <td>127720</td>\n",
       "    </tr>\n",
       "    <tr>\n",
       "      <th>54</th>\n",
       "      <td>BUZAU</td>\n",
       "      <td>153500</td>\n",
       "    </tr>\n",
       "    <tr>\n",
       "      <th>53</th>\n",
       "      <td>KEKESTETO</td>\n",
       "      <td>128510</td>\n",
       "    </tr>\n",
       "    <tr>\n",
       "      <th>53</th>\n",
       "      <td>SZOLNOK</td>\n",
       "      <td>128600</td>\n",
       "    </tr>\n",
       "    <tr>\n",
       "      <th>53</th>\n",
       "      <td>CALARASI</td>\n",
       "      <td>154600</td>\n",
       "    </tr>\n",
       "    <tr>\n",
       "      <th>52</th>\n",
       "      <td>FERIHEGY</td>\n",
       "      <td>128390</td>\n",
       "    </tr>\n",
       "    <tr>\n",
       "      <th>51</th>\n",
       "      <td>CEAHLAU TOACA</td>\n",
       "      <td>151080</td>\n",
       "    </tr>\n",
       "    <tr>\n",
       "      <th>51</th>\n",
       "      <td>PECS SOUTH</td>\n",
       "      <td>129420</td>\n",
       "    </tr>\n",
       "    <tr>\n",
       "      <th>51</th>\n",
       "      <td>SOPRON</td>\n",
       "      <td>128050</td>\n",
       "    </tr>\n",
       "    <tr>\n",
       "      <th>50</th>\n",
       "      <td>CARANSEBES</td>\n",
       "      <td>152920</td>\n",
       "    </tr>\n",
       "    <tr>\n",
       "      <th>50</th>\n",
       "      <td>BEKESCSABA</td>\n",
       "      <td>129920</td>\n",
       "    </tr>\n",
       "    <tr>\n",
       "      <th>48</th>\n",
       "      <td>MIERCUREA CIUC</td>\n",
       "      <td>151700</td>\n",
       "    </tr>\n",
       "    <tr>\n",
       "      <th>48</th>\n",
       "      <td>ROSIORII DE VEDE</td>\n",
       "      <td>154700</td>\n",
       "    </tr>\n",
       "    <tr>\n",
       "      <th>47</th>\n",
       "      <td>KECSKEMET</td>\n",
       "      <td>129700</td>\n",
       "    </tr>\n",
       "    <tr>\n",
       "      <th>47</th>\n",
       "      <td>STEFAN CEL MARE</td>\n",
       "      <td>150230</td>\n",
       "    </tr>\n",
       "    <tr>\n",
       "      <th>47</th>\n",
       "      <td>NAGYKANIZSA</td>\n",
       "      <td>129250</td>\n",
       "    </tr>\n",
       "    <tr>\n",
       "      <th>47</th>\n",
       "      <td>BUDAPEST/PESTSZENTLORINC</td>\n",
       "      <td>128430</td>\n",
       "    </tr>\n",
       "    <tr>\n",
       "      <th>47</th>\n",
       "      <td>TURNU-MAGURELE</td>\n",
       "      <td>154900</td>\n",
       "    </tr>\n",
       "    <tr>\n",
       "      <th>47</th>\n",
       "      <td>SIOFOK</td>\n",
       "      <td>129350</td>\n",
       "    </tr>\n",
       "    <tr>\n",
       "      <th>47</th>\n",
       "      <td>NYIREGYHAZA</td>\n",
       "      <td>128920</td>\n",
       "    </tr>\n",
       "  </tbody>\n",
       "</table>\n",
       "</div>"
      ],
      "text/plain": [
       "                        index      id\n",
       "yrs                                  \n",
       "72               AUREL VLAICU  154200\n",
       "68                     GALATI  153100\n",
       "67                CLUJ NAPOCA  151200\n",
       "67      DROBETA TURNU SEVERIN  154100\n",
       "66                  CONSTANTA  154800\n",
       "65                     SULINA  153600\n",
       "63                  SATU MARE  150100\n",
       "63                  VARFU OMU  152800\n",
       "63                   DEBRECEN  128820\n",
       "63                      BACAU  151500\n",
       "62                       IASI  150900\n",
       "62                       DEVA  152300\n",
       "61                      SIBIU  152600\n",
       "60             RAMNICU VALCEA  153460\n",
       "58                   BOTOSANI  150200\n",
       "58     SZOMBATHELY ARPT / VAS  128120\n",
       "58                     ORADEA  150800\n",
       "58                TRAIAN VUIA  152470\n",
       "58               SZEGED (AUT)  129820\n",
       "57                   VIDRASAU  151450\n",
       "54                    MISKOLC  127720\n",
       "54                      BUZAU  153500\n",
       "53                  KEKESTETO  128510\n",
       "53                    SZOLNOK  128600\n",
       "53                   CALARASI  154600\n",
       "52                   FERIHEGY  128390\n",
       "51              CEAHLAU TOACA  151080\n",
       "51                 PECS SOUTH  129420\n",
       "51                     SOPRON  128050\n",
       "50                 CARANSEBES  152920\n",
       "50                 BEKESCSABA  129920\n",
       "48             MIERCUREA CIUC  151700\n",
       "48           ROSIORII DE VEDE  154700\n",
       "47                  KECSKEMET  129700\n",
       "47            STEFAN CEL MARE  150230\n",
       "47                NAGYKANIZSA  129250\n",
       "47   BUDAPEST/PESTSZENTLORINC  128430\n",
       "47             TURNU-MAGURELE  154900\n",
       "47                     SIOFOK  129350\n",
       "47                NYIREGYHAZA  128920"
      ]
     },
     "execution_count": 72,
     "metadata": {},
     "output_type": "execute_result"
    }
   ],
   "source": [
    "pd.DataFrame(stationx).T.reset_index().set_index('yrs').sort_index(ascending=False)[:40]"
   ]
  },
  {
   "cell_type": "code",
   "execution_count": 165,
   "metadata": {},
   "outputs": [],
   "source": [
    "dds=[]\n",
    "indicator='temp_avg'\n",
    "for a in [151200,128820,129820,152600,128390,151700,154800,154200,150800,127720]:\n",
    "# for a in [151200]:\n",
    "    dw=dfz[a]\n",
    "    tmean=dw.groupby(['month','hour']).mean()[[indicator]]\n",
    "    tmean.columns=['temp_mean']\n",
    "    dw=dw.loc[1980:]\n",
    "    dw=dw.loc[:2010]\n",
    "    tmean80=dw.groupby(['month','hour']).mean()[[indicator]]\n",
    "    tmean80.columns=['temp_mean80']\n",
    "    dc=dfz[a].groupby(['year','month','hour']).mean()[[indicator]].join(tmean).join(tmean80)\n",
    "    dc['temp_delta']=dc[indicator]-dc['temp_mean']\n",
    "    dc['temp_delta80']=dc[indicator]-dc['temp_mean80']\n",
    "    dd=dc.groupby(['year']).mean()\n",
    "    dd=np.round(dd,1)\n",
    "    dd['varos']=stationc[a]\n",
    "#     dd['varos']='153100'\n",
    "    dds.append(dd)"
   ]
  },
  {
   "cell_type": "code",
   "execution_count": 166,
   "metadata": {},
   "outputs": [],
   "source": [
    "ddb=pd.concat(dds)\n",
    "ddb.to_csv('stripes/test.csv')"
   ]
  },
  {
   "cell_type": "code",
   "execution_count": null,
   "metadata": {},
   "outputs": [],
   "source": []
  },
  {
   "cell_type": "code",
   "execution_count": null,
   "metadata": {},
   "outputs": [],
   "source": []
  },
  {
   "cell_type": "code",
   "execution_count": 161,
   "metadata": {},
   "outputs": [],
   "source": [
    "dds=[]\n",
    "indicator='temp_avg'\n",
    "# for a in [151200,128820,129820,152600,128390,151700,154800,154200,150800,127720]:\n",
    "for a in [151700]:\n",
    "    dw=dfz[a]\n",
    "    dw=dw.loc[1980:]\n",
    "    dw=dw.loc[:1995]\n",
    "    tmean=dw.groupby(['month','hour']).mean()[[indicator]]\n",
    "    tmean.columns=['temp_mean']\n",
    "    dw=dfz[a]\n",
    "    dw=dw.loc[2000:]\n",
    "    dw=dw.loc[:2015]\n",
    "    tmean80=dw.groupby(['month','hour']).mean()[[indicator]]\n",
    "    tmean80.columns=['temp_mean80']\n",
    "    dc=tmean.join(tmean80)\n",
    "    dc['temp_delta']=dc['temp_mean80']-dc['temp_mean']\n",
    "    dd=np.round(dc,1)\n",
    "    dd['varos']=stationc[a]\n",
    "#     dd['varos']='153100'\n",
    "    dds.append(dd)"
   ]
  },
  {
   "cell_type": "code",
   "execution_count": 162,
   "metadata": {},
   "outputs": [],
   "source": [
    "ddb=pd.concat(dds)\n",
    "ddb.to_csv('stripes/test.csv')"
   ]
  },
  {
   "cell_type": "code",
   "execution_count": null,
   "metadata": {},
   "outputs": [],
   "source": []
  },
  {
   "cell_type": "code",
   "execution_count": null,
   "metadata": {},
   "outputs": [],
   "source": []
  },
  {
   "cell_type": "code",
   "execution_count": 163,
   "metadata": {},
   "outputs": [],
   "source": [
    "dds=[]\n",
    "indicator='temp_avg'\n",
    "# for a in [151200,128820,129820,152600,128390,151700,154800,154200,150800,127720]:\n",
    "for a in [151700]:\n",
    "    dw=dfz[a]\n",
    "    tmean=dw.groupby(['month','hour']).mean()[[indicator]]\n",
    "    tmean.columns=['temp_mean']\n",
    "    dw=dw.loc[1980:]\n",
    "    dw=dw.loc[:2010]\n",
    "    tmean80=dw.groupby(['month','hour']).mean()[[indicator]]\n",
    "    tmean80.columns=['temp_mean80']\n",
    "    dc=dfz[a].groupby(['year','month','hour']).mean()[[indicator]].join(tmean).join(tmean80)\n",
    "    dc['temp_delta']=dc[indicator]-dc['temp_mean']\n",
    "    dc['temp_delta80']=dc[indicator]-dc['temp_mean80']\n",
    "    dd=dc.groupby(['year','month']).mean()\n",
    "    dd=np.round(dd,1)\n",
    "    dd['varos']=stationc[a]\n",
    "#     dd['varos']='153100'\n",
    "    dds.append(dd)"
   ]
  },
  {
   "cell_type": "code",
   "execution_count": 164,
   "metadata": {},
   "outputs": [],
   "source": [
    "ddb=pd.concat(dds)\n",
    "ddb.to_csv('stripes/test.csv')"
   ]
  },
  {
   "cell_type": "code",
   "execution_count": 190,
   "metadata": {},
   "outputs": [],
   "source": [
    "d.to_csv('data/test.csv')"
   ]
  },
  {
   "cell_type": "code",
   "execution_count": 2,
   "metadata": {},
   "outputs": [
    {
     "data": {
      "application/vnd.plotly.v1+json": {
       "config": {
        "plotlyServerURL": "https://plot.ly"
       },
       "data": [
        {
         "type": "heatmap",
         "z": [
          [
           1,
           20,
           30
          ],
          [
           20,
           1,
           60
          ],
          [
           30,
           60,
           1
          ]
         ]
        }
       ],
       "layout": {
        "autosize": true,
        "template": {
         "data": {
          "bar": [
           {
            "error_x": {
             "color": "#2a3f5f"
            },
            "error_y": {
             "color": "#2a3f5f"
            },
            "marker": {
             "line": {
              "color": "#E5ECF6",
              "width": 0.5
             }
            },
            "type": "bar"
           }
          ],
          "barpolar": [
           {
            "marker": {
             "line": {
              "color": "#E5ECF6",
              "width": 0.5
             }
            },
            "type": "barpolar"
           }
          ],
          "carpet": [
           {
            "aaxis": {
             "endlinecolor": "#2a3f5f",
             "gridcolor": "white",
             "linecolor": "white",
             "minorgridcolor": "white",
             "startlinecolor": "#2a3f5f"
            },
            "baxis": {
             "endlinecolor": "#2a3f5f",
             "gridcolor": "white",
             "linecolor": "white",
             "minorgridcolor": "white",
             "startlinecolor": "#2a3f5f"
            },
            "type": "carpet"
           }
          ],
          "choropleth": [
           {
            "colorbar": {
             "outlinewidth": 0,
             "ticks": ""
            },
            "type": "choropleth"
           }
          ],
          "contour": [
           {
            "colorbar": {
             "outlinewidth": 0,
             "ticks": ""
            },
            "colorscale": [
             [
              0,
              "#0d0887"
             ],
             [
              0.1111111111111111,
              "#46039f"
             ],
             [
              0.2222222222222222,
              "#7201a8"
             ],
             [
              0.3333333333333333,
              "#9c179e"
             ],
             [
              0.4444444444444444,
              "#bd3786"
             ],
             [
              0.5555555555555556,
              "#d8576b"
             ],
             [
              0.6666666666666666,
              "#ed7953"
             ],
             [
              0.7777777777777778,
              "#fb9f3a"
             ],
             [
              0.8888888888888888,
              "#fdca26"
             ],
             [
              1,
              "#f0f921"
             ]
            ],
            "type": "contour"
           }
          ],
          "contourcarpet": [
           {
            "colorbar": {
             "outlinewidth": 0,
             "ticks": ""
            },
            "type": "contourcarpet"
           }
          ],
          "heatmap": [
           {
            "colorbar": {
             "outlinewidth": 0,
             "ticks": ""
            },
            "colorscale": [
             [
              0,
              "#0d0887"
             ],
             [
              0.1111111111111111,
              "#46039f"
             ],
             [
              0.2222222222222222,
              "#7201a8"
             ],
             [
              0.3333333333333333,
              "#9c179e"
             ],
             [
              0.4444444444444444,
              "#bd3786"
             ],
             [
              0.5555555555555556,
              "#d8576b"
             ],
             [
              0.6666666666666666,
              "#ed7953"
             ],
             [
              0.7777777777777778,
              "#fb9f3a"
             ],
             [
              0.8888888888888888,
              "#fdca26"
             ],
             [
              1,
              "#f0f921"
             ]
            ],
            "type": "heatmap"
           }
          ],
          "heatmapgl": [
           {
            "colorbar": {
             "outlinewidth": 0,
             "ticks": ""
            },
            "colorscale": [
             [
              0,
              "#0d0887"
             ],
             [
              0.1111111111111111,
              "#46039f"
             ],
             [
              0.2222222222222222,
              "#7201a8"
             ],
             [
              0.3333333333333333,
              "#9c179e"
             ],
             [
              0.4444444444444444,
              "#bd3786"
             ],
             [
              0.5555555555555556,
              "#d8576b"
             ],
             [
              0.6666666666666666,
              "#ed7953"
             ],
             [
              0.7777777777777778,
              "#fb9f3a"
             ],
             [
              0.8888888888888888,
              "#fdca26"
             ],
             [
              1,
              "#f0f921"
             ]
            ],
            "type": "heatmapgl"
           }
          ],
          "histogram": [
           {
            "marker": {
             "colorbar": {
              "outlinewidth": 0,
              "ticks": ""
             }
            },
            "type": "histogram"
           }
          ],
          "histogram2d": [
           {
            "colorbar": {
             "outlinewidth": 0,
             "ticks": ""
            },
            "colorscale": [
             [
              0,
              "#0d0887"
             ],
             [
              0.1111111111111111,
              "#46039f"
             ],
             [
              0.2222222222222222,
              "#7201a8"
             ],
             [
              0.3333333333333333,
              "#9c179e"
             ],
             [
              0.4444444444444444,
              "#bd3786"
             ],
             [
              0.5555555555555556,
              "#d8576b"
             ],
             [
              0.6666666666666666,
              "#ed7953"
             ],
             [
              0.7777777777777778,
              "#fb9f3a"
             ],
             [
              0.8888888888888888,
              "#fdca26"
             ],
             [
              1,
              "#f0f921"
             ]
            ],
            "type": "histogram2d"
           }
          ],
          "histogram2dcontour": [
           {
            "colorbar": {
             "outlinewidth": 0,
             "ticks": ""
            },
            "colorscale": [
             [
              0,
              "#0d0887"
             ],
             [
              0.1111111111111111,
              "#46039f"
             ],
             [
              0.2222222222222222,
              "#7201a8"
             ],
             [
              0.3333333333333333,
              "#9c179e"
             ],
             [
              0.4444444444444444,
              "#bd3786"
             ],
             [
              0.5555555555555556,
              "#d8576b"
             ],
             [
              0.6666666666666666,
              "#ed7953"
             ],
             [
              0.7777777777777778,
              "#fb9f3a"
             ],
             [
              0.8888888888888888,
              "#fdca26"
             ],
             [
              1,
              "#f0f921"
             ]
            ],
            "type": "histogram2dcontour"
           }
          ],
          "mesh3d": [
           {
            "colorbar": {
             "outlinewidth": 0,
             "ticks": ""
            },
            "type": "mesh3d"
           }
          ],
          "parcoords": [
           {
            "line": {
             "colorbar": {
              "outlinewidth": 0,
              "ticks": ""
             }
            },
            "type": "parcoords"
           }
          ],
          "scatter": [
           {
            "marker": {
             "colorbar": {
              "outlinewidth": 0,
              "ticks": ""
             }
            },
            "type": "scatter"
           }
          ],
          "scatter3d": [
           {
            "line": {
             "colorbar": {
              "outlinewidth": 0,
              "ticks": ""
             }
            },
            "marker": {
             "colorbar": {
              "outlinewidth": 0,
              "ticks": ""
             }
            },
            "type": "scatter3d"
           }
          ],
          "scattercarpet": [
           {
            "marker": {
             "colorbar": {
              "outlinewidth": 0,
              "ticks": ""
             }
            },
            "type": "scattercarpet"
           }
          ],
          "scattergeo": [
           {
            "marker": {
             "colorbar": {
              "outlinewidth": 0,
              "ticks": ""
             }
            },
            "type": "scattergeo"
           }
          ],
          "scattergl": [
           {
            "marker": {
             "colorbar": {
              "outlinewidth": 0,
              "ticks": ""
             }
            },
            "type": "scattergl"
           }
          ],
          "scattermapbox": [
           {
            "marker": {
             "colorbar": {
              "outlinewidth": 0,
              "ticks": ""
             }
            },
            "type": "scattermapbox"
           }
          ],
          "scatterpolar": [
           {
            "marker": {
             "colorbar": {
              "outlinewidth": 0,
              "ticks": ""
             }
            },
            "type": "scatterpolar"
           }
          ],
          "scatterpolargl": [
           {
            "marker": {
             "colorbar": {
              "outlinewidth": 0,
              "ticks": ""
             }
            },
            "type": "scatterpolargl"
           }
          ],
          "scatterternary": [
           {
            "marker": {
             "colorbar": {
              "outlinewidth": 0,
              "ticks": ""
             }
            },
            "type": "scatterternary"
           }
          ],
          "surface": [
           {
            "colorbar": {
             "outlinewidth": 0,
             "ticks": ""
            },
            "colorscale": [
             [
              0,
              "#0d0887"
             ],
             [
              0.1111111111111111,
              "#46039f"
             ],
             [
              0.2222222222222222,
              "#7201a8"
             ],
             [
              0.3333333333333333,
              "#9c179e"
             ],
             [
              0.4444444444444444,
              "#bd3786"
             ],
             [
              0.5555555555555556,
              "#d8576b"
             ],
             [
              0.6666666666666666,
              "#ed7953"
             ],
             [
              0.7777777777777778,
              "#fb9f3a"
             ],
             [
              0.8888888888888888,
              "#fdca26"
             ],
             [
              1,
              "#f0f921"
             ]
            ],
            "type": "surface"
           }
          ],
          "table": [
           {
            "cells": {
             "fill": {
              "color": "#EBF0F8"
             },
             "line": {
              "color": "white"
             }
            },
            "header": {
             "fill": {
              "color": "#C8D4E3"
             },
             "line": {
              "color": "white"
             }
            },
            "type": "table"
           }
          ]
         },
         "layout": {
          "annotationdefaults": {
           "arrowcolor": "#2a3f5f",
           "arrowhead": 0,
           "arrowwidth": 1
          },
          "colorscale": {
           "diverging": [
            [
             0,
             "#8e0152"
            ],
            [
             0.1,
             "#c51b7d"
            ],
            [
             0.2,
             "#de77ae"
            ],
            [
             0.3,
             "#f1b6da"
            ],
            [
             0.4,
             "#fde0ef"
            ],
            [
             0.5,
             "#f7f7f7"
            ],
            [
             0.6,
             "#e6f5d0"
            ],
            [
             0.7,
             "#b8e186"
            ],
            [
             0.8,
             "#7fbc41"
            ],
            [
             0.9,
             "#4d9221"
            ],
            [
             1,
             "#276419"
            ]
           ],
           "sequential": [
            [
             0,
             "#0d0887"
            ],
            [
             0.1111111111111111,
             "#46039f"
            ],
            [
             0.2222222222222222,
             "#7201a8"
            ],
            [
             0.3333333333333333,
             "#9c179e"
            ],
            [
             0.4444444444444444,
             "#bd3786"
            ],
            [
             0.5555555555555556,
             "#d8576b"
            ],
            [
             0.6666666666666666,
             "#ed7953"
            ],
            [
             0.7777777777777778,
             "#fb9f3a"
            ],
            [
             0.8888888888888888,
             "#fdca26"
            ],
            [
             1,
             "#f0f921"
            ]
           ],
           "sequentialminus": [
            [
             0,
             "#0d0887"
            ],
            [
             0.1111111111111111,
             "#46039f"
            ],
            [
             0.2222222222222222,
             "#7201a8"
            ],
            [
             0.3333333333333333,
             "#9c179e"
            ],
            [
             0.4444444444444444,
             "#bd3786"
            ],
            [
             0.5555555555555556,
             "#d8576b"
            ],
            [
             0.6666666666666666,
             "#ed7953"
            ],
            [
             0.7777777777777778,
             "#fb9f3a"
            ],
            [
             0.8888888888888888,
             "#fdca26"
            ],
            [
             1,
             "#f0f921"
            ]
           ]
          },
          "colorway": [
           "#636efa",
           "#EF553B",
           "#00cc96",
           "#ab63fa",
           "#FFA15A",
           "#19d3f3",
           "#FF6692",
           "#B6E880",
           "#FF97FF",
           "#FECB52"
          ],
          "font": {
           "color": "#2a3f5f"
          },
          "geo": {
           "bgcolor": "white",
           "lakecolor": "white",
           "landcolor": "#E5ECF6",
           "showlakes": true,
           "showland": true,
           "subunitcolor": "white"
          },
          "hoverlabel": {
           "align": "left"
          },
          "hovermode": "closest",
          "mapbox": {
           "style": "light"
          },
          "paper_bgcolor": "white",
          "plot_bgcolor": "#E5ECF6",
          "polar": {
           "angularaxis": {
            "gridcolor": "white",
            "linecolor": "white",
            "ticks": ""
           },
           "bgcolor": "#E5ECF6",
           "radialaxis": {
            "gridcolor": "white",
            "linecolor": "white",
            "ticks": ""
           }
          },
          "scene": {
           "xaxis": {
            "backgroundcolor": "#E5ECF6",
            "gridcolor": "white",
            "gridwidth": 2,
            "linecolor": "white",
            "showbackground": true,
            "ticks": "",
            "zerolinecolor": "white"
           },
           "yaxis": {
            "backgroundcolor": "#E5ECF6",
            "gridcolor": "white",
            "gridwidth": 2,
            "linecolor": "white",
            "showbackground": true,
            "ticks": "",
            "zerolinecolor": "white"
           },
           "zaxis": {
            "backgroundcolor": "#E5ECF6",
            "gridcolor": "white",
            "gridwidth": 2,
            "linecolor": "white",
            "showbackground": true,
            "ticks": "",
            "zerolinecolor": "white"
           }
          },
          "shapedefaults": {
           "line": {
            "color": "#2a3f5f"
           }
          },
          "ternary": {
           "aaxis": {
            "gridcolor": "white",
            "linecolor": "white",
            "ticks": ""
           },
           "baxis": {
            "gridcolor": "white",
            "linecolor": "white",
            "ticks": ""
           },
           "bgcolor": "#E5ECF6",
           "caxis": {
            "gridcolor": "white",
            "linecolor": "white",
            "ticks": ""
           }
          },
          "title": {
           "x": 0.05
          },
          "xaxis": {
           "automargin": true,
           "gridcolor": "white",
           "linecolor": "white",
           "ticks": "",
           "zerolinecolor": "white",
           "zerolinewidth": 2
          },
          "yaxis": {
           "automargin": true,
           "gridcolor": "white",
           "linecolor": "white",
           "ticks": "",
           "zerolinecolor": "white",
           "zerolinewidth": 2
          }
         }
        },
        "xaxis": {
         "autorange": true,
         "range": [
          -0.5,
          2.5
         ]
        },
        "yaxis": {
         "autorange": true,
         "range": [
          -0.5,
          2.5
         ]
        }
       }
      },
      "image/png": "[encoded data removed]"
     },
     "metadata": {},
     "output_type": "display_data"
    }
   ],
   "source": [
    "import plotly.graph_objects as go\n",
    "\n",
    "fig = go.Figure(data=go.Heatmap(\n",
    "                    z=[[1, 20, 30],\n",
    "                      [20, 1, 60],\n",
    "                      [30, 60, 1]]))\n",
    "fig.show()"
   ]
  },
  {
   "cell_type": "code",
   "execution_count": null,
   "metadata": {},
   "outputs": [],
   "source": []
  }
 ],
 "metadata": {
  "kernelspec": {
   "display_name": "Python 3",
   "language": "python",
   "name": "python3"
  },
  "language_info": {
   "codemirror_mode": {
    "name": "ipython",
    "version": 3
   },
   "file_extension": ".py",
   "mimetype": "text/x-python",
   "name": "python",
   "nbconvert_exporter": "python",
   "pygments_lexer": "ipython3",
   "version": "3.7.3"
  }
 },
 "nbformat": 4,
 "nbformat_minor": 4
}
