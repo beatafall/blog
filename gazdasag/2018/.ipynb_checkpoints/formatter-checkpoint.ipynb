{
 "cells": [
  {
   "cell_type": "code",
   "execution_count": 1,
   "metadata": {
    "ExecuteTime": {
     "end_time": "2018-12-28T21:42:46.603758Z",
     "start_time": "2018-12-28T21:42:40.022657Z"
    }
   },
   "outputs": [],
   "source": [
    "import requests, pandas as pd, numpy as np\n",
    "from requests import session\n",
    "from bs4 import BeautifulSoup"
   ]
  },
  {
   "cell_type": "code",
   "execution_count": 2,
   "metadata": {
    "ExecuteTime": {
     "end_time": "2018-12-28T21:42:47.189277Z",
     "start_time": "2018-12-28T21:42:46.607762Z"
    }
   },
   "outputs": [],
   "source": [
    "manual=pd.read_excel('manual_manual.xlsx').set_index('Cégnév')\n",
    "data=pd.read_excel('data.xlsx').set_index('Cégnév')\n",
    "sectors=pd.read_excel('valid_manual.xlsx')"
   ]
  },
  {
   "cell_type": "code",
   "execution_count": 3,
   "metadata": {
    "ExecuteTime": {
     "end_time": "2018-12-28T21:42:47.208278Z",
     "start_time": "2018-12-28T21:42:47.198277Z"
    }
   },
   "outputs": [],
   "source": [
    "data['Sector']=sectors.set_index(0)[1]"
   ]
  },
  {
   "cell_type": "code",
   "execution_count": 4,
   "metadata": {
    "ExecuteTime": {
     "end_time": "2018-12-28T21:42:47.254280Z",
     "start_time": "2018-12-28T21:42:47.213282Z"
    }
   },
   "outputs": [
    {
     "name": "stderr",
     "output_type": "stream",
     "text": [
      "C:\\ProgramData\\Anaconda3\\lib\\site-packages\\ipykernel_launcher.py:1: FutureWarning: Sorting because non-concatenation axis is not aligned. A future version\n",
      "of pandas will change to not sort by default.\n",
      "\n",
      "To accept the future behavior, pass 'sort=False'.\n",
      "\n",
      "To retain the current behavior and silence the warning, pass 'sort=True'.\n",
      "\n",
      "  \"\"\"Entry point for launching an IPython kernel.\n"
     ]
    }
   ],
   "source": [
    "data=pd.concat([data,manual])"
   ]
  },
  {
   "cell_type": "code",
   "execution_count": 5,
   "metadata": {
    "ExecuteTime": {
     "end_time": "2018-12-28T21:42:47.332276Z",
     "start_time": "2018-12-28T21:42:47.258278Z"
    }
   },
   "outputs": [],
   "source": [
    "repl={'udvarhelyszek':'Udvarhelyszék',\n",
    "'csikszek':'Csíkszék',\n",
    "'gyergyoszek':'Gyergyószék',\n",
    "'marosszek':'Marosszék',\n",
    "'also-haromszek':'Alsó-háromszék',\n",
    "'felso-haromszek':'Felső-háromszék'}\n",
    "for r in repl:\n",
    "    data=data.replace(r,repl[r])"
   ]
  },
  {
   "cell_type": "code",
   "execution_count": 6,
   "metadata": {
    "ExecuteTime": {
     "end_time": "2018-12-28T21:42:50.502803Z",
     "start_time": "2018-12-28T21:42:49.551813Z"
    }
   },
   "outputs": [],
   "source": [
    "data.to_excel('export1.xlsx')"
   ]
  },
  {
   "cell_type": "code",
   "execution_count": 7,
   "metadata": {
    "ExecuteTime": {
     "end_time": "2018-12-28T21:42:50.518812Z",
     "start_time": "2018-12-28T21:42:50.505808Z"
    }
   },
   "outputs": [],
   "source": [
    "d1=data[['Régió', 'Latitude', 'Longitude', 'Sector']]\n",
    "d1.columns=['Régió', 'Hosszúság', 'Szélesség', 'Iparág']"
   ]
  },
  {
   "cell_type": "code",
   "execution_count": 8,
   "metadata": {
    "ExecuteTime": {
     "end_time": "2018-12-28T21:42:50.789805Z",
     "start_time": "2018-12-28T21:42:50.535813Z"
    }
   },
   "outputs": [],
   "source": [
    "d1.to_excel('d1.xlsx')"
   ]
  },
  {
   "cell_type": "code",
   "execution_count": 9,
   "metadata": {
    "ExecuteTime": {
     "end_time": "2018-12-28T21:42:51.177337Z",
     "start_time": "2018-12-28T21:42:51.156339Z"
    }
   },
   "outputs": [
    {
     "data": {
      "text/plain": [
       "Index(['Alkalmazottak száma 2014', 'Alkalmazottak száma 2015',\n",
       "       'Alkalmazottak száma 2016', 'Alkalmazottak száma 2017', 'Cím', 'Kw',\n",
       "       'Latitude', 'Longitude', 'Régió', 'Sector', 'nr_alkalmazottak',\n",
       "       'nr_arbevetel', 'Árbevétel 2014 (RON)', 'Árbevétel 2015 (RON)',\n",
       "       'Árbevétel 2016 (RON)', 'Árbevétel 2017 (RON)'],\n",
       "      dtype='object')"
      ]
     },
     "execution_count": 9,
     "metadata": {},
     "output_type": "execute_result"
    }
   ],
   "source": [
    "data.columns"
   ]
  },
  {
   "cell_type": "code",
   "execution_count": 11,
   "metadata": {
    "ExecuteTime": {
     "end_time": "2018-12-28T21:43:30.002714Z",
     "start_time": "2018-12-28T21:43:29.334185Z"
    }
   },
   "outputs": [
    {
     "name": "stdout",
     "output_type": "stream",
     "text": [
      "Alkalmazottak száma 2014\n",
      "Árbevétel 2014 (RON)\n",
      "Alkalmazottak száma 2015\n"
     ]
    },
    {
     "name": "stderr",
     "output_type": "stream",
     "text": [
      "C:\\ProgramData\\Anaconda3\\lib\\site-packages\\ipykernel_launcher.py:10: SettingWithCopyWarning: \n",
      "A value is trying to be set on a copy of a slice from a DataFrame.\n",
      "Try using .loc[row_indexer,col_indexer] = value instead\n",
      "\n",
      "See the caveats in the documentation: http://pandas.pydata.org/pandas-docs/stable/indexing.html#indexing-view-versus-copy\n",
      "  # Remove the CWD from sys.path while we load stuff.\n",
      "C:\\ProgramData\\Anaconda3\\lib\\site-packages\\ipykernel_launcher.py:11: SettingWithCopyWarning: \n",
      "A value is trying to be set on a copy of a slice from a DataFrame.\n",
      "Try using .loc[row_indexer,col_indexer] = value instead\n",
      "\n",
      "See the caveats in the documentation: http://pandas.pydata.org/pandas-docs/stable/indexing.html#indexing-view-versus-copy\n",
      "  # This is added back by InteractiveShellApp.init_path()\n",
      "C:\\ProgramData\\Anaconda3\\lib\\site-packages\\ipykernel_launcher.py:19: SettingWithCopyWarning: \n",
      "A value is trying to be set on a copy of a slice from a DataFrame.\n",
      "Try using .loc[row_indexer,col_indexer] = value instead\n",
      "\n",
      "See the caveats in the documentation: http://pandas.pydata.org/pandas-docs/stable/indexing.html#indexing-view-versus-copy\n",
      "C:\\ProgramData\\Anaconda3\\lib\\site-packages\\ipykernel_launcher.py:20: SettingWithCopyWarning: \n",
      "A value is trying to be set on a copy of a slice from a DataFrame.\n",
      "Try using .loc[row_indexer,col_indexer] = value instead\n",
      "\n",
      "See the caveats in the documentation: http://pandas.pydata.org/pandas-docs/stable/indexing.html#indexing-view-versus-copy\n"
     ]
    },
    {
     "name": "stdout",
     "output_type": "stream",
     "text": [
      "Árbevétel 2015 (RON)\n",
      "Alkalmazottak száma 2016\n",
      "Árbevétel 2016 (RON)\n",
      "Alkalmazottak száma 2017\n",
      "Árbevétel 2017 (RON)\n"
     ]
    }
   ],
   "source": [
    "ds=[]\n",
    "ds1=[]\n",
    "ds2=[]\n",
    "for i in range(2014,2018):\n",
    "    g='Alkalmazottak száma'\n",
    "    c=g+' '+str(i)\n",
    "    print(c)\n",
    "    df=data[[c]]\n",
    "    df.columns=[g]\n",
    "    df[g]=df[g].fillna('').str.replace(u'\\xa0','').str.replace('-','')\n",
    "    df['Év']=i\n",
    "    ds1.append(df)\n",
    "    ds.append(d1.join(df))\n",
    "    g='Árbevétel'\n",
    "    c=g+' '+str(i)+' (RON)'\n",
    "    print(c)\n",
    "    df=data[[c]]\n",
    "    df.columns=[g]\n",
    "    df[g]=df[g].fillna('').str.replace(u'\\xa0','').str.replace('-','')\n",
    "    df['Év']=i\n",
    "    ds2.append(df)"
   ]
  },
  {
   "cell_type": "code",
   "execution_count": 12,
   "metadata": {
    "ExecuteTime": {
     "end_time": "2018-12-28T21:43:30.317688Z",
     "start_time": "2018-12-28T21:43:30.303689Z"
    }
   },
   "outputs": [],
   "source": [
    "df=pd.concat(ds,sort=False)"
   ]
  },
  {
   "cell_type": "code",
   "execution_count": 13,
   "metadata": {
    "ExecuteTime": {
     "end_time": "2018-12-28T21:43:31.363727Z",
     "start_time": "2018-12-28T21:43:31.354725Z"
    }
   },
   "outputs": [],
   "source": [
    "df1=pd.concat(ds1,sort=False)\n",
    "df2=pd.concat(ds2,sort=False)"
   ]
  },
  {
   "cell_type": "code",
   "execution_count": 14,
   "metadata": {
    "ExecuteTime": {
     "end_time": "2018-12-28T21:43:32.333718Z",
     "start_time": "2018-12-28T21:43:31.780709Z"
    }
   },
   "outputs": [],
   "source": [
    "df1.to_excel('df1.xlsx')\n",
    "df2.to_excel('df2.xlsx')"
   ]
  },
  {
   "cell_type": "code",
   "execution_count": 15,
   "metadata": {
    "ExecuteTime": {
     "end_time": "2018-12-28T21:43:32.349705Z",
     "start_time": "2018-12-28T21:43:32.335704Z"
    }
   },
   "outputs": [],
   "source": [
    "df1=df1.set_index('Év',append=True)\n",
    "df2=df2.set_index('Év',append=True)"
   ]
  },
  {
   "cell_type": "code",
   "execution_count": 16,
   "metadata": {
    "ExecuteTime": {
     "end_time": "2018-12-28T21:43:32.903102Z",
     "start_time": "2018-12-28T21:43:32.885099Z"
    }
   },
   "outputs": [],
   "source": [
    "df=df1.join(df2).replace('',np.nan).astype(float)"
   ]
  },
  {
   "cell_type": "code",
   "execution_count": 17,
   "metadata": {
    "ExecuteTime": {
     "end_time": "2018-12-28T21:43:33.631616Z",
     "start_time": "2018-12-28T21:43:33.515624Z"
    }
   },
   "outputs": [],
   "source": [
    "df['Bevétel']=np.round(df['Árbevétel']/1000000.0,3)"
   ]
  },
  {
   "cell_type": "code",
   "execution_count": 18,
   "metadata": {
    "ExecuteTime": {
     "end_time": "2018-12-28T21:43:35.320179Z",
     "start_time": "2018-12-28T21:43:35.312182Z"
    }
   },
   "outputs": [],
   "source": [
    "df['Bevétel/Alkalmazott']=np.round(df['Bevétel']/df['Alkalmazottak száma'],3)"
   ]
  },
  {
   "cell_type": "code",
   "execution_count": 19,
   "metadata": {
    "ExecuteTime": {
     "end_time": "2018-12-28T21:43:37.086198Z",
     "start_time": "2018-12-28T21:43:36.251212Z"
    }
   },
   "outputs": [],
   "source": [
    "data2=df.reset_index().join(d1,on='Cégnév').set_index('Cégnév')\n",
    "data2.to_excel('export2.xlsx')"
   ]
  },
  {
   "cell_type": "code",
   "execution_count": 20,
   "metadata": {
    "ExecuteTime": {
     "end_time": "2018-12-28T21:43:37.580714Z",
     "start_time": "2018-12-28T21:43:37.091205Z"
    }
   },
   "outputs": [],
   "source": [
    "data3=df.unstack()\n",
    "data3.columns=data3.columns.get_level_values(1).astype(str)\n",
    "data3=data3.reset_index().join(d1,on='Cégnév').set_index('Cégnév')\n",
    "data3.index.name=None\n",
    "data3.to_excel('export3.xlsx')"
   ]
  },
  {
   "cell_type": "code",
   "execution_count": 124,
   "metadata": {
    "ExecuteTime": {
     "end_time": "2018-12-28T22:21:22.863637Z",
     "start_time": "2018-12-28T22:21:22.700640Z"
    }
   },
   "outputs": [],
   "source": [
    "data4=data3.groupby(['Iparág','Régió']).sum()\n",
    "data4b=data3.groupby(['Régió']).sum()\n",
    "data4=data4.unstack().T\n",
    "data4b=data4b.unstack().T\n",
    "data4['Mind']=data4b\n",
    "data4=data4.unstack().T\n",
    "data4.reset_index().to_excel('export4.xlsx')"
   ]
  },
  {
   "cell_type": "code",
   "execution_count": 123,
   "metadata": {
    "ExecuteTime": {
     "end_time": "2018-12-28T22:20:56.756435Z",
     "start_time": "2018-12-28T22:20:56.575419Z"
    }
   },
   "outputs": [],
   "source": [
    "data4=data3.groupby(['Régió','Iparág']).sum()\n",
    "data4b=data3.groupby(['Iparág']).sum()\n",
    "data4=data4.unstack().T\n",
    "data4b=data4b.unstack().T\n",
    "data4['Mind']=data4b\n",
    "data4=data4.unstack().T\n",
    "data4.reset_index().to_excel('export4b.xlsx')"
   ]
  },
  {
   "cell_type": "code",
   "execution_count": null,
   "metadata": {},
   "outputs": [],
   "source": []
  }
 ],
 "metadata": {
  "kernelspec": {
   "display_name": "Python 3",
   "language": "python",
   "name": "python3"
  },
  "language_info": {
   "codemirror_mode": {
    "name": "ipython",
    "version": 3
   },
   "file_extension": ".py",
   "mimetype": "text/x-python",
   "name": "python",
   "nbconvert_exporter": "python",
   "pygments_lexer": "ipython3",
   "version": "3.7.0"
  },
  "toc": {
   "base_numbering": 1,
   "nav_menu": {},
   "number_sections": true,
   "sideBar": true,
   "skip_h1_title": false,
   "title_cell": "Table of Contents",
   "title_sidebar": "Contents",
   "toc_cell": false,
   "toc_position": {},
   "toc_section_display": true,
   "toc_window_display": false
  }
 },
 "nbformat": 4,
 "nbformat_minor": 1
}
