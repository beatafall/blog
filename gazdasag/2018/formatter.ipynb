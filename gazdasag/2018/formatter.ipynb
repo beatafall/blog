{
 "cells": [
  {
   "cell_type": "code",
   "execution_count": 386,
   "metadata": {
    "ExecuteTime": {
     "end_time": "2018-12-16T19:43:48.537193Z",
     "start_time": "2018-12-16T19:43:48.515191Z"
    }
   },
   "outputs": [],
   "source": [
    "import requests, pandas as pd, numpy as np\n",
    "from requests import session\n",
    "from bs4 import BeautifulSoup"
   ]
  },
  {
   "cell_type": "code",
   "execution_count": 387,
   "metadata": {
    "ExecuteTime": {
     "end_time": "2018-12-16T19:43:49.076192Z",
     "start_time": "2018-12-16T19:43:48.732189Z"
    }
   },
   "outputs": [],
   "source": [
    "manual=pd.read_excel('manual_manual.xlsx').set_index('Cégnév')\n",
    "data=pd.read_excel('data.xlsx').set_index('Cégnév')\n",
    "sectors=pd.read_excel('valid_manual.xlsx')"
   ]
  },
  {
   "cell_type": "code",
   "execution_count": 388,
   "metadata": {
    "ExecuteTime": {
     "end_time": "2018-12-16T19:43:49.523211Z",
     "start_time": "2018-12-16T19:43:49.511205Z"
    }
   },
   "outputs": [],
   "source": [
    "data['Sector']=sectors.set_index(0)[1]"
   ]
  },
  {
   "cell_type": "code",
   "execution_count": 389,
   "metadata": {
    "ExecuteTime": {
     "end_time": "2018-12-16T19:43:49.864193Z",
     "start_time": "2018-12-16T19:43:49.843193Z"
    }
   },
   "outputs": [
    {
     "name": "stderr",
     "output_type": "stream",
     "text": [
      "C:\\ProgramData\\Anaconda3\\lib\\site-packages\\ipykernel_launcher.py:1: FutureWarning: Sorting because non-concatenation axis is not aligned. A future version\n",
      "of pandas will change to not sort by default.\n",
      "\n",
      "To accept the future behavior, pass 'sort=False'.\n",
      "\n",
      "To retain the current behavior and silence the warning, pass 'sort=True'.\n",
      "\n",
      "  \"\"\"Entry point for launching an IPython kernel.\n"
     ]
    }
   ],
   "source": [
    "data=pd.concat([data,manual])"
   ]
  },
  {
   "cell_type": "code",
   "execution_count": 390,
   "metadata": {
    "ExecuteTime": {
     "end_time": "2018-12-16T19:43:50.279191Z",
     "start_time": "2018-12-16T19:43:50.204193Z"
    }
   },
   "outputs": [],
   "source": [
    "repl={'udvarhelyszek':'Udvarhelyszék',\n",
    "'csikszek':'Csíkszék',\n",
    "'gyergyoszek':'Gyergyószék',\n",
    "'marosszek':'Marosszék',\n",
    "'also-haromszek':'Alsó-háromszék',\n",
    "'felso-haromszek':'Felső-háromszék'}\n",
    "for r in repl:\n",
    "    data=data.replace(r,repl[r])"
   ]
  },
  {
   "cell_type": "code",
   "execution_count": 391,
   "metadata": {
    "ExecuteTime": {
     "end_time": "2018-12-16T19:43:51.045196Z",
     "start_time": "2018-12-16T19:43:50.526205Z"
    }
   },
   "outputs": [],
   "source": [
    "data.to_excel('export1.xlsx')"
   ]
  },
  {
   "cell_type": "code",
   "execution_count": 392,
   "metadata": {
    "ExecuteTime": {
     "end_time": "2018-12-16T19:43:51.060193Z",
     "start_time": "2018-12-16T19:43:51.052194Z"
    }
   },
   "outputs": [],
   "source": [
    "d1=data[['Régió', 'Latitude', 'Longitude', 'Sector']]\n",
    "d1.columns=['Régió', 'Hosszúság', 'Szélesség', 'Iparág']"
   ]
  },
  {
   "cell_type": "code",
   "execution_count": 393,
   "metadata": {
    "ExecuteTime": {
     "end_time": "2018-12-16T19:43:51.329189Z",
     "start_time": "2018-12-16T19:43:51.064191Z"
    }
   },
   "outputs": [],
   "source": [
    "d1.to_excel('d1.xlsx')"
   ]
  },
  {
   "cell_type": "code",
   "execution_count": 394,
   "metadata": {
    "ExecuteTime": {
     "end_time": "2018-12-16T19:43:51.351191Z",
     "start_time": "2018-12-16T19:43:51.333192Z"
    }
   },
   "outputs": [
    {
     "data": {
      "text/plain": [
       "Index(['Alkalmazottak száma 2014', 'Alkalmazottak száma 2015',\n",
       "       'Alkalmazottak száma 2016', 'Alkalmazottak száma 2017', 'Cím', 'Kw',\n",
       "       'Latitude', 'Longitude', 'Régió', 'Sector', 'nr_alkalmazottak',\n",
       "       'nr_arbevetel', 'Árbevétel 2014 (RON)', 'Árbevétel 2015 (RON)',\n",
       "       'Árbevétel 2016 (RON)', 'Árbevétel 2017 (RON)'],\n",
       "      dtype='object')"
      ]
     },
     "execution_count": 394,
     "metadata": {},
     "output_type": "execute_result"
    }
   ],
   "source": [
    "data.columns"
   ]
  },
  {
   "cell_type": "code",
   "execution_count": 395,
   "metadata": {
    "ExecuteTime": {
     "end_time": "2018-12-16T19:43:52.303188Z",
     "start_time": "2018-12-16T19:43:51.395196Z"
    }
   },
   "outputs": [
    {
     "name": "stdout",
     "output_type": "stream",
     "text": [
      "Alkalmazottak száma 2014\n"
     ]
    },
    {
     "name": "stderr",
     "output_type": "stream",
     "text": [
      "C:\\ProgramData\\Anaconda3\\lib\\site-packages\\ipykernel_launcher.py:9: SettingWithCopyWarning: \n",
      "A value is trying to be set on a copy of a slice from a DataFrame.\n",
      "Try using .loc[row_indexer,col_indexer] = value instead\n",
      "\n",
      "See the caveats in the documentation: http://pandas.pydata.org/pandas-docs/stable/indexing.html#indexing-view-versus-copy\n",
      "  if __name__ == '__main__':\n",
      "C:\\ProgramData\\Anaconda3\\lib\\site-packages\\ipykernel_launcher.py:10: SettingWithCopyWarning: \n",
      "A value is trying to be set on a copy of a slice from a DataFrame.\n",
      "Try using .loc[row_indexer,col_indexer] = value instead\n",
      "\n",
      "See the caveats in the documentation: http://pandas.pydata.org/pandas-docs/stable/indexing.html#indexing-view-versus-copy\n",
      "  # Remove the CWD from sys.path while we load stuff.\n",
      "C:\\ProgramData\\Anaconda3\\lib\\site-packages\\ipykernel_launcher.py:18: SettingWithCopyWarning: \n",
      "A value is trying to be set on a copy of a slice from a DataFrame.\n",
      "Try using .loc[row_indexer,col_indexer] = value instead\n",
      "\n",
      "See the caveats in the documentation: http://pandas.pydata.org/pandas-docs/stable/indexing.html#indexing-view-versus-copy\n",
      "C:\\ProgramData\\Anaconda3\\lib\\site-packages\\ipykernel_launcher.py:19: SettingWithCopyWarning: \n",
      "A value is trying to be set on a copy of a slice from a DataFrame.\n",
      "Try using .loc[row_indexer,col_indexer] = value instead\n",
      "\n",
      "See the caveats in the documentation: http://pandas.pydata.org/pandas-docs/stable/indexing.html#indexing-view-versus-copy\n"
     ]
    },
    {
     "name": "stdout",
     "output_type": "stream",
     "text": [
      "Árbevétel 2014 (RON)\n",
      "Alkalmazottak száma 2015\n",
      "Árbevétel 2015 (RON)\n",
      "Alkalmazottak száma 2016\n",
      "Árbevétel 2016 (RON)\n",
      "Alkalmazottak száma 2017\n",
      "Árbevétel 2017 (RON)\n"
     ]
    }
   ],
   "source": [
    "ds1=[]\n",
    "ds2=[]\n",
    "for i in range(2014,2018):\n",
    "    g='Alkalmazottak száma'\n",
    "    c=g+' '+str(i)\n",
    "    print(c)\n",
    "    df=data[[c]]\n",
    "    df.columns=[g]\n",
    "    df[g]=df[g].fillna('').str.replace(u'\\xa0','').str.replace('-','')\n",
    "    df['Év']=i\n",
    "    ds1.append(df)\n",
    "    ds.append(d1.join(df))\n",
    "    g='Árbevétel'\n",
    "    c=g+' '+str(i)+' (RON)'\n",
    "    print(c)\n",
    "    df=data[[c]]\n",
    "    df.columns=[g]\n",
    "    df[g]=df[g].fillna('').str.replace(u'\\xa0','').str.replace('-','')\n",
    "    df['Év']=i\n",
    "    ds2.append(df)"
   ]
  },
  {
   "cell_type": "code",
   "execution_count": 396,
   "metadata": {
    "ExecuteTime": {
     "end_time": "2018-12-16T19:43:52.393186Z",
     "start_time": "2018-12-16T19:43:52.308194Z"
    }
   },
   "outputs": [],
   "source": [
    "df=pd.concat(ds,sort=False)"
   ]
  },
  {
   "cell_type": "code",
   "execution_count": 397,
   "metadata": {
    "ExecuteTime": {
     "end_time": "2018-12-16T19:43:52.953191Z",
     "start_time": "2018-12-16T19:43:52.940193Z"
    }
   },
   "outputs": [],
   "source": [
    "df1=pd.concat(ds1,sort=False)\n",
    "df2=pd.concat(ds2,sort=False)"
   ]
  },
  {
   "cell_type": "code",
   "execution_count": 398,
   "metadata": {
    "ExecuteTime": {
     "end_time": "2018-12-16T19:43:54.298192Z",
     "start_time": "2018-12-16T19:43:53.400200Z"
    }
   },
   "outputs": [],
   "source": [
    "df1.to_excel('df1.xlsx')\n",
    "df2.to_excel('df2.xlsx')"
   ]
  },
  {
   "cell_type": "code",
   "execution_count": 399,
   "metadata": {
    "ExecuteTime": {
     "end_time": "2018-12-16T19:43:54.319196Z",
     "start_time": "2018-12-16T19:43:54.302192Z"
    }
   },
   "outputs": [],
   "source": [
    "df1=df1.set_index('Év',append=True)\n",
    "df2=df2.set_index('Év',append=True)"
   ]
  },
  {
   "cell_type": "code",
   "execution_count": 400,
   "metadata": {
    "ExecuteTime": {
     "end_time": "2018-12-16T19:43:54.951190Z",
     "start_time": "2018-12-16T19:43:54.931194Z"
    }
   },
   "outputs": [],
   "source": [
    "df=df1.join(df2).replace('',np.nan).astype(float)"
   ]
  },
  {
   "cell_type": "code",
   "execution_count": 401,
   "metadata": {
    "ExecuteTime": {
     "end_time": "2018-12-16T19:43:55.589198Z",
     "start_time": "2018-12-16T19:43:55.581191Z"
    }
   },
   "outputs": [],
   "source": [
    "df['Bevétel']=np.round(df['Árbevétel']/1000000.0,3)"
   ]
  },
  {
   "cell_type": "code",
   "execution_count": 402,
   "metadata": {
    "ExecuteTime": {
     "end_time": "2018-12-16T19:43:58.754765Z",
     "start_time": "2018-12-16T19:43:58.747762Z"
    }
   },
   "outputs": [],
   "source": [
    "df['Bevétel/Alkalmazott']=np.round(df['Bevétel']/df['Alkalmazottak száma'],3)"
   ]
  },
  {
   "cell_type": "code",
   "execution_count": 403,
   "metadata": {
    "ExecuteTime": {
     "end_time": "2018-12-16T19:43:59.829759Z",
     "start_time": "2018-12-16T19:43:59.039763Z"
    }
   },
   "outputs": [],
   "source": [
    "data2=df.reset_index().join(d1,on='Cégnév').set_index('Cégnév')\n",
    "data2.to_excel('export2.xlsx')"
   ]
  },
  {
   "cell_type": "code",
   "execution_count": 404,
   "metadata": {
    "ExecuteTime": {
     "end_time": "2018-12-16T19:44:00.278758Z",
     "start_time": "2018-12-16T19:43:59.833760Z"
    }
   },
   "outputs": [],
   "source": [
    "data3=df.unstack()\n",
    "data3.columns=data3.columns.get_level_values(1).astype(str)\n",
    "data3=data3.reset_index().join(d1,on='Cégnév').set_index('Cégnév')\n",
    "data3.index.name=None\n",
    "data3.to_excel('export3.xlsx')"
   ]
  }
 ],
 "metadata": {
  "kernelspec": {
   "display_name": "Python 3",
   "language": "python",
   "name": "python3"
  },
  "language_info": {
   "codemirror_mode": {
    "name": "ipython",
    "version": 3
   },
   "file_extension": ".py",
   "mimetype": "text/x-python",
   "name": "python",
   "nbconvert_exporter": "python",
   "pygments_lexer": "ipython3",
   "version": "3.7.0"
  },
  "toc": {
   "base_numbering": 1,
   "nav_menu": {},
   "number_sections": true,
   "sideBar": true,
   "skip_h1_title": false,
   "title_cell": "Table of Contents",
   "title_sidebar": "Contents",
   "toc_cell": false,
   "toc_position": {},
   "toc_section_display": true,
   "toc_window_display": false
  }
 },
 "nbformat": 4,
 "nbformat_minor": 1
}
