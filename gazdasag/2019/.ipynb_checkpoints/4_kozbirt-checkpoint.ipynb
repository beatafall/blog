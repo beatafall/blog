{
 "cells": [
  {
   "cell_type": "code",
   "execution_count": 1,
   "metadata": {
    "ExecuteTime": {
     "end_time": "2018-12-16T00:17:00.686796Z",
     "start_time": "2018-12-16T00:17:00.682793Z"
    }
   },
   "outputs": [],
   "source": [
    "import requests, pandas as pd, numpy as np\n",
    "from requests import session\n",
    "from bs4 import BeautifulSoup"
   ]
  },
  {
   "cell_type": "code",
   "execution_count": 2,
   "metadata": {
    "ExecuteTime": {
     "end_time": "2018-12-16T00:10:48.191666Z",
     "start_time": "2018-12-16T00:10:47.036665Z"
    }
   },
   "outputs": [
    {
     "name": "stdout",
     "output_type": "stream",
     "text": [
      "__cfduid ddf927e7801beda5fe82f1d16dfea29e81578227078\n",
      "PHPSESSID 37tq2cosotem3rha99bjdhd280\n"
     ]
    }
   ],
   "source": [
    "url='http://www.omnibus.ro/index.php/hu/szekelyfoldi-top-listak/arbevetel/also-haromszek-2015-2018#oldal'\n",
    "r = requests.get(url)\n",
    "\n",
    "for c in r.cookies:\n",
    "    print(c.name, c.value)"
   ]
  },
  {
   "cell_type": "code",
   "execution_count": 23,
   "metadata": {},
   "outputs": [],
   "source": [
    "url='http://www.omnibus.ro/index.php/hu/szekelyfoldi-top-listak/kozbirtokossag/top25-kozbirtokossag-2019#oldal'\n",
    "with session() as c:\n",
    "    response = c.get(url)\n",
    "    #print(response.headers)\n",
    "    #print(response.text)\n",
    "    df=pd.read_html(response.text)[1]\n",
    "    df.columns=list(df.loc[0])\n",
    "    df=df.loc[2:]\n",
    "    #df=df[df.columns[1:-1]]\n",
    "    df=df.loc[list(df.index)[:-1]]\n",
    "    #df['nr']=df.index\n",
    "\n",
    "soup = BeautifulSoup(response.content)\n",
    "links=soup.findAll('table')[3].findAll('a')"
   ]
  },
  {
   "cell_type": "code",
   "execution_count": 25,
   "metadata": {
    "ExecuteTime": {
     "end_time": "2018-12-16T08:49:53.082342Z",
     "start_time": "2018-12-16T08:39:39.697363Z"
    }
   },
   "outputs": [
    {
     "name": "stdout",
     "output_type": "stream",
     "text": [
      "0\n",
      "1\n",
      "2\n",
      "3\n",
      "4\n",
      "5\n",
      "6\n",
      "7\n",
      "8\n",
      "9\n",
      "10\n",
      "11\n",
      "12\n",
      "13\n",
      "14\n",
      "15\n",
      "16\n",
      "17\n",
      "18\n",
      "19\n",
      "20\n",
      "21\n",
      "22\n",
      "23\n",
      "24\n"
     ]
    },
    {
     "name": "stderr",
     "output_type": "stream",
     "text": [
      "C:\\ProgramData\\Anaconda3\\lib\\site-packages\\ipykernel_launcher.py:24: SettingWithCopyWarning: \n",
      "A value is trying to be set on a copy of a slice from a DataFrame.\n",
      "Try using .loc[row_indexer,col_indexer] = value instead\n",
      "\n",
      "See the caveats in the documentation: http://pandas.pydata.org/pandas-docs/stable/user_guide/indexing.html#returning-a-view-versus-a-copy\n",
      "C:\\ProgramData\\Anaconda3\\lib\\site-packages\\ipykernel_launcher.py:25: SettingWithCopyWarning: \n",
      "A value is trying to be set on a copy of a slice from a DataFrame.\n",
      "Try using .loc[row_indexer,col_indexer] = value instead\n",
      "\n",
      "See the caveats in the documentation: http://pandas.pydata.org/pandas-docs/stable/user_guide/indexing.html#returning-a-view-versus-a-copy\n",
      "C:\\ProgramData\\Anaconda3\\lib\\site-packages\\ipykernel_launcher.py:26: SettingWithCopyWarning: \n",
      "A value is trying to be set on a copy of a slice from a DataFrame.\n",
      "Try using .loc[row_indexer,col_indexer] = value instead\n",
      "\n",
      "See the caveats in the documentation: http://pandas.pydata.org/pandas-docs/stable/user_guide/indexing.html#returning-a-view-versus-a-copy\n"
     ]
    }
   ],
   "source": [
    "coords=[]\n",
    "kws=[]\n",
    "cms=[]\n",
    "for i in range(len(links)):\n",
    "    print(i,)\n",
    "    r=requests.get(links[i]['href'])\n",
    "    g=repr(r.content)\n",
    "    coord_start=g.find('GLatLng')\n",
    "    coord_end=coord_start+g[coord_start:].find(')')\n",
    "    coord=g[coord_start+len('GLatLng')+1:coord_end].split(',')\n",
    "    kw_start=g.find('<meta name=\"keywords')\n",
    "    kw_end=kw_start+g[kw_start:].find('/>')\n",
    "    kw=g[kw_start+len('<meta name=\"keywords\" content=\"'):kw_end].split(',')\n",
    "    kw=[i.strip() for i in kw]\n",
    "    cm_start=g.find('<b>C&iacute;m:</b>')\n",
    "    cm_end=cm_start+g[cm_start:].find('<br>')\n",
    "    cm=g[cm_start+len('<b>C&iacute;m:</b>'):cm_end].strip()\n",
    "\n",
    "    coords.append(coord)\n",
    "    kws.append(kw)\n",
    "    cms.append(cm)\n",
    "\n",
    "df=df[:len(links)]\n",
    "df['coords']=coords\n",
    "df['kws']=kws\n",
    "df['cms']=cms"
   ]
  },
  {
   "cell_type": "code",
   "execution_count": 26,
   "metadata": {
    "ExecuteTime": {
     "end_time": "2018-12-16T09:04:09.266213Z",
     "start_time": "2018-12-16T09:04:09.103216Z"
    }
   },
   "outputs": [],
   "source": [
    "df.to_csv('kozb.csv',sep=';')"
   ]
  },
  {
   "cell_type": "code",
   "execution_count": 70,
   "metadata": {},
   "outputs": [],
   "source": [
    "df=pd.read_csv('kozb.csv',sep=';')"
   ]
  },
  {
   "cell_type": "code",
   "execution_count": 71,
   "metadata": {},
   "outputs": [],
   "source": [
    "data=pd.DataFrame(df)"
   ]
  },
  {
   "cell_type": "code",
   "execution_count": 72,
   "metadata": {},
   "outputs": [],
   "source": [
    "lat=[]\n",
    "lon=[]\n",
    "for i in range(len(data.index)):\n",
    "    k=str(data.loc[data.index[i]]['coords']).replace(\"'\",'').replace('[','')\\\n",
    "    .replace(']','').replace(' ','').split(',')\n",
    "    lon.append(k[0])\n",
    "    lat.append(k[1])"
   ]
  },
  {
   "cell_type": "code",
   "execution_count": 73,
   "metadata": {},
   "outputs": [],
   "source": [
    "data['Latitude']=lat\n",
    "data['Longitude']=lon"
   ]
  },
  {
   "cell_type": "code",
   "execution_count": 74,
   "metadata": {},
   "outputs": [],
   "source": [
    "data=data.drop('coords',axis=1)\n",
    "data=data[data.columns[2:]]"
   ]
  },
  {
   "cell_type": "code",
   "execution_count": 75,
   "metadata": {},
   "outputs": [],
   "source": [
    "manual=data[data['Longitude']=='']\n",
    "data=data[data['Longitude']!='']"
   ]
  },
  {
   "cell_type": "code",
   "execution_count": 76,
   "metadata": {},
   "outputs": [],
   "source": [
    "data.to_excel('kdata.xlsx')\n",
    "manual.to_excel('kmanual.xlsx')\n",
    "manual.to_excel('kmanual_manual.xlsx')"
   ]
  },
  {
   "cell_type": "markdown",
   "metadata": {},
   "source": [
    "Fix sector, address data and coordinates manually"
   ]
  },
  {
   "cell_type": "code",
   "execution_count": 77,
   "metadata": {},
   "outputs": [],
   "source": [
    "data=pd.read_excel('kdata.xlsx')\n",
    "manual=pd.read_excel('kmanual_manual.xlsx')"
   ]
  },
  {
   "cell_type": "code",
   "execution_count": 78,
   "metadata": {},
   "outputs": [],
   "source": [
    "data=pd.concat([data.set_index('Közbirtokosság neve'),manual.set_index('Közbirtokosság neve')])"
   ]
  },
  {
   "cell_type": "code",
   "execution_count": 82,
   "metadata": {},
   "outputs": [],
   "source": [
    "sectors=pd.read_excel('sectors.xlsx')\n",
    "sectormap={}\n",
    "repl={'á':'a','é':'e','í':'i','ó':'o','ú':'u','ü':'u','ű':'u','ő':'o','ö':'o'}\n",
    "for s in sectors.columns:\n",
    "    for k in sectors[s].values:\n",
    "        for j in str(k).replace(' ','').split(','):\n",
    "            sectormap[j]=s\n",
    "            for c in repl:\n",
    "                j=j.replace(c,repl[c])\n",
    "            sectormap[j]=s"
   ]
  },
  {
   "cell_type": "code",
   "execution_count": 83,
   "metadata": {},
   "outputs": [],
   "source": [
    "valid=[]\n",
    "kws=[]\n",
    "ki=-1\n",
    "for i in range(len(data.index)):\n",
    "    ks=data.loc[data.index[i]]['kws'].replace(\"'\",'').replace('[','')\\\n",
    "                .replace(']','').replace(' ','').lower().split(',')[:-2]\n",
    "    for k in ks:\n",
    "        if k in sectormap:\n",
    "            kws.append(sectormap[k])\n",
    "            break\n",
    "        k=k.replace('-','')\n",
    "        if k in sectormap:\n",
    "            kws.append(sectormap[k])\n",
    "            break\n",
    "    if len(kws)<i-1: \n",
    "        print('ERROR',ks,i)\n",
    "        break\n",
    "    else:\n",
    "        #print('SUCCES',kws[-1],ks)\n",
    "        valid.append([data.index[i],kws[-1],ks])"
   ]
  },
  {
   "cell_type": "code",
   "execution_count": 84,
   "metadata": {},
   "outputs": [],
   "source": [
    "pd.DataFrame(valid).to_excel('kvalid.xlsx')\n",
    "pd.DataFrame(valid).to_excel('kvalid_manual.xlsx')"
   ]
  },
  {
   "cell_type": "markdown",
   "metadata": {},
   "source": [
    "Manual check and overwrite"
   ]
  },
  {
   "cell_type": "code",
   "execution_count": 161,
   "metadata": {},
   "outputs": [],
   "source": [
    "manual=pd.read_excel('kmanual_manual.xlsx').set_index('Közbirtokosság neve')\n",
    "data=pd.read_excel('kdata.xlsx').set_index('Közbirtokosság neve')\n",
    "sectors=pd.read_excel('kvalid_manual.xlsx')"
   ]
  },
  {
   "cell_type": "code",
   "execution_count": 162,
   "metadata": {},
   "outputs": [
    {
     "data": {
      "text/plain": [
       "(23, 2)"
      ]
     },
     "execution_count": 162,
     "metadata": {},
     "output_type": "execute_result"
    }
   ],
   "source": [
    "len(data), len(manual)"
   ]
  },
  {
   "cell_type": "code",
   "execution_count": 163,
   "metadata": {},
   "outputs": [],
   "source": [
    "data=pd.concat([data,manual])"
   ]
  },
  {
   "cell_type": "code",
   "execution_count": 164,
   "metadata": {},
   "outputs": [
    {
     "data": {
      "text/html": [
       "<div>\n",
       "<style scoped>\n",
       "    .dataframe tbody tr th:only-of-type {\n",
       "        vertical-align: middle;\n",
       "    }\n",
       "\n",
       "    .dataframe tbody tr th {\n",
       "        vertical-align: top;\n",
       "    }\n",
       "\n",
       "    .dataframe thead th {\n",
       "        text-align: right;\n",
       "    }\n",
       "</style>\n",
       "<table border=\"1\" class=\"dataframe\">\n",
       "  <thead>\n",
       "    <tr style=\"text-align: right;\">\n",
       "      <th></th>\n",
       "      <th>Unnamed: 0</th>\n",
       "      <th>Helyezés.1</th>\n",
       "      <th>Szék</th>\n",
       "      <th>Gazdasági tevékenységbőlszármazó bevétel (RON)2018</th>\n",
       "      <th>Gazdasági tevékenységbőlszármazó bevétel (RON)2017</th>\n",
       "      <th>kws</th>\n",
       "      <th>cms</th>\n",
       "      <th>Latitude</th>\n",
       "      <th>Longitude</th>\n",
       "    </tr>\n",
       "    <tr>\n",
       "      <th>Közbirtokosság neve</th>\n",
       "      <th></th>\n",
       "      <th></th>\n",
       "      <th></th>\n",
       "      <th></th>\n",
       "      <th></th>\n",
       "      <th></th>\n",
       "      <th></th>\n",
       "      <th></th>\n",
       "      <th></th>\n",
       "    </tr>\n",
       "  </thead>\n",
       "  <tbody>\n",
       "    <tr>\n",
       "      <th>GYERGYÓALFALUI KÖZBIRTOKOSSÁG/ COMPOSESORATUL JOSENI</th>\n",
       "      <td>0</td>\n",
       "      <td>1</td>\n",
       "      <td>Gyergyószék</td>\n",
       "      <td>11 017 249</td>\n",
       "      <td>10 744 216</td>\n",
       "      <td>['kozbirtokossagok', 'erdokitermeles', '', '\"']</td>\n",
       "      <td>537130, Gyergy\\xf3alfalu, F\\xf5 u., 663\\t</td>\n",
       "      <td>25.515620</td>\n",
       "      <td>46.680137</td>\n",
       "    </tr>\n",
       "    <tr>\n",
       "      <th>ZETELAKI KÖZBIRTOKOSSÁG/ COMPOSESORAT ZETEA</th>\n",
       "      <td>2</td>\n",
       "      <td>2</td>\n",
       "      <td>Udvarhelyszék</td>\n",
       "      <td>7 620 294</td>\n",
       "      <td>7 011 349</td>\n",
       "      <td>['allattenyesztes', 'csemetekert', 'erdogazdal...</td>\n",
       "      <td>537360, Zetelaka, F\\xf5 u., 272\\t</td>\n",
       "      <td>25.366667</td>\n",
       "      <td>46.383333</td>\n",
       "    </tr>\n",
       "    <tr>\n",
       "      <th>SZOVÁTAI MAROS KÖZBIRTOKOSSÁG/ COMPOSESORATUL MURESUL SOVATA</th>\n",
       "      <td>3</td>\n",
       "      <td>3</td>\n",
       "      <td>Marosszék</td>\n",
       "      <td>7 125 940</td>\n",
       "      <td>5 297 852</td>\n",
       "      <td>['kozbirtokossagok', '', '\"']</td>\n",
       "      <td>545500, Szov\\xe1ta, Iszujka u., 1\\t</td>\n",
       "      <td>25.077440</td>\n",
       "      <td>46.599080</td>\n",
       "    </tr>\n",
       "    <tr>\n",
       "      <th>HOMORÓDALMÁSI KÖZBIRTOKOSSÁG/ COMPOSESORAT MERESTI</th>\n",
       "      <td>5</td>\n",
       "      <td>17</td>\n",
       "      <td>Udvarhelyszék</td>\n",
       "      <td>3 958 246</td>\n",
       "      <td>2 058 345</td>\n",
       "      <td>['erdeszeti-szolgaltatasok', 'erdogazdalkodas'...</td>\n",
       "      <td>537195, Homor\\xf3dalm\\xe1s, F\\xf5 u., 503\\t</td>\n",
       "      <td>25.456996</td>\n",
       "      <td>46.234392</td>\n",
       "    </tr>\n",
       "    <tr>\n",
       "      <th>CSÍKSZENTIMREI KÖZBIRTOKOSSÁG/ ASOCIATIA COMPOSESORALA SINTIMBRU CIUC</th>\n",
       "      <td>6</td>\n",
       "      <td>11</td>\n",
       "      <td>Csíkszék</td>\n",
       "      <td>3 836 591</td>\n",
       "      <td>2 397 785</td>\n",
       "      <td>['kozbirtokossagok', '', '\"']</td>\n",
       "      <td>537271, Cs\\xedkszentimre, F\\xf5 u., 572/A\\t</td>\n",
       "      <td>25.862959</td>\n",
       "      <td>46.284012</td>\n",
       "    </tr>\n",
       "    <tr>\n",
       "      <th>BORSZÉK KÖZBIRTOKOSSÁG GYERGYÓSZÁRHEGY/ COMPOSESORATUL BORSEC LAZAREA</th>\n",
       "      <td>7</td>\n",
       "      <td>&gt;25</td>\n",
       "      <td>Gyergyószék</td>\n",
       "      <td>3 660 937</td>\n",
       "      <td>1 122 063</td>\n",
       "      <td>['kozbirtokossagok', '', '\"']</td>\n",
       "      <td>537135, Gyergy\\xf3sz\\xe1rhegy, , 702\\t</td>\n",
       "      <td>25.531790</td>\n",
       "      <td>46.744120</td>\n",
       "    </tr>\n",
       "    <tr>\n",
       "      <th>CSÍKSZENTGYÖRGYI KÖZBIRTOKOSSÁG/ COMPOSESORATUL CIUCSANGEORGIU</th>\n",
       "      <td>8</td>\n",
       "      <td>6</td>\n",
       "      <td>Csíkszék</td>\n",
       "      <td>3 451 456</td>\n",
       "      <td>3 256 805</td>\n",
       "      <td>['kozbirtokossagok', '', '\"']</td>\n",
       "      <td>537040, Cs\\xedkszentgy\\xf6rgy, , 189\\t</td>\n",
       "      <td>25.960130</td>\n",
       "      <td>46.323230</td>\n",
       "    </tr>\n",
       "    <tr>\n",
       "      <th>GYERGYÓSZENTMIKLÓSI KÖZBIRTOKOSSÁG/ COMPOSESORATUL GHEORGHENI</th>\n",
       "      <td>9</td>\n",
       "      <td>5</td>\n",
       "      <td>Gyergyószék</td>\n",
       "      <td>3 349 378</td>\n",
       "      <td>3 407 803</td>\n",
       "      <td>['kozbirtokossagok', '', '\"']</td>\n",
       "      <td>535500, Gyergy\\xf3szentmikl\\xf3s, Pet\\xf5fi S\\...</td>\n",
       "      <td>25.607200</td>\n",
       "      <td>46.722991</td>\n",
       "    </tr>\n",
       "    <tr>\n",
       "      <th>KILYÉNFALVA KÖZBIRTOKOSSÁGA/ COMPOSESORATUL CHILENI</th>\n",
       "      <td>10</td>\n",
       "      <td>20</td>\n",
       "      <td>Gyergyószék</td>\n",
       "      <td>3 096 467</td>\n",
       "      <td>1 969 503</td>\n",
       "      <td>['erdokitermeles', 'kozbirtokossagok', '', '\"']</td>\n",
       "      <td>537306, Kily\\xe9nfalva, F\\xf5 u., 35\\t</td>\n",
       "      <td>25.802604</td>\n",
       "      <td>45.835985</td>\n",
       "    </tr>\n",
       "    <tr>\n",
       "      <th>PAPOLCI IMREH ALBERT KÖZBIRTOKOSSÁG/ COMPOSESORATUL IMREH ALBERT PAPAUTI</th>\n",
       "      <td>11</td>\n",
       "      <td>7</td>\n",
       "      <td>Felső-Háromszék</td>\n",
       "      <td>3 095 199</td>\n",
       "      <td>3 154 109</td>\n",
       "      <td>['kozbirtokossagok', '', '\"']</td>\n",
       "      <td>527186, Papolc, , 29\\t</td>\n",
       "      <td>26.142945</td>\n",
       "      <td>45.788646</td>\n",
       "    </tr>\n",
       "    <tr>\n",
       "      <th>CSÍKCSEKEFALVI KÖZBIRTOKOSSÁG/ ASOCIATIA COMPOSESORALA CIUCANI</th>\n",
       "      <td>12</td>\n",
       "      <td>9</td>\n",
       "      <td>Csíkszék</td>\n",
       "      <td>2 895 087</td>\n",
       "      <td>2 853 724</td>\n",
       "      <td>['kozbirtokossagok', '', '\"']</td>\n",
       "      <td>537281, Cs\\xedkcsekefalva, F\\xf5 u., 77\\t</td>\n",
       "      <td>25.946410</td>\n",
       "      <td>46.254800</td>\n",
       "    </tr>\n",
       "    <tr>\n",
       "      <th>CSÍKCSICSÓI KÖZBIRTOKOSSÁG/ ASOCIATIA COMPOSESORALA CICEU</th>\n",
       "      <td>13</td>\n",
       "      <td>12</td>\n",
       "      <td>Csíkszék</td>\n",
       "      <td>2 753 868</td>\n",
       "      <td>2 380 248</td>\n",
       "      <td>['kozbirtokossagok', '', '\"']</td>\n",
       "      <td>537297, Cs\\xedkcsics\\xf3, F\\xf5 u., 650/A\\t</td>\n",
       "      <td>25.779990</td>\n",
       "      <td>46.410470</td>\n",
       "    </tr>\n",
       "    <tr>\n",
       "      <th>NYÁRÁDREMETE KÖZBIRTOKOSSÁGA/ COMPOSESORATUL EREMITU</th>\n",
       "      <td>14</td>\n",
       "      <td>14</td>\n",
       "      <td>Marosszék</td>\n",
       "      <td>2 531 413</td>\n",
       "      <td>2 340 887</td>\n",
       "      <td>['kozbirtokossagok', '', '\"']</td>\n",
       "      <td>547210, Ny\\xe1r\\xe1dremete, , 379C\\t</td>\n",
       "      <td>24.927360</td>\n",
       "      <td>46.660980</td>\n",
       "    </tr>\n",
       "    <tr>\n",
       "      <th>CSÍKMADARASI KÖZBIRTOKOSSÁG/ ASOCIATIA COMPOSESORALA MADARAS CIUC</th>\n",
       "      <td>15</td>\n",
       "      <td>15</td>\n",
       "      <td>Csíkszék</td>\n",
       "      <td>2 460 000</td>\n",
       "      <td>2 169 124</td>\n",
       "      <td>['kozbirtokossagok', '', '\"']</td>\n",
       "      <td>537071, Cs\\xedkmadaras, F\\xf5 u., 192\\t</td>\n",
       "      <td>25.749840</td>\n",
       "      <td>46.494020</td>\n",
       "    </tr>\n",
       "    <tr>\n",
       "      <th>CSÍKSZENTMÁRTONI AKLOS KÖZBIRTOKOSSÁG/ ASOCIATIA COMPOSESORALA AKLOS SINMARTIN</th>\n",
       "      <td>16</td>\n",
       "      <td>&gt;25</td>\n",
       "      <td>Csíkszék</td>\n",
       "      <td>2 383 491</td>\n",
       "      <td>1 325 654</td>\n",
       "      <td>['kozbirtokossagok', '', '\"']</td>\n",
       "      <td>537280, Cs\\xedkszentm\\xe1rton, F\\xf5 u., 55\\t</td>\n",
       "      <td>25.949280</td>\n",
       "      <td>46.266350</td>\n",
       "    </tr>\n",
       "    <tr>\n",
       "      <th>CSÍKSZENTDOMOKOSI KÖZBIRTOKOSSÁG/ ASOCIATIA COMPOSESORALA SANDOMINIC</th>\n",
       "      <td>17</td>\n",
       "      <td>10</td>\n",
       "      <td>Csíkszék</td>\n",
       "      <td>2 352 930</td>\n",
       "      <td>2 504 405</td>\n",
       "      <td>['kozbirtokossagok', '', '\"']</td>\n",
       "      <td>537275, Cs\\xedkszentdomokos, F\\xf5 u., 1243\\t</td>\n",
       "      <td>25.789032</td>\n",
       "      <td>46.579749</td>\n",
       "    </tr>\n",
       "    <tr>\n",
       "      <th>CSÍKBÁNKFALVI KÖZBIRTOKOSSÁG/ COMPOSESORATUL BANCU</th>\n",
       "      <td>18</td>\n",
       "      <td>19</td>\n",
       "      <td>Csíkszék</td>\n",
       "      <td>2 338 527</td>\n",
       "      <td>1 975 920</td>\n",
       "      <td>['kozbirtokossagok', '', '\"']</td>\n",
       "      <td>537043, Cs\\xedkb\\xe1nkfalva, F\\xf5 u., 344\\t</td>\n",
       "      <td>25.943230</td>\n",
       "      <td>46.301690</td>\n",
       "    </tr>\n",
       "    <tr>\n",
       "      <th>OZSDOLAI LÁROS TULAJDONOSI EGYESÜLET/ ASOCIATIE PROPRIETARILOR RAMASI IN INDIVIZIUNE LAROS OJDULA</th>\n",
       "      <td>19</td>\n",
       "      <td>&gt;25</td>\n",
       "      <td>Felső-Háromszék</td>\n",
       "      <td>2 295 564</td>\n",
       "      <td>1 496 973</td>\n",
       "      <td>['kozbirtokossagok', '', '\"']</td>\n",
       "      <td>527125, Ozsdola, F\\xf5 u., 588\\t</td>\n",
       "      <td>26.250000</td>\n",
       "      <td>45.983333</td>\n",
       "    </tr>\n",
       "    <tr>\n",
       "      <th>GYERGYÓCSOMAFALVA KÖZBIRTOKOSSÁGA/ COMPOSESORATUL CIUMANI</th>\n",
       "      <td>20</td>\n",
       "      <td>&gt;25</td>\n",
       "      <td>Gyergyószék</td>\n",
       "      <td>2 102 835</td>\n",
       "      <td>1 083 769</td>\n",
       "      <td>['erdokitermeles', 'kozbirtokossagok', '', '\"']</td>\n",
       "      <td>537050, Gyergy\\xf3csomafalva, F\\xf5 u., 14\\t</td>\n",
       "      <td>25.517272</td>\n",
       "      <td>46.685406</td>\n",
       "    </tr>\n",
       "    <tr>\n",
       "      <th>GYERGYÓÚJFALU KÖZBIRTOKOSSÁGA/ COMPOSESORATUL SUSENI</th>\n",
       "      <td>21</td>\n",
       "      <td>13</td>\n",
       "      <td>Gyergyószék</td>\n",
       "      <td>2 082 335</td>\n",
       "      <td>2 342 408</td>\n",
       "      <td>['erdokitermeles', 'kozbirtokossagok', '', '\"']</td>\n",
       "      <td>537305, Gyergy\\xf3\\xfajfalu, F\\xf5 u., 1039\\t</td>\n",
       "      <td>25.555311</td>\n",
       "      <td>46.666291</td>\n",
       "    </tr>\n",
       "    <tr>\n",
       "      <th>SZÉKELYSZÁLDOBOSI KÖZBIRTOKOSSÁG/ COMPOSESORAT DOBOSENI</th>\n",
       "      <td>22</td>\n",
       "      <td>&gt;25</td>\n",
       "      <td>Alsó-Háromszék</td>\n",
       "      <td>2 017 143</td>\n",
       "      <td>1 422 398</td>\n",
       "      <td>['kozbirtokossagok', '', '\"']</td>\n",
       "      <td>527056, Sz\\xe9kelysz\\xe1ldobos, F\\xf5 u., 143\\t</td>\n",
       "      <td>25.593349</td>\n",
       "      <td>46.127242</td>\n",
       "    </tr>\n",
       "    <tr>\n",
       "      <th>CSÍKSZENTKIRÁLYI KÖZBIRTOKOSSÁG/ ASOCIATIA COMPOSESORALA SINCRAIENI</th>\n",
       "      <td>23</td>\n",
       "      <td>22</td>\n",
       "      <td>Csíkszék</td>\n",
       "      <td>1 894 630</td>\n",
       "      <td>1 881 032</td>\n",
       "      <td>['kozbirtokossagok', '', '\"']</td>\n",
       "      <td>537265, Cs\\xedkszentkir\\xe1ly, F\\xf5 u., 160/A\\t</td>\n",
       "      <td>25.839444</td>\n",
       "      <td>46.313333</td>\n",
       "    </tr>\n",
       "    <tr>\n",
       "      <th>CSÍKDÁNFALVI KÖZBIRTOKOSSÁG/ ASOCIATIA COMPOSESORALA DANESTI</th>\n",
       "      <td>24</td>\n",
       "      <td>&gt;25</td>\n",
       "      <td>Csíkszék</td>\n",
       "      <td>1 879 072</td>\n",
       "      <td>1 669 899</td>\n",
       "      <td>['kozbirtokossagok', '', '\"']</td>\n",
       "      <td>537070, Cs\\xedkd\\xe1nfalva, F\\xf5 u., 775\\t</td>\n",
       "      <td>25.750000</td>\n",
       "      <td>46.516667</td>\n",
       "    </tr>\n",
       "    <tr>\n",
       "      <th>CSÍKJENŐFALVI TERCS KÖZBIRTOKOSSÁG/ ASOCIATIA COMPOSESORALA TERCS INEU</th>\n",
       "      <td>1</td>\n",
       "      <td>18</td>\n",
       "      <td>Csíkszék</td>\n",
       "      <td>8 102 468</td>\n",
       "      <td>1 982 088</td>\n",
       "      <td>['kozbirtokossagok','', '\"']</td>\n",
       "      <td>Csikjenofalva</td>\n",
       "      <td>25.758609</td>\n",
       "      <td>46.451575</td>\n",
       "    </tr>\n",
       "    <tr>\n",
       "      <th>GYERGYÓDITRÓI KÖZBIRTOKOSSÁG/ COMPOSESORATUL DITRAU</th>\n",
       "      <td>4</td>\n",
       "      <td>16</td>\n",
       "      <td>Gyergyószék</td>\n",
       "      <td>4 276 682</td>\n",
       "      <td>2 157 196</td>\n",
       "      <td>['kozbirtokossagok','', '\"']</td>\n",
       "      <td>Ditrau</td>\n",
       "      <td>25.491271</td>\n",
       "      <td>46.803146</td>\n",
       "    </tr>\n",
       "  </tbody>\n",
       "</table>\n",
       "</div>"
      ],
      "text/plain": [
       "                                                    Unnamed: 0 Helyezés.1  \\\n",
       "Közbirtokosság neve                                                         \n",
       "GYERGYÓALFALUI KÖZBIRTOKOSSÁG/ COMPOSESORATUL J...           0          1   \n",
       "ZETELAKI KÖZBIRTOKOSSÁG/ COMPOSESORAT ZETEA                  2          2   \n",
       "SZOVÁTAI MAROS KÖZBIRTOKOSSÁG/ COMPOSESORATUL M...           3          3   \n",
       "HOMORÓDALMÁSI KÖZBIRTOKOSSÁG/ COMPOSESORAT MERESTI           5         17   \n",
       "CSÍKSZENTIMREI KÖZBIRTOKOSSÁG/ ASOCIATIA COMPOS...           6         11   \n",
       "BORSZÉK KÖZBIRTOKOSSÁG GYERGYÓSZÁRHEGY/ COMPOSE...           7        >25   \n",
       "CSÍKSZENTGYÖRGYI KÖZBIRTOKOSSÁG/ COMPOSESORATUL...           8          6   \n",
       "GYERGYÓSZENTMIKLÓSI KÖZBIRTOKOSSÁG/ COMPOSESORA...           9          5   \n",
       "KILYÉNFALVA KÖZBIRTOKOSSÁGA/ COMPOSESORATUL CHI...          10         20   \n",
       "PAPOLCI IMREH ALBERT KÖZBIRTOKOSSÁG/ COMPOSESOR...          11          7   \n",
       "CSÍKCSEKEFALVI KÖZBIRTOKOSSÁG/ ASOCIATIA COMPOS...          12          9   \n",
       "CSÍKCSICSÓI KÖZBIRTOKOSSÁG/ ASOCIATIA COMPOSESO...          13         12   \n",
       "NYÁRÁDREMETE KÖZBIRTOKOSSÁGA/ COMPOSESORATUL ER...          14         14   \n",
       "CSÍKMADARASI KÖZBIRTOKOSSÁG/ ASOCIATIA COMPOSES...          15         15   \n",
       "CSÍKSZENTMÁRTONI AKLOS KÖZBIRTOKOSSÁG/ ASOCIATI...          16        >25   \n",
       "CSÍKSZENTDOMOKOSI KÖZBIRTOKOSSÁG/ ASOCIATIA COM...          17         10   \n",
       "CSÍKBÁNKFALVI KÖZBIRTOKOSSÁG/ COMPOSESORATUL BANCU          18         19   \n",
       "OZSDOLAI LÁROS TULAJDONOSI EGYESÜLET/ ASOCIATIE...          19        >25   \n",
       "GYERGYÓCSOMAFALVA KÖZBIRTOKOSSÁGA/ COMPOSESORAT...          20        >25   \n",
       "GYERGYÓÚJFALU KÖZBIRTOKOSSÁGA/ COMPOSESORATUL S...          21         13   \n",
       "SZÉKELYSZÁLDOBOSI KÖZBIRTOKOSSÁG/ COMPOSESORAT ...          22        >25   \n",
       "CSÍKSZENTKIRÁLYI KÖZBIRTOKOSSÁG/ ASOCIATIA COMP...          23         22   \n",
       "CSÍKDÁNFALVI KÖZBIRTOKOSSÁG/ ASOCIATIA COMPOSES...          24        >25   \n",
       "CSÍKJENŐFALVI TERCS KÖZBIRTOKOSSÁG/ ASOCIATIA C...           1         18   \n",
       "GYERGYÓDITRÓI KÖZBIRTOKOSSÁG/ COMPOSESORATUL DI...           4         16   \n",
       "\n",
       "                                                               Szék  \\\n",
       "Közbirtokosság neve                                                   \n",
       "GYERGYÓALFALUI KÖZBIRTOKOSSÁG/ COMPOSESORATUL J...      Gyergyószék   \n",
       "ZETELAKI KÖZBIRTOKOSSÁG/ COMPOSESORAT ZETEA           Udvarhelyszék   \n",
       "SZOVÁTAI MAROS KÖZBIRTOKOSSÁG/ COMPOSESORATUL M...        Marosszék   \n",
       "HOMORÓDALMÁSI KÖZBIRTOKOSSÁG/ COMPOSESORAT MERESTI    Udvarhelyszék   \n",
       "CSÍKSZENTIMREI KÖZBIRTOKOSSÁG/ ASOCIATIA COMPOS...         Csíkszék   \n",
       "BORSZÉK KÖZBIRTOKOSSÁG GYERGYÓSZÁRHEGY/ COMPOSE...      Gyergyószék   \n",
       "CSÍKSZENTGYÖRGYI KÖZBIRTOKOSSÁG/ COMPOSESORATUL...         Csíkszék   \n",
       "GYERGYÓSZENTMIKLÓSI KÖZBIRTOKOSSÁG/ COMPOSESORA...      Gyergyószék   \n",
       "KILYÉNFALVA KÖZBIRTOKOSSÁGA/ COMPOSESORATUL CHI...      Gyergyószék   \n",
       "PAPOLCI IMREH ALBERT KÖZBIRTOKOSSÁG/ COMPOSESOR...  Felső-Háromszék   \n",
       "CSÍKCSEKEFALVI KÖZBIRTOKOSSÁG/ ASOCIATIA COMPOS...         Csíkszék   \n",
       "CSÍKCSICSÓI KÖZBIRTOKOSSÁG/ ASOCIATIA COMPOSESO...         Csíkszék   \n",
       "NYÁRÁDREMETE KÖZBIRTOKOSSÁGA/ COMPOSESORATUL ER...        Marosszék   \n",
       "CSÍKMADARASI KÖZBIRTOKOSSÁG/ ASOCIATIA COMPOSES...         Csíkszék   \n",
       "CSÍKSZENTMÁRTONI AKLOS KÖZBIRTOKOSSÁG/ ASOCIATI...         Csíkszék   \n",
       "CSÍKSZENTDOMOKOSI KÖZBIRTOKOSSÁG/ ASOCIATIA COM...         Csíkszék   \n",
       "CSÍKBÁNKFALVI KÖZBIRTOKOSSÁG/ COMPOSESORATUL BANCU         Csíkszék   \n",
       "OZSDOLAI LÁROS TULAJDONOSI EGYESÜLET/ ASOCIATIE...  Felső-Háromszék   \n",
       "GYERGYÓCSOMAFALVA KÖZBIRTOKOSSÁGA/ COMPOSESORAT...      Gyergyószék   \n",
       "GYERGYÓÚJFALU KÖZBIRTOKOSSÁGA/ COMPOSESORATUL S...      Gyergyószék   \n",
       "SZÉKELYSZÁLDOBOSI KÖZBIRTOKOSSÁG/ COMPOSESORAT ...   Alsó-Háromszék   \n",
       "CSÍKSZENTKIRÁLYI KÖZBIRTOKOSSÁG/ ASOCIATIA COMP...         Csíkszék   \n",
       "CSÍKDÁNFALVI KÖZBIRTOKOSSÁG/ ASOCIATIA COMPOSES...         Csíkszék   \n",
       "CSÍKJENŐFALVI TERCS KÖZBIRTOKOSSÁG/ ASOCIATIA C...         Csíkszék   \n",
       "GYERGYÓDITRÓI KÖZBIRTOKOSSÁG/ COMPOSESORATUL DI...      Gyergyószék   \n",
       "\n",
       "                                                   Gazdasági tevékenységbőlszármazó bevétel (RON)2018  \\\n",
       "Közbirtokosság neve                                                                                     \n",
       "GYERGYÓALFALUI KÖZBIRTOKOSSÁG/ COMPOSESORATUL J...                                         11 017 249   \n",
       "ZETELAKI KÖZBIRTOKOSSÁG/ COMPOSESORAT ZETEA                                                 7 620 294   \n",
       "SZOVÁTAI MAROS KÖZBIRTOKOSSÁG/ COMPOSESORATUL M...                                          7 125 940   \n",
       "HOMORÓDALMÁSI KÖZBIRTOKOSSÁG/ COMPOSESORAT MERESTI                                          3 958 246   \n",
       "CSÍKSZENTIMREI KÖZBIRTOKOSSÁG/ ASOCIATIA COMPOS...                                          3 836 591   \n",
       "BORSZÉK KÖZBIRTOKOSSÁG GYERGYÓSZÁRHEGY/ COMPOSE...                                          3 660 937   \n",
       "CSÍKSZENTGYÖRGYI KÖZBIRTOKOSSÁG/ COMPOSESORATUL...                                          3 451 456   \n",
       "GYERGYÓSZENTMIKLÓSI KÖZBIRTOKOSSÁG/ COMPOSESORA...                                          3 349 378   \n",
       "KILYÉNFALVA KÖZBIRTOKOSSÁGA/ COMPOSESORATUL CHI...                                          3 096 467   \n",
       "PAPOLCI IMREH ALBERT KÖZBIRTOKOSSÁG/ COMPOSESOR...                                          3 095 199   \n",
       "CSÍKCSEKEFALVI KÖZBIRTOKOSSÁG/ ASOCIATIA COMPOS...                                          2 895 087   \n",
       "CSÍKCSICSÓI KÖZBIRTOKOSSÁG/ ASOCIATIA COMPOSESO...                                          2 753 868   \n",
       "NYÁRÁDREMETE KÖZBIRTOKOSSÁGA/ COMPOSESORATUL ER...                                          2 531 413   \n",
       "CSÍKMADARASI KÖZBIRTOKOSSÁG/ ASOCIATIA COMPOSES...                                          2 460 000   \n",
       "CSÍKSZENTMÁRTONI AKLOS KÖZBIRTOKOSSÁG/ ASOCIATI...                                          2 383 491   \n",
       "CSÍKSZENTDOMOKOSI KÖZBIRTOKOSSÁG/ ASOCIATIA COM...                                          2 352 930   \n",
       "CSÍKBÁNKFALVI KÖZBIRTOKOSSÁG/ COMPOSESORATUL BANCU                                          2 338 527   \n",
       "OZSDOLAI LÁROS TULAJDONOSI EGYESÜLET/ ASOCIATIE...                                          2 295 564   \n",
       "GYERGYÓCSOMAFALVA KÖZBIRTOKOSSÁGA/ COMPOSESORAT...                                          2 102 835   \n",
       "GYERGYÓÚJFALU KÖZBIRTOKOSSÁGA/ COMPOSESORATUL S...                                          2 082 335   \n",
       "SZÉKELYSZÁLDOBOSI KÖZBIRTOKOSSÁG/ COMPOSESORAT ...                                          2 017 143   \n",
       "CSÍKSZENTKIRÁLYI KÖZBIRTOKOSSÁG/ ASOCIATIA COMP...                                          1 894 630   \n",
       "CSÍKDÁNFALVI KÖZBIRTOKOSSÁG/ ASOCIATIA COMPOSES...                                          1 879 072   \n",
       "CSÍKJENŐFALVI TERCS KÖZBIRTOKOSSÁG/ ASOCIATIA C...                                          8 102 468   \n",
       "GYERGYÓDITRÓI KÖZBIRTOKOSSÁG/ COMPOSESORATUL DI...                                          4 276 682   \n",
       "\n",
       "                                                   Gazdasági tevékenységbőlszármazó bevétel (RON)2017  \\\n",
       "Közbirtokosság neve                                                                                     \n",
       "GYERGYÓALFALUI KÖZBIRTOKOSSÁG/ COMPOSESORATUL J...                                         10 744 216   \n",
       "ZETELAKI KÖZBIRTOKOSSÁG/ COMPOSESORAT ZETEA                                                 7 011 349   \n",
       "SZOVÁTAI MAROS KÖZBIRTOKOSSÁG/ COMPOSESORATUL M...                                          5 297 852   \n",
       "HOMORÓDALMÁSI KÖZBIRTOKOSSÁG/ COMPOSESORAT MERESTI                                          2 058 345   \n",
       "CSÍKSZENTIMREI KÖZBIRTOKOSSÁG/ ASOCIATIA COMPOS...                                          2 397 785   \n",
       "BORSZÉK KÖZBIRTOKOSSÁG GYERGYÓSZÁRHEGY/ COMPOSE...                                          1 122 063   \n",
       "CSÍKSZENTGYÖRGYI KÖZBIRTOKOSSÁG/ COMPOSESORATUL...                                          3 256 805   \n",
       "GYERGYÓSZENTMIKLÓSI KÖZBIRTOKOSSÁG/ COMPOSESORA...                                          3 407 803   \n",
       "KILYÉNFALVA KÖZBIRTOKOSSÁGA/ COMPOSESORATUL CHI...                                          1 969 503   \n",
       "PAPOLCI IMREH ALBERT KÖZBIRTOKOSSÁG/ COMPOSESOR...                                          3 154 109   \n",
       "CSÍKCSEKEFALVI KÖZBIRTOKOSSÁG/ ASOCIATIA COMPOS...                                          2 853 724   \n",
       "CSÍKCSICSÓI KÖZBIRTOKOSSÁG/ ASOCIATIA COMPOSESO...                                          2 380 248   \n",
       "NYÁRÁDREMETE KÖZBIRTOKOSSÁGA/ COMPOSESORATUL ER...                                          2 340 887   \n",
       "CSÍKMADARASI KÖZBIRTOKOSSÁG/ ASOCIATIA COMPOSES...                                          2 169 124   \n",
       "CSÍKSZENTMÁRTONI AKLOS KÖZBIRTOKOSSÁG/ ASOCIATI...                                          1 325 654   \n",
       "CSÍKSZENTDOMOKOSI KÖZBIRTOKOSSÁG/ ASOCIATIA COM...                                          2 504 405   \n",
       "CSÍKBÁNKFALVI KÖZBIRTOKOSSÁG/ COMPOSESORATUL BANCU                                          1 975 920   \n",
       "OZSDOLAI LÁROS TULAJDONOSI EGYESÜLET/ ASOCIATIE...                                          1 496 973   \n",
       "GYERGYÓCSOMAFALVA KÖZBIRTOKOSSÁGA/ COMPOSESORAT...                                          1 083 769   \n",
       "GYERGYÓÚJFALU KÖZBIRTOKOSSÁGA/ COMPOSESORATUL S...                                          2 342 408   \n",
       "SZÉKELYSZÁLDOBOSI KÖZBIRTOKOSSÁG/ COMPOSESORAT ...                                          1 422 398   \n",
       "CSÍKSZENTKIRÁLYI KÖZBIRTOKOSSÁG/ ASOCIATIA COMP...                                          1 881 032   \n",
       "CSÍKDÁNFALVI KÖZBIRTOKOSSÁG/ ASOCIATIA COMPOSES...                                          1 669 899   \n",
       "CSÍKJENŐFALVI TERCS KÖZBIRTOKOSSÁG/ ASOCIATIA C...                                          1 982 088   \n",
       "GYERGYÓDITRÓI KÖZBIRTOKOSSÁG/ COMPOSESORATUL DI...                                          2 157 196   \n",
       "\n",
       "                                                                                                  kws  \\\n",
       "Közbirtokosság neve                                                                                     \n",
       "GYERGYÓALFALUI KÖZBIRTOKOSSÁG/ COMPOSESORATUL J...    ['kozbirtokossagok', 'erdokitermeles', '', '\"']   \n",
       "ZETELAKI KÖZBIRTOKOSSÁG/ COMPOSESORAT ZETEA         ['allattenyesztes', 'csemetekert', 'erdogazdal...   \n",
       "SZOVÁTAI MAROS KÖZBIRTOKOSSÁG/ COMPOSESORATUL M...                      ['kozbirtokossagok', '', '\"']   \n",
       "HOMORÓDALMÁSI KÖZBIRTOKOSSÁG/ COMPOSESORAT MERESTI  ['erdeszeti-szolgaltatasok', 'erdogazdalkodas'...   \n",
       "CSÍKSZENTIMREI KÖZBIRTOKOSSÁG/ ASOCIATIA COMPOS...                      ['kozbirtokossagok', '', '\"']   \n",
       "BORSZÉK KÖZBIRTOKOSSÁG GYERGYÓSZÁRHEGY/ COMPOSE...                      ['kozbirtokossagok', '', '\"']   \n",
       "CSÍKSZENTGYÖRGYI KÖZBIRTOKOSSÁG/ COMPOSESORATUL...                      ['kozbirtokossagok', '', '\"']   \n",
       "GYERGYÓSZENTMIKLÓSI KÖZBIRTOKOSSÁG/ COMPOSESORA...                      ['kozbirtokossagok', '', '\"']   \n",
       "KILYÉNFALVA KÖZBIRTOKOSSÁGA/ COMPOSESORATUL CHI...    ['erdokitermeles', 'kozbirtokossagok', '', '\"']   \n",
       "PAPOLCI IMREH ALBERT KÖZBIRTOKOSSÁG/ COMPOSESOR...                      ['kozbirtokossagok', '', '\"']   \n",
       "CSÍKCSEKEFALVI KÖZBIRTOKOSSÁG/ ASOCIATIA COMPOS...                      ['kozbirtokossagok', '', '\"']   \n",
       "CSÍKCSICSÓI KÖZBIRTOKOSSÁG/ ASOCIATIA COMPOSESO...                      ['kozbirtokossagok', '', '\"']   \n",
       "NYÁRÁDREMETE KÖZBIRTOKOSSÁGA/ COMPOSESORATUL ER...                      ['kozbirtokossagok', '', '\"']   \n",
       "CSÍKMADARASI KÖZBIRTOKOSSÁG/ ASOCIATIA COMPOSES...                      ['kozbirtokossagok', '', '\"']   \n",
       "CSÍKSZENTMÁRTONI AKLOS KÖZBIRTOKOSSÁG/ ASOCIATI...                      ['kozbirtokossagok', '', '\"']   \n",
       "CSÍKSZENTDOMOKOSI KÖZBIRTOKOSSÁG/ ASOCIATIA COM...                      ['kozbirtokossagok', '', '\"']   \n",
       "CSÍKBÁNKFALVI KÖZBIRTOKOSSÁG/ COMPOSESORATUL BANCU                      ['kozbirtokossagok', '', '\"']   \n",
       "OZSDOLAI LÁROS TULAJDONOSI EGYESÜLET/ ASOCIATIE...                      ['kozbirtokossagok', '', '\"']   \n",
       "GYERGYÓCSOMAFALVA KÖZBIRTOKOSSÁGA/ COMPOSESORAT...    ['erdokitermeles', 'kozbirtokossagok', '', '\"']   \n",
       "GYERGYÓÚJFALU KÖZBIRTOKOSSÁGA/ COMPOSESORATUL S...    ['erdokitermeles', 'kozbirtokossagok', '', '\"']   \n",
       "SZÉKELYSZÁLDOBOSI KÖZBIRTOKOSSÁG/ COMPOSESORAT ...                      ['kozbirtokossagok', '', '\"']   \n",
       "CSÍKSZENTKIRÁLYI KÖZBIRTOKOSSÁG/ ASOCIATIA COMP...                      ['kozbirtokossagok', '', '\"']   \n",
       "CSÍKDÁNFALVI KÖZBIRTOKOSSÁG/ ASOCIATIA COMPOSES...                      ['kozbirtokossagok', '', '\"']   \n",
       "CSÍKJENŐFALVI TERCS KÖZBIRTOKOSSÁG/ ASOCIATIA C...                       ['kozbirtokossagok','', '\"']   \n",
       "GYERGYÓDITRÓI KÖZBIRTOKOSSÁG/ COMPOSESORATUL DI...                       ['kozbirtokossagok','', '\"']   \n",
       "\n",
       "                                                                                                  cms  \\\n",
       "Közbirtokosság neve                                                                                     \n",
       "GYERGYÓALFALUI KÖZBIRTOKOSSÁG/ COMPOSESORATUL J...          537130, Gyergy\\xf3alfalu, F\\xf5 u., 663\\t   \n",
       "ZETELAKI KÖZBIRTOKOSSÁG/ COMPOSESORAT ZETEA                         537360, Zetelaka, F\\xf5 u., 272\\t   \n",
       "SZOVÁTAI MAROS KÖZBIRTOKOSSÁG/ COMPOSESORATUL M...                545500, Szov\\xe1ta, Iszujka u., 1\\t   \n",
       "HOMORÓDALMÁSI KÖZBIRTOKOSSÁG/ COMPOSESORAT MERESTI        537195, Homor\\xf3dalm\\xe1s, F\\xf5 u., 503\\t   \n",
       "CSÍKSZENTIMREI KÖZBIRTOKOSSÁG/ ASOCIATIA COMPOS...        537271, Cs\\xedkszentimre, F\\xf5 u., 572/A\\t   \n",
       "BORSZÉK KÖZBIRTOKOSSÁG GYERGYÓSZÁRHEGY/ COMPOSE...             537135, Gyergy\\xf3sz\\xe1rhegy, , 702\\t   \n",
       "CSÍKSZENTGYÖRGYI KÖZBIRTOKOSSÁG/ COMPOSESORATUL...             537040, Cs\\xedkszentgy\\xf6rgy, , 189\\t   \n",
       "GYERGYÓSZENTMIKLÓSI KÖZBIRTOKOSSÁG/ COMPOSESORA...  535500, Gyergy\\xf3szentmikl\\xf3s, Pet\\xf5fi S\\...   \n",
       "KILYÉNFALVA KÖZBIRTOKOSSÁGA/ COMPOSESORATUL CHI...             537306, Kily\\xe9nfalva, F\\xf5 u., 35\\t   \n",
       "PAPOLCI IMREH ALBERT KÖZBIRTOKOSSÁG/ COMPOSESOR...                             527186, Papolc, , 29\\t   \n",
       "CSÍKCSEKEFALVI KÖZBIRTOKOSSÁG/ ASOCIATIA COMPOS...          537281, Cs\\xedkcsekefalva, F\\xf5 u., 77\\t   \n",
       "CSÍKCSICSÓI KÖZBIRTOKOSSÁG/ ASOCIATIA COMPOSESO...        537297, Cs\\xedkcsics\\xf3, F\\xf5 u., 650/A\\t   \n",
       "NYÁRÁDREMETE KÖZBIRTOKOSSÁGA/ COMPOSESORATUL ER...               547210, Ny\\xe1r\\xe1dremete, , 379C\\t   \n",
       "CSÍKMADARASI KÖZBIRTOKOSSÁG/ ASOCIATIA COMPOSES...            537071, Cs\\xedkmadaras, F\\xf5 u., 192\\t   \n",
       "CSÍKSZENTMÁRTONI AKLOS KÖZBIRTOKOSSÁG/ ASOCIATI...      537280, Cs\\xedkszentm\\xe1rton, F\\xf5 u., 55\\t   \n",
       "CSÍKSZENTDOMOKOSI KÖZBIRTOKOSSÁG/ ASOCIATIA COM...      537275, Cs\\xedkszentdomokos, F\\xf5 u., 1243\\t   \n",
       "CSÍKBÁNKFALVI KÖZBIRTOKOSSÁG/ COMPOSESORATUL BANCU       537043, Cs\\xedkb\\xe1nkfalva, F\\xf5 u., 344\\t   \n",
       "OZSDOLAI LÁROS TULAJDONOSI EGYESÜLET/ ASOCIATIE...                   527125, Ozsdola, F\\xf5 u., 588\\t   \n",
       "GYERGYÓCSOMAFALVA KÖZBIRTOKOSSÁGA/ COMPOSESORAT...       537050, Gyergy\\xf3csomafalva, F\\xf5 u., 14\\t   \n",
       "GYERGYÓÚJFALU KÖZBIRTOKOSSÁGA/ COMPOSESORATUL S...      537305, Gyergy\\xf3\\xfajfalu, F\\xf5 u., 1039\\t   \n",
       "SZÉKELYSZÁLDOBOSI KÖZBIRTOKOSSÁG/ COMPOSESORAT ...    527056, Sz\\xe9kelysz\\xe1ldobos, F\\xf5 u., 143\\t   \n",
       "CSÍKSZENTKIRÁLYI KÖZBIRTOKOSSÁG/ ASOCIATIA COMP...   537265, Cs\\xedkszentkir\\xe1ly, F\\xf5 u., 160/A\\t   \n",
       "CSÍKDÁNFALVI KÖZBIRTOKOSSÁG/ ASOCIATIA COMPOSES...        537070, Cs\\xedkd\\xe1nfalva, F\\xf5 u., 775\\t   \n",
       "CSÍKJENŐFALVI TERCS KÖZBIRTOKOSSÁG/ ASOCIATIA C...                                      Csikjenofalva   \n",
       "GYERGYÓDITRÓI KÖZBIRTOKOSSÁG/ COMPOSESORATUL DI...                                             Ditrau   \n",
       "\n",
       "                                                     Latitude  Longitude  \n",
       "Közbirtokosság neve                                                       \n",
       "GYERGYÓALFALUI KÖZBIRTOKOSSÁG/ COMPOSESORATUL J...  25.515620  46.680137  \n",
       "ZETELAKI KÖZBIRTOKOSSÁG/ COMPOSESORAT ZETEA         25.366667  46.383333  \n",
       "SZOVÁTAI MAROS KÖZBIRTOKOSSÁG/ COMPOSESORATUL M...  25.077440  46.599080  \n",
       "HOMORÓDALMÁSI KÖZBIRTOKOSSÁG/ COMPOSESORAT MERESTI  25.456996  46.234392  \n",
       "CSÍKSZENTIMREI KÖZBIRTOKOSSÁG/ ASOCIATIA COMPOS...  25.862959  46.284012  \n",
       "BORSZÉK KÖZBIRTOKOSSÁG GYERGYÓSZÁRHEGY/ COMPOSE...  25.531790  46.744120  \n",
       "CSÍKSZENTGYÖRGYI KÖZBIRTOKOSSÁG/ COMPOSESORATUL...  25.960130  46.323230  \n",
       "GYERGYÓSZENTMIKLÓSI KÖZBIRTOKOSSÁG/ COMPOSESORA...  25.607200  46.722991  \n",
       "KILYÉNFALVA KÖZBIRTOKOSSÁGA/ COMPOSESORATUL CHI...  25.802604  45.835985  \n",
       "PAPOLCI IMREH ALBERT KÖZBIRTOKOSSÁG/ COMPOSESOR...  26.142945  45.788646  \n",
       "CSÍKCSEKEFALVI KÖZBIRTOKOSSÁG/ ASOCIATIA COMPOS...  25.946410  46.254800  \n",
       "CSÍKCSICSÓI KÖZBIRTOKOSSÁG/ ASOCIATIA COMPOSESO...  25.779990  46.410470  \n",
       "NYÁRÁDREMETE KÖZBIRTOKOSSÁGA/ COMPOSESORATUL ER...  24.927360  46.660980  \n",
       "CSÍKMADARASI KÖZBIRTOKOSSÁG/ ASOCIATIA COMPOSES...  25.749840  46.494020  \n",
       "CSÍKSZENTMÁRTONI AKLOS KÖZBIRTOKOSSÁG/ ASOCIATI...  25.949280  46.266350  \n",
       "CSÍKSZENTDOMOKOSI KÖZBIRTOKOSSÁG/ ASOCIATIA COM...  25.789032  46.579749  \n",
       "CSÍKBÁNKFALVI KÖZBIRTOKOSSÁG/ COMPOSESORATUL BANCU  25.943230  46.301690  \n",
       "OZSDOLAI LÁROS TULAJDONOSI EGYESÜLET/ ASOCIATIE...  26.250000  45.983333  \n",
       "GYERGYÓCSOMAFALVA KÖZBIRTOKOSSÁGA/ COMPOSESORAT...  25.517272  46.685406  \n",
       "GYERGYÓÚJFALU KÖZBIRTOKOSSÁGA/ COMPOSESORATUL S...  25.555311  46.666291  \n",
       "SZÉKELYSZÁLDOBOSI KÖZBIRTOKOSSÁG/ COMPOSESORAT ...  25.593349  46.127242  \n",
       "CSÍKSZENTKIRÁLYI KÖZBIRTOKOSSÁG/ ASOCIATIA COMP...  25.839444  46.313333  \n",
       "CSÍKDÁNFALVI KÖZBIRTOKOSSÁG/ ASOCIATIA COMPOSES...  25.750000  46.516667  \n",
       "CSÍKJENŐFALVI TERCS KÖZBIRTOKOSSÁG/ ASOCIATIA C...  25.758609  46.451575  \n",
       "GYERGYÓDITRÓI KÖZBIRTOKOSSÁG/ COMPOSESORATUL DI...  25.491271  46.803146  "
      ]
     },
     "execution_count": 164,
     "metadata": {},
     "output_type": "execute_result"
    }
   ],
   "source": [
    "data"
   ]
  },
  {
   "cell_type": "code",
   "execution_count": 165,
   "metadata": {},
   "outputs": [],
   "source": [
    "data['Sector']=sectors.set_index(0)[1]"
   ]
  },
  {
   "cell_type": "code",
   "execution_count": 166,
   "metadata": {},
   "outputs": [
    {
     "data": {
      "text/plain": [
       "Index(['Unnamed: 0', 'Helyezés.1', 'Szék',\n",
       "       'Gazdasági tevékenységbőlszármazó bevétel (RON)2018',\n",
       "       'Gazdasági tevékenységbőlszármazó bevétel (RON)2017', 'kws', 'cms',\n",
       "       'Latitude', 'Longitude', 'Sector'],\n",
       "      dtype='object')"
      ]
     },
     "execution_count": 166,
     "metadata": {},
     "output_type": "execute_result"
    }
   ],
   "source": [
    "data.columns"
   ]
  },
  {
   "cell_type": "code",
   "execution_count": 167,
   "metadata": {},
   "outputs": [],
   "source": [
    "data=data[['Gazdasági tevékenységbőlszármazó bevétel (RON)2018',\n",
    "       'Gazdasági tevékenységbőlszármazó bevétel (RON)2017', 'Szék',\n",
    "       'Latitude', 'Longitude', 'Sector']]"
   ]
  },
  {
   "cell_type": "code",
   "execution_count": 168,
   "metadata": {},
   "outputs": [
    {
     "name": "stderr",
     "output_type": "stream",
     "text": [
      "C:\\ProgramData\\Anaconda3\\lib\\site-packages\\ipykernel_launcher.py:2: SettingWithCopyWarning: \n",
      "A value is trying to be set on a copy of a slice from a DataFrame.\n",
      "Try using .loc[row_indexer,col_indexer] = value instead\n",
      "\n",
      "See the caveats in the documentation: http://pandas.pydata.org/pandas-docs/stable/user_guide/indexing.html#returning-a-view-versus-a-copy\n",
      "  \n"
     ]
    }
   ],
   "source": [
    "data['Gazdasági tevékenységbőlszármazó bevétel (RON)2018']=\\\n",
    "    np.round(data['Gazdasági tevékenységbőlszármazó bevétel (RON)2018'].str.replace('\\xa0','').astype(float)/1000000.0,3)"
   ]
  },
  {
   "cell_type": "code",
   "execution_count": 169,
   "metadata": {},
   "outputs": [
    {
     "name": "stderr",
     "output_type": "stream",
     "text": [
      "C:\\ProgramData\\Anaconda3\\lib\\site-packages\\ipykernel_launcher.py:2: SettingWithCopyWarning: \n",
      "A value is trying to be set on a copy of a slice from a DataFrame.\n",
      "Try using .loc[row_indexer,col_indexer] = value instead\n",
      "\n",
      "See the caveats in the documentation: http://pandas.pydata.org/pandas-docs/stable/user_guide/indexing.html#returning-a-view-versus-a-copy\n",
      "  \n"
     ]
    }
   ],
   "source": [
    "data['Gazdasági tevékenységbőlszármazó bevétel (RON)2017']=\\\n",
    "    np.round(data['Gazdasági tevékenységbőlszármazó bevétel (RON)2017'].str.replace('\\xa0','').astype(float)/1000000.0,3)"
   ]
  },
  {
   "cell_type": "markdown",
   "metadata": {},
   "source": [
    "Pretty Names"
   ]
  },
  {
   "cell_type": "code",
   "execution_count": 170,
   "metadata": {},
   "outputs": [],
   "source": [
    "data.index=data.index.str.title().str.split('/').str[0].str.replace('Közbirtokosság','KB').str.replace('KBa','KB').str.replace('KB','')"
   ]
  },
  {
   "cell_type": "code",
   "execution_count": 172,
   "metadata": {},
   "outputs": [
    {
     "name": "stderr",
     "output_type": "stream",
     "text": [
      "C:\\ProgramData\\Anaconda3\\lib\\site-packages\\ipykernel_launcher.py:2: SettingWithCopyWarning: \n",
      "A value is trying to be set on a copy of a slice from a DataFrame.\n",
      "Try using .loc[row_indexer,col_indexer] = value instead\n",
      "\n",
      "See the caveats in the documentation: http://pandas.pydata.org/pandas-docs/stable/user_guide/indexing.html#returning-a-view-versus-a-copy\n",
      "  \n"
     ]
    }
   ],
   "source": [
    "#overwrite sector\n",
    "data['Sector']='Közbirtokosság'"
   ]
  },
  {
   "cell_type": "code",
   "execution_count": 177,
   "metadata": {},
   "outputs": [
    {
     "name": "stderr",
     "output_type": "stream",
     "text": [
      "C:\\ProgramData\\Anaconda3\\lib\\site-packages\\ipykernel_launcher.py:1: SettingWithCopyWarning: \n",
      "A value is trying to be set on a copy of a slice from a DataFrame.\n",
      "Try using .loc[row_indexer,col_indexer] = value instead\n",
      "\n",
      "See the caveats in the documentation: http://pandas.pydata.org/pandas-docs/stable/user_guide/indexing.html#returning-a-view-versus-a-copy\n",
      "  \"\"\"Entry point for launching an IPython kernel.\n"
     ]
    }
   ],
   "source": [
    "data['Size']=data['Gazdasági tevékenységbőlszármazó bevétel (RON)2018']*5"
   ]
  },
  {
   "cell_type": "code",
   "execution_count": 178,
   "metadata": {},
   "outputs": [],
   "source": [
    "data.to_excel('kexport.xlsx')"
   ]
  },
  {
   "cell_type": "code",
   "execution_count": 174,
   "metadata": {},
   "outputs": [
    {
     "name": "stderr",
     "output_type": "stream",
     "text": [
      "C:\\ProgramData\\Anaconda3\\lib\\site-packages\\ipykernel_launcher.py:3: SettingWithCopyWarning: \n",
      "A value is trying to be set on a copy of a slice from a DataFrame.\n",
      "Try using .loc[row_indexer,col_indexer] = value instead\n",
      "\n",
      "See the caveats in the documentation: http://pandas.pydata.org/pandas-docs/stable/user_guide/indexing.html#returning-a-view-versus-a-copy\n",
      "  This is separate from the ipykernel package so we can avoid doing imports until\n",
      "C:\\ProgramData\\Anaconda3\\lib\\site-packages\\ipykernel_launcher.py:6: SettingWithCopyWarning: \n",
      "A value is trying to be set on a copy of a slice from a DataFrame.\n",
      "Try using .loc[row_indexer,col_indexer] = value instead\n",
      "\n",
      "See the caveats in the documentation: http://pandas.pydata.org/pandas-docs/stable/user_guide/indexing.html#returning-a-view-versus-a-copy\n",
      "  \n"
     ]
    }
   ],
   "source": [
    "d2017=data[['Gazdasági tevékenységbőlszármazó bevétel (RON)2017']]\n",
    "d2017.columns=['Gazdasági tevékenységbőlszármazó bevétel (millió RON)']\n",
    "d2017['Év']=2017\n",
    "d2018=data[['Gazdasági tevékenységbőlszármazó bevétel (RON)2018']]\n",
    "d2018.columns=['Gazdasági tevékenységbőlszármazó bevétel (millió RON)']\n",
    "d2018['Év']=2018\n",
    "d2=pd.concat([d2017,d2018])"
   ]
  },
  {
   "cell_type": "code",
   "execution_count": 175,
   "metadata": {},
   "outputs": [],
   "source": [
    "d2.join(data).to_excel('kexport2.xlsx')"
   ]
  },
  {
   "cell_type": "code",
   "execution_count": null,
   "metadata": {},
   "outputs": [],
   "source": []
  }
 ],
 "metadata": {
  "kernelspec": {
   "display_name": "Python 3",
   "language": "python",
   "name": "python3"
  },
  "language_info": {
   "codemirror_mode": {
    "name": "ipython",
    "version": 3
   },
   "file_extension": ".py",
   "mimetype": "text/x-python",
   "name": "python",
   "nbconvert_exporter": "python",
   "pygments_lexer": "ipython3",
   "version": "3.7.4"
  },
  "toc": {
   "base_numbering": 1,
   "nav_menu": {},
   "number_sections": true,
   "sideBar": true,
   "skip_h1_title": false,
   "title_cell": "Table of Contents",
   "title_sidebar": "Contents",
   "toc_cell": false,
   "toc_position": {},
   "toc_section_display": true,
   "toc_window_display": false
  }
 },
 "nbformat": 4,
 "nbformat_minor": 4
}
