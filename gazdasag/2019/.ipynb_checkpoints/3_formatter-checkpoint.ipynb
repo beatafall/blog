{
 "cells": [
  {
   "cell_type": "code",
   "execution_count": 1,
   "metadata": {
    "ExecuteTime": {
     "end_time": "2018-12-28T21:42:46.603758Z",
     "start_time": "2018-12-28T21:42:40.022657Z"
    }
   },
   "outputs": [],
   "source": [
    "import requests, pandas as pd, numpy as np\n",
    "from requests import session\n",
    "from bs4 import BeautifulSoup"
   ]
  },
  {
   "cell_type": "code",
   "execution_count": 2,
   "metadata": {
    "ExecuteTime": {
     "end_time": "2018-12-28T21:42:47.189277Z",
     "start_time": "2018-12-28T21:42:46.607762Z"
    }
   },
   "outputs": [],
   "source": [
    "manual=pd.read_excel('manual_manual.xlsx').set_index('Cégnév')\n",
    "data=pd.read_excel('data.xlsx').set_index('Cégnév')\n",
    "sectors=pd.read_excel('valid_manual.xlsx')"
   ]
  },
  {
   "cell_type": "code",
   "execution_count": 3,
   "metadata": {},
   "outputs": [
    {
     "data": {
      "text/plain": [
       "(422, 2)"
      ]
     },
     "execution_count": 3,
     "metadata": {},
     "output_type": "execute_result"
    }
   ],
   "source": [
    "len(data), len(manual)"
   ]
  },
  {
   "cell_type": "code",
   "execution_count": 4,
   "metadata": {
    "ExecuteTime": {
     "end_time": "2018-12-28T21:42:47.254280Z",
     "start_time": "2018-12-28T21:42:47.213282Z"
    }
   },
   "outputs": [],
   "source": [
    "data=pd.concat([data,manual])\n",
    "data['Sector']=sectors.set_index(0)[1]"
   ]
  },
  {
   "cell_type": "markdown",
   "metadata": {},
   "source": [
    "Bring in 2014 data"
   ]
  },
  {
   "cell_type": "code",
   "execution_count": 5,
   "metadata": {},
   "outputs": [],
   "source": [
    "manual4=pd.read_excel('../2018/manual_manual.xlsx').set_index('Cégnév')\n",
    "data4=pd.read_excel('../2018/data.xlsx').set_index('Cégnév')\n",
    "sectors4=pd.read_excel('../2018/valid_manual.xlsx')"
   ]
  },
  {
   "cell_type": "code",
   "execution_count": 6,
   "metadata": {},
   "outputs": [
    {
     "data": {
      "text/plain": [
       "(414, 10)"
      ]
     },
     "execution_count": 6,
     "metadata": {},
     "output_type": "execute_result"
    }
   ],
   "source": [
    "len(data4), len(manual4)"
   ]
  },
  {
   "cell_type": "code",
   "execution_count": 7,
   "metadata": {},
   "outputs": [
    {
     "name": "stderr",
     "output_type": "stream",
     "text": [
      "C:\\ProgramData\\Anaconda3\\lib\\site-packages\\ipykernel_launcher.py:1: FutureWarning: Sorting because non-concatenation axis is not aligned. A future version\n",
      "of pandas will change to not sort by default.\n",
      "\n",
      "To accept the future behavior, pass 'sort=False'.\n",
      "\n",
      "To retain the current behavior and silence the warning, pass 'sort=True'.\n",
      "\n",
      "  \"\"\"Entry point for launching an IPython kernel.\n"
     ]
    }
   ],
   "source": [
    "data4=pd.concat([data4,manual4])\n",
    "data4['Sector4']=sectors4.set_index(0)[1]"
   ]
  },
  {
   "cell_type": "code",
   "execution_count": 8,
   "metadata": {},
   "outputs": [],
   "source": [
    "data=data.join(data4[['Alkalmazottak száma 2014','Árbevétel 2014 (RON)']])"
   ]
  },
  {
   "cell_type": "code",
   "execution_count": 9,
   "metadata": {
    "ExecuteTime": {
     "end_time": "2018-12-28T21:42:47.332276Z",
     "start_time": "2018-12-28T21:42:47.258278Z"
    }
   },
   "outputs": [],
   "source": [
    "repl={'udvarhelyszek':'Udvarhelyszék',\n",
    "'csikszek':'Csíkszék',\n",
    "'gyergyoszek':'Gyergyószék',\n",
    "'marosszek':'Marosszék',\n",
    "'also-haromszek':'Alsó-háromszék',\n",
    "'felso-haromszek':'Felső-háromszék'}\n",
    "for r in repl:\n",
    "    data=data.replace(r,repl[r])"
   ]
  },
  {
   "cell_type": "code",
   "execution_count": 10,
   "metadata": {
    "ExecuteTime": {
     "end_time": "2018-12-28T21:42:50.502803Z",
     "start_time": "2018-12-28T21:42:49.551813Z"
    }
   },
   "outputs": [],
   "source": [
    "data.to_excel('export1.xlsx')"
   ]
  },
  {
   "cell_type": "code",
   "execution_count": 11,
   "metadata": {
    "ExecuteTime": {
     "end_time": "2018-12-28T21:42:50.518812Z",
     "start_time": "2018-12-28T21:42:50.505808Z"
    }
   },
   "outputs": [],
   "source": [
    "d1=data[['Régió', 'Latitude', 'Longitude', 'Sector']]\n",
    "d1.columns=['Régió', 'Hosszúság', 'Szélesség', 'Iparág']"
   ]
  },
  {
   "cell_type": "code",
   "execution_count": 12,
   "metadata": {
    "ExecuteTime": {
     "end_time": "2018-12-28T21:42:50.789805Z",
     "start_time": "2018-12-28T21:42:50.535813Z"
    }
   },
   "outputs": [],
   "source": [
    "d1.to_excel('d1.xlsx')"
   ]
  },
  {
   "cell_type": "code",
   "execution_count": 13,
   "metadata": {
    "ExecuteTime": {
     "end_time": "2018-12-28T21:42:51.177337Z",
     "start_time": "2018-12-28T21:42:51.156339Z"
    }
   },
   "outputs": [
    {
     "data": {
      "text/plain": [
       "Index(['Unnamed: 0', 'tavaly_left', 'Alkalmazottak száma 2018',\n",
       "       'Alkalmazottak száma 2017', 'Alkalmazottak száma 2016',\n",
       "       'Alkalmazottak száma 2015', 'nr_alkalmazottak', 'tavaly_right',\n",
       "       'Árbevétel 2018 (RON)', 'Árbevétel 2017 (RON)', 'Árbevétel 2016 (RON)',\n",
       "       'Árbevétel 2015 (RON)', 'nr_arbevetel', 'Cím', 'Kw', 'Régió',\n",
       "       'Latitude', 'Longitude', 'Sector', 'Alkalmazottak száma 2014',\n",
       "       'Árbevétel 2014 (RON)'],\n",
       "      dtype='object')"
      ]
     },
     "execution_count": 13,
     "metadata": {},
     "output_type": "execute_result"
    }
   ],
   "source": [
    "data.columns"
   ]
  },
  {
   "cell_type": "code",
   "execution_count": 14,
   "metadata": {
    "ExecuteTime": {
     "end_time": "2018-12-28T21:43:30.002714Z",
     "start_time": "2018-12-28T21:43:29.334185Z"
    }
   },
   "outputs": [
    {
     "name": "stdout",
     "output_type": "stream",
     "text": [
      "Alkalmazottak száma 2014\n",
      "Árbevétel 2014 (RON)\n",
      "Alkalmazottak száma 2015\n",
      "Árbevétel 2015 (RON)\n",
      "Alkalmazottak száma 2016\n",
      "Árbevétel 2016 (RON)\n",
      "Alkalmazottak száma 2017\n",
      "Árbevétel 2017 (RON)\n",
      "Alkalmazottak száma 2018\n",
      "Árbevétel 2018 (RON)\n"
     ]
    },
    {
     "name": "stderr",
     "output_type": "stream",
     "text": [
      "C:\\ProgramData\\Anaconda3\\lib\\site-packages\\ipykernel_launcher.py:10: SettingWithCopyWarning: \n",
      "A value is trying to be set on a copy of a slice from a DataFrame.\n",
      "Try using .loc[row_indexer,col_indexer] = value instead\n",
      "\n",
      "See the caveats in the documentation: http://pandas.pydata.org/pandas-docs/stable/user_guide/indexing.html#returning-a-view-versus-a-copy\n",
      "  # Remove the CWD from sys.path while we load stuff.\n",
      "C:\\ProgramData\\Anaconda3\\lib\\site-packages\\ipykernel_launcher.py:11: SettingWithCopyWarning: \n",
      "A value is trying to be set on a copy of a slice from a DataFrame.\n",
      "Try using .loc[row_indexer,col_indexer] = value instead\n",
      "\n",
      "See the caveats in the documentation: http://pandas.pydata.org/pandas-docs/stable/user_guide/indexing.html#returning-a-view-versus-a-copy\n",
      "  # This is added back by InteractiveShellApp.init_path()\n",
      "C:\\ProgramData\\Anaconda3\\lib\\site-packages\\ipykernel_launcher.py:19: SettingWithCopyWarning: \n",
      "A value is trying to be set on a copy of a slice from a DataFrame.\n",
      "Try using .loc[row_indexer,col_indexer] = value instead\n",
      "\n",
      "See the caveats in the documentation: http://pandas.pydata.org/pandas-docs/stable/user_guide/indexing.html#returning-a-view-versus-a-copy\n",
      "C:\\ProgramData\\Anaconda3\\lib\\site-packages\\ipykernel_launcher.py:20: SettingWithCopyWarning: \n",
      "A value is trying to be set on a copy of a slice from a DataFrame.\n",
      "Try using .loc[row_indexer,col_indexer] = value instead\n",
      "\n",
      "See the caveats in the documentation: http://pandas.pydata.org/pandas-docs/stable/user_guide/indexing.html#returning-a-view-versus-a-copy\n"
     ]
    }
   ],
   "source": [
    "ds=[]\n",
    "ds1=[]\n",
    "ds2=[]\n",
    "for i in range(2014,2019):\n",
    "    g='Alkalmazottak száma'\n",
    "    c=g+' '+str(i)\n",
    "    print(c)\n",
    "    df=data[[c]]\n",
    "    df.columns=[g]\n",
    "    df[g]=df[g].fillna('').str.replace(u'\\xa0','').str.replace('-','')\n",
    "    df['Év']=i\n",
    "    ds1.append(df)\n",
    "    ds.append(d1.join(df))\n",
    "    g='Árbevétel'\n",
    "    c=g+' '+str(i)+' (RON)'\n",
    "    print(c)\n",
    "    df=data[[c]]\n",
    "    df.columns=[g]\n",
    "    df[g]=df[g].fillna('').str.replace(u'\\xa0','').str.replace('-','')\n",
    "    df['Év']=i\n",
    "    ds2.append(df)"
   ]
  },
  {
   "cell_type": "code",
   "execution_count": 15,
   "metadata": {
    "ExecuteTime": {
     "end_time": "2018-12-28T21:43:30.317688Z",
     "start_time": "2018-12-28T21:43:30.303689Z"
    }
   },
   "outputs": [],
   "source": [
    "df=pd.concat(ds,sort=False)"
   ]
  },
  {
   "cell_type": "code",
   "execution_count": 16,
   "metadata": {
    "ExecuteTime": {
     "end_time": "2018-12-28T21:43:31.363727Z",
     "start_time": "2018-12-28T21:43:31.354725Z"
    }
   },
   "outputs": [],
   "source": [
    "df1=pd.concat(ds1,sort=False)\n",
    "df2=pd.concat(ds2,sort=False)"
   ]
  },
  {
   "cell_type": "code",
   "execution_count": 17,
   "metadata": {
    "ExecuteTime": {
     "end_time": "2018-12-28T21:43:32.333718Z",
     "start_time": "2018-12-28T21:43:31.780709Z"
    }
   },
   "outputs": [],
   "source": [
    "df1.to_excel('df1.xlsx')\n",
    "df2.to_excel('df2.xlsx')"
   ]
  },
  {
   "cell_type": "code",
   "execution_count": 18,
   "metadata": {
    "ExecuteTime": {
     "end_time": "2018-12-28T21:43:32.349705Z",
     "start_time": "2018-12-28T21:43:32.335704Z"
    }
   },
   "outputs": [],
   "source": [
    "df1=df1.set_index('Év',append=True)\n",
    "df2=df2.set_index('Év',append=True)"
   ]
  },
  {
   "cell_type": "code",
   "execution_count": 19,
   "metadata": {
    "ExecuteTime": {
     "end_time": "2018-12-28T21:43:32.903102Z",
     "start_time": "2018-12-28T21:43:32.885099Z"
    }
   },
   "outputs": [],
   "source": [
    "df=df1.join(df2).replace('',np.nan).astype(float)"
   ]
  },
  {
   "cell_type": "code",
   "execution_count": 20,
   "metadata": {
    "ExecuteTime": {
     "end_time": "2018-12-28T21:43:33.631616Z",
     "start_time": "2018-12-28T21:43:33.515624Z"
    }
   },
   "outputs": [],
   "source": [
    "df['Bevétel']=np.round(df['Árbevétel']/1000000.0,3)"
   ]
  },
  {
   "cell_type": "code",
   "execution_count": 21,
   "metadata": {
    "ExecuteTime": {
     "end_time": "2018-12-28T21:43:35.320179Z",
     "start_time": "2018-12-28T21:43:35.312182Z"
    }
   },
   "outputs": [],
   "source": [
    "df['Bevétel/Alkalmazott']=np.round(df['Bevétel']/df['Alkalmazottak száma'],3)"
   ]
  },
  {
   "cell_type": "code",
   "execution_count": 22,
   "metadata": {
    "ExecuteTime": {
     "end_time": "2018-12-28T21:43:37.086198Z",
     "start_time": "2018-12-28T21:43:36.251212Z"
    }
   },
   "outputs": [],
   "source": [
    "data2=df.reset_index().join(d1,on='Cégnév').set_index('Cégnév')"
   ]
  },
  {
   "cell_type": "markdown",
   "metadata": {},
   "source": [
    "Normalize names"
   ]
  },
  {
   "cell_type": "code",
   "execution_count": 149,
   "metadata": {},
   "outputs": [],
   "source": [
    "#[' '.join([j.title() if len(j)>3 else j for j in i.split(' ')]) for i in data2.index.str.replace(' SA','').str.replace(' SRL','').str.replace(' ROMANIA ','')]\n",
    "data2.index=data2.index.str.replace(' SA','').str.replace(' SRL','').str.replace(' ROMANIA','')"
   ]
  },
  {
   "cell_type": "code",
   "execution_count": 150,
   "metadata": {},
   "outputs": [],
   "source": [
    "data2.to_excel('export2.xlsx')"
   ]
  },
  {
   "cell_type": "markdown",
   "metadata": {},
   "source": [
    "Calculate percentages"
   ]
  },
  {
   "cell_type": "code",
   "execution_count": 183,
   "metadata": {},
   "outputs": [],
   "source": [
    "totals=data2.groupby(['Régió','Év']).sum()[['Alkalmazottak száma','Bevétel']]\n",
    "totals.columns=['TAlkalmazottak száma','TBevétel']\n",
    "totals=totals.unstack()\n",
    "totals=(np.round(totals/totals.sum()*100,0)).stack().astype(str)\n",
    "totals['TAlkalmazottak száma']=totals['TAlkalmazottak száma'].str[:-2]+'%'\n",
    "totals['TBevétel']=totals['TBevétel'].str[:-2]+'%'"
   ]
  },
  {
   "cell_type": "code",
   "execution_count": 274,
   "metadata": {},
   "outputs": [],
   "source": [
    "totals2=data2.groupby(['Cégnév','Év']).sum()[['Alkalmazottak száma','Bevétel']]\n",
    "totals2.columns=['TAlkalmazottak száma','TBevétel']\n",
    "totals2=totals2.unstack()\n",
    "totals2=(np.round(totals2/totals2.sum()*100,1)).stack().astype(str)\n",
    "totals2['TAlkalmazottak száma']=totals2['TAlkalmazottak száma'].str[:]+'%'\n",
    "totals2['TBevétel']=totals2['TBevétel'].str[:]+'%'\n",
    "totals2.columns=['T2Alkalmazottak száma','T2Bevétel']"
   ]
  },
  {
   "cell_type": "code",
   "execution_count": 275,
   "metadata": {},
   "outputs": [
    {
     "data": {
      "text/html": [
       "<div>\n",
       "<style scoped>\n",
       "    .dataframe tbody tr th:only-of-type {\n",
       "        vertical-align: middle;\n",
       "    }\n",
       "\n",
       "    .dataframe tbody tr th {\n",
       "        vertical-align: top;\n",
       "    }\n",
       "\n",
       "    .dataframe thead th {\n",
       "        text-align: right;\n",
       "    }\n",
       "</style>\n",
       "<table border=\"1\" class=\"dataframe\">\n",
       "  <thead>\n",
       "    <tr style=\"text-align: right;\">\n",
       "      <th></th>\n",
       "      <th>T2Alkalmazottak száma</th>\n",
       "      <th>T2Bevétel</th>\n",
       "    </tr>\n",
       "    <tr>\n",
       "      <th>Év</th>\n",
       "      <th></th>\n",
       "      <th></th>\n",
       "    </tr>\n",
       "  </thead>\n",
       "  <tbody>\n",
       "    <tr>\n",
       "      <th>2014</th>\n",
       "      <td>3.9%</td>\n",
       "      <td>9.8%</td>\n",
       "    </tr>\n",
       "    <tr>\n",
       "      <th>2015</th>\n",
       "      <td>2.9%</td>\n",
       "      <td>8.2%</td>\n",
       "    </tr>\n",
       "    <tr>\n",
       "      <th>2016</th>\n",
       "      <td>2.4%</td>\n",
       "      <td>6.6%</td>\n",
       "    </tr>\n",
       "    <tr>\n",
       "      <th>2017</th>\n",
       "      <td>2.3%</td>\n",
       "      <td>6.2%</td>\n",
       "    </tr>\n",
       "    <tr>\n",
       "      <th>2018</th>\n",
       "      <td>2.1%</td>\n",
       "      <td>6.8%</td>\n",
       "    </tr>\n",
       "  </tbody>\n",
       "</table>\n",
       "</div>"
      ],
      "text/plain": [
       "     T2Alkalmazottak száma T2Bevétel\n",
       "Év                                  \n",
       "2014                  3.9%      9.8%\n",
       "2015                  2.9%      8.2%\n",
       "2016                  2.4%      6.6%\n",
       "2017                  2.3%      6.2%\n",
       "2018                  2.1%      6.8%"
      ]
     },
     "execution_count": 275,
     "metadata": {},
     "output_type": "execute_result"
    }
   ],
   "source": [
    "totals2.loc['AZOMURES']"
   ]
  },
  {
   "cell_type": "code",
   "execution_count": 276,
   "metadata": {},
   "outputs": [],
   "source": [
    "totals3=data2.groupby(['Cégnév','Év','Régió']).sum()[['Alkalmazottak száma','Bevétel']]\n",
    "totals3.columns=['TAlkalmazottak száma','TBevétel']\n",
    "totals3=totals3.unstack().unstack()\n",
    "totals3=(np.round(totals3/totals3.sum()*100,1)).stack().stack().astype(str)\n",
    "totals3['TAlkalmazottak száma']=totals3['TAlkalmazottak száma'].str[:]+'%'\n",
    "totals3['TBevétel']=totals3['TBevétel'].str[:]+'%'\n",
    "totals3.columns=['T3Alkalmazottak száma','T3Bevétel']"
   ]
  },
  {
   "cell_type": "code",
   "execution_count": 277,
   "metadata": {},
   "outputs": [
    {
     "data": {
      "text/html": [
       "<div>\n",
       "<style scoped>\n",
       "    .dataframe tbody tr th:only-of-type {\n",
       "        vertical-align: middle;\n",
       "    }\n",
       "\n",
       "    .dataframe tbody tr th {\n",
       "        vertical-align: top;\n",
       "    }\n",
       "\n",
       "    .dataframe thead th {\n",
       "        text-align: right;\n",
       "    }\n",
       "</style>\n",
       "<table border=\"1\" class=\"dataframe\">\n",
       "  <thead>\n",
       "    <tr style=\"text-align: right;\">\n",
       "      <th></th>\n",
       "      <th></th>\n",
       "      <th>T3Alkalmazottak száma</th>\n",
       "      <th>T3Bevétel</th>\n",
       "    </tr>\n",
       "    <tr>\n",
       "      <th>Év</th>\n",
       "      <th>Régió</th>\n",
       "      <th></th>\n",
       "      <th></th>\n",
       "    </tr>\n",
       "  </thead>\n",
       "  <tbody>\n",
       "    <tr>\n",
       "      <th>2014</th>\n",
       "      <th>Marosszék</th>\n",
       "      <td>12.1%</td>\n",
       "      <td>15.6%</td>\n",
       "    </tr>\n",
       "    <tr>\n",
       "      <th>2015</th>\n",
       "      <th>Marosszék</th>\n",
       "      <td>8.7%</td>\n",
       "      <td>12.8%</td>\n",
       "    </tr>\n",
       "    <tr>\n",
       "      <th>2016</th>\n",
       "      <th>Marosszék</th>\n",
       "      <td>6.7%</td>\n",
       "      <td>10.7%</td>\n",
       "    </tr>\n",
       "    <tr>\n",
       "      <th>2017</th>\n",
       "      <th>Marosszék</th>\n",
       "      <td>6.1%</td>\n",
       "      <td>10.3%</td>\n",
       "    </tr>\n",
       "    <tr>\n",
       "      <th>2018</th>\n",
       "      <th>Marosszék</th>\n",
       "      <td>5.5%</td>\n",
       "      <td>11.3%</td>\n",
       "    </tr>\n",
       "  </tbody>\n",
       "</table>\n",
       "</div>"
      ],
      "text/plain": [
       "               T3Alkalmazottak száma T3Bevétel\n",
       "Év   Régió                                    \n",
       "2014 Marosszék                 12.1%     15.6%\n",
       "2015 Marosszék                  8.7%     12.8%\n",
       "2016 Marosszék                  6.7%     10.7%\n",
       "2017 Marosszék                  6.1%     10.3%\n",
       "2018 Marosszék                  5.5%     11.3%"
      ]
     },
     "execution_count": 277,
     "metadata": {},
     "output_type": "execute_result"
    }
   ],
   "source": [
    "totals3.loc['AZOMURES']"
   ]
  },
  {
   "cell_type": "code",
   "execution_count": 313,
   "metadata": {},
   "outputs": [],
   "source": [
    "data22=data2.reset_index().set_index(['Régió','Év']).join(totals).reset_index()\n",
    "data22=data22.set_index(['Cégnév','Év']).join(totals2).reset_index()\n",
    "data22=data22.set_index(['Cégnév','Év','Régió']).join(totals3).reset_index()"
   ]
  },
  {
   "cell_type": "code",
   "execution_count": 329,
   "metadata": {},
   "outputs": [
    {
     "name": "stderr",
     "output_type": "stream",
     "text": [
      "C:\\ProgramData\\Anaconda3\\lib\\site-packages\\ipykernel_launcher.py:2: SettingWithCopyWarning: \n",
      "A value is trying to be set on a copy of a slice from a DataFrame.\n",
      "Try using .loc[row_indexer,col_indexer] = value instead\n",
      "\n",
      "See the caveats in the documentation: http://pandas.pydata.org/pandas-docs/stable/user_guide/indexing.html#returning-a-view-versus-a-copy\n",
      "  \n",
      "C:\\ProgramData\\Anaconda3\\lib\\site-packages\\ipykernel_launcher.py:3: SettingWithCopyWarning: \n",
      "A value is trying to be set on a copy of a slice from a DataFrame.\n",
      "Try using .loc[row_indexer,col_indexer] = value instead\n",
      "\n",
      "See the caveats in the documentation: http://pandas.pydata.org/pandas-docs/stable/user_guide/indexing.html#returning-a-view-versus-a-copy\n",
      "  This is separate from the ipykernel package so we can avoid doing imports until\n"
     ]
    }
   ],
   "source": [
    "data221=data22[['Régió','Év','Bevétel','TBevétel','T2Bevétel','T3Bevétel','Cégnév']]\n",
    "data221['Régió %']=data221['TBevétel']+' '+data221['Régió']\n",
    "data221['Cégnév %']=data221['Cégnév']+' | '+data221['T2Bevétel']+' | megyében '+data221['T3Bevétel']\n",
    "data221=data221.set_index(['Cégnév %','Régió %','Év'])['Bevétel'].unstack()\n",
    "data221['Type']='Árbevétel (millió RON)'\n",
    "data221=data221.reset_index()"
   ]
  },
  {
   "cell_type": "code",
   "execution_count": 330,
   "metadata": {},
   "outputs": [
    {
     "name": "stderr",
     "output_type": "stream",
     "text": [
      "C:\\ProgramData\\Anaconda3\\lib\\site-packages\\ipykernel_launcher.py:2: SettingWithCopyWarning: \n",
      "A value is trying to be set on a copy of a slice from a DataFrame.\n",
      "Try using .loc[row_indexer,col_indexer] = value instead\n",
      "\n",
      "See the caveats in the documentation: http://pandas.pydata.org/pandas-docs/stable/user_guide/indexing.html#returning-a-view-versus-a-copy\n",
      "  \n",
      "C:\\ProgramData\\Anaconda3\\lib\\site-packages\\ipykernel_launcher.py:3: SettingWithCopyWarning: \n",
      "A value is trying to be set on a copy of a slice from a DataFrame.\n",
      "Try using .loc[row_indexer,col_indexer] = value instead\n",
      "\n",
      "See the caveats in the documentation: http://pandas.pydata.org/pandas-docs/stable/user_guide/indexing.html#returning-a-view-versus-a-copy\n",
      "  This is separate from the ipykernel package so we can avoid doing imports until\n"
     ]
    }
   ],
   "source": [
    "data222=data22[['Régió','Év','Alkalmazottak száma','TAlkalmazottak száma','T2Alkalmazottak száma','T3Alkalmazottak száma','Cégnév']]\n",
    "data222['Régió %']=data222['TAlkalmazottak száma']+' '+data222['Régió']\n",
    "data222['Cégnév %']=data222['Cégnév']+' | ' +data222['T2Alkalmazottak száma']+' | megyében '+data222['T3Alkalmazottak száma']\n",
    "data222=data222.set_index(['Cégnév %','Régió %','Év'])['Alkalmazottak száma'].unstack()\n",
    "data222['Type']='Alkalmazottak száma'\n",
    "data222=data222.reset_index()"
   ]
  },
  {
   "cell_type": "code",
   "execution_count": 331,
   "metadata": {},
   "outputs": [],
   "source": [
    "data223=pd.concat([data221,data222])"
   ]
  },
  {
   "cell_type": "code",
   "execution_count": 332,
   "metadata": {},
   "outputs": [],
   "source": [
    "data223.to_excel('export22.xlsx')"
   ]
  },
  {
   "cell_type": "code",
   "execution_count": 333,
   "metadata": {},
   "outputs": [],
   "source": [
    "colors22={'Alsó-háromszék': '#855c75',\n",
    "'Csíkszék': '#526a83',\n",
    "'Felső-háromszék': '#625377',\n",
    "'Gyergyószék': '#af6458',\n",
    "'Marosszék': '#736f4c',\n",
    "'Udvarhelyszék': '#d9af6b'}"
   ]
  },
  {
   "cell_type": "code",
   "execution_count": 337,
   "metadata": {},
   "outputs": [
    {
     "name": "stdout",
     "output_type": "stream",
     "text": [
      "10% Alsó-háromszék : #855c75\n",
      "11% Alsó-háromszék : #855c75\n",
      "12% Udvarhelyszék : #d9af6b\n",
      "11% Udvarhelyszék : #d9af6b\n",
      "5% Gyergyószék : #af6458\n",
      "6% Gyergyószék : #af6458\n",
      "61% Marosszék : #736f4c\n",
      "62% Marosszék : #736f4c\n",
      "64% Marosszék : #736f4c\n",
      "60% Marosszék : #736f4c\n",
      "63% Marosszék : #736f4c\n",
      "7% Csíkszék : #526a83\n",
      "6% Csíkszék : #526a83\n",
      "5% Felső-háromszék : #625377\n",
      "4% Felső-háromszék : #625377\n",
      "15% Alsó-háromszék : #855c75\n",
      "16% Alsó-háromszék : #855c75\n",
      "17% Alsó-háromszék : #855c75\n",
      "17% Udvarhelyszék : #d9af6b\n",
      "18% Udvarhelyszék : #d9af6b\n",
      "10% Gyergyószék : #af6458\n",
      "11% Gyergyószék : #af6458\n",
      "32% Marosszék : #736f4c\n",
      "33% Marosszék : #736f4c\n",
      "37% Marosszék : #736f4c\n",
      "38% Marosszék : #736f4c\n",
      "11% Csíkszék : #526a83\n",
      "10% Csíkszék : #526a83\n",
      "10% Felső-háromszék : #625377\n",
      "11% Felső-háromszék : #625377\n",
      "12% Felső-háromszék : #625377\n"
     ]
    }
   ],
   "source": [
    "for i in data223['Régió %'].unique():\n",
    "    print(i,':',colors22[i[i.find(' ')+1:]])"
   ]
  },
  {
   "cell_type": "markdown",
   "metadata": {},
   "source": [
    "Simplify"
   ]
  },
  {
   "cell_type": "code",
   "execution_count": 338,
   "metadata": {
    "ExecuteTime": {
     "end_time": "2018-12-28T21:43:37.580714Z",
     "start_time": "2018-12-28T21:43:37.091205Z"
    }
   },
   "outputs": [],
   "source": [
    "data3=df.unstack()\n",
    "data3.columns=data3.columns.get_level_values(1).astype(str)\n",
    "data3=data3.reset_index().join(d1,on='Cégnév').set_index('Cégnév')\n",
    "data3.index.name=None\n",
    "data3.index=data3.index.str.replace(' SA','').str.replace(' SRL','').str.replace(' ROMANIA','')\n",
    "data3.to_excel('export3.xlsx')"
   ]
  },
  {
   "cell_type": "code",
   "execution_count": 339,
   "metadata": {},
   "outputs": [],
   "source": [
    "data3b=data3.copy()\n",
    "data3b.columns=range(len(data3b.columns))\n",
    "data3b=data3b[[14,20,21,22,23]]\n",
    "data3b['Size']=data3b[14]**0.5+5\n",
    "data3b.dropna(subset=[14]).to_excel('export3b.xlsx')"
   ]
  },
  {
   "cell_type": "code",
   "execution_count": 340,
   "metadata": {
    "ExecuteTime": {
     "end_time": "2018-12-28T22:21:22.863637Z",
     "start_time": "2018-12-28T22:21:22.700640Z"
    }
   },
   "outputs": [],
   "source": [
    "data4=data3.groupby(['Iparág','Régió']).sum()\n",
    "data4b=data3.groupby(['Régió']).sum()\n",
    "data4=data4.unstack().T\n",
    "data4b=data4b.unstack().T\n",
    "data4['Mind']=data4b\n",
    "data4=data4.unstack().T\n",
    "data4.reset_index().to_excel('export4.xlsx')"
   ]
  },
  {
   "cell_type": "code",
   "execution_count": 341,
   "metadata": {
    "ExecuteTime": {
     "end_time": "2018-12-28T22:20:56.756435Z",
     "start_time": "2018-12-28T22:20:56.575419Z"
    }
   },
   "outputs": [],
   "source": [
    "data4=data3.groupby(['Régió','Iparág']).sum()\n",
    "data4b=data3.groupby(['Iparág']).sum()\n",
    "data4=data4.unstack().T\n",
    "data4b=data4b.unstack().T\n",
    "data4['Mind']=data4b\n",
    "data4=data4.unstack().T\n",
    "data4.reset_index().to_excel('export4b.xlsx')"
   ]
  },
  {
   "cell_type": "code",
   "execution_count": 342,
   "metadata": {},
   "outputs": [],
   "source": [
    "d1s=[]\n",
    "for y in ['2014','2015','2016','2017','2018']:\n",
    "    d1=data4[[y]]\n",
    "    d1.columns=[0,1,'Bevétel',2]\n",
    "    d1=d1[['Bevétel']]\n",
    "    d1['Év']=y\n",
    "    d1s.append(d1)\n",
    "d1s=pd.concat(d1s)\n",
    "d1s.reset_index().to_excel('export5.xlsx')"
   ]
  },
  {
   "cell_type": "code",
   "execution_count": 426,
   "metadata": {},
   "outputs": [],
   "source": [
    "d2s=d1s.reset_index().set_index(['Iparág','Év','Régió']).unstack()\n",
    "d3s=d2s.reset_index().groupby(['Év']).sum()\n",
    "d3s['Iparág']='Mind'\n",
    "d3s=d3s.reset_index().set_index(['Iparág','Év'])\n",
    "d6=pd.concat([d2s,d3s])['Bevétel']\n",
    "d6.reset_index().to_excel('export6.xlsx')"
   ]
  },
  {
   "cell_type": "code",
   "execution_count": 432,
   "metadata": {},
   "outputs": [],
   "source": [
    "d6T=d6.stack().reset_index().set_index(['Régió','Év','Iparág']).unstack().reset_index()"
   ]
  },
  {
   "cell_type": "code",
   "execution_count": 435,
   "metadata": {},
   "outputs": [],
   "source": [
    "d6T[d6T['Régió']!='Mind'].to_excel('export6T.xlsx')"
   ]
  },
  {
   "cell_type": "code",
   "execution_count": 421,
   "metadata": {},
   "outputs": [],
   "source": [
    "\n",
    "regiok=[i for i in d6.columns if i!='Mind']\n",
    "d6=d6.reset_index()"
   ]
  },
  {
   "cell_type": "code",
   "execution_count": 422,
   "metadata": {},
   "outputs": [],
   "source": [
    "for i in regiok:\n",
    "    d6[i]=np.round(d6[i]*100/d6['Mind'],0)"
   ]
  },
  {
   "cell_type": "code",
   "execution_count": 423,
   "metadata": {},
   "outputs": [],
   "source": [
    "d6=d6.replace(0,np.nan).replace(1,np.nan).replace(2,np.nan)"
   ]
  },
  {
   "cell_type": "code",
   "execution_count": 425,
   "metadata": {},
   "outputs": [],
   "source": [
    "d6.to_excel('export6b.xlsx')"
   ]
  }
 ],
 "metadata": {
  "kernelspec": {
   "display_name": "Python 3",
   "language": "python",
   "name": "python3"
  },
  "language_info": {
   "codemirror_mode": {
    "name": "ipython",
    "version": 3
   },
   "file_extension": ".py",
   "mimetype": "text/x-python",
   "name": "python",
   "nbconvert_exporter": "python",
   "pygments_lexer": "ipython3",
   "version": "3.7.4"
  },
  "toc": {
   "base_numbering": 1,
   "nav_menu": {},
   "number_sections": true,
   "sideBar": true,
   "skip_h1_title": false,
   "title_cell": "Table of Contents",
   "title_sidebar": "Contents",
   "toc_cell": false,
   "toc_position": {},
   "toc_section_display": true,
   "toc_window_display": false
  }
 },
 "nbformat": 4,
 "nbformat_minor": 4
}
